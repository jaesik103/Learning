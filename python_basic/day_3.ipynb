{
 "cells": [
  {
   "cell_type": "code",
   "execution_count": 1,
   "id": "91f6b238",
   "metadata": {},
   "outputs": [
    {
     "name": "stdout",
     "output_type": "stream",
     "text": [
      "0=반복 변수\n",
      "1=반복 변수\n",
      "2=반복 변수\n",
      "3=반복 변수\n",
      "4=반복 변수\n",
      "\n",
      "5=반복변수\n",
      "6=반복변수\n",
      "7=반복변수\n",
      "8=반복변수\n",
      "9=반복변수\n",
      "\n",
      "0=반복변수\n",
      "3=반복변수\n",
      "6=반복변수\n",
      "9=반복변수\n",
      "\n"
     ]
    }
   ],
   "source": [
    "for i in range(5):\n",
    "    print(str(i)+\"=반복 변수\")\n",
    "print()\n",
    "\n",
    "for i in range(5, 10):\n",
    "    print(str(i)+'=반복변수')\n",
    "print()\n",
    "\n",
    "for i in range(0, 10, 3):\n",
    "    print(str(i)+'=반복변수')\n",
    "print()\n"
   ]
  },
  {
   "cell_type": "code",
   "execution_count": 8,
   "id": "7a2d1068",
   "metadata": {},
   "outputs": [
    {
     "name": "stdout",
     "output_type": "stream",
     "text": [
      "273\n",
      "32\n",
      "103\n",
      "68\n",
      "90\n",
      "\n",
      "0번째 반복: 273\n",
      "1번째 반복: 32\n",
      "2번째 반복: 103\n",
      "3번째 반복: 68\n",
      "4번째 반복: 90\n",
      "\n",
      "4번째 반복: 90\n",
      "3번째 반복: 68\n",
      "2번째 반복: 103\n",
      "1번째 반복: 32\n",
      "0번째 반복: 273\n",
      "\n",
      "4\n",
      "3\n",
      "2\n",
      "1\n",
      "0\n",
      "\n",
      "0번째 반복: 273\n",
      "1번째 반복: 32\n",
      "2번째 반복: 103\n",
      "3번째 반복: 68\n",
      "4번째 반복: 90\n"
     ]
    }
   ],
   "source": [
    "list_a = [273, 32, 103, 68, 90]\n",
    "for element in list_a:\n",
    "    print(element)\n",
    "    \n",
    "print()\n",
    "for i in range(len(list_a)):\n",
    "    print(\"{}번째 반복: {}\".format(i, list_a[i]))\n",
    "    \n",
    "print()\n",
    "for i in range(len(list_a)-1, -1, -1):\n",
    "    print(\"{}번째 반복: {}\".format(i, list_a[i]))\n",
    "    \n",
    "print()\n",
    "for i in reversed(range(len(list_a))):\n",
    "    print(i)\n",
    "    \n",
    "print()\n",
    "for idx, value in enumerate(list_a)  :\n",
    "    print(\"{}번째 반복: {}\".format(idx, value))\n",
    "\n"
   ]
  },
  {
   "cell_type": "code",
   "execution_count": 11,
   "id": "4ed775ce",
   "metadata": {},
   "outputs": [
    {
     "name": "stdout",
     "output_type": "stream",
     "text": [
      "273\n",
      "32\n",
      "103\n",
      "68\n",
      "90\n",
      "\n",
      "[1, 1]\n"
     ]
    }
   ],
   "source": [
    "# while을 for처럼 사용하기\n",
    "i=0\n",
    "while i < len(list_a):\n",
    "    print(list_a[i])\n",
    "    i +=1\n",
    "print()\n",
    "\n",
    "list_b = [1, 2, 1, 2]\n",
    "value = 2\n",
    "while value in list_b:\n",
    "    list_b.remove(value)\n",
    "print(list_b)"
   ]
  },
  {
   "cell_type": "code",
   "execution_count": 24,
   "id": "2c86a907",
   "metadata": {},
   "outputs": [
    {
     "name": "stdout",
     "output_type": "stream",
     "text": [
      "이름 국어 영어 수학 점수입력('q'입력하면 종료) :ㅂ 7 8 9\n",
      "이름 국어 영어 수학 점수입력('q'입력하면 종료) :ㅈ 9 9 9\n",
      "이름 국어 영어 수학 점수입력('q'입력하면 종료) :ㄷ 1 2 3\n",
      "이름 국어 영어 수학 점수입력('q'입력하면 종료) :q\n",
      "{'ㅂ': [7, 8, 9, 24], 'ㅈ': [9, 9, 9, 27], 'ㄷ': [1, 2, 3, 6]}\n"
     ]
    }
   ],
   "source": [
    "# 이름과 점수를 입력받아 딕셔너리에 저장\n",
    "# 이름에 q가 입력되면 입력 종료\n",
    "# 검색할 이름을 입력받아 해당 이름이 있으면 이름과 점수 출력\n",
    "# 검색할 이름이 없으면 '자료 없음'으로 출력\n",
    "\n",
    "dict_name_score = {}\n",
    "\n",
    "while True:\n",
    "    write = input(\"이름 국어 영어 수학 점수입력(\\'q\\'입력하면 종료) :\").split()\n",
    "    name = []\n",
    "    score = []\n",
    "    sum_1=0\n",
    "    name = write[0]\n",
    "    if name == 'q':\n",
    "        break\n",
    "    i=1\n",
    "    while i<=3:\n",
    "        score.append(int(write[i]))\n",
    "        i +=1\n",
    "    i=0\n",
    "    while i<=2:\n",
    "        sum += score[i]\n",
    "        i +=1\n",
    "    score.append(sum_1)\n",
    "    dict_name_score[name] = score\n",
    "print(dict_name_score)\n",
    "\n"
   ]
  },
  {
   "cell_type": "code",
   "execution_count": 25,
   "id": "fa2ea790",
   "metadata": {},
   "outputs": [
    {
     "name": "stdout",
     "output_type": "stream",
     "text": [
      "검색할 이름 입력 :ㄷ\n",
      "[1, 2, 3, 6]\n"
     ]
    }
   ],
   "source": [
    "search = input(\"검색할 이름 입력 :\")\n",
    "if search in dict_name_score:\n",
    "    print(dict_name_score[search])\n",
    "else:\n",
    "    print(\"자료 없음\")"
   ]
  },
  {
   "cell_type": "code",
   "execution_count": 34,
   "id": "2c2b386d",
   "metadata": {},
   "outputs": [
    {
     "name": "stdout",
     "output_type": "stream",
     "text": [
      "띄어쓰기로 계산식 입력(\"q입력시 종료\") :1 + 6 5 \n",
      "유효하지 않은 식 입니다\n",
      "띄어쓰기로 계산식 입력(\"q입력시 종료\") :14 + 16\n",
      "14 + 16 = 30\n",
      "띄어쓰기로 계산식 입력(\"q입력시 종료\") :20 * 5\n",
      "20 * 5 = 100\n",
      "띄어쓰기로 계산식 입력(\"q입력시 종료\") :1 // 1\n",
      "유효하지 않은 식 입니다\n",
      "띄어쓰기로 계산식 입력(\"q입력시 종료\") :q\n"
     ]
    }
   ],
   "source": [
    "# 계산식을 입력받아 계산 결과를 출력하는 프로그램\n",
    "# 10 + 20 -> 10 + 20 = 30\n",
    "# + - * / % // 모두가능\n",
    "#처음 문자에 q입력시 종료\n",
    "while True:\n",
    "    write = input(\"띄어쓰기로 계산식 입력(\\\"q입력시 종료\\\") :\").split()\n",
    "    result=0\n",
    "    if write[0] == 'q':\n",
    "        break\n",
    "    if len(write) !=3 or not write[1] in '+-*/%':\n",
    "        print(\"유효하지 않은 식 입니다\")\n",
    "        continue\n",
    "    elif write[1] == '+':\n",
    "        result = int(write[0]) + int(write[2])\n",
    "    elif write[1] == '-':\n",
    "        result = int(write[0]) - int(write[2])\n",
    "    elif write[1] == '*':\n",
    "         result = int(write[0]) * int(write[2])\n",
    "    elif write[1] == '/':\n",
    "         result =  int(write[0]) / int(write[2])\n",
    "    elif write[1] == '%':\n",
    "        result = int(write[0]) % int(write[2])\n",
    "    \n",
    "    print(write[0], write[1], write[2], \"=\", result)"
   ]
  },
  {
   "cell_type": "code",
   "execution_count": 36,
   "id": "8ed5a26b",
   "metadata": {},
   "outputs": [
    {
     "name": "stdout",
     "output_type": "stream",
     "text": [
      "<list_reverseiterator object at 0x000002B03B0B9100>\n"
     ]
    }
   ],
   "source": [
    "# reversed() 함수\n",
    "list_a = [10, 20, 30, 40, 50]\n",
    "reverse_a = reversed(list_a)\n",
    "print(reverse_a)\n",
    "print()\n",
    "\n",
    "print(reverse_a)\n",
    "for i in reverse_a"
   ]
  },
  {
   "cell_type": "code",
   "execution_count": 37,
   "id": "2bbc70fe",
   "metadata": {},
   "outputs": [],
   "source": [
    "# list의 idx와 value를 동시에 반환 : enumerate()\n",
    "# dict의 key와 value를 동시에 반환 : dit.item()"
   ]
  },
  {
   "cell_type": "code",
   "execution_count": 2,
   "id": "0107b736",
   "metadata": {},
   "outputs": [
    {
     "name": "stdout",
     "output_type": "stream",
     "text": [
      "2500\n"
     ]
    }
   ],
   "source": [
    "odd_sum = sum([ i for i in range(100+1) if i %2 ])\n",
    "\n",
    "print(odd_sum)"
   ]
  },
  {
   "cell_type": "code",
   "execution_count": 4,
   "id": "9ed42b68",
   "metadata": {},
   "outputs": [
    {
     "name": "stdout",
     "output_type": "stream",
     "text": [
      "1asd2asd3asd4asd5\n"
     ]
    },
    {
     "data": {
      "text/plain": [
       "['1', '2', '3', '4', '5']"
      ]
     },
     "execution_count": 4,
     "metadata": {},
     "output_type": "execute_result"
    }
   ],
   "source": [
    "list_a = ['1', '2','3','4','5']\n",
    "join_list = 'asd'.join(list_a)\n",
    "\n",
    "print(join_list)\n",
    "join_list.split(sep=\"asd\")"
   ]
  },
  {
   "cell_type": "code",
   "execution_count": 6,
   "id": "bf9e738a",
   "metadata": {},
   "outputs": [
    {
     "name": "stdout",
     "output_type": "stream",
     "text": [
      "reversed_numbers : <list_reverseiterator object at 0x0000018CFA022D90>\n",
      "5\n",
      "4\n"
     ]
    }
   ],
   "source": [
    "numbers = [1, 2, 3, 4 ,5]\n",
    "r_num = reversed(numbers)\n",
    "\n",
    "print('reversed_numbers :', r_num)\n",
    "print(next(r_num))\n",
    "print(next(r_num))"
   ]
  },
  {
   "cell_type": "code",
   "execution_count": 10,
   "id": "3d31acf1",
   "metadata": {},
   "outputs": [
    {
     "name": "stdout",
     "output_type": "stream",
     "text": [
      "이름 전화번호(q입력하면 종료) :as 11 11 11\n"
     ]
    },
    {
     "ename": "TypeError",
     "evalue": "'list' object is not an iterator",
     "output_type": "error",
     "traceback": [
      "\u001b[1;31m---------------------------------------------------------------------------\u001b[0m",
      "\u001b[1;31mTypeError\u001b[0m                                 Traceback (most recent call last)",
      "\u001b[1;32m~\\AppData\\Local\\Temp/ipykernel_7980/508639776.py\u001b[0m in \u001b[0;36m<module>\u001b[1;34m\u001b[0m\n\u001b[0;32m     10\u001b[0m     \u001b[0mwrite\u001b[0m \u001b[1;33m=\u001b[0m \u001b[0minput\u001b[0m\u001b[1;33m(\u001b[0m\u001b[1;34m\"이름 전화번호(q입력하면 종료) :\"\u001b[0m\u001b[1;33m)\u001b[0m\u001b[1;33m.\u001b[0m\u001b[0msplit\u001b[0m\u001b[1;33m(\u001b[0m\u001b[1;33m)\u001b[0m\u001b[1;33m\u001b[0m\u001b[1;33m\u001b[0m\u001b[0m\n\u001b[0;32m     11\u001b[0m \u001b[1;33m\u001b[0m\u001b[0m\n\u001b[1;32m---> 12\u001b[1;33m     \u001b[0mname\u001b[0m\u001b[1;33m.\u001b[0m\u001b[0mappend\u001b[0m\u001b[1;33m(\u001b[0m\u001b[0mnext\u001b[0m\u001b[1;33m(\u001b[0m\u001b[0mwrite\u001b[0m\u001b[1;33m)\u001b[0m\u001b[1;33m)\u001b[0m\u001b[1;33m\u001b[0m\u001b[1;33m\u001b[0m\u001b[0m\n\u001b[0m\u001b[0;32m     13\u001b[0m     \u001b[0mnumber\u001b[0m\u001b[1;33m.\u001b[0m\u001b[0mappend\u001b[0m\u001b[1;33m(\u001b[0m\u001b[0mnext\u001b[0m\u001b[1;33m(\u001b[0m\u001b[0mwrite\u001b[0m\u001b[1;33m)\u001b[0m\u001b[1;33m)\u001b[0m\u001b[1;33m\u001b[0m\u001b[1;33m\u001b[0m\u001b[0m\n\u001b[0;32m     14\u001b[0m     \u001b[0mnumber\u001b[0m\u001b[1;33m.\u001b[0m\u001b[0mappend\u001b[0m\u001b[1;33m(\u001b[0m\u001b[0mnext\u001b[0m\u001b[1;33m(\u001b[0m\u001b[0mwrite\u001b[0m\u001b[1;33m)\u001b[0m\u001b[1;33m)\u001b[0m\u001b[1;33m\u001b[0m\u001b[1;33m\u001b[0m\u001b[0m\n",
      "\u001b[1;31mTypeError\u001b[0m: 'list' object is not an iterator"
     ]
    }
   ],
   "source": [
    "# 전화번호부를 작성\n",
    "# 이름, 전화번호 입력 : 홍길동 123 345 6789\n",
    "# 저장은 딕셔너리 이름, 전화번호로 저장->전화번호는 123-345-6789 형식으로\n",
    "# 이름에 q가 입력되면 입력 종료\n",
    "# 검색할 이름 입력 -> 전화번호를 출력, 자료없음 출력\n",
    "number_book = {}\n",
    "name_1 = []\n",
    "number_1 = []\n",
    "while True:\n",
    "    write = input(\"이름 전화번호(q입력하면 종료) :\").split()\n",
    "    \n",
    "    name_1.append(next(write))\n",
    "    number_1.append(next(write))\n",
    "    number_1.append(next(write))\n",
    "    number_1.append(next(write))\n",
    "    number_1 = '-'.join(number_1)\n",
    "    number_book[name] = number\n",
    "\n",
    "    "
   ]
  },
  {
   "cell_type": "code",
   "execution_count": 14,
   "id": "d5a02713",
   "metadata": {},
   "outputs": [
    {
     "name": "stdout",
     "output_type": "stream",
     "text": [
      "이름 전화번호(q입력하면 종료) :qwe 1 2 3\n"
     ]
    },
    {
     "ename": "TypeError",
     "evalue": "'list' object is not an iterator",
     "output_type": "error",
     "traceback": [
      "\u001b[1;31m---------------------------------------------------------------------------\u001b[0m",
      "\u001b[1;31mTypeError\u001b[0m                                 Traceback (most recent call last)",
      "\u001b[1;32m~\\AppData\\Local\\Temp/ipykernel_7980/3132528316.py\u001b[0m in \u001b[0;36m<module>\u001b[1;34m\u001b[0m\n\u001b[0;32m     10\u001b[0m     \u001b[0mname_1\u001b[0m \u001b[1;33m=\u001b[0m \u001b[1;33m[\u001b[0m\u001b[1;33m]\u001b[0m\u001b[1;33m\u001b[0m\u001b[1;33m\u001b[0m\u001b[0m\n\u001b[0;32m     11\u001b[0m     \u001b[0mnumber_1\u001b[0m \u001b[1;33m=\u001b[0m \u001b[1;33m[\u001b[0m\u001b[1;33m]\u001b[0m\u001b[1;33m\u001b[0m\u001b[1;33m\u001b[0m\u001b[0m\n\u001b[1;32m---> 12\u001b[1;33m     \u001b[0mname_1\u001b[0m\u001b[1;33m.\u001b[0m\u001b[0mappend\u001b[0m\u001b[1;33m(\u001b[0m\u001b[0mnext\u001b[0m\u001b[1;33m(\u001b[0m\u001b[0mwrite\u001b[0m\u001b[1;33m)\u001b[0m\u001b[1;33m)\u001b[0m\u001b[1;33m\u001b[0m\u001b[1;33m\u001b[0m\u001b[0m\n\u001b[0m\u001b[0;32m     13\u001b[0m     \u001b[0mnumber_1\u001b[0m\u001b[1;33m.\u001b[0m\u001b[0mappend\u001b[0m\u001b[1;33m(\u001b[0m\u001b[0mnext\u001b[0m\u001b[1;33m(\u001b[0m\u001b[0mwrite\u001b[0m\u001b[1;33m)\u001b[0m\u001b[1;33m)\u001b[0m\u001b[1;33m\u001b[0m\u001b[1;33m\u001b[0m\u001b[0m\n\u001b[0;32m     14\u001b[0m     \u001b[0mnumber_1\u001b[0m\u001b[1;33m.\u001b[0m\u001b[0mappend\u001b[0m\u001b[1;33m(\u001b[0m\u001b[0mnext\u001b[0m\u001b[1;33m(\u001b[0m\u001b[0mwrite\u001b[0m\u001b[1;33m)\u001b[0m\u001b[1;33m)\u001b[0m\u001b[1;33m\u001b[0m\u001b[1;33m\u001b[0m\u001b[0m\n",
      "\u001b[1;31mTypeError\u001b[0m: 'list' object is not an iterator"
     ]
    }
   ],
   "source": [
    "number_book = {}\n",
    "\n",
    "while True:\n",
    "    write = input(\"이름 전화번호(q입력하면 종료) :\").split()\n",
    "    if write == 'q':\n",
    "        break\n",
    "    if len(write) != 4:\n",
    "        continue\n",
    "    \n",
    "    name_1 = []\n",
    "    number_1 = []\n",
    "    name_1.append(next(write))\n",
    "    number_1.append(next(write))\n",
    "    number_1.append(next(write))\n",
    "    number_1.append(next(write))\n",
    "    number_1 = '-'.join(number_1)\n",
    "    number_book[name] = number_1"
   ]
  },
  {
   "cell_type": "code",
   "execution_count": 18,
   "id": "fabbd854",
   "metadata": {},
   "outputs": [],
   "source": [
    "def print_3_times():\n",
    "    print('123')\n",
    "    print('123')\n",
    "    print('123')\n",
    "    print('123')\n",
    "print_3_times\n",
    "\n",
    "def print_n_times(value, n):\n",
    "    for i in range(n):\n",
    "        print(value)"
   ]
  },
  {
   "cell_type": "code",
   "execution_count": 20,
   "id": "a7c4079e",
   "metadata": {},
   "outputs": [
    {
     "name": "stdout",
     "output_type": "stream",
     "text": [
      "123\n",
      "123\n",
      "123\n",
      "123\n",
      "7\n",
      "7\n",
      "7\n",
      "7\n",
      "7\n",
      "7\n",
      "7\n",
      "7\n",
      "7\n",
      "7\n"
     ]
    }
   ],
   "source": [
    "print_3_times()\n",
    "print_n_times(7,10)"
   ]
  },
  {
   "cell_type": "code",
   "execution_count": null,
   "id": "c9039f9a",
   "metadata": {},
   "outputs": [],
   "source": [
    "#계산프로그램\n",
    "#+ - * /  함수로, add, sub, mul, div\n",
    "\n",
    "def add(A,B):\n",
    "    return A+B\n",
    "    \n",
    "def sub(A,B):\n",
    "    return = A-B\n",
    "    \n",
    "\n",
    "def mul(A,B):\n",
    "    return = A*B\n",
    "\n",
    "def div(A,B):\n",
    "    return = A/B\n",
    "    "
   ]
  },
  {
   "cell_type": "code",
   "execution_count": 42,
   "id": "1b1fbc35",
   "metadata": {},
   "outputs": [
    {
     "name": "stdout",
     "output_type": "stream",
     "text": [
      "식 입력(q입력하면 종료) :1 + 6\n",
      "7\n"
     ]
    },
    {
     "ename": "KeyboardInterrupt",
     "evalue": "Interrupted by user",
     "output_type": "error",
     "traceback": [
      "\u001b[1;31m---------------------------------------------------------------------------\u001b[0m",
      "\u001b[1;31mKeyboardInterrupt\u001b[0m                         Traceback (most recent call last)",
      "\u001b[1;32m~\\AppData\\Local\\Temp/ipykernel_7980/438932206.py\u001b[0m in \u001b[0;36m<module>\u001b[1;34m\u001b[0m\n\u001b[0;32m      1\u001b[0m \u001b[1;32mwhile\u001b[0m \u001b[1;32mTrue\u001b[0m\u001b[1;33m:\u001b[0m\u001b[1;33m\u001b[0m\u001b[1;33m\u001b[0m\u001b[0m\n\u001b[1;32m----> 2\u001b[1;33m     \u001b[0mwrite\u001b[0m \u001b[1;33m=\u001b[0m \u001b[0minput\u001b[0m\u001b[1;33m(\u001b[0m\u001b[1;34m\"식 입력(q입력하면 종료) :\"\u001b[0m\u001b[1;33m)\u001b[0m\u001b[1;33m.\u001b[0m\u001b[0msplit\u001b[0m\u001b[1;33m(\u001b[0m\u001b[1;33m)\u001b[0m\u001b[1;33m\u001b[0m\u001b[1;33m\u001b[0m\u001b[0m\n\u001b[0m\u001b[0;32m      3\u001b[0m     \u001b[1;32mif\u001b[0m \u001b[0mwrite\u001b[0m\u001b[1;33m[\u001b[0m\u001b[1;36m0\u001b[0m\u001b[1;33m]\u001b[0m \u001b[1;33m==\u001b[0m \u001b[1;34m'q'\u001b[0m\u001b[1;33m:\u001b[0m\u001b[1;33m\u001b[0m\u001b[1;33m\u001b[0m\u001b[0m\n\u001b[0;32m      4\u001b[0m         \u001b[1;32mbreak\u001b[0m\u001b[1;33m\u001b[0m\u001b[1;33m\u001b[0m\u001b[0m\n\u001b[0;32m      5\u001b[0m     \u001b[1;32mif\u001b[0m \u001b[0mlen\u001b[0m\u001b[1;33m(\u001b[0m\u001b[0mwrite\u001b[0m\u001b[1;33m)\u001b[0m \u001b[1;33m!=\u001b[0m \u001b[1;36m3\u001b[0m\u001b[1;33m:\u001b[0m\u001b[1;33m\u001b[0m\u001b[1;33m\u001b[0m\u001b[0m\n",
      "\u001b[1;32mC:\\ProgramData\\Anaconda3\\lib\\site-packages\\ipykernel\\kernelbase.py\u001b[0m in \u001b[0;36mraw_input\u001b[1;34m(self, prompt)\u001b[0m\n\u001b[0;32m   1004\u001b[0m                 \u001b[1;34m\"raw_input was called, but this frontend does not support input requests.\"\u001b[0m\u001b[1;33m\u001b[0m\u001b[1;33m\u001b[0m\u001b[0m\n\u001b[0;32m   1005\u001b[0m             )\n\u001b[1;32m-> 1006\u001b[1;33m         return self._input_request(\n\u001b[0m\u001b[0;32m   1007\u001b[0m             \u001b[0mstr\u001b[0m\u001b[1;33m(\u001b[0m\u001b[0mprompt\u001b[0m\u001b[1;33m)\u001b[0m\u001b[1;33m,\u001b[0m\u001b[1;33m\u001b[0m\u001b[1;33m\u001b[0m\u001b[0m\n\u001b[0;32m   1008\u001b[0m             \u001b[0mself\u001b[0m\u001b[1;33m.\u001b[0m\u001b[0m_parent_ident\u001b[0m\u001b[1;33m[\u001b[0m\u001b[1;34m\"shell\"\u001b[0m\u001b[1;33m]\u001b[0m\u001b[1;33m,\u001b[0m\u001b[1;33m\u001b[0m\u001b[1;33m\u001b[0m\u001b[0m\n",
      "\u001b[1;32mC:\\ProgramData\\Anaconda3\\lib\\site-packages\\ipykernel\\kernelbase.py\u001b[0m in \u001b[0;36m_input_request\u001b[1;34m(self, prompt, ident, parent, password)\u001b[0m\n\u001b[0;32m   1049\u001b[0m             \u001b[1;32mexcept\u001b[0m \u001b[0mKeyboardInterrupt\u001b[0m\u001b[1;33m:\u001b[0m\u001b[1;33m\u001b[0m\u001b[1;33m\u001b[0m\u001b[0m\n\u001b[0;32m   1050\u001b[0m                 \u001b[1;31m# re-raise KeyboardInterrupt, to truncate traceback\u001b[0m\u001b[1;33m\u001b[0m\u001b[1;33m\u001b[0m\u001b[0m\n\u001b[1;32m-> 1051\u001b[1;33m                 \u001b[1;32mraise\u001b[0m \u001b[0mKeyboardInterrupt\u001b[0m\u001b[1;33m(\u001b[0m\u001b[1;34m\"Interrupted by user\"\u001b[0m\u001b[1;33m)\u001b[0m \u001b[1;32mfrom\u001b[0m \u001b[1;32mNone\u001b[0m\u001b[1;33m\u001b[0m\u001b[1;33m\u001b[0m\u001b[0m\n\u001b[0m\u001b[0;32m   1052\u001b[0m             \u001b[1;32mexcept\u001b[0m \u001b[0mException\u001b[0m\u001b[1;33m:\u001b[0m\u001b[1;33m\u001b[0m\u001b[1;33m\u001b[0m\u001b[0m\n\u001b[0;32m   1053\u001b[0m                 \u001b[0mself\u001b[0m\u001b[1;33m.\u001b[0m\u001b[0mlog\u001b[0m\u001b[1;33m.\u001b[0m\u001b[0mwarning\u001b[0m\u001b[1;33m(\u001b[0m\u001b[1;34m\"Invalid Message:\"\u001b[0m\u001b[1;33m,\u001b[0m \u001b[0mexc_info\u001b[0m\u001b[1;33m=\u001b[0m\u001b[1;32mTrue\u001b[0m\u001b[1;33m)\u001b[0m\u001b[1;33m\u001b[0m\u001b[1;33m\u001b[0m\u001b[0m\n",
      "\u001b[1;31mKeyboardInterrupt\u001b[0m: Interrupted by user"
     ]
    }
   ],
   "source": [
    "while True:\n",
    "    write = input(\"식 입력(q입력하면 종료) :\").split()\n",
    "    if write[0] == 'q':\n",
    "        break\n",
    "    if len(write) != 3:\n",
    "        continue\n",
    "    if write[1] == '+':\n",
    "        result = add(int(write[0]),int(write[2]))\n",
    "        print(result)\n",
    "    elif write[1] == '-':\n",
    "        result = sub(int(write[0]),int(write[2]))\n",
    "        print(result)\n",
    "    elif write[1] == '*':\n",
    "        result = mul(int(write[0]),int(write[2]))\n",
    "        print(result)\n",
    "    elif write[1] == '/':\n",
    "        result = div(int(write[0]),int(write[2]))\n",
    "        print(result)"
   ]
  },
  {
   "cell_type": "code",
   "execution_count": 25,
   "id": "262690ad",
   "metadata": {},
   "outputs": [
    {
     "name": "stdout",
     "output_type": "stream",
     "text": [
      "3\n",
      "-1\n",
      "2\n",
      "1.0\n"
     ]
    }
   ],
   "source": [
    "add(1,2)\n",
    "sub(1,2)\n",
    "mul(1,2)\n",
    "div(2,2)"
   ]
  },
  {
   "cell_type": "code",
   "execution_count": 32,
   "id": "99ec8084",
   "metadata": {},
   "outputs": [
    {
     "name": "stdout",
     "output_type": "stream",
     "text": [
      "식 입력(q입력하면 종료) :1 + 2\n",
      "3\n",
      "None\n"
     ]
    }
   ],
   "source": [
    "write = input(\"식 입력(q입력하면 종료) :\").split()\n",
    "result_2 = add(int(write[0]),int(write[2]))\n",
    "print(result_2)"
   ]
  },
  {
   "cell_type": "code",
   "execution_count": null,
   "id": "fa25b837",
   "metadata": {},
   "outputs": [],
   "source": [
    "# 이름 국어 영어 수학 점수를 입력받아 dict에 저장하는 함수,  한 후\n",
    "# q입력시 종료\n",
    "# 1. 각 사람의 합계와 평균을 구하는 함수\n",
    "# 2. 합계가 최고,최저 점수를 가진 학생의 이름과 점수\n",
    "# 3. 전체 학생의 평균(소수점 미만 2자리까지만), 인원수를 출력\n",
    "\n",
    "input_data()\n",
    "input_tot_avg()\n",
    "max_min()\n"
   ]
  },
  {
   "cell_type": "code",
   "execution_count": 48,
   "id": "2e479e64",
   "metadata": {},
   "outputs": [],
   "source": [
    "def sum_1(a):\n",
    "    return sum(a)\n",
    "\n",
    "def mean_1(a):\n",
    "    return sum(a)/3\n",
    "\n",
    "def max_1(a):\n",
    "    max_one = max(score)"
   ]
  },
  {
   "cell_type": "code",
   "execution_count": 50,
   "id": "d3c4edd3",
   "metadata": {},
   "outputs": [
    {
     "name": "stdout",
     "output_type": "stream",
     "text": [
      "이름 국어 영어 수학 점수입력('q'입력하면 종료) :a 1 2 5\n",
      "이름 국어 영어 수학 점수입력('q'입력하면 종료) :q\n",
      "{'a': [1, 2, 5, 8, 5.333333333333333]}\n"
     ]
    }
   ],
   "source": [
    "dict_name_score = {}\n",
    "dict_sum = {}\n",
    "while True:\n",
    "    write = input(\"이름 국어 영어 수학 점수입력(\\'q\\'입력하면 종료) :\").split()\n",
    "    name = []\n",
    "    score = []\n",
    "    name = write[0]\n",
    "    if name == 'q':\n",
    "        break\n",
    "    if len(write) !=4:\n",
    "        continue\n",
    "    i=1\n",
    "    while i<=3:\n",
    "        score.append(int(write[i]))\n",
    "        i +=1\n",
    "    score.append(sum_1(score))\n",
    "    score.append(mean_1(score))\n",
    "    dict_name_score[name] = score\n",
    "    dict_sum([name])=score[3]\n",
    "print(dict_name_score)"
   ]
  },
  {
   "cell_type": "code",
   "execution_count": null,
   "id": "d882dbfa",
   "metadata": {},
   "outputs": [],
   "source": [
    "for key, element in dict_sum.items():\n",
    "    "
   ]
  },
  {
   "cell_type": "code",
   "execution_count": 52,
   "id": "76686e37",
   "metadata": {},
   "outputs": [
    {
     "name": "stdout",
     "output_type": "stream",
     "text": [
      "{'name': '기사', 'hp': 200, 'mp': 30, 'level': 5}\n"
     ]
    }
   ],
   "source": [
    "key_list = ['name', 'hp', 'mp', 'level']\n",
    "value_list = ['기사', 200, 30, 5]\n",
    "character = {}\n",
    "for i in range(4):\n",
    "    character[key_list[i]] = value_list[i]\n",
    "print(character)\n",
    "    "
   ]
  },
  {
   "cell_type": "code",
   "execution_count": 58,
   "id": "c49728cd",
   "metadata": {},
   "outputs": [
    {
     "name": "stdout",
     "output_type": "stream",
     "text": [
      "10011\n",
      "141\n"
     ]
    }
   ],
   "source": [
    "limit = 10000\n",
    "i = 1\n",
    "sum_value =0\n",
    "while True: \n",
    "    if sum_value >10000:\n",
    "        break\n",
    "    i += 1\n",
    "    sum_value += i-1\n",
    "print(sum_value)\n",
    "print(i-1)"
   ]
  },
  {
   "cell_type": "code",
   "execution_count": 73,
   "id": "f54f08e6",
   "metadata": {},
   "outputs": [
    {
     "ename": "IndexError",
     "evalue": "list index out of range",
     "output_type": "error",
     "traceback": [
      "\u001b[1;31m---------------------------------------------------------------------------\u001b[0m",
      "\u001b[1;31mIndexError\u001b[0m                                Traceback (most recent call last)",
      "\u001b[1;32m~\\AppData\\Local\\Temp/ipykernel_7980/321883553.py\u001b[0m in \u001b[0;36m<module>\u001b[1;34m\u001b[0m\n\u001b[0;32m      8\u001b[0m     \u001b[0mresult\u001b[0m\u001b[1;33m.\u001b[0m\u001b[0mappend\u001b[0m\u001b[1;33m(\u001b[0m\u001b[0mmax_value\u001b[0m\u001b[1;33m)\u001b[0m\u001b[1;33m\u001b[0m\u001b[1;33m\u001b[0m\u001b[0m\n\u001b[0;32m      9\u001b[0m \u001b[1;32mfor\u001b[0m \u001b[0mi\u001b[0m \u001b[1;32min\u001b[0m \u001b[0mrange\u001b[0m\u001b[1;33m(\u001b[0m\u001b[1;36m1\u001b[0m\u001b[1;33m,\u001b[0m \u001b[1;36m100\u001b[0m\u001b[1;33m,\u001b[0m \u001b[1;36m1\u001b[0m\u001b[1;33m)\u001b[0m\u001b[1;33m:\u001b[0m\u001b[1;33m\u001b[0m\u001b[1;33m\u001b[0m\u001b[0m\n\u001b[1;32m---> 10\u001b[1;33m     \u001b[1;32mif\u001b[0m \u001b[0mresult\u001b[0m\u001b[1;33m[\u001b[0m\u001b[0mi\u001b[0m\u001b[1;33m]\u001b[0m \u001b[1;33m>\u001b[0m \u001b[0mresult\u001b[0m\u001b[1;33m[\u001b[0m\u001b[0mi\u001b[0m\u001b[1;33m+\u001b[0m\u001b[1;36m1\u001b[0m\u001b[1;33m]\u001b[0m\u001b[1;33m:\u001b[0m\u001b[1;33m\u001b[0m\u001b[1;33m\u001b[0m\u001b[0m\n\u001b[0m\u001b[0;32m     11\u001b[0m         \u001b[0ma\u001b[0m\u001b[1;33m=\u001b[0m\u001b[0mi\u001b[0m\u001b[1;33m\u001b[0m\u001b[1;33m\u001b[0m\u001b[0m\n\u001b[0;32m     12\u001b[0m         \u001b[0mb\u001b[0m\u001b[1;33m=\u001b[0m\u001b[0mj\u001b[0m\u001b[1;33m\u001b[0m\u001b[1;33m\u001b[0m\u001b[0m\n",
      "\u001b[1;31mIndexError\u001b[0m: list index out of range"
     ]
    }
   ],
   "source": [
    "max_value = 0\n",
    "a = 0\n",
    "b = 0\n",
    "result = []\n",
    "for i in range(1, 100, 1):\n",
    "    j = 100 - i\n",
    "    max_value = i*j\n",
    "    result.append(max_value)\n",
    "for i in range(1, 100, 1):\n",
    "    if result[i] > result[i+1]:\n",
    "        a=i\n",
    "        b=j\n",
    "max_value = max(max_value)\n",
    "print(\"최대가 되는 경우 : {} * {} = {}\".format(a, b, max_value))"
   ]
  },
  {
   "cell_type": "code",
   "execution_count": null,
   "id": "0274af18",
   "metadata": {},
   "outputs": [],
   "source": []
  }
 ],
 "metadata": {
  "kernelspec": {
   "display_name": "Python 3 (ipykernel)",
   "language": "python",
   "name": "python3"
  },
  "language_info": {
   "codemirror_mode": {
    "name": "ipython",
    "version": 3
   },
   "file_extension": ".py",
   "mimetype": "text/x-python",
   "name": "python",
   "nbconvert_exporter": "python",
   "pygments_lexer": "ipython3",
   "version": "3.9.7"
  }
 },
 "nbformat": 4,
 "nbformat_minor": 5
}
