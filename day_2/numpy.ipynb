{
 "cells": [
  {
   "cell_type": "code",
   "execution_count": 2,
   "id": "58fc6273",
   "metadata": {},
   "outputs": [],
   "source": [
    "# numpy 관련\n",
    "import numpy as np"
   ]
  },
  {
   "cell_type": "code",
   "execution_count": 3,
   "id": "2856a74c",
   "metadata": {},
   "outputs": [
    {
     "name": "stdout",
     "output_type": "stream",
     "text": [
      "[ 0  1  2  3  4  5  6  7  8  9 10 11 12 13 14]\n",
      "[[ 0  1  2  3  4]\n",
      " [ 5  6  7  8  9]\n",
      " [10 11 12 13 14]]\n",
      "[[ 0  1  2  3  4]\n",
      " [ 5  6  7  8  9]\n",
      " [10 11 12 13 14]] 2\n",
      "\n",
      "(3, 5) 15 int32\n",
      "4\n"
     ]
    }
   ],
   "source": [
    "arr = np.arange(15)\n",
    "print(arr)\n",
    "type(arr)\n",
    "arr = arr.reshape(3,5)\n",
    "print(arr)\n",
    "print(arr, arr.ndim)\n",
    "print()\n",
    "print(arr.shape, arr.size, arr.dtype.name)\n",
    "print(arr.dtype.itemsize)"
   ]
  },
  {
   "cell_type": "code",
   "execution_count": 15,
   "id": "278bca9e",
   "metadata": {},
   "outputs": [
    {
     "data": {
      "text/plain": [
       "1"
      ]
     },
     "execution_count": 15,
     "metadata": {},
     "output_type": "execute_result"
    }
   ],
   "source": [
    "arr = np.arange(-5, 5, 0.5)\n",
    "arr = arr.reshape(4, int(arr.size/4))\n",
    "arr\n",
    "arr1 = arr.flatten()\n",
    "arr1.ndim"
   ]
  },
  {
   "cell_type": "code",
   "execution_count": 18,
   "id": "3337fcb3",
   "metadata": {},
   "outputs": [
    {
     "name": "stdout",
     "output_type": "stream",
     "text": [
      "list_a : [1 2 3], list_a의 type : <class 'numpy.ndarray'>\n",
      "list_b : [[1 2 3]\n",
      " [4 5 6]], list_b의 type : <class 'numpy.ndarray'>\n"
     ]
    }
   ],
   "source": [
    "# 기존의 파이썬 리스트로 array 생성\n",
    "list_a = np.array([1, 2, 3])\n",
    "list_b = np.array([[1, 2, 3], [4, 5, 6]])\n",
    "print('list_a : {}, list_a의 type : {}'.format(list_a, type(list_a)))\n",
    "print('list_b : {}, list_b의 type : {}'.format(list_b, type(list_b)))"
   ]
  },
  {
   "cell_type": "code",
   "execution_count": null,
   "id": "48a992e2",
   "metadata": {},
   "outputs": [],
   "source": [
    "# np.arange([start], stop, [step])\n",
    "# np.array.reshape(차수, ..)\n",
    "# np.ndim, np.shape, np.dtype, np.ndim, np.dtype.name"
   ]
  }
 ],
 "metadata": {
  "kernelspec": {
   "display_name": "Python 3 (ipykernel)",
   "language": "python",
   "name": "python3"
  },
  "language_info": {
   "codemirror_mode": {
    "name": "ipython",
    "version": 3
   },
   "file_extension": ".py",
   "mimetype": "text/x-python",
   "name": "python",
   "nbconvert_exporter": "python",
   "pygments_lexer": "ipython3",
   "version": "3.9.7"
  }
 },
 "nbformat": 4,
 "nbformat_minor": 5
}
