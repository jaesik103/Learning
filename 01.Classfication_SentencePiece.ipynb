{
  "nbformat": 4,
  "nbformat_minor": 0,
  "metadata": {
    "colab": {
      "name": "민재식.ipynb",
      "provenance": [],
      "collapsed_sections": [],
      "include_colab_link": true
    },
    "kernelspec": {
      "name": "python3",
      "display_name": "Python 3"
    },
    "language_info": {
      "name": "python"
    },
    "accelerator": "GPU"
  },
  "cells": [
    {
      "cell_type": "markdown",
      "metadata": {
        "id": "view-in-github",
        "colab_type": "text"
      },
      "source": [
        "<a href=\"https://colab.research.google.com/github/jaesik103/NLP/blob/main/Classfication_SentencePiece.ipynb\" target=\"_parent\"><img src=\"https://colab.research.google.com/assets/colab-badge.svg\" alt=\"Open In Colab\"/></a>"
      ]
    },
    {
      "cell_type": "markdown",
      "source": [
        "# Proj : 네이버 영화 리뷰 감성 분류에 SentencePiece 적용해보기\n",
        "\n",
        "- 네이버 영화리뷰 감정 분석 코퍼스에 KoNLPy 형태소 분석기로 Tokenize 후, SentencePiece를 통해 Subword(bpe) 적용시킨 모델 학습하기\n",
        "- 구현된 토크나이저를 적용하여 네이버 영화리뷰 감정 분석 모델을 재학습하기\n",
        "- sentencePiece로 Tokenize, Subword한 모델과 성능 비교하기\n"
      ],
      "metadata": {
        "id": "damKSwxs6nOp"
      }
    },
    {
      "cell_type": "markdown",
      "source": [
        "# 1.데이터 준비"
      ],
      "metadata": {
        "id": "xK8uSyb1DP4q"
      }
    },
    {
      "cell_type": "code",
      "execution_count": null,
      "metadata": {
        "id": "0TlQNPu56Hl0"
      },
      "outputs": [],
      "source": [
        "import pandas as pd\n",
        "import urllib.request\n",
        "import matplotlib.pyplot as plt\n",
        "import re\n",
        "import numpy as np\n",
        "import tensorflow as tf\n",
        "from tensorflow import keras\n",
        "from tensorflow.keras import Sequential\n",
        "from tensorflow.keras.models import load_model\n",
        "from tensorflow.keras.preprocessing.text import Tokenizer\n",
        "from tensorflow.keras.preprocessing.sequence import pad_sequences\n",
        "from keras.callbacks import EarlyStopping, ModelCheckpoint\n",
        "\n",
        "from collections import Counter"
      ]
    },
    {
      "cell_type": "code",
      "source": [
        "!pip install konlpy\n",
        "!git clone https://github.com/SOMJANG/Mecab-ko-for-Google-Colab.git \n",
        "%cd Mecab-ko-for-Google-Colab/\n",
        "!bash install_mecab-ko_on_colab190912.sh\n",
        "%cd ../"
      ],
      "metadata": {
        "id": "Qfa-D7BE6fU_"
      },
      "execution_count": null,
      "outputs": []
    },
    {
      "cell_type": "code",
      "source": [
        "!wget https://github.com/jungyeul/korean-parallel-corpora/raw/master/korean-english-news-v1/korean-english-park.train.tar.gz\n",
        "!tar -xzvf korean-english-park.train.tar.gz"
      ],
      "metadata": {
        "id": "P0WHIeR78Kz9"
      },
      "execution_count": null,
      "outputs": []
    },
    {
      "cell_type": "code",
      "source": [
        "!pip install sentencepiece"
      ],
      "metadata": {
        "id": "hhhOK4648g3X"
      },
      "execution_count": null,
      "outputs": []
    },
    {
      "cell_type": "code",
      "source": [
        "import csv\n",
        "import sentencepiece as spm"
      ],
      "metadata": {
        "id": "3JOA07KC6xug"
      },
      "execution_count": null,
      "outputs": []
    },
    {
      "cell_type": "code",
      "source": [
        "urllib.request.urlretrieve(\"https://raw.githubusercontent.com/e9t/nsmc/master/ratings_train.txt\", filename=\"ratings_train.txt\") # train\n",
        "urllib.request.urlretrieve(\"https://raw.githubusercontent.com/e9t/nsmc/master/ratings_test.txt\", filename=\"ratings_test.txt\") # test\n",
        "urllib.request.urlretrieve(\"https://raw.githubusercontent.com/e9t/nsmc/master/ratings.txt\", filename=\"ratings.txt\") # train + test"
      ],
      "metadata": {
        "id": "NT0rujDq7Ott",
        "colab": {
          "base_uri": "https://localhost:8080/"
        },
        "outputId": "1cb03686-2b46-45f3-f964-eae6cbac86c0"
      },
      "execution_count": null,
      "outputs": [
        {
          "output_type": "execute_result",
          "data": {
            "text/plain": [
              "('ratings.txt', <http.client.HTTPMessage at 0x7f8ba9495b50>)"
            ]
          },
          "metadata": {},
          "execution_count": 6
        }
      ]
    },
    {
      "cell_type": "code",
      "source": [
        "from konlpy.tag import Mecab\n",
        "tokenizer = Mecab()\n",
        "stopwords = ['의','가','이','은','들','는','좀','잘','걍','과','도','를','으로','자','에','와','한','하다']"
      ],
      "metadata": {
        "id": "8OgYjtRM1g3n"
      },
      "execution_count": null,
      "outputs": []
    },
    {
      "cell_type": "code",
      "source": [
        "train_data = pd.read_table('ratings_train.txt')\n",
        "test_data = pd.read_table('ratings_test.txt')\n",
        "test_data.head()"
      ],
      "metadata": {
        "id": "uD8XJkqn7Z1m",
        "colab": {
          "base_uri": "https://localhost:8080/",
          "height": 206
        },
        "outputId": "b3f95c8a-f4b6-4791-a566-953ada0afa70"
      },
      "execution_count": null,
      "outputs": [
        {
          "output_type": "execute_result",
          "data": {
            "text/plain": [
              "        id                                           document  label\n",
              "0  6270596                                                굳 ㅋ      1\n",
              "1  9274899                               GDNTOPCLASSINTHECLUB      0\n",
              "2  8544678             뭐야 이 평점들은.... 나쁘진 않지만 10점 짜리는 더더욱 아니잖아      0\n",
              "3  6825595                   지루하지는 않은데 완전 막장임... 돈주고 보기에는....      0\n",
              "4  6723715  3D만 아니었어도 별 다섯 개 줬을텐데.. 왜 3D로 나와서 제 심기를 불편하게 하죠??      0"
            ],
            "text/html": [
              "\n",
              "  <div id=\"df-b4eddcd9-8c0a-45b3-9b4e-550a373ce723\">\n",
              "    <div class=\"colab-df-container\">\n",
              "      <div>\n",
              "<style scoped>\n",
              "    .dataframe tbody tr th:only-of-type {\n",
              "        vertical-align: middle;\n",
              "    }\n",
              "\n",
              "    .dataframe tbody tr th {\n",
              "        vertical-align: top;\n",
              "    }\n",
              "\n",
              "    .dataframe thead th {\n",
              "        text-align: right;\n",
              "    }\n",
              "</style>\n",
              "<table border=\"1\" class=\"dataframe\">\n",
              "  <thead>\n",
              "    <tr style=\"text-align: right;\">\n",
              "      <th></th>\n",
              "      <th>id</th>\n",
              "      <th>document</th>\n",
              "      <th>label</th>\n",
              "    </tr>\n",
              "  </thead>\n",
              "  <tbody>\n",
              "    <tr>\n",
              "      <th>0</th>\n",
              "      <td>6270596</td>\n",
              "      <td>굳 ㅋ</td>\n",
              "      <td>1</td>\n",
              "    </tr>\n",
              "    <tr>\n",
              "      <th>1</th>\n",
              "      <td>9274899</td>\n",
              "      <td>GDNTOPCLASSINTHECLUB</td>\n",
              "      <td>0</td>\n",
              "    </tr>\n",
              "    <tr>\n",
              "      <th>2</th>\n",
              "      <td>8544678</td>\n",
              "      <td>뭐야 이 평점들은.... 나쁘진 않지만 10점 짜리는 더더욱 아니잖아</td>\n",
              "      <td>0</td>\n",
              "    </tr>\n",
              "    <tr>\n",
              "      <th>3</th>\n",
              "      <td>6825595</td>\n",
              "      <td>지루하지는 않은데 완전 막장임... 돈주고 보기에는....</td>\n",
              "      <td>0</td>\n",
              "    </tr>\n",
              "    <tr>\n",
              "      <th>4</th>\n",
              "      <td>6723715</td>\n",
              "      <td>3D만 아니었어도 별 다섯 개 줬을텐데.. 왜 3D로 나와서 제 심기를 불편하게 하죠??</td>\n",
              "      <td>0</td>\n",
              "    </tr>\n",
              "  </tbody>\n",
              "</table>\n",
              "</div>\n",
              "      <button class=\"colab-df-convert\" onclick=\"convertToInteractive('df-b4eddcd9-8c0a-45b3-9b4e-550a373ce723')\"\n",
              "              title=\"Convert this dataframe to an interactive table.\"\n",
              "              style=\"display:none;\">\n",
              "        \n",
              "  <svg xmlns=\"http://www.w3.org/2000/svg\" height=\"24px\"viewBox=\"0 0 24 24\"\n",
              "       width=\"24px\">\n",
              "    <path d=\"M0 0h24v24H0V0z\" fill=\"none\"/>\n",
              "    <path d=\"M18.56 5.44l.94 2.06.94-2.06 2.06-.94-2.06-.94-.94-2.06-.94 2.06-2.06.94zm-11 1L8.5 8.5l.94-2.06 2.06-.94-2.06-.94L8.5 2.5l-.94 2.06-2.06.94zm10 10l.94 2.06.94-2.06 2.06-.94-2.06-.94-.94-2.06-.94 2.06-2.06.94z\"/><path d=\"M17.41 7.96l-1.37-1.37c-.4-.4-.92-.59-1.43-.59-.52 0-1.04.2-1.43.59L10.3 9.45l-7.72 7.72c-.78.78-.78 2.05 0 2.83L4 21.41c.39.39.9.59 1.41.59.51 0 1.02-.2 1.41-.59l7.78-7.78 2.81-2.81c.8-.78.8-2.07 0-2.86zM5.41 20L4 18.59l7.72-7.72 1.47 1.35L5.41 20z\"/>\n",
              "  </svg>\n",
              "      </button>\n",
              "      \n",
              "  <style>\n",
              "    .colab-df-container {\n",
              "      display:flex;\n",
              "      flex-wrap:wrap;\n",
              "      gap: 12px;\n",
              "    }\n",
              "\n",
              "    .colab-df-convert {\n",
              "      background-color: #E8F0FE;\n",
              "      border: none;\n",
              "      border-radius: 50%;\n",
              "      cursor: pointer;\n",
              "      display: none;\n",
              "      fill: #1967D2;\n",
              "      height: 32px;\n",
              "      padding: 0 0 0 0;\n",
              "      width: 32px;\n",
              "    }\n",
              "\n",
              "    .colab-df-convert:hover {\n",
              "      background-color: #E2EBFA;\n",
              "      box-shadow: 0px 1px 2px rgba(60, 64, 67, 0.3), 0px 1px 3px 1px rgba(60, 64, 67, 0.15);\n",
              "      fill: #174EA6;\n",
              "    }\n",
              "\n",
              "    [theme=dark] .colab-df-convert {\n",
              "      background-color: #3B4455;\n",
              "      fill: #D2E3FC;\n",
              "    }\n",
              "\n",
              "    [theme=dark] .colab-df-convert:hover {\n",
              "      background-color: #434B5C;\n",
              "      box-shadow: 0px 1px 3px 1px rgba(0, 0, 0, 0.15);\n",
              "      filter: drop-shadow(0px 1px 2px rgba(0, 0, 0, 0.3));\n",
              "      fill: #FFFFFF;\n",
              "    }\n",
              "  </style>\n",
              "\n",
              "      <script>\n",
              "        const buttonEl =\n",
              "          document.querySelector('#df-b4eddcd9-8c0a-45b3-9b4e-550a373ce723 button.colab-df-convert');\n",
              "        buttonEl.style.display =\n",
              "          google.colab.kernel.accessAllowed ? 'block' : 'none';\n",
              "\n",
              "        async function convertToInteractive(key) {\n",
              "          const element = document.querySelector('#df-b4eddcd9-8c0a-45b3-9b4e-550a373ce723');\n",
              "          const dataTable =\n",
              "            await google.colab.kernel.invokeFunction('convertToInteractive',\n",
              "                                                     [key], {});\n",
              "          if (!dataTable) return;\n",
              "\n",
              "          const docLinkHtml = 'Like what you see? Visit the ' +\n",
              "            '<a target=\"_blank\" href=https://colab.research.google.com/notebooks/data_table.ipynb>data table notebook</a>'\n",
              "            + ' to learn more about interactive tables.';\n",
              "          element.innerHTML = '';\n",
              "          dataTable['output_type'] = 'display_data';\n",
              "          await google.colab.output.renderOutput(dataTable, element);\n",
              "          const docLink = document.createElement('div');\n",
              "          docLink.innerHTML = docLinkHtml;\n",
              "          element.appendChild(docLink);\n",
              "        }\n",
              "      </script>\n",
              "    </div>\n",
              "  </div>\n",
              "  "
            ]
          },
          "metadata": {},
          "execution_count": 8
        }
      ]
    },
    {
      "cell_type": "code",
      "source": [
        "print('trainv 리뷰 갯수 :', len(train_data))\n",
        "print('test 리뷰 갯수 :', len(test_data))\n",
        "# 중복 제거\n",
        "train_data.drop_duplicates(subset=['document'], inplace=True)\n",
        "test_data.drop_duplicates(subset=['document'], inplace=True)\n",
        "\n",
        "# Nan 결측치 제거\n",
        "train_data = train_data.dropna(how='any')\n",
        "test_data = test_data.dropna(how='any')\n",
        "print('train 리뷰 갯수 :', len(train_data), len(train_data['label']))\n",
        "print('test 리뷰 갯수 :', len(test_data), len(test_data['label']))"
      ],
      "metadata": {
        "id": "wlkDWJzd7wK2",
        "colab": {
          "base_uri": "https://localhost:8080/"
        },
        "outputId": "3f37d809-6389-47e6-fa7b-43823b933bf7"
      },
      "execution_count": null,
      "outputs": [
        {
          "output_type": "stream",
          "name": "stdout",
          "text": [
            "trainv 리뷰 갯수 : 150000\n",
            "test 리뷰 갯수 : 50000\n",
            "train 리뷰 갯수 : 146182 146182\n",
            "test 리뷰 갯수 : 49157 49157\n"
          ]
        }
      ]
    },
    {
      "cell_type": "code",
      "source": [
        "# 학습용 코퍼스 파일 생성\n",
        "with open('naver_review_train.txt', 'w', encoding='utf8') as f:\n",
        "    f.write('\\n'.join(map(str,train_data['document'])))\n",
        "# 테스트 코퍼스 파일 생성\n",
        "with open('naver_review_test.txt', 'w', encoding='utf8') as f:\n",
        "    f.write('\\n'.join(map(str,test_data['document'])))"
      ],
      "metadata": {
        "id": "tU2zBId39c-R"
      },
      "execution_count": null,
      "outputs": []
    },
    {
      "cell_type": "markdown",
      "source": [
        "- Mecab-SentencePiece 데이터 준비"
      ],
      "metadata": {
        "id": "OeMuFmijRStx"
      }
    },
    {
      "cell_type": "code",
      "source": [
        "# 센텐스피스 전, macab으로 형태소 분석 토큰화\n",
        "def mcab_tokenize_and_remove_stopwords(data, stopwords, tokenizer):\n",
        "    result = []\n",
        "\n",
        "    for sentence in data:\n",
        "        curr_data = []\n",
        "        curr_data = tokenizer.morphs(sentence) # mecab 형태소 분석 tokenizer\n",
        "        curr_data = [word for word in curr_data if not word in stopwords] # 불용어 제거\n",
        "        result.append(curr_data)\n",
        "    \n",
        "    return result"
      ],
      "metadata": {
        "id": "EiYZg5aoiziJ"
      },
      "execution_count": null,
      "outputs": []
    },
    {
      "cell_type": "code",
      "source": [
        "# Mecab vocab 만드는 함수\n",
        "\n",
        "def make_mcab_vocab(train_data, test_data, num_words=40000):\n",
        "\n",
        "    # 토큰화 및 불용어 제거\n",
        "    x_train = mcab_tokenize_and_remove_stopwords(train_data['document'], stopwords, tokenizer)\n",
        "    x_test = mcab_tokenize_and_remove_stopwords(test_data['document'], stopwords, tokenizer)\n",
        "\n",
        "    # 단어장 만드는 중.....\n",
        "    words = np.concatenate(x_train).tolist()\n",
        "    counter = Counter(words)\n",
        "    counter = counter.most_common(40000-4)\n",
        "    vocab = ['<PAD>', '<BOS>', '<UNK>', '<UNUSED>'] + [key for key, _ in counter]\n",
        "    word_to_index = {word:index for index, word in enumerate(vocab)}\n",
        "\n",
        "    def wordlist_to_indexlist(wordlist):\n",
        "        return [word_to_index[word] if word in word_to_index else word_to_index['<UNK>'] for word in wordlist]\n",
        "    \n",
        "    x_train = list(map(wordlist_to_indexlist, x_train))\n",
        "    x_test = list(map(wordlist_to_indexlist, x_test))\n",
        "\n",
        "    return word_to_index"
      ],
      "metadata": {
        "id": "-mT8jfcn8JeF"
      },
      "execution_count": null,
      "outputs": []
    },
    {
      "cell_type": "code",
      "source": [
        "# Mecab vocab 생성\n",
        "mecab_vocab = make_mcab_vocab(train_data, test_data)\n",
        "\n",
        "with open('mecab_vocab.txt', 'w', encoding='utf8') as f:\n",
        "    f.write('\\n'.join(map(str,mecab_vocab.keys())))"
      ],
      "metadata": {
        "id": "gT8m4ZpO9V4N"
      },
      "execution_count": null,
      "outputs": []
    },
    {
      "cell_type": "code",
      "source": [
        "# Mecab vocab을 사용한, 센텐스피스(subword) 임베딩 모델 생성\n",
        "temp_file = 'mecab_vocab.txt'\n",
        "vocab_size = 10000\n",
        "mecab_model_name = 'mecab'\n",
        "spm.SentencePieceTrainer.Train(\n",
        "    '--input={} --model_prefix={} --vocab_size={}'.format(temp_file,mecab_model_name, vocab_size) + '--model_type==bpe'\n",
        ")"
      ],
      "metadata": {
        "id": "Yy6VLcj29eYr"
      },
      "execution_count": null,
      "outputs": []
    },
    {
      "cell_type": "code",
      "source": [
        "# 센텐스피스만 적용한 임베딩 모델 생성\n",
        "temp_file = 'naver_review_train.txt'\n",
        "vocab_size = 10000\n",
        "sp_model_name = 'only_spm'\n",
        "spm.SentencePieceTrainer.Train(\n",
        "    '--input={} --model_prefix={} --vocab_size={}'.format(temp_file, sp_model_name, vocab_size) + '--model_type==bpe'\n",
        ")"
      ],
      "metadata": {
        "id": "TM9YMPFDSoR9"
      },
      "execution_count": null,
      "outputs": []
    },
    {
      "cell_type": "code",
      "source": [
        "# sentence_tokenize\n",
        "\n",
        "def sentence_tokenize(s, corpus, kind):\n",
        "\n",
        "    kind_model = kind + '.model'\n",
        "    vocab_path = './' + kind + '.vocab'\n",
        "\n",
        "    s.Load(kind_model)\n",
        "\n",
        "    word_index = {}\n",
        "    index_word = {}\n",
        "    stopword_index = [] # 불용어 vocab_index\n",
        "\n",
        "    with open(vocab_path, 'r') as f:\n",
        "        vocab = f.readlines()\n",
        "\n",
        "    for idx, line in enumerate(vocab):\n",
        "        word = line.split(\"\\t\")[0]\n",
        "\n",
        "        word_index.update({idx:word})\n",
        "        index_word.update({word:idx})\n",
        "        if word in stopwords: # 불용어 index 뽑아오기\n",
        "            stopword_index.append(idx)\n",
        "\n",
        "    tensor = []\n",
        "\n",
        "    for sen in corpus:\n",
        "        tensor_alpha = [] # 한 줄\n",
        "        for i in s.EncodeAsIds(sen):\n",
        "            if i not in stopword_index: # 불용어 제거\n",
        "                tensor_alpha.append(i)\n",
        "        tensor.append(tensor_alpha)\n",
        "\n",
        "\n",
        "    tensor_padded = tf.keras.preprocessing.sequence.pad_sequences(tensor, padding='post')\n",
        "\n",
        "    return tensor, tensor_padded, word_index, index_word, vocab"
      ],
      "metadata": {
        "id": "-h5FSI6r8yA3"
      },
      "execution_count": null,
      "outputs": []
    },
    {
      "cell_type": "code",
      "source": [
        "# sentence_tokenize 사용\n",
        "s = spm.SentencePieceProcessor()\n",
        "train_data_txt = open('naver_review_train.txt', 'r')\n",
        "test_data_txt = open('naver_review_test.txt', 'r')\n",
        "\n",
        "# mecab + setencePiece 임베딩\n",
        "m_tensor_train,m_tensor_padded_train, m_word_index_train, m_index_word_train, m_vocab_train = sentence_tokenize(s, train_data_txt, mecab_model_name)\n",
        "m_tensor_test,m_tensor_padded_test, m_word_index_test, m_index_word_test, m_vocab_test = sentence_tokenize(s, test_data_txt, mecab_model_name)\n",
        "\n",
        "train_data_txt.close()\n",
        "test_data_txt.close()\n",
        "\n",
        "# only setencePiece 임베딩\n",
        "\n",
        "train_data_txt = open('naver_review_train.txt', 'r')\n",
        "test_data_txt = open('naver_review_test.txt', 'r')\n",
        "\n",
        "tensor_train,tensor_padded_train, word_index_train, index_word_train, vocab_train = sentence_tokenize(s, train_data_txt, sp_model_name)\n",
        "tensor_test,tensor_padded_test, word_index_test, index_word_test, vocab_test = sentence_tokenize(s, test_data_txt, sp_model_name)\n",
        "\n",
        "train_data_txt.close()\n",
        "test_data_txt.close()"
      ],
      "metadata": {
        "id": "hjeY8CJK-RwK"
      },
      "execution_count": null,
      "outputs": []
    },
    {
      "cell_type": "markdown",
      "source": [
        "## 1-1.데이터 확인"
      ],
      "metadata": {
        "id": "4IVbjNFv-Ld9"
      }
    },
    {
      "cell_type": "code",
      "source": [
        "train_data"
      ],
      "metadata": {
        "id": "5ej3f3QhtlBO"
      },
      "execution_count": null,
      "outputs": []
    },
    {
      "cell_type": "code",
      "source": [
        "word_index_train"
      ],
      "metadata": {
        "id": "5fs6N5twkex9"
      },
      "execution_count": null,
      "outputs": []
    },
    {
      "cell_type": "code",
      "source": [
        "index_word_test"
      ],
      "metadata": {
        "id": "UvplKJ3Ji2w2"
      },
      "execution_count": null,
      "outputs": []
    },
    {
      "cell_type": "code",
      "source": [
        "tensor_train"
      ],
      "metadata": {
        "id": "v09F9ORm-Mtv"
      },
      "execution_count": null,
      "outputs": []
    },
    {
      "cell_type": "code",
      "source": [
        "tensor_padded_train"
      ],
      "metadata": {
        "id": "MogcYy4Qm4b7",
        "colab": {
          "base_uri": "https://localhost:8080/"
        },
        "outputId": "eabbfbd1-e349-4baa-d0f3-5654877a0ea3"
      },
      "execution_count": null,
      "outputs": [
        {
          "output_type": "execute_result",
          "data": {
            "text/plain": [
              "array([[  61,  868,    5, ...,    0,    0,    0],\n",
              "       [1667,    8, 4959, ...,    0,    0,    0],\n",
              "       [  22,  366, 9783, ...,    0,    0,    0],\n",
              "       ...,\n",
              "       [ 140,  168,   62, ...,    0,    0,    0],\n",
              "       [1882,  567, 5308, ...,    0,    0,    0],\n",
              "       [ 258,    7, 4131, ...,    0,    0,    0]], dtype=int32)"
            ]
          },
          "metadata": {},
          "execution_count": 21
        }
      ]
    },
    {
      "cell_type": "code",
      "source": [
        "m_tensor_padded_train"
      ],
      "metadata": {
        "id": "l21aLKj9UgBK",
        "colab": {
          "base_uri": "https://localhost:8080/"
        },
        "outputId": "85fcdf7f-3544-4513-cb78-0b119b216f82"
      },
      "execution_count": null,
      "outputs": [
        {
          "output_type": "execute_result",
          "data": {
            "text/plain": [
              "array([[  43,  393,  927, ...,    0,    0,    0],\n",
              "       [1671, 1029, 3905, ...,    0,    0,    0],\n",
              "       [   3,  756,  127, ...,    0,    0,    0],\n",
              "       ...,\n",
              "       [  30,  203, 2334, ...,    0,    0,    0],\n",
              "       [6454, 1081, 3130, ...,    0,    0,    0],\n",
              "       [1343, 1081,  322, ...,    0,    0,    0]], dtype=int32)"
            ]
          },
          "metadata": {},
          "execution_count": 18
        }
      ]
    },
    {
      "cell_type": "markdown",
      "source": [
        "## 1-2. 데이터 분석"
      ],
      "metadata": {
        "id": "7sSN5wD2lFZO"
      }
    },
    {
      "cell_type": "code",
      "source": [
        "def data_analysis(model_name, tensor_train, tensor_test):\n",
        "    # 데이터셋 내 문장 길이 분포\n",
        "    print(model_name)\n",
        "    total_data_text = list(tensor_train) + list(tensor_test)\n",
        "\n",
        "    # 텍스트데이터 문장길이의 리스트를 생성한 후\n",
        "    num_tokens = [len(tokens) for tokens in total_data_text]\n",
        "    num_tokens = np.array(num_tokens)\n",
        "\n",
        "    # 문장 길이의 평균값, 최대값, 표준편차를 계산\n",
        "    print('문장길이 평균 :', np.mean(num_tokens))\n",
        "    print('문장길이 최대 :', np.max(num_tokens))\n",
        "    print('문장길이 표준편차 :', np.std(num_tokens))\n",
        "\n",
        "    # 예를 들어 최대 길이를 (평균 + 2*표준편차)로 한다면,\n",
        "    max_tokens = np.mean(num_tokens) + 2 * np.std(num_tokens)\n",
        "\n",
        "    maxlen = int(max_tokens)\n",
        "    print('pad_sequences maxlen : ', maxlen)\n",
        "    print('전체 문장의 {}%가 maxlen 설정값 이내에 포함됩니다. '.format(np.sum(num_tokens < max_tokens)/ len(num_tokens)))\n",
        "    print()"
      ],
      "metadata": {
        "id": "-zK8rHG2lHTZ"
      },
      "execution_count": null,
      "outputs": []
    },
    {
      "cell_type": "code",
      "source": [
        "data_analysis(mecab_model_name, m_tensor_train, m_tensor_test)\n",
        "data_analysis(sp_model_name, tensor_train, tensor_test)"
      ],
      "metadata": {
        "id": "O5D2UC-yx2CP",
        "colab": {
          "base_uri": "https://localhost:8080/"
        },
        "outputId": "49aca52b-a57e-40a5-94a9-6eab18047c4b"
      },
      "execution_count": null,
      "outputs": [
        {
          "output_type": "stream",
          "name": "stdout",
          "text": [
            "mecab\n",
            "문장길이 평균 : 20.291114421595278\n",
            "문장길이 최대 : 136\n",
            "문장길이 표준편차 : 16.555555298772237\n",
            "pad_sequences maxlen :  53\n",
            "전체 문장의 0.9347954069591837%가 maxlen 설정값 이내에 포함됩니다. \n",
            "\n",
            "only_spm\n",
            "문장길이 평균 : 15.423893846082963\n",
            "문장길이 최대 : 130\n",
            "문장길이 표준편차 : 13.017725583781521\n",
            "pad_sequences maxlen :  41\n",
            "전체 문장의 0.9372577928626644%가 maxlen 설정값 이내에 포함됩니다. \n",
            "\n"
          ]
        }
      ]
    },
    {
      "cell_type": "markdown",
      "source": [
        "# 2.모델 구성 및 validation 구성"
      ],
      "metadata": {
        "id": "X1fgXHeLnD1I"
      }
    },
    {
      "cell_type": "markdown",
      "source": [
        "## 2.1 validation 데이터"
      ],
      "metadata": {
        "id": "m1TykjF5QGhD"
      }
    },
    {
      "cell_type": "code",
      "source": [
        "def validation_generator(train_tensor_padded, train_label_data, test_tensor_padded, test_label_data, data_size):\n",
        "    \n",
        "    x = train_tensor_padded[data_size:]\n",
        "    # 같은 shape로 바꿔주기\n",
        "    y = []\n",
        "    llist = []\n",
        "    for i in list(train_label_data):\n",
        "        llist.append(i)\n",
        "        y.append(llist)\n",
        "        llist = []\n",
        "    y = np.array(y)[data_size:]\n",
        "\n",
        "    # val\n",
        "    x_val = test_tensor_padded[:data_size]\n",
        "    # 같은 shape로 바꿔주기\n",
        "    y_val = []\n",
        "    llist = []\n",
        "    for i in list(test_label_data):\n",
        "        llist.append(i)\n",
        "        y_val.append(llist)\n",
        "        llist = []\n",
        "    y_val = np.array(y_val)[:data_size]\n",
        "\n",
        "    return x, y, x_val, y_val\n"
      ],
      "metadata": {
        "id": "lf35X4HXmuw3"
      },
      "execution_count": null,
      "outputs": []
    },
    {
      "cell_type": "markdown",
      "source": [
        "## 2.2 LSTM"
      ],
      "metadata": {
        "id": "uThRyMQzyHv5"
      }
    },
    {
      "cell_type": "code",
      "source": [
        "vocab_size = 10000\n",
        "word_vector_dim = 16\n",
        "\n",
        "\n",
        "Embedding_layer1 = keras.layers.Embedding(vocab_size, word_vector_dim, input_shape=(None,))\n",
        "LSTM_layer1 = keras.layers.LSTM(128, return_sequences=True)\n",
        "dense_layer1 = keras.layers.Dense(64, activation='relu')\n",
        "Dropout_layer = keras.layers.Dropout(.5)\n",
        "bn_layer = keras.layers.BatchNormalization()\n",
        "dense_layer2 = keras.layers.Dense(1, activation='sigmoid')\n",
        " \n",
        "model = Sequential([\n",
        "        Embedding_layer1,\n",
        "        LSTM_layer1,\n",
        "        Dropout_layer,\n",
        "        bn_layer,\n",
        "        dense_layer1,\n",
        "        Dropout_layer,\n",
        "        dense_layer2\n",
        "        ])\n",
        "model.summary()"
      ],
      "metadata": {
        "id": "RQkqBebmxcgx",
        "colab": {
          "base_uri": "https://localhost:8080/"
        },
        "outputId": "328cfdea-4960-4c94-80fc-41c9cbbc8337"
      },
      "execution_count": null,
      "outputs": [
        {
          "output_type": "stream",
          "name": "stdout",
          "text": [
            "Model: \"sequential\"\n",
            "_________________________________________________________________\n",
            " Layer (type)                Output Shape              Param #   \n",
            "=================================================================\n",
            " embedding (Embedding)       (None, None, 16)          160000    \n",
            "                                                                 \n",
            " lstm (LSTM)                 (None, None, 128)         74240     \n",
            "                                                                 \n",
            " dropout (Dropout)           multiple                  0         \n",
            "                                                                 \n",
            " batch_normalization (BatchN  (None, None, 128)        512       \n",
            " ormalization)                                                   \n",
            "                                                                 \n",
            " dense (Dense)               (None, None, 64)          8256      \n",
            "                                                                 \n",
            " dense_1 (Dense)             (None, None, 1)           65        \n",
            "                                                                 \n",
            "=================================================================\n",
            "Total params: 243,073\n",
            "Trainable params: 242,817\n",
            "Non-trainable params: 256\n",
            "_________________________________________________________________\n"
          ]
        }
      ]
    },
    {
      "cell_type": "code",
      "source": [
        "# mecab-sentencPiece\n",
        "model.compile(optimizer='adam', loss='binary_crossentropy', metrics=['accuracy'])\n",
        "\n",
        "es = EarlyStopping(monitor='val_loss', mode='min', verbose=1, patience=10)\n",
        "mc = ModelCheckpoint('m_best_model.h5', monitor='val_loss', mode='min', save_best_only=True)\n",
        "\n",
        "epochs = 100\n",
        "\n",
        "x, y, x_val, y_val = validation_generator(m_tensor_padded_train, train_data['label'], m_tensor_padded_test, test_data['label'], 50000)\n",
        "\n",
        "m_history = model.fit(x, y, epochs=epochs, batch_size=512, validation_data=(x_val, y_val), verbose=1, callbacks=[es, mc])"
      ],
      "metadata": {
        "id": "nmTqooGFyXqn",
        "colab": {
          "base_uri": "https://localhost:8080/"
        },
        "outputId": "c92fe78b-37ec-4eb1-8b92-94f88f9c59fa"
      },
      "execution_count": null,
      "outputs": [
        {
          "output_type": "stream",
          "name": "stdout",
          "text": [
            "Epoch 1/100\n",
            "188/188 [==============================] - 27s 102ms/step - loss: 0.5216 - accuracy: 0.7249 - val_loss: 0.5824 - val_accuracy: 0.7816\n",
            "Epoch 2/100\n",
            "188/188 [==============================] - 19s 101ms/step - loss: 0.3984 - accuracy: 0.8270 - val_loss: 0.5131 - val_accuracy: 0.8128\n",
            "Epoch 3/100\n",
            "188/188 [==============================] - 18s 96ms/step - loss: 0.3830 - accuracy: 0.8349 - val_loss: 0.4333 - val_accuracy: 0.8157\n",
            "Epoch 4/100\n",
            "188/188 [==============================] - 19s 100ms/step - loss: 0.3714 - accuracy: 0.8396 - val_loss: 0.4107 - val_accuracy: 0.8154\n",
            "Epoch 5/100\n",
            "188/188 [==============================] - 19s 100ms/step - loss: 0.3601 - accuracy: 0.8427 - val_loss: 0.4052 - val_accuracy: 0.8156\n",
            "Epoch 6/100\n",
            "188/188 [==============================] - 18s 98ms/step - loss: 0.3462 - accuracy: 0.8489 - val_loss: 0.4046 - val_accuracy: 0.8193\n",
            "Epoch 7/100\n",
            "188/188 [==============================] - 18s 98ms/step - loss: 0.3366 - accuracy: 0.8538 - val_loss: 0.4208 - val_accuracy: 0.8206\n",
            "Epoch 8/100\n",
            "188/188 [==============================] - 18s 98ms/step - loss: 0.3242 - accuracy: 0.8597 - val_loss: 0.4072 - val_accuracy: 0.8182\n",
            "Epoch 9/100\n",
            "188/188 [==============================] - 18s 97ms/step - loss: 0.3144 - accuracy: 0.8656 - val_loss: 0.4007 - val_accuracy: 0.8215\n",
            "Epoch 10/100\n",
            "188/188 [==============================] - 18s 97ms/step - loss: 0.3053 - accuracy: 0.8698 - val_loss: 0.4074 - val_accuracy: 0.8221\n",
            "Epoch 11/100\n",
            "188/188 [==============================] - 18s 96ms/step - loss: 0.2965 - accuracy: 0.8744 - val_loss: 0.4212 - val_accuracy: 0.8214\n",
            "Epoch 12/100\n",
            "188/188 [==============================] - 18s 97ms/step - loss: 0.2875 - accuracy: 0.8794 - val_loss: 0.4283 - val_accuracy: 0.8223\n",
            "Epoch 13/100\n",
            "188/188 [==============================] - 18s 96ms/step - loss: 0.2797 - accuracy: 0.8839 - val_loss: 0.4397 - val_accuracy: 0.8219\n",
            "Epoch 14/100\n",
            "188/188 [==============================] - 18s 97ms/step - loss: 0.2709 - accuracy: 0.8873 - val_loss: 0.4171 - val_accuracy: 0.8173\n",
            "Epoch 15/100\n",
            "188/188 [==============================] - 18s 97ms/step - loss: 0.2630 - accuracy: 0.8914 - val_loss: 0.4687 - val_accuracy: 0.8174\n",
            "Epoch 16/100\n",
            "188/188 [==============================] - 18s 98ms/step - loss: 0.2527 - accuracy: 0.8960 - val_loss: 0.4830 - val_accuracy: 0.8187\n",
            "Epoch 17/100\n",
            "188/188 [==============================] - 18s 97ms/step - loss: 0.2459 - accuracy: 0.8992 - val_loss: 0.5596 - val_accuracy: 0.8152\n",
            "Epoch 18/100\n",
            "188/188 [==============================] - 18s 98ms/step - loss: 0.2359 - accuracy: 0.9036 - val_loss: 0.4878 - val_accuracy: 0.8161\n",
            "Epoch 19/100\n",
            "188/188 [==============================] - 18s 96ms/step - loss: 0.2299 - accuracy: 0.9061 - val_loss: 0.4903 - val_accuracy: 0.8120\n",
            "Epoch 19: early stopping\n"
          ]
        }
      ]
    },
    {
      "cell_type": "code",
      "source": [
        "# mecab-sentencPiece\n",
        "m_model = load_model('/content/m_best_model.h5')\n",
        "\n",
        "results = m_model.evaluate(x_val, y_val, verbose=2)"
      ],
      "metadata": {
        "id": "5d7g0kPzGXEk",
        "colab": {
          "base_uri": "https://localhost:8080/"
        },
        "outputId": "afc45032-d707-49bb-e9c6-564f423fa934"
      },
      "execution_count": null,
      "outputs": [
        {
          "output_type": "stream",
          "name": "stdout",
          "text": [
            "1537/1537 - 18s - loss: 0.4007 - accuracy: 0.8215 - 18s/epoch - 12ms/step\n"
          ]
        }
      ]
    },
    {
      "cell_type": "code",
      "source": [
        "# Only_sentencePiece\n",
        "model.compile(optimizer='adam', loss='binary_crossentropy', metrics=['accuracy'])\n",
        "\n",
        "es = EarlyStopping(monitor='val_loss', mode='min', verbose=1, patience=10)\n",
        "mc = ModelCheckpoint('best_model.h5', monitor='val_loss', mode='min', save_best_only=True)\n",
        "\n",
        "epochs = 100\n",
        "\n",
        "x, y, x_val, y_val = validation_generator(tensor_padded_train, train_data['label'], tensor_padded_test, test_data['label'], 50000)\n",
        "\n",
        "history = model.fit(x, y, epochs=epochs, batch_size=512, validation_data=(x_val, y_val), verbose=1, callbacks=[es, mc])"
      ],
      "metadata": {
        "id": "ej4R3h2CZ3ae",
        "colab": {
          "base_uri": "https://localhost:8080/"
        },
        "outputId": "4074efc8-a667-44cf-d889-6c2056bf36b7"
      },
      "execution_count": null,
      "outputs": [
        {
          "output_type": "stream",
          "name": "stdout",
          "text": [
            "Epoch 1/100\n",
            "188/188 [==============================] - 21s 96ms/step - loss: 0.6556 - accuracy: 0.5901 - val_loss: 0.4459 - val_accuracy: 0.8055\n",
            "Epoch 2/100\n",
            "188/188 [==============================] - 17s 92ms/step - loss: 0.3810 - accuracy: 0.8371 - val_loss: 0.3909 - val_accuracy: 0.8279\n",
            "Epoch 3/100\n",
            "188/188 [==============================] - 17s 92ms/step - loss: 0.3413 - accuracy: 0.8562 - val_loss: 0.3745 - val_accuracy: 0.8346\n",
            "Epoch 4/100\n",
            "188/188 [==============================] - 17s 93ms/step - loss: 0.3225 - accuracy: 0.8654 - val_loss: 0.3781 - val_accuracy: 0.8340\n",
            "Epoch 5/100\n",
            "188/188 [==============================] - 18s 93ms/step - loss: 0.3096 - accuracy: 0.8698 - val_loss: 0.3819 - val_accuracy: 0.8321\n",
            "Epoch 6/100\n",
            "188/188 [==============================] - 18s 94ms/step - loss: 0.2888 - accuracy: 0.8788 - val_loss: 0.3819 - val_accuracy: 0.8322\n",
            "Epoch 7/100\n",
            "188/188 [==============================] - 18s 94ms/step - loss: 0.2636 - accuracy: 0.8888 - val_loss: 0.4444 - val_accuracy: 0.8267\n",
            "Epoch 8/100\n",
            "188/188 [==============================] - 17s 93ms/step - loss: 0.2372 - accuracy: 0.9004 - val_loss: 0.4292 - val_accuracy: 0.8200\n",
            "Epoch 9/100\n",
            "188/188 [==============================] - 17s 92ms/step - loss: 0.2119 - accuracy: 0.9121 - val_loss: 0.5260 - val_accuracy: 0.8214\n",
            "Epoch 10/100\n",
            "188/188 [==============================] - 17s 93ms/step - loss: 0.1938 - accuracy: 0.9208 - val_loss: 0.5115 - val_accuracy: 0.8189\n",
            "Epoch 11/100\n",
            "188/188 [==============================] - 17s 92ms/step - loss: 0.1758 - accuracy: 0.9295 - val_loss: 0.5370 - val_accuracy: 0.8036\n",
            "Epoch 12/100\n",
            "188/188 [==============================] - 17s 92ms/step - loss: 0.1612 - accuracy: 0.9357 - val_loss: 0.6467 - val_accuracy: 0.8130\n",
            "Epoch 13/100\n",
            "188/188 [==============================] - 17s 92ms/step - loss: 0.1477 - accuracy: 0.9418 - val_loss: 0.6600 - val_accuracy: 0.8087\n",
            "Epoch 13: early stopping\n"
          ]
        }
      ]
    },
    {
      "cell_type": "code",
      "source": [
        "# Only_sentencePiece\n",
        "model = load_model('/content/best_model.h5')\n",
        "\n",
        "results = model.evaluate(x_val, y_val, verbose=2)"
      ],
      "metadata": {
        "id": "VQUkquEyymPc",
        "colab": {
          "base_uri": "https://localhost:8080/"
        },
        "outputId": "cda548cf-21eb-4e3d-d0b3-ea8a841ab810"
      },
      "execution_count": null,
      "outputs": [
        {
          "output_type": "stream",
          "name": "stdout",
          "text": [
            "1537/1537 - 18s - loss: 0.3745 - accuracy: 0.8346 - 18s/epoch - 12ms/step\n"
          ]
        }
      ]
    },
    {
      "cell_type": "markdown",
      "source": [
        "# 3.결과"
      ],
      "metadata": {
        "id": "8TehLbI-OHoS"
      }
    },
    {
      "cell_type": "markdown",
      "source": [
        "## 3.1 그래프"
      ],
      "metadata": {
        "id": "jehSTdi9afmq"
      }
    },
    {
      "cell_type": "code",
      "source": [
        "# mecab-sentencPiece\n",
        "\n",
        "m_acc= m_history.history['accuracy']\n",
        "m_val_acc= m_history.history['val_accuracy']\n",
        "m_y_vloss = m_history.history['val_loss']\n",
        "m_y_loss = m_history.history['loss']\n",
        "\n",
        "m_x_len = np.arange(len(m_y_loss)) \n",
        "\n",
        "plt.figure(figsize=(8, 12))\n",
        "plt.subplot(2, 2, 1)               \n",
        "plt.plot(m_x_len, m_y_vloss, marker='.', c=\"cornflowerblue\", label='val_loss')\n",
        "plt.plot(m_x_len, m_y_loss, marker='.', c=\"blue\", label='Trainset_loss')\n",
        "plt.title('Mecab_Training and validation loss')\n",
        "plt.xlabel('epoch')\n",
        "plt.ylabel('loss')\n",
        "plt.legend(loc='upper right')\n",
        "\n",
        "plt.subplot(2, 2, 2)               \n",
        "plt.plot(m_x_len, m_val_acc, marker='.', c=\"lightcoral\", label='val_acc')\n",
        "plt.plot(m_x_len, m_acc, marker='.', c=\"red\", label='Trainset_acc')\n",
        "plt.title('Mecab_Training and validation accuracy')\n",
        "plt.xlabel('epoch')\n",
        "plt.ylabel('acc')\n",
        "plt.subplots_adjust(right=1.5)\n",
        "plt.legend(loc='lower right') \n",
        "\n",
        "# Only_sentencePiece\n",
        "\n",
        "acc= history.history['accuracy']\n",
        "val_acc= history.history['val_accuracy']\n",
        "y_vloss = history.history['val_loss']\n",
        "y_loss = history.history['loss']\n",
        "\n",
        "x_len = np.arange(len(y_loss))\n",
        "\n",
        "plt.subplot(2, 2, 3)              \n",
        "plt.plot(x_len, y_vloss, marker='.', c=\"cornflowerblue\", label='val_loss')\n",
        "plt.plot(x_len, y_loss, marker='.', c=\"blue\", label='Trainset_loss')\n",
        "plt.title('Training and validation loss')\n",
        "plt.xlabel('epoch')\n",
        "plt.ylabel('loss')\n",
        "plt.legend(loc='upper right')\n",
        "\n",
        "plt.subplot(2, 2, 4)                \n",
        "plt.plot(x_len, val_acc, marker='.', c=\"lightcoral\", label='val_acc')\n",
        "plt.plot(x_len, acc, marker='.', c=\"red\", label='Trainset_acc')\n",
        "plt.title('Training and validation accuracy')\n",
        "plt.xlabel('epoch')\n",
        "plt.ylabel('acc')\n",
        "plt.subplots_adjust(right=1.5)\n",
        "plt.legend(loc='lower right') \n",
        "\n",
        "plt.grid()\n",
        "plt.show()"
      ],
      "metadata": {
        "id": "_CNE-Ctnymvf",
        "colab": {
          "base_uri": "https://localhost:8080/",
          "height": 730
        },
        "outputId": "fb710cb8-2c61-476a-a880-2f3ea3c0471c"
      },
      "execution_count": null,
      "outputs": [
        {
          "output_type": "display_data",
          "data": {
            "text/plain": [
              "<Figure size 576x864 with 4 Axes>"
            ],
            "image/png": "[encoded data removed]"
          },
          "metadata": {
            "needs_background": "light"
          }
        }
      ]
    },
    {
      "cell_type": "markdown",
      "source": [
        "## 3.2 예측"
      ],
      "metadata": {
        "id": "BgG46OW_bbIk"
      }
    },
    {
      "cell_type": "code",
      "source": [
        "with open('review.txt', 'w') as c:\n",
        "    txt = \"명작이다.\"\n",
        "    c.write(txt)"
      ],
      "metadata": {
        "id": "42w753cE8N8I"
      },
      "execution_count": null,
      "outputs": []
    },
    {
      "cell_type": "code",
      "source": [
        "with open('review.txt', 'r') as c:\n",
        "    review = c.readlines()"
      ],
      "metadata": {
        "id": "_RHkieC_s_mh"
      },
      "execution_count": null,
      "outputs": []
    },
    {
      "cell_type": "code",
      "source": [
        "# 비교\n",
        "m_model = load_model('/content/m_best_model.h5')\n",
        "model = load_model('/content/best_model.h5')\n",
        "\n",
        "a, m_tensor_padded, c, d, e = sentence_tokenize(s, review, mecab_model_name) # 토큰 + 패딩\n",
        "a, tensor_padded, c, d, e = sentence_tokenize(s, review, sp_model_name) # 토큰 + 패딩\n",
        "\n",
        "m_score = m_model.predict(m_tensor_padded)\n",
        "score = model.predict(tensor_padded)\n",
        "print(review)\n",
        "print('위가 mecab-sentencPiece, 아래가 Only_sentencePiece')\n",
        "print('-------------------------')\n",
        "\n",
        "for i in range(len(m_score)):\n",
        "    m_confidence = (sum(m_score[i])/len(m_score[i]))*100\n",
        "    if m_confidence > 50:\n",
        "        print('{}번째 리뷰 : {}'.format(i+1,review[i]))\n",
        "        print('m-s긍정 : {: .2f}%'.format(float(m_confidence)))\n",
        "        \n",
        "    if m_confidence <= 50:\n",
        "        print('{}번째 리뷰 : {}'.format(i+1, review[i]))\n",
        "        print('m-s부정 : {: .2f}%'.format(float(100-m_confidence)))\n",
        "    \n",
        "    confidence = (sum(score[i])/len(score[i]))*100\n",
        "    if confidence > 50:\n",
        "        print('s긍정 : {: .2f}%'.format(float(confidence)))\n",
        "        print('---------------------------------------------')\n",
        "        \n",
        "    if confidence <= 50:\n",
        "        print('s부정 : {: .2f}%'.format(float(100-confidence)))\n",
        "        print('---------------------------------------------')\n"
      ],
      "metadata": {
        "id": "7eQmFSA2s8Rm",
        "colab": {
          "base_uri": "https://localhost:8080/"
        },
        "outputId": "c4d5d1eb-9ab3-427f-f8bf-ad8c76333935"
      },
      "execution_count": null,
      "outputs": [
        {
          "output_type": "stream",
          "name": "stdout",
          "text": [
            "['명작이다.\\n', '인생영화 였어요.\\n', '이딴것도 영화라고 만들었냐?\\n', '시간남는 분만 보세요\\n', '이 영화는 재밌을 수도, 없을 수도 있습니다.\\n', '개꿀잼\\n', '개노잼\\n']\n",
            "위가 mecab-sentencPiece, 아래가 Only_sentencePiece\n",
            "-------------------------\n",
            "1번째 리뷰 : 명작이다.\n",
            "\n",
            "m-s긍정 :  90.82%\n",
            "s긍정 :  95.86%\n",
            "---------------------------------------------\n",
            "2번째 리뷰 : 인생영화 였어요.\n",
            "\n",
            "m-s긍정 :  87.66%\n",
            "s긍정 :  75.00%\n",
            "---------------------------------------------\n",
            "3번째 리뷰 : 이딴것도 영화라고 만들었냐?\n",
            "\n",
            "m-s부정 :  90.56%\n",
            "s부정 :  96.28%\n",
            "---------------------------------------------\n",
            "4번째 리뷰 : 시간남는 분만 보세요\n",
            "\n",
            "m-s부정 :  78.22%\n",
            "s부정 :  63.92%\n",
            "---------------------------------------------\n",
            "5번째 리뷰 : 이 영화는 재밌을 수도, 없을 수도 있습니다.\n",
            "\n",
            "m-s긍정 :  60.56%\n",
            "s부정 :  51.39%\n",
            "---------------------------------------------\n",
            "6번째 리뷰 : 개꿀잼\n",
            "\n",
            "m-s긍정 :  90.63%\n",
            "s긍정 :  91.53%\n",
            "---------------------------------------------\n",
            "7번째 리뷰 : 개노잼\n",
            "\n",
            "m-s부정 :  97.13%\n",
            "s부정 :  96.09%\n",
            "---------------------------------------------\n"
          ]
        }
      ]
    }
  ]
}
