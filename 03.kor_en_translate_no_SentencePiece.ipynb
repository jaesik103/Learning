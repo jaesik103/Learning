{
  "cells": [
    {
      "cell_type": "markdown",
      "metadata": {
        "id": "view-in-github",
        "colab_type": "text"
      },
      "source": [
        "<a href=\"https://colab.research.google.com/github/jaesik103/NLP/blob/main/03.kor_en_translate_no_SentencePiece.ipynb\" target=\"_parent\"><img src=\"https://colab.research.google.com/assets/colab-badge.svg\" alt=\"Open In Colab\"/></a>"
      ]
    },
    {
      "cell_type": "markdown",
      "metadata": {
        "id": "Obgzn5R5N96I"
      },
      "source": [
        "# Proj. 한-영 번역기 만들기"
      ]
    },
    {
      "cell_type": "markdown",
      "metadata": {
        "id": "DLrgIAoaODBc"
      },
      "source": [
        "한-영 번역기 만들기\n",
        "1. 데이터 다운로드\n",
        "- 데이터 : https://github.com/jungyeul/korean-parallel-corpora/tree/master/korean-english-news-v1\n",
        "- korean-english-park.train.tar.gz\n",
        "2. 데이터 정제\n",
        "- set 데이터형이 중복이 허용하지 않다는 것을 활용해 중복된 데이터를 제거\n",
        "  - 데이터 병렬 쌍이 흐트러지지 않게 주의! <- **데이터프레임 변환 후 정제**\n",
        "  - cleaned_corpus에 따로저장 <- **데이터프레임으로**\n",
        "- 앞서 정의한 preprocessing()함수는 한글에 대해 동작하지 않아요.\n",
        "  - 한글에 적용할 수 있는 정규식을 추가해여 함수를 재정의 하세요. <- **컬럼별로 map()를 사용해서 각각 preprocessing()**\n",
        "- 타겟 언어인 영문엔 <\\start>토큰과 <\\end>토큰을 추가하고 split()함수로 토큰화 합니다. 한글 토큰화는 konlpy의 mecab클래스를 사용합니다. \n",
        "- cleaned_corpus로부터 토큰의길이가 40이하인 데이터를 선별하여 eng_corpus와 kor_corpus를 각각 구축하기\n",
        "\n",
        "3. 토큰화\n",
        "- tokenize()함수를 사용해 데이터를 텐서로 변환하고 각각의 tokenizer를 얻으세요!\n",
        "  - 단어수는 실험을 통해 적당한 값을 맞춰줍시다(최소 10000이상!) <- \n",
        "\n",
        "4. 훈련하기\n",
        "\n",
        "5. **Subword Segmentation을 안하고, 영문에 split()으로 tokenize 한 결과와 비교**"
      ]
    },
    {
      "cell_type": "markdown",
      "metadata": {
        "id": "P5iPUjw8RqfQ"
      },
      "source": [
        "# 0.모듈 설치 및 임포트"
      ]
    },
    {
      "cell_type": "code",
      "execution_count": null,
      "metadata": {
        "id": "eEyv2NsqPxs1"
      },
      "outputs": [],
      "source": [
        "!sudo apt-get install -y fonts-nanum\n",
        "!sudo fc-cache -fv\n",
        "!rm ~/.cache/matplotlib -rf"
      ]
    },
    {
      "cell_type": "code",
      "execution_count": null,
      "metadata": {
        "colab": {
          "base_uri": "https://localhost:8080/"
        },
        "id": "_pdjiPg91VAH",
        "outputId": "a7b32378-33f8-4440-ff52-1ca7c541a7d4"
      },
      "outputs": [
        {
          "name": "stdout",
          "output_type": "stream",
          "text": [
            "Mon Apr  4 22:38:34 2022       \n",
            "+-----------------------------------------------------------------------------+\n",
            "| NVIDIA-SMI 460.32.03    Driver Version: 460.32.03    CUDA Version: 11.2     |\n",
            "|-------------------------------+----------------------+----------------------+\n",
            "| GPU  Name        Persistence-M| Bus-Id        Disp.A | Volatile Uncorr. ECC |\n",
            "| Fan  Temp  Perf  Pwr:Usage/Cap|         Memory-Usage | GPU-Util  Compute M. |\n",
            "|                               |                      |               MIG M. |\n",
            "|===============================+======================+======================|\n",
            "|   0  Tesla P100-PCIE...  Off  | 00000000:00:04.0 Off |                    0 |\n",
            "| N/A   38C    P0    26W / 250W |      0MiB / 16280MiB |      0%      Default |\n",
            "|                               |                      |                  N/A |\n",
            "+-------------------------------+----------------------+----------------------+\n",
            "                                                                               \n",
            "+-----------------------------------------------------------------------------+\n",
            "| Processes:                                                                  |\n",
            "|  GPU   GI   CI        PID   Type   Process name                  GPU Memory |\n",
            "|        ID   ID                                                   Usage      |\n",
            "|=============================================================================|\n",
            "|  No running processes found                                                 |\n",
            "+-----------------------------------------------------------------------------+\n"
          ]
        }
      ],
      "source": [
        "!nvidia-smi"
      ]
    },
    {
      "cell_type": "code",
      "execution_count": null,
      "metadata": {
        "id": "XX0Cb9DfWo5s"
      },
      "outputs": [],
      "source": [
        "from collections import Counter\n",
        "import matplotlib.ticker as ticker\n",
        "import matplotlib.pyplot as plt\n",
        "import matplotlib\n",
        "\n",
        "import time\n",
        "import re\n",
        "import os\n",
        "import io\n",
        "import numpy as np\n",
        "import pandas as pd\n",
        "from sklearn.model_selection import train_test_split\n",
        "import tensorflow as tf\n",
        "from tensorflow import keras\n",
        "from tensorflow.keras import Sequential\n",
        "from tensorflow.keras.models import load_model\n",
        "from tensorflow.keras.preprocessing.text import Tokenizer\n",
        "from tensorflow.keras.preprocessing.sequence import pad_sequences\n",
        "from keras.callbacks import EarlyStopping, ModelCheckpoint"
      ]
    },
    {
      "cell_type": "code",
      "execution_count": null,
      "metadata": {
        "colab": {
          "background_save": true
        },
        "id": "ot_D8mxlQtyb"
      },
      "outputs": [],
      "source": [
        "!git clone https://github.com/SOMJANG/Mecab-ko-for-Google-Colab.git \n",
        "%cd Mecab-ko-for-Google-Colab\n",
        "!bash install_mecab-ko_on_colab_light_220111.sh"
      ]
    },
    {
      "cell_type": "markdown",
      "metadata": {
        "id": "C9s6l51bPTgj"
      },
      "source": [
        "# 1.데이터 준비"
      ]
    },
    {
      "cell_type": "markdown",
      "metadata": {
        "id": "qRJ43gmGPbid"
      },
      "source": [
        "## 1.1 데이터 다운로드"
      ]
    },
    {
      "cell_type": "code",
      "execution_count": null,
      "metadata": {
        "colab": {
          "background_save": true
        },
        "id": "9MqUVek6OGL_"
      },
      "outputs": [],
      "source": [
        "!wget https://github.com/jungyeul/korean-parallel-corpora/raw/master/korean-english-news-v1/korean-english-park.train.tar.gz\n",
        "!tar -xzvf korean-english-park.train.tar.gz"
      ]
    },
    {
      "cell_type": "code",
      "execution_count": null,
      "metadata": {
        "colab": {
          "background_save": true,
          "base_uri": "https://localhost:8080/"
        },
        "id": "_WNdhy5NRX34",
        "outputId": "86b6c5df-b0c6-4d13-d08f-fa62da1c3f0d"
      },
      "outputs": [
        {
          "name": "stdout",
          "output_type": "stream",
          "text": [
            "Data Size : 94123\n"
          ]
        }
      ],
      "source": [
        "ko_path_to_file = './korean-english-park.train.ko'\n",
        "# local인 경우, os.getenv('home')\n",
        "\n",
        "with open(ko_path_to_file, \"r\") as f:\n",
        "    ko_raw = f.read().splitlines()\n",
        "\n",
        "print(\"Data Size :\", len(ko_raw))"
      ]
    },
    {
      "cell_type": "code",
      "execution_count": null,
      "metadata": {
        "colab": {
          "background_save": true,
          "base_uri": "https://localhost:8080/"
        },
        "id": "4RMdfCK_RgdP",
        "outputId": "59fa1d72-c237-46b8-a811-74a0e951f71a"
      },
      "outputs": [
        {
          "name": "stdout",
          "output_type": "stream",
          "text": [
            "Examples :\n",
            ">> 개인용 컴퓨터 사용의 상당 부분은 \"이것보다 뛰어날 수 있느냐?\"\n",
            ">> 모든 광마우스와 마찬가지 로 이 광마우스도 책상 위에 놓는 마우스 패드를 필요로 하지 않는다.\n",
            ">> 그러나 이것은 또한 책상도 필요로 하지 않는다.\n",
            ">> 79.95달러하는 이 최첨단 무선 광마우스는 허공에서 팔목, 팔, 그외에 어떤 부분이든 그 움직임에따라 커서의 움직임을 조절하는 회전 운동 센서를 사용하고 있다.\n",
            ">> 정보 관리들은 동남 아시아에서의 선박들에 대한 많은 (테러) 계획들이 실패로 돌아갔음을 밝혔으며, 세계 해상 교역량의 거의 3분의 1을 운송하는 좁은 해로인 말라카 해협이 테러 공격을 당하기 쉽다고 경고하고 있다.\n",
            ">> 이 지역에 있는 미국 선박과 상업용 선박들에 대한 알카에다의 (테러) 시도 중 여러 건이 실패했다는 것을 알게 된 후에, 전문가들은 테러 조직이 여전히 세계 경제에 타격을 입히려 한다고 경고하고 있으며, 동남 아시아에 있는 세계 경제의 주요 통로가 위험에 처해 있다고 그들은 생각하고 있다.\n",
            ">> 국립 과학 학회가 발표한 새 보고서에따르면, 복잡한 임무를 수행해야 하는 군인들이나 보다 오랜 시간 동안 경계를 늦추지 않고 있기 위해 도움이 필요한 군인들에게 카페인이 반응 시간을 증가시키고 임무 수행 능력을 향상시키는데 도움이 된다고 한다.\n",
            ">> 이 보고서에따르면, \"특히, 군사 작전에서 생사가 걸린 상황이 될 수도 있는 반응 속도와 시각 및 청각의 경계 상태를 유지시키기 위해 카페인이 사용될 수도 있다.\" 고 한다.\n",
            ">> \"결정적인 순간에 그들의 능력을 증가시켜 줄 그 무엇이 매우 중요합니다.\"\n",
            ">> 연구가들이 이미 커피 대체품으로서 음식 대용 과자나 껌에 카페인을 첨가하는 방법을 연구하고 있다고 Archibald는 말했다.\n"
          ]
        }
      ],
      "source": [
        "print(\"Examples :\")\n",
        "for sen in ko_raw[0:10]: print(\">>\", sen)"
      ]
    },
    {
      "cell_type": "code",
      "execution_count": null,
      "metadata": {
        "colab": {
          "background_save": true,
          "base_uri": "https://localhost:8080/"
        },
        "id": "Z0KtYVHNTHn5",
        "outputId": "47985169-b509-40ed-b408-2e213b2b9d9c"
      },
      "outputs": [
        {
          "name": "stdout",
          "output_type": "stream",
          "text": [
            "Data Size : 94123\n"
          ]
        }
      ],
      "source": [
        "en_path_to_file = './korean-english-park.train.en'\n",
        "# local인 경우, os.getenv('home')\n",
        "\n",
        "with open(en_path_to_file, \"r\") as f:\n",
        "    en_raw = f.read().splitlines()\n",
        "\n",
        "print(\"Data Size :\", len(en_raw))"
      ]
    },
    {
      "cell_type": "code",
      "execution_count": null,
      "metadata": {
        "colab": {
          "background_save": true,
          "base_uri": "https://localhost:8080/"
        },
        "id": "IpRH80LNT6dZ",
        "outputId": "0f01935f-5c73-4a7c-91ca-5646d3a720cc"
      },
      "outputs": [
        {
          "name": "stdout",
          "output_type": "stream",
          "text": [
            "Examples :\n",
            ">> Much of personal computing is about \"can you top this?\"\n",
            ">> so a mention a few weeks ago about a rechargeable wireless optical mouse brought in another rechargeable, wireless mouse.\n",
            ">> Like all optical mice, But it also doesn't need a desk.\n",
            ">> uses gyroscopic sensors to control the cursor movement as you move your wrist, arm, whatever through the air.\n",
            ">> Intelligence officials have revealed a spate of foiled plots on ships in Southeast Asia and are warning that a narrow stretch of water carrying almost one third of the world's maritime trade is vulnerable to a terror attack.\n",
            ">> After learning of several foiled al Qaeda attempts on U.S. and commercial ships in the area, experts are warning that the terror network still wants to cripple the global economy, the world's economic jugular vein in Southeast Asia is at risk.\n",
            ">> Caffeine can help increase reaction time and improve performance for military servicemen who must perform complex tasks or who need help staying alert for longer periods of time, according to a new report by the National Academy of Sciences.\n",
            ">> \"Specifically, it can be used in maintaining speed of reactions and visual and auditory vigilance, which in military operations could be a life or death situation,\" according to the report.\n",
            ">> \"Something that will boost their capabilities at crucial moments is very important.\"\n",
            ">> Researchers are already exploring ways to put caffeine in nutrition bars or chewing gum as alternatives to coffee, Archibald said.\n"
          ]
        }
      ],
      "source": [
        "print(\"Examples :\")\n",
        "for sen in en_raw[0:10]: print(\">>\", sen)"
      ]
    },
    {
      "cell_type": "markdown",
      "metadata": {
        "id": "S_xI9V4dBJmw"
      },
      "source": [
        "## 1.1.1 데이터 중복, na 제거"
      ]
    },
    {
      "cell_type": "code",
      "execution_count": null,
      "metadata": {
        "colab": {
          "background_save": true,
          "base_uri": "https://localhost:8080/"
        },
        "id": "IHFUTptBWzSL",
        "outputId": "3a29fba4-282e-4d15-ff81-a4a197bb189c"
      },
      "outputs": [
        {
          "data": {
            "text/html": [
              "\n",
              "  <div id=\"df-6b18d5fa-b4c4-4660-ac6a-19753acf0f59\">\n",
              "    <div class=\"colab-df-container\">\n",
              "      <div>\n",
              "<style scoped>\n",
              "    .dataframe tbody tr th:only-of-type {\n",
              "        vertical-align: middle;\n",
              "    }\n",
              "\n",
              "    .dataframe tbody tr th {\n",
              "        vertical-align: top;\n",
              "    }\n",
              "\n",
              "    .dataframe thead th {\n",
              "        text-align: right;\n",
              "    }\n",
              "</style>\n",
              "<table border=\"1\" class=\"dataframe\">\n",
              "  <thead>\n",
              "    <tr style=\"text-align: right;\">\n",
              "      <th></th>\n",
              "      <th>ko</th>\n",
              "      <th>en</th>\n",
              "    </tr>\n",
              "  </thead>\n",
              "  <tbody>\n",
              "    <tr>\n",
              "      <th>0</th>\n",
              "      <td>개인용 컴퓨터 사용의 상당 부분은 \"이것보다 뛰어날 수 있느냐?\"</td>\n",
              "      <td>Much of personal computing is about \"can you t...</td>\n",
              "    </tr>\n",
              "    <tr>\n",
              "      <th>1</th>\n",
              "      <td>모든 광마우스와 마찬가지 로 이 광마우스도 책상 위에 놓는 마우스 패드를 필요로 하...</td>\n",
              "      <td>so a mention a few weeks ago about a rechargea...</td>\n",
              "    </tr>\n",
              "    <tr>\n",
              "      <th>2</th>\n",
              "      <td>그러나 이것은 또한 책상도 필요로 하지 않는다.</td>\n",
              "      <td>Like all optical mice, But it also doesn't nee...</td>\n",
              "    </tr>\n",
              "    <tr>\n",
              "      <th>3</th>\n",
              "      <td>79.95달러하는 이 최첨단 무선 광마우스는 허공에서 팔목, 팔, 그외에 어떤 부분...</td>\n",
              "      <td>uses gyroscopic sensors to control the cursor ...</td>\n",
              "    </tr>\n",
              "    <tr>\n",
              "      <th>4</th>\n",
              "      <td>정보 관리들은 동남 아시아에서의 선박들에 대한 많은 (테러) 계획들이 실패로 돌아갔...</td>\n",
              "      <td>Intelligence officials have revealed a spate o...</td>\n",
              "    </tr>\n",
              "    <tr>\n",
              "      <th>...</th>\n",
              "      <td>...</td>\n",
              "      <td>...</td>\n",
              "    </tr>\n",
              "    <tr>\n",
              "      <th>94118</th>\n",
              "      <td>“우리는 3월 8일 김승연 회장과 그의 아들이 보복폭행에 가담한 혐의를 찾기 위해 ...</td>\n",
              "      <td>””We are hoping to seize material evidence to ...</td>\n",
              "    </tr>\n",
              "    <tr>\n",
              "      <th>94119</th>\n",
              "      <td>월요일 술집 종업원 6명은 김회장과 아들에게 폭행을 당했음을 진술했다고 경찰은 말했다.</td>\n",
              "      <td>” On Monday, police secured statements from si...</td>\n",
              "    </tr>\n",
              "    <tr>\n",
              "      <th>94120</th>\n",
              "      <td>그러나 불충분한 증거 확보로 수사에 어려움이 있다.</td>\n",
              "      <td>But the lack of material evidence is making it...</td>\n",
              "    </tr>\n",
              "    <tr>\n",
              "      <th>94121</th>\n",
              "      <td>김회장과 그의 아들은 보복폭행 혐의를 강력히 부인하고 있다.</td>\n",
              "      <td>Kim and his son both deny the allegations.</td>\n",
              "    </tr>\n",
              "    <tr>\n",
              "      <th>94122</th>\n",
              "      <td>경찰은 김회장의 집무실에서 추가 증거를 찾은 이후 가능한 한 오늘 김회장과 아들을 ...</td>\n",
              "      <td>Police are planning to seek arrest warrants fo...</td>\n",
              "    </tr>\n",
              "  </tbody>\n",
              "</table>\n",
              "<p>94123 rows × 2 columns</p>\n",
              "</div>\n",
              "      <button class=\"colab-df-convert\" onclick=\"convertToInteractive('df-6b18d5fa-b4c4-4660-ac6a-19753acf0f59')\"\n",
              "              title=\"Convert this dataframe to an interactive table.\"\n",
              "              style=\"display:none;\">\n",
              "        \n",
              "  <svg xmlns=\"http://www.w3.org/2000/svg\" height=\"24px\"viewBox=\"0 0 24 24\"\n",
              "       width=\"24px\">\n",
              "    <path d=\"M0 0h24v24H0V0z\" fill=\"none\"/>\n",
              "    <path d=\"M18.56 5.44l.94 2.06.94-2.06 2.06-.94-2.06-.94-.94-2.06-.94 2.06-2.06.94zm-11 1L8.5 8.5l.94-2.06 2.06-.94-2.06-.94L8.5 2.5l-.94 2.06-2.06.94zm10 10l.94 2.06.94-2.06 2.06-.94-2.06-.94-.94-2.06-.94 2.06-2.06.94z\"/><path d=\"M17.41 7.96l-1.37-1.37c-.4-.4-.92-.59-1.43-.59-.52 0-1.04.2-1.43.59L10.3 9.45l-7.72 7.72c-.78.78-.78 2.05 0 2.83L4 21.41c.39.39.9.59 1.41.59.51 0 1.02-.2 1.41-.59l7.78-7.78 2.81-2.81c.8-.78.8-2.07 0-2.86zM5.41 20L4 18.59l7.72-7.72 1.47 1.35L5.41 20z\"/>\n",
              "  </svg>\n",
              "      </button>\n",
              "      \n",
              "  <style>\n",
              "    .colab-df-container {\n",
              "      display:flex;\n",
              "      flex-wrap:wrap;\n",
              "      gap: 12px;\n",
              "    }\n",
              "\n",
              "    .colab-df-convert {\n",
              "      background-color: #E8F0FE;\n",
              "      border: none;\n",
              "      border-radius: 50%;\n",
              "      cursor: pointer;\n",
              "      display: none;\n",
              "      fill: #1967D2;\n",
              "      height: 32px;\n",
              "      padding: 0 0 0 0;\n",
              "      width: 32px;\n",
              "    }\n",
              "\n",
              "    .colab-df-convert:hover {\n",
              "      background-color: #E2EBFA;\n",
              "      box-shadow: 0px 1px 2px rgba(60, 64, 67, 0.3), 0px 1px 3px 1px rgba(60, 64, 67, 0.15);\n",
              "      fill: #174EA6;\n",
              "    }\n",
              "\n",
              "    [theme=dark] .colab-df-convert {\n",
              "      background-color: #3B4455;\n",
              "      fill: #D2E3FC;\n",
              "    }\n",
              "\n",
              "    [theme=dark] .colab-df-convert:hover {\n",
              "      background-color: #434B5C;\n",
              "      box-shadow: 0px 1px 3px 1px rgba(0, 0, 0, 0.15);\n",
              "      filter: drop-shadow(0px 1px 2px rgba(0, 0, 0, 0.3));\n",
              "      fill: #FFFFFF;\n",
              "    }\n",
              "  </style>\n",
              "\n",
              "      <script>\n",
              "        const buttonEl =\n",
              "          document.querySelector('#df-6b18d5fa-b4c4-4660-ac6a-19753acf0f59 button.colab-df-convert');\n",
              "        buttonEl.style.display =\n",
              "          google.colab.kernel.accessAllowed ? 'block' : 'none';\n",
              "\n",
              "        async function convertToInteractive(key) {\n",
              "          const element = document.querySelector('#df-6b18d5fa-b4c4-4660-ac6a-19753acf0f59');\n",
              "          const dataTable =\n",
              "            await google.colab.kernel.invokeFunction('convertToInteractive',\n",
              "                                                     [key], {});\n",
              "          if (!dataTable) return;\n",
              "\n",
              "          const docLinkHtml = 'Like what you see? Visit the ' +\n",
              "            '<a target=\"_blank\" href=https://colab.research.google.com/notebooks/data_table.ipynb>data table notebook</a>'\n",
              "            + ' to learn more about interactive tables.';\n",
              "          element.innerHTML = '';\n",
              "          dataTable['output_type'] = 'display_data';\n",
              "          await google.colab.output.renderOutput(dataTable, element);\n",
              "          const docLink = document.createElement('div');\n",
              "          docLink.innerHTML = docLinkHtml;\n",
              "          element.appendChild(docLink);\n",
              "        }\n",
              "      </script>\n",
              "    </div>\n",
              "  </div>\n",
              "  "
            ],
            "text/plain": [
              "                                                      ko  \\\n",
              "0                   개인용 컴퓨터 사용의 상당 부분은 \"이것보다 뛰어날 수 있느냐?\"   \n",
              "1      모든 광마우스와 마찬가지 로 이 광마우스도 책상 위에 놓는 마우스 패드를 필요로 하...   \n",
              "2                             그러나 이것은 또한 책상도 필요로 하지 않는다.   \n",
              "3      79.95달러하는 이 최첨단 무선 광마우스는 허공에서 팔목, 팔, 그외에 어떤 부분...   \n",
              "4      정보 관리들은 동남 아시아에서의 선박들에 대한 많은 (테러) 계획들이 실패로 돌아갔...   \n",
              "...                                                  ...   \n",
              "94118  “우리는 3월 8일 김승연 회장과 그의 아들이 보복폭행에 가담한 혐의를 찾기 위해 ...   \n",
              "94119   월요일 술집 종업원 6명은 김회장과 아들에게 폭행을 당했음을 진술했다고 경찰은 말했다.   \n",
              "94120                       그러나 불충분한 증거 확보로 수사에 어려움이 있다.   \n",
              "94121                  김회장과 그의 아들은 보복폭행 혐의를 강력히 부인하고 있다.   \n",
              "94122  경찰은 김회장의 집무실에서 추가 증거를 찾은 이후 가능한 한 오늘 김회장과 아들을 ...   \n",
              "\n",
              "                                                      en  \n",
              "0      Much of personal computing is about \"can you t...  \n",
              "1      so a mention a few weeks ago about a rechargea...  \n",
              "2      Like all optical mice, But it also doesn't nee...  \n",
              "3      uses gyroscopic sensors to control the cursor ...  \n",
              "4      Intelligence officials have revealed a spate o...  \n",
              "...                                                  ...  \n",
              "94118  ””We are hoping to seize material evidence to ...  \n",
              "94119  ” On Monday, police secured statements from si...  \n",
              "94120  But the lack of material evidence is making it...  \n",
              "94121         Kim and his son both deny the allegations.  \n",
              "94122  Police are planning to seek arrest warrants fo...  \n",
              "\n",
              "[94123 rows x 2 columns]"
            ]
          },
          "execution_count": null,
          "metadata": {},
          "output_type": "execute_result"
        }
      ],
      "source": [
        "ko_list = []\n",
        "en_list = []\n",
        "for i in ko_raw:\n",
        "    ko_list.append(i)\n",
        "for i in en_raw:\n",
        "    en_list.append(i)\n",
        "ko_df = pd.DataFrame(ko_list, columns=['ko'])\n",
        "en_df = pd.DataFrame(en_list, columns=['en'])\n",
        "df = pd.concat([ko_df,en_df], axis = 1)\n",
        "df"
      ]
    },
    {
      "cell_type": "code",
      "execution_count": null,
      "metadata": {
        "colab": {
          "background_save": true,
          "base_uri": "https://localhost:8080/"
        },
        "id": "NAieY2X--XSS",
        "outputId": "16446544-e0a2-4a60-f4e8-e17d96a6f4ae"
      },
      "outputs": [
        {
          "name": "stdout",
          "output_type": "stream",
          "text": [
            "dic 갯수 : 94123\n",
            "정제 후 df 갯수 : 74849\n"
          ]
        }
      ],
      "source": [
        "print('dic 갯수 :', len(df))\n",
        "\n",
        "# 중복 제거\n",
        "df.drop_duplicates(subset=['ko'], inplace=True)\n",
        "df.drop_duplicates(subset=['en'], inplace=True)\n",
        "\n",
        "# Nan 결측치 제거\n",
        "cleaned_df = df.dropna(how='any')\n",
        "print('정제 후 df 갯수 :', len(cleaned_df))"
      ]
    },
    {
      "cell_type": "markdown",
      "metadata": {
        "id": "JWwGy9BbB9mx"
      },
      "source": [
        "## 1.1.2 preprocessing 함수 정의"
      ]
    },
    {
      "cell_type": "code",
      "execution_count": null,
      "metadata": {
        "colab": {
          "background_save": true
        },
        "id": "AP4ijUByBDgZ"
      },
      "outputs": [],
      "source": [
        "def en_preprocess_sentence(sentence, s_token=False, e_token=False):\n",
        "    sentence = sentence.lower().strip()\n",
        "\n",
        "    sentence = re.sub(r\"([?.!,])\", r\" \\1 \", sentence)\n",
        "    sentence = re.sub(r'[\" \"]+', \" \", sentence)\n",
        "    sentence = re.sub(r\"[^a-zA-Z?.!,]+\", \" \", sentence)\n",
        "\n",
        "    sentence = sentence.strip()\n",
        "\n",
        "    if s_token:\n",
        "        sentence = '<start> ' + sentence\n",
        "    \n",
        "    if e_token:\n",
        "        sentence += ' <end>'\n",
        "\n",
        "    return sentence"
      ]
    },
    {
      "cell_type": "code",
      "execution_count": null,
      "metadata": {
        "colab": {
          "background_save": true
        },
        "id": "x2G6rbRlBDeL"
      },
      "outputs": [],
      "source": [
        "def kor_preprocess_sentence(sentence, s_token=False, e_token=False):\n",
        "    sentence = sentence.strip()\n",
        "\n",
        "    sentence = re.sub(r\"([?.!,])\", r\" \\1 \", sentence)\n",
        "    sentence = re.sub(r'[\" \"]+', \" \", sentence)\n",
        "    sentence = re.sub(r\"[^가-힣?.!,]+\", \" \", sentence)\n",
        "\n",
        "    sentence = sentence.strip()\n",
        "\n",
        "    if s_token:\n",
        "        sentence = '<start> ' + sentence\n",
        "    \n",
        "    if e_token:\n",
        "        sentence += ' <end>'\n",
        "\n",
        "    return sentence"
      ]
    },
    {
      "cell_type": "markdown",
      "metadata": {
        "id": "SOPa8rfpKp5w"
      },
      "source": [
        "### 1.1.2.1 preprocessing & 토큰 수 40 이하 데이터 삭제\n",
        "- 토큰 수가 많은 ko 기준으로"
      ]
    },
    {
      "cell_type": "code",
      "execution_count": null,
      "metadata": {
        "colab": {
          "background_save": true
        },
        "id": "k_Ah_k2YynIK"
      },
      "outputs": [],
      "source": [
        "from konlpy.tag import Mecab\n",
        "mecab = Mecab()"
      ]
    },
    {
      "cell_type": "code",
      "execution_count": null,
      "metadata": {
        "colab": {
          "background_save": true
        },
        "id": "Bm8EyUE9BDWs"
      },
      "outputs": [],
      "source": [
        "df['ko'] = df['ko'].map(lambda x : kor_preprocess_sentence(x))\n",
        "df['en'] = df['en'].map(lambda x : en_preprocess_sentence(x, s_token=True, e_token=True)) "
      ]
    },
    {
      "cell_type": "code",
      "execution_count": null,
      "metadata": {
        "colab": {
          "background_save": true,
          "base_uri": "https://localhost:8080/"
        },
        "id": "J3zli1yuUC4Z",
        "outputId": "5c370cbe-d156-4309-dac4-dd146a634b83"
      },
      "outputs": [
        {
          "data": {
            "text/html": [
              "\n",
              "  <div id=\"df-e33ce9f7-cac6-4102-a409-323388abce8c\">\n",
              "    <div class=\"colab-df-container\">\n",
              "      <div>\n",
              "<style scoped>\n",
              "    .dataframe tbody tr th:only-of-type {\n",
              "        vertical-align: middle;\n",
              "    }\n",
              "\n",
              "    .dataframe tbody tr th {\n",
              "        vertical-align: top;\n",
              "    }\n",
              "\n",
              "    .dataframe thead th {\n",
              "        text-align: right;\n",
              "    }\n",
              "</style>\n",
              "<table border=\"1\" class=\"dataframe\">\n",
              "  <thead>\n",
              "    <tr style=\"text-align: right;\">\n",
              "      <th></th>\n",
              "      <th>ko</th>\n",
              "      <th>en</th>\n",
              "    </tr>\n",
              "  </thead>\n",
              "  <tbody>\n",
              "    <tr>\n",
              "      <th>0</th>\n",
              "      <td>개인용 컴퓨터 사용의 상당 부분은 이것보다 뛰어날 수 있느냐 ?</td>\n",
              "      <td>&lt;start&gt; much of personal computing is about ca...</td>\n",
              "    </tr>\n",
              "    <tr>\n",
              "      <th>1</th>\n",
              "      <td>모든 광마우스와 마찬가지 로 이 광마우스도 책상 위에 놓는 마우스 패드를 필요로 하...</td>\n",
              "      <td>&lt;start&gt; so a mention a few weeks ago about a r...</td>\n",
              "    </tr>\n",
              "    <tr>\n",
              "      <th>2</th>\n",
              "      <td>그러나 이것은 또한 책상도 필요로 하지 않는다 .</td>\n",
              "      <td>&lt;start&gt; like all optical mice , but it also do...</td>\n",
              "    </tr>\n",
              "    <tr>\n",
              "      <th>3</th>\n",
              "      <td>. 달러하는 이 최첨단 무선 광마우스는 허공에서 팔목 , 팔 , 그외에 어떤 부분이...</td>\n",
              "      <td>&lt;start&gt; uses gyroscopic sensors to control the...</td>\n",
              "    </tr>\n",
              "    <tr>\n",
              "      <th>4</th>\n",
              "      <td>정보 관리들은 동남 아시아에서의 선박들에 대한 많은 테러 계획들이 실패로 돌아갔음을...</td>\n",
              "      <td>&lt;start&gt; intelligence officials have revealed a...</td>\n",
              "    </tr>\n",
              "    <tr>\n",
              "      <th>...</th>\n",
              "      <td>...</td>\n",
              "      <td>...</td>\n",
              "    </tr>\n",
              "    <tr>\n",
              "      <th>94118</th>\n",
              "      <td>우리는 월 일 김승연 회장과 그의 아들이 보복폭행에 가담한 혐의를 찾기 위해 총력을...</td>\n",
              "      <td>&lt;start&gt; we are hoping to seize material eviden...</td>\n",
              "    </tr>\n",
              "    <tr>\n",
              "      <th>94119</th>\n",
              "      <td>월요일 술집 종업원 명은 김회장과 아들에게 폭행을 당했음을 진술했다고 경찰은 말했다 .</td>\n",
              "      <td>&lt;start&gt; on monday , police secured statements ...</td>\n",
              "    </tr>\n",
              "    <tr>\n",
              "      <th>94120</th>\n",
              "      <td>그러나 불충분한 증거 확보로 수사에 어려움이 있다 .</td>\n",
              "      <td>&lt;start&gt; but the lack of material evidence is m...</td>\n",
              "    </tr>\n",
              "    <tr>\n",
              "      <th>94121</th>\n",
              "      <td>김회장과 그의 아들은 보복폭행 혐의를 강력히 부인하고 있다 .</td>\n",
              "      <td>&lt;start&gt; kim and his son both deny the allegati...</td>\n",
              "    </tr>\n",
              "    <tr>\n",
              "      <th>94122</th>\n",
              "      <td>경찰은 김회장의 집무실에서 추가 증거를 찾은 이후 가능한 한 오늘 김회장과 아들을 ...</td>\n",
              "      <td>&lt;start&gt; police are planning to seek arrest war...</td>\n",
              "    </tr>\n",
              "  </tbody>\n",
              "</table>\n",
              "<p>74849 rows × 2 columns</p>\n",
              "</div>\n",
              "      <button class=\"colab-df-convert\" onclick=\"convertToInteractive('df-e33ce9f7-cac6-4102-a409-323388abce8c')\"\n",
              "              title=\"Convert this dataframe to an interactive table.\"\n",
              "              style=\"display:none;\">\n",
              "        \n",
              "  <svg xmlns=\"http://www.w3.org/2000/svg\" height=\"24px\"viewBox=\"0 0 24 24\"\n",
              "       width=\"24px\">\n",
              "    <path d=\"M0 0h24v24H0V0z\" fill=\"none\"/>\n",
              "    <path d=\"M18.56 5.44l.94 2.06.94-2.06 2.06-.94-2.06-.94-.94-2.06-.94 2.06-2.06.94zm-11 1L8.5 8.5l.94-2.06 2.06-.94-2.06-.94L8.5 2.5l-.94 2.06-2.06.94zm10 10l.94 2.06.94-2.06 2.06-.94-2.06-.94-.94-2.06-.94 2.06-2.06.94z\"/><path d=\"M17.41 7.96l-1.37-1.37c-.4-.4-.92-.59-1.43-.59-.52 0-1.04.2-1.43.59L10.3 9.45l-7.72 7.72c-.78.78-.78 2.05 0 2.83L4 21.41c.39.39.9.59 1.41.59.51 0 1.02-.2 1.41-.59l7.78-7.78 2.81-2.81c.8-.78.8-2.07 0-2.86zM5.41 20L4 18.59l7.72-7.72 1.47 1.35L5.41 20z\"/>\n",
              "  </svg>\n",
              "      </button>\n",
              "      \n",
              "  <style>\n",
              "    .colab-df-container {\n",
              "      display:flex;\n",
              "      flex-wrap:wrap;\n",
              "      gap: 12px;\n",
              "    }\n",
              "\n",
              "    .colab-df-convert {\n",
              "      background-color: #E8F0FE;\n",
              "      border: none;\n",
              "      border-radius: 50%;\n",
              "      cursor: pointer;\n",
              "      display: none;\n",
              "      fill: #1967D2;\n",
              "      height: 32px;\n",
              "      padding: 0 0 0 0;\n",
              "      width: 32px;\n",
              "    }\n",
              "\n",
              "    .colab-df-convert:hover {\n",
              "      background-color: #E2EBFA;\n",
              "      box-shadow: 0px 1px 2px rgba(60, 64, 67, 0.3), 0px 1px 3px 1px rgba(60, 64, 67, 0.15);\n",
              "      fill: #174EA6;\n",
              "    }\n",
              "\n",
              "    [theme=dark] .colab-df-convert {\n",
              "      background-color: #3B4455;\n",
              "      fill: #D2E3FC;\n",
              "    }\n",
              "\n",
              "    [theme=dark] .colab-df-convert:hover {\n",
              "      background-color: #434B5C;\n",
              "      box-shadow: 0px 1px 3px 1px rgba(0, 0, 0, 0.15);\n",
              "      filter: drop-shadow(0px 1px 2px rgba(0, 0, 0, 0.3));\n",
              "      fill: #FFFFFF;\n",
              "    }\n",
              "  </style>\n",
              "\n",
              "      <script>\n",
              "        const buttonEl =\n",
              "          document.querySelector('#df-e33ce9f7-cac6-4102-a409-323388abce8c button.colab-df-convert');\n",
              "        buttonEl.style.display =\n",
              "          google.colab.kernel.accessAllowed ? 'block' : 'none';\n",
              "\n",
              "        async function convertToInteractive(key) {\n",
              "          const element = document.querySelector('#df-e33ce9f7-cac6-4102-a409-323388abce8c');\n",
              "          const dataTable =\n",
              "            await google.colab.kernel.invokeFunction('convertToInteractive',\n",
              "                                                     [key], {});\n",
              "          if (!dataTable) return;\n",
              "\n",
              "          const docLinkHtml = 'Like what you see? Visit the ' +\n",
              "            '<a target=\"_blank\" href=https://colab.research.google.com/notebooks/data_table.ipynb>data table notebook</a>'\n",
              "            + ' to learn more about interactive tables.';\n",
              "          element.innerHTML = '';\n",
              "          dataTable['output_type'] = 'display_data';\n",
              "          await google.colab.output.renderOutput(dataTable, element);\n",
              "          const docLink = document.createElement('div');\n",
              "          docLink.innerHTML = docLinkHtml;\n",
              "          element.appendChild(docLink);\n",
              "        }\n",
              "      </script>\n",
              "    </div>\n",
              "  </div>\n",
              "  "
            ],
            "text/plain": [
              "                                                      ko  \\\n",
              "0                    개인용 컴퓨터 사용의 상당 부분은 이것보다 뛰어날 수 있느냐 ?   \n",
              "1      모든 광마우스와 마찬가지 로 이 광마우스도 책상 위에 놓는 마우스 패드를 필요로 하...   \n",
              "2                            그러나 이것은 또한 책상도 필요로 하지 않는다 .   \n",
              "3      . 달러하는 이 최첨단 무선 광마우스는 허공에서 팔목 , 팔 , 그외에 어떤 부분이...   \n",
              "4      정보 관리들은 동남 아시아에서의 선박들에 대한 많은 테러 계획들이 실패로 돌아갔음을...   \n",
              "...                                                  ...   \n",
              "94118  우리는 월 일 김승연 회장과 그의 아들이 보복폭행에 가담한 혐의를 찾기 위해 총력을...   \n",
              "94119   월요일 술집 종업원 명은 김회장과 아들에게 폭행을 당했음을 진술했다고 경찰은 말했다 .   \n",
              "94120                      그러나 불충분한 증거 확보로 수사에 어려움이 있다 .   \n",
              "94121                 김회장과 그의 아들은 보복폭행 혐의를 강력히 부인하고 있다 .   \n",
              "94122  경찰은 김회장의 집무실에서 추가 증거를 찾은 이후 가능한 한 오늘 김회장과 아들을 ...   \n",
              "\n",
              "                                                      en  \n",
              "0      <start> much of personal computing is about ca...  \n",
              "1      <start> so a mention a few weeks ago about a r...  \n",
              "2      <start> like all optical mice , but it also do...  \n",
              "3      <start> uses gyroscopic sensors to control the...  \n",
              "4      <start> intelligence officials have revealed a...  \n",
              "...                                                  ...  \n",
              "94118  <start> we are hoping to seize material eviden...  \n",
              "94119  <start> on monday , police secured statements ...  \n",
              "94120  <start> but the lack of material evidence is m...  \n",
              "94121  <start> kim and his son both deny the allegati...  \n",
              "94122  <start> police are planning to seek arrest war...  \n",
              "\n",
              "[74849 rows x 2 columns]"
            ]
          },
          "execution_count": null,
          "metadata": {},
          "output_type": "execute_result"
        }
      ],
      "source": [
        "df"
      ]
    },
    {
      "cell_type": "code",
      "execution_count": null,
      "metadata": {
        "colab": {
          "background_save": true
        },
        "id": "nSHreR7dxqfD"
      },
      "outputs": [],
      "source": [
        "df_1 = df.copy()\n",
        "df_1['ko'] = df_1['ko'].map(lambda x : mecab.morphs(x))"
      ]
    },
    {
      "cell_type": "code",
      "execution_count": null,
      "metadata": {
        "colab": {
          "background_save": true,
          "base_uri": "https://localhost:8080/"
        },
        "id": "AoiUidnQqoSS",
        "outputId": "fd135dfc-3634-474c-83f7-0f5835a21f38"
      },
      "outputs": [
        {
          "data": {
            "text/html": [
              "\n",
              "  <div id=\"df-1d36a30e-dbff-4da8-931e-bd05d9dd4e2d\">\n",
              "    <div class=\"colab-df-container\">\n",
              "      <div>\n",
              "<style scoped>\n",
              "    .dataframe tbody tr th:only-of-type {\n",
              "        vertical-align: middle;\n",
              "    }\n",
              "\n",
              "    .dataframe tbody tr th {\n",
              "        vertical-align: top;\n",
              "    }\n",
              "\n",
              "    .dataframe thead th {\n",
              "        text-align: right;\n",
              "    }\n",
              "</style>\n",
              "<table border=\"1\" class=\"dataframe\">\n",
              "  <thead>\n",
              "    <tr style=\"text-align: right;\">\n",
              "      <th></th>\n",
              "      <th>ko</th>\n",
              "      <th>en</th>\n",
              "    </tr>\n",
              "  </thead>\n",
              "  <tbody>\n",
              "    <tr>\n",
              "      <th>0</th>\n",
              "      <td>[개인, 용, 컴퓨터, 사용, 의, 상당, 부분, 은, 이것, 보다, 뛰어날, 수,...</td>\n",
              "      <td>&lt;start&gt; much of personal computing is about ca...</td>\n",
              "    </tr>\n",
              "    <tr>\n",
              "      <th>1</th>\n",
              "      <td>[모든, 광, 마우스, 와, 마찬가지, 로, 이, 광, 마우스, 도, 책상, 위, ...</td>\n",
              "      <td>&lt;start&gt; so a mention a few weeks ago about a r...</td>\n",
              "    </tr>\n",
              "    <tr>\n",
              "      <th>2</th>\n",
              "      <td>[그러나, 이것, 은, 또한, 책상, 도, 필요, 로, 하, 지, 않, 는다, .]</td>\n",
              "      <td>&lt;start&gt; like all optical mice , but it also do...</td>\n",
              "    </tr>\n",
              "    <tr>\n",
              "      <th>3</th>\n",
              "      <td>[., 달러, 하, 는, 이, 최첨단, 무선, 광, 마우스, 는, 허공, 에서, 팔...</td>\n",
              "      <td>&lt;start&gt; uses gyroscopic sensors to control the...</td>\n",
              "    </tr>\n",
              "    <tr>\n",
              "      <th>4</th>\n",
              "      <td>[정보, 관리, 들, 은, 동남, 아시아, 에서, 의, 선박, 들, 에, 대한, 많...</td>\n",
              "      <td>&lt;start&gt; intelligence officials have revealed a...</td>\n",
              "    </tr>\n",
              "    <tr>\n",
              "      <th>...</th>\n",
              "      <td>...</td>\n",
              "      <td>...</td>\n",
              "    </tr>\n",
              "    <tr>\n",
              "      <th>94118</th>\n",
              "      <td>[우리, 는, 월, 일, 김승연, 회장, 과, 그, 의, 아들, 이, 보복, 폭행,...</td>\n",
              "      <td>&lt;start&gt; we are hoping to seize material eviden...</td>\n",
              "    </tr>\n",
              "    <tr>\n",
              "      <th>94119</th>\n",
              "      <td>[월요일, 술집, 종업원, 명, 은, 김, 회장, 과, 아들, 에게, 폭행, 을, ...</td>\n",
              "      <td>&lt;start&gt; on monday , police secured statements ...</td>\n",
              "    </tr>\n",
              "    <tr>\n",
              "      <th>94120</th>\n",
              "      <td>[그러나, 불, 충분, 한, 증거, 확보, 로, 수사, 에, 어려움, 이, 있, 다...</td>\n",
              "      <td>&lt;start&gt; but the lack of material evidence is m...</td>\n",
              "    </tr>\n",
              "    <tr>\n",
              "      <th>94121</th>\n",
              "      <td>[김, 회장, 과, 그, 의, 아들, 은, 보복, 폭행, 혐의, 를, 강력히, 부인...</td>\n",
              "      <td>&lt;start&gt; kim and his son both deny the allegati...</td>\n",
              "    </tr>\n",
              "    <tr>\n",
              "      <th>94122</th>\n",
              "      <td>[경찰, 은, 김, 회장, 의, 집무실, 에서, 추가, 증거, 를, 찾, 은, 이후...</td>\n",
              "      <td>&lt;start&gt; police are planning to seek arrest war...</td>\n",
              "    </tr>\n",
              "  </tbody>\n",
              "</table>\n",
              "<p>74849 rows × 2 columns</p>\n",
              "</div>\n",
              "      <button class=\"colab-df-convert\" onclick=\"convertToInteractive('df-1d36a30e-dbff-4da8-931e-bd05d9dd4e2d')\"\n",
              "              title=\"Convert this dataframe to an interactive table.\"\n",
              "              style=\"display:none;\">\n",
              "        \n",
              "  <svg xmlns=\"http://www.w3.org/2000/svg\" height=\"24px\"viewBox=\"0 0 24 24\"\n",
              "       width=\"24px\">\n",
              "    <path d=\"M0 0h24v24H0V0z\" fill=\"none\"/>\n",
              "    <path d=\"M18.56 5.44l.94 2.06.94-2.06 2.06-.94-2.06-.94-.94-2.06-.94 2.06-2.06.94zm-11 1L8.5 8.5l.94-2.06 2.06-.94-2.06-.94L8.5 2.5l-.94 2.06-2.06.94zm10 10l.94 2.06.94-2.06 2.06-.94-2.06-.94-.94-2.06-.94 2.06-2.06.94z\"/><path d=\"M17.41 7.96l-1.37-1.37c-.4-.4-.92-.59-1.43-.59-.52 0-1.04.2-1.43.59L10.3 9.45l-7.72 7.72c-.78.78-.78 2.05 0 2.83L4 21.41c.39.39.9.59 1.41.59.51 0 1.02-.2 1.41-.59l7.78-7.78 2.81-2.81c.8-.78.8-2.07 0-2.86zM5.41 20L4 18.59l7.72-7.72 1.47 1.35L5.41 20z\"/>\n",
              "  </svg>\n",
              "      </button>\n",
              "      \n",
              "  <style>\n",
              "    .colab-df-container {\n",
              "      display:flex;\n",
              "      flex-wrap:wrap;\n",
              "      gap: 12px;\n",
              "    }\n",
              "\n",
              "    .colab-df-convert {\n",
              "      background-color: #E8F0FE;\n",
              "      border: none;\n",
              "      border-radius: 50%;\n",
              "      cursor: pointer;\n",
              "      display: none;\n",
              "      fill: #1967D2;\n",
              "      height: 32px;\n",
              "      padding: 0 0 0 0;\n",
              "      width: 32px;\n",
              "    }\n",
              "\n",
              "    .colab-df-convert:hover {\n",
              "      background-color: #E2EBFA;\n",
              "      box-shadow: 0px 1px 2px rgba(60, 64, 67, 0.3), 0px 1px 3px 1px rgba(60, 64, 67, 0.15);\n",
              "      fill: #174EA6;\n",
              "    }\n",
              "\n",
              "    [theme=dark] .colab-df-convert {\n",
              "      background-color: #3B4455;\n",
              "      fill: #D2E3FC;\n",
              "    }\n",
              "\n",
              "    [theme=dark] .colab-df-convert:hover {\n",
              "      background-color: #434B5C;\n",
              "      box-shadow: 0px 1px 3px 1px rgba(0, 0, 0, 0.15);\n",
              "      filter: drop-shadow(0px 1px 2px rgba(0, 0, 0, 0.3));\n",
              "      fill: #FFFFFF;\n",
              "    }\n",
              "  </style>\n",
              "\n",
              "      <script>\n",
              "        const buttonEl =\n",
              "          document.querySelector('#df-1d36a30e-dbff-4da8-931e-bd05d9dd4e2d button.colab-df-convert');\n",
              "        buttonEl.style.display =\n",
              "          google.colab.kernel.accessAllowed ? 'block' : 'none';\n",
              "\n",
              "        async function convertToInteractive(key) {\n",
              "          const element = document.querySelector('#df-1d36a30e-dbff-4da8-931e-bd05d9dd4e2d');\n",
              "          const dataTable =\n",
              "            await google.colab.kernel.invokeFunction('convertToInteractive',\n",
              "                                                     [key], {});\n",
              "          if (!dataTable) return;\n",
              "\n",
              "          const docLinkHtml = 'Like what you see? Visit the ' +\n",
              "            '<a target=\"_blank\" href=https://colab.research.google.com/notebooks/data_table.ipynb>data table notebook</a>'\n",
              "            + ' to learn more about interactive tables.';\n",
              "          element.innerHTML = '';\n",
              "          dataTable['output_type'] = 'display_data';\n",
              "          await google.colab.output.renderOutput(dataTable, element);\n",
              "          const docLink = document.createElement('div');\n",
              "          docLink.innerHTML = docLinkHtml;\n",
              "          element.appendChild(docLink);\n",
              "        }\n",
              "      </script>\n",
              "    </div>\n",
              "  </div>\n",
              "  "
            ],
            "text/plain": [
              "                                                      ko  \\\n",
              "0      [개인, 용, 컴퓨터, 사용, 의, 상당, 부분, 은, 이것, 보다, 뛰어날, 수,...   \n",
              "1      [모든, 광, 마우스, 와, 마찬가지, 로, 이, 광, 마우스, 도, 책상, 위, ...   \n",
              "2         [그러나, 이것, 은, 또한, 책상, 도, 필요, 로, 하, 지, 않, 는다, .]   \n",
              "3      [., 달러, 하, 는, 이, 최첨단, 무선, 광, 마우스, 는, 허공, 에서, 팔...   \n",
              "4      [정보, 관리, 들, 은, 동남, 아시아, 에서, 의, 선박, 들, 에, 대한, 많...   \n",
              "...                                                  ...   \n",
              "94118  [우리, 는, 월, 일, 김승연, 회장, 과, 그, 의, 아들, 이, 보복, 폭행,...   \n",
              "94119  [월요일, 술집, 종업원, 명, 은, 김, 회장, 과, 아들, 에게, 폭행, 을, ...   \n",
              "94120  [그러나, 불, 충분, 한, 증거, 확보, 로, 수사, 에, 어려움, 이, 있, 다...   \n",
              "94121  [김, 회장, 과, 그, 의, 아들, 은, 보복, 폭행, 혐의, 를, 강력히, 부인...   \n",
              "94122  [경찰, 은, 김, 회장, 의, 집무실, 에서, 추가, 증거, 를, 찾, 은, 이후...   \n",
              "\n",
              "                                                      en  \n",
              "0      <start> much of personal computing is about ca...  \n",
              "1      <start> so a mention a few weeks ago about a r...  \n",
              "2      <start> like all optical mice , but it also do...  \n",
              "3      <start> uses gyroscopic sensors to control the...  \n",
              "4      <start> intelligence officials have revealed a...  \n",
              "...                                                  ...  \n",
              "94118  <start> we are hoping to seize material eviden...  \n",
              "94119  <start> on monday , police secured statements ...  \n",
              "94120  <start> but the lack of material evidence is m...  \n",
              "94121  <start> kim and his son both deny the allegati...  \n",
              "94122  <start> police are planning to seek arrest war...  \n",
              "\n",
              "[74849 rows x 2 columns]"
            ]
          },
          "execution_count": null,
          "metadata": {},
          "output_type": "execute_result"
        }
      ],
      "source": [
        "df_1"
      ]
    },
    {
      "cell_type": "code",
      "execution_count": null,
      "metadata": {
        "colab": {
          "background_save": true
        },
        "id": "2LaGVeTrqqFD"
      },
      "outputs": [],
      "source": [
        "df_2 = df_1.copy()\n",
        "df_2['ko'] = df_2['ko'].map(lambda x : len(x))\n",
        "del_index = df_2[df_2['ko']>38].index"
      ]
    },
    {
      "cell_type": "code",
      "execution_count": null,
      "metadata": {
        "colab": {
          "background_save": true,
          "base_uri": "https://localhost:8080/"
        },
        "id": "axMhQGZKwf0L",
        "outputId": "ac04199f-3338-4649-a76e-72193af2111b"
      },
      "outputs": [
        {
          "data": {
            "text/html": [
              "\n",
              "  <div id=\"df-dcf172c5-a395-4dd0-80e1-c5e4c49afec6\">\n",
              "    <div class=\"colab-df-container\">\n",
              "      <div>\n",
              "<style scoped>\n",
              "    .dataframe tbody tr th:only-of-type {\n",
              "        vertical-align: middle;\n",
              "    }\n",
              "\n",
              "    .dataframe tbody tr th {\n",
              "        vertical-align: top;\n",
              "    }\n",
              "\n",
              "    .dataframe thead th {\n",
              "        text-align: right;\n",
              "    }\n",
              "</style>\n",
              "<table border=\"1\" class=\"dataframe\">\n",
              "  <thead>\n",
              "    <tr style=\"text-align: right;\">\n",
              "      <th></th>\n",
              "      <th>ko</th>\n",
              "      <th>en</th>\n",
              "    </tr>\n",
              "  </thead>\n",
              "  <tbody>\n",
              "    <tr>\n",
              "      <th>0</th>\n",
              "      <td>개인용 컴퓨터 사용의 상당 부분은 이것보다 뛰어날 수 있느냐 ?</td>\n",
              "      <td>&lt;start&gt; much of personal computing is about ca...</td>\n",
              "    </tr>\n",
              "    <tr>\n",
              "      <th>1</th>\n",
              "      <td>모든 광마우스와 마찬가지 로 이 광마우스도 책상 위에 놓는 마우스 패드를 필요로 하...</td>\n",
              "      <td>&lt;start&gt; so a mention a few weeks ago about a r...</td>\n",
              "    </tr>\n",
              "    <tr>\n",
              "      <th>2</th>\n",
              "      <td>그러나 이것은 또한 책상도 필요로 하지 않는다 .</td>\n",
              "      <td>&lt;start&gt; like all optical mice , but it also do...</td>\n",
              "    </tr>\n",
              "    <tr>\n",
              "      <th>8</th>\n",
              "      <td>결정적인 순간에 그들의 능력을 증가시켜 줄 그 무엇이 매우 중요합니다 .</td>\n",
              "      <td>&lt;start&gt; something that will boost their capabi...</td>\n",
              "    </tr>\n",
              "    <tr>\n",
              "      <th>9</th>\n",
              "      <td>연구가들이 이미 커피 대체품으로서 음식 대용 과자나 껌에 카페인을 첨가하는 방법을 ...</td>\n",
              "      <td>&lt;start&gt; researchers are already exploring ways...</td>\n",
              "    </tr>\n",
              "    <tr>\n",
              "      <th>...</th>\n",
              "      <td>...</td>\n",
              "      <td>...</td>\n",
              "    </tr>\n",
              "    <tr>\n",
              "      <th>94118</th>\n",
              "      <td>우리는 월 일 김승연 회장과 그의 아들이 보복폭행에 가담한 혐의를 찾기 위해 총력을...</td>\n",
              "      <td>&lt;start&gt; we are hoping to seize material eviden...</td>\n",
              "    </tr>\n",
              "    <tr>\n",
              "      <th>94119</th>\n",
              "      <td>월요일 술집 종업원 명은 김회장과 아들에게 폭행을 당했음을 진술했다고 경찰은 말했다 .</td>\n",
              "      <td>&lt;start&gt; on monday , police secured statements ...</td>\n",
              "    </tr>\n",
              "    <tr>\n",
              "      <th>94120</th>\n",
              "      <td>그러나 불충분한 증거 확보로 수사에 어려움이 있다 .</td>\n",
              "      <td>&lt;start&gt; but the lack of material evidence is m...</td>\n",
              "    </tr>\n",
              "    <tr>\n",
              "      <th>94121</th>\n",
              "      <td>김회장과 그의 아들은 보복폭행 혐의를 강력히 부인하고 있다 .</td>\n",
              "      <td>&lt;start&gt; kim and his son both deny the allegati...</td>\n",
              "    </tr>\n",
              "    <tr>\n",
              "      <th>94122</th>\n",
              "      <td>경찰은 김회장의 집무실에서 추가 증거를 찾은 이후 가능한 한 오늘 김회장과 아들을 ...</td>\n",
              "      <td>&lt;start&gt; police are planning to seek arrest war...</td>\n",
              "    </tr>\n",
              "  </tbody>\n",
              "</table>\n",
              "<p>60279 rows × 2 columns</p>\n",
              "</div>\n",
              "      <button class=\"colab-df-convert\" onclick=\"convertToInteractive('df-dcf172c5-a395-4dd0-80e1-c5e4c49afec6')\"\n",
              "              title=\"Convert this dataframe to an interactive table.\"\n",
              "              style=\"display:none;\">\n",
              "        \n",
              "  <svg xmlns=\"http://www.w3.org/2000/svg\" height=\"24px\"viewBox=\"0 0 24 24\"\n",
              "       width=\"24px\">\n",
              "    <path d=\"M0 0h24v24H0V0z\" fill=\"none\"/>\n",
              "    <path d=\"M18.56 5.44l.94 2.06.94-2.06 2.06-.94-2.06-.94-.94-2.06-.94 2.06-2.06.94zm-11 1L8.5 8.5l.94-2.06 2.06-.94-2.06-.94L8.5 2.5l-.94 2.06-2.06.94zm10 10l.94 2.06.94-2.06 2.06-.94-2.06-.94-.94-2.06-.94 2.06-2.06.94z\"/><path d=\"M17.41 7.96l-1.37-1.37c-.4-.4-.92-.59-1.43-.59-.52 0-1.04.2-1.43.59L10.3 9.45l-7.72 7.72c-.78.78-.78 2.05 0 2.83L4 21.41c.39.39.9.59 1.41.59.51 0 1.02-.2 1.41-.59l7.78-7.78 2.81-2.81c.8-.78.8-2.07 0-2.86zM5.41 20L4 18.59l7.72-7.72 1.47 1.35L5.41 20z\"/>\n",
              "  </svg>\n",
              "      </button>\n",
              "      \n",
              "  <style>\n",
              "    .colab-df-container {\n",
              "      display:flex;\n",
              "      flex-wrap:wrap;\n",
              "      gap: 12px;\n",
              "    }\n",
              "\n",
              "    .colab-df-convert {\n",
              "      background-color: #E8F0FE;\n",
              "      border: none;\n",
              "      border-radius: 50%;\n",
              "      cursor: pointer;\n",
              "      display: none;\n",
              "      fill: #1967D2;\n",
              "      height: 32px;\n",
              "      padding: 0 0 0 0;\n",
              "      width: 32px;\n",
              "    }\n",
              "\n",
              "    .colab-df-convert:hover {\n",
              "      background-color: #E2EBFA;\n",
              "      box-shadow: 0px 1px 2px rgba(60, 64, 67, 0.3), 0px 1px 3px 1px rgba(60, 64, 67, 0.15);\n",
              "      fill: #174EA6;\n",
              "    }\n",
              "\n",
              "    [theme=dark] .colab-df-convert {\n",
              "      background-color: #3B4455;\n",
              "      fill: #D2E3FC;\n",
              "    }\n",
              "\n",
              "    [theme=dark] .colab-df-convert:hover {\n",
              "      background-color: #434B5C;\n",
              "      box-shadow: 0px 1px 3px 1px rgba(0, 0, 0, 0.15);\n",
              "      filter: drop-shadow(0px 1px 2px rgba(0, 0, 0, 0.3));\n",
              "      fill: #FFFFFF;\n",
              "    }\n",
              "  </style>\n",
              "\n",
              "      <script>\n",
              "        const buttonEl =\n",
              "          document.querySelector('#df-dcf172c5-a395-4dd0-80e1-c5e4c49afec6 button.colab-df-convert');\n",
              "        buttonEl.style.display =\n",
              "          google.colab.kernel.accessAllowed ? 'block' : 'none';\n",
              "\n",
              "        async function convertToInteractive(key) {\n",
              "          const element = document.querySelector('#df-dcf172c5-a395-4dd0-80e1-c5e4c49afec6');\n",
              "          const dataTable =\n",
              "            await google.colab.kernel.invokeFunction('convertToInteractive',\n",
              "                                                     [key], {});\n",
              "          if (!dataTable) return;\n",
              "\n",
              "          const docLinkHtml = 'Like what you see? Visit the ' +\n",
              "            '<a target=\"_blank\" href=https://colab.research.google.com/notebooks/data_table.ipynb>data table notebook</a>'\n",
              "            + ' to learn more about interactive tables.';\n",
              "          element.innerHTML = '';\n",
              "          dataTable['output_type'] = 'display_data';\n",
              "          await google.colab.output.renderOutput(dataTable, element);\n",
              "          const docLink = document.createElement('div');\n",
              "          docLink.innerHTML = docLinkHtml;\n",
              "          element.appendChild(docLink);\n",
              "        }\n",
              "      </script>\n",
              "    </div>\n",
              "  </div>\n",
              "  "
            ],
            "text/plain": [
              "                                                      ko  \\\n",
              "0                    개인용 컴퓨터 사용의 상당 부분은 이것보다 뛰어날 수 있느냐 ?   \n",
              "1      모든 광마우스와 마찬가지 로 이 광마우스도 책상 위에 놓는 마우스 패드를 필요로 하...   \n",
              "2                            그러나 이것은 또한 책상도 필요로 하지 않는다 .   \n",
              "8               결정적인 순간에 그들의 능력을 증가시켜 줄 그 무엇이 매우 중요합니다 .   \n",
              "9      연구가들이 이미 커피 대체품으로서 음식 대용 과자나 껌에 카페인을 첨가하는 방법을 ...   \n",
              "...                                                  ...   \n",
              "94118  우리는 월 일 김승연 회장과 그의 아들이 보복폭행에 가담한 혐의를 찾기 위해 총력을...   \n",
              "94119   월요일 술집 종업원 명은 김회장과 아들에게 폭행을 당했음을 진술했다고 경찰은 말했다 .   \n",
              "94120                      그러나 불충분한 증거 확보로 수사에 어려움이 있다 .   \n",
              "94121                 김회장과 그의 아들은 보복폭행 혐의를 강력히 부인하고 있다 .   \n",
              "94122  경찰은 김회장의 집무실에서 추가 증거를 찾은 이후 가능한 한 오늘 김회장과 아들을 ...   \n",
              "\n",
              "                                                      en  \n",
              "0      <start> much of personal computing is about ca...  \n",
              "1      <start> so a mention a few weeks ago about a r...  \n",
              "2      <start> like all optical mice , but it also do...  \n",
              "8      <start> something that will boost their capabi...  \n",
              "9      <start> researchers are already exploring ways...  \n",
              "...                                                  ...  \n",
              "94118  <start> we are hoping to seize material eviden...  \n",
              "94119  <start> on monday , police secured statements ...  \n",
              "94120  <start> but the lack of material evidence is m...  \n",
              "94121  <start> kim and his son both deny the allegati...  \n",
              "94122  <start> police are planning to seek arrest war...  \n",
              "\n",
              "[60279 rows x 2 columns]"
            ]
          },
          "execution_count": null,
          "metadata": {},
          "output_type": "execute_result"
        }
      ],
      "source": [
        "df = df.drop(del_index, axis = 0)\n",
        "df"
      ]
    },
    {
      "cell_type": "markdown",
      "metadata": {
        "id": "TVZp5BWAVrKN"
      },
      "source": [
        "## 1.1.3 한글 tokenizer"
      ]
    },
    {
      "cell_type": "code",
      "execution_count": null,
      "metadata": {
        "colab": {
          "background_save": true
        },
        "id": "dDJSAX4qWiBN"
      },
      "outputs": [],
      "source": [
        "# 한글 학습용 코퍼스 txt파일 생성\n",
        "with open('ko_train.txt', 'w', encoding='utf8') as f:\n",
        "    f.write('\\n'.join(map(str,df['ko'])))"
      ]
    },
    {
      "cell_type": "code",
      "execution_count": null,
      "metadata": {
        "colab": {
          "background_save": true
        },
        "id": "ibpXowMhbQqi"
      },
      "outputs": [],
      "source": [
        "def tokenize(corpus): \n",
        "    tokenizer = Tokenizer(filters='') \n",
        "    tokenizer.fit_on_texts(corpus)\n",
        "\n",
        "    tensor = tokenizer.texts_to_sequences(corpus) # 텍스트 -> 시퀀스\n",
        "    tensor = pad_sequences(tensor, padding='post', maxlen = 40)\n",
        "\n",
        "    return tensor, tokenizer"
      ]
    },
    {
      "cell_type": "code",
      "execution_count": null,
      "metadata": {
        "colab": {
          "background_save": true
        },
        "id": "pu3hLNCpcMvK"
      },
      "outputs": [],
      "source": [
        "def mecab_split(sentence):\n",
        "    a = mecab.morphs(sentence)\n",
        "    a.insert(0, '<start> ')\n",
        "    a.append(' <end>')\n",
        "    return a\n",
        "\n",
        "mecab_corpus = []\n",
        "ko_data_txt = open('ko_train.txt', 'r')\n",
        "for kor in ko_data_txt:\n",
        "    mecab_corpus.append(mecab_split(kor)) # 텍스트\n",
        "ko_data_txt.close()"
      ]
    },
    {
      "cell_type": "code",
      "execution_count": null,
      "metadata": {
        "colab": {
          "background_save": true,
          "base_uri": "https://localhost:8080/"
        },
        "id": "-K2CRFUUY3gW",
        "outputId": "e4d4a573-4a10-4d4c-aa9d-2024459f9ccb"
      },
      "outputs": [
        {
          "name": "stdout",
          "output_type": "stream",
          "text": [
            "korean Vocab Size : 36952\n"
          ]
        }
      ],
      "source": [
        "ko_tensor, ko_tokenizer = tokenize(mecab_corpus)\n",
        "print(\"korean Vocab Size :\", len(ko_tokenizer.index_word))"
      ]
    },
    {
      "cell_type": "code",
      "execution_count": null,
      "metadata": {
        "colab": {
          "background_save": true,
          "base_uri": "https://localhost:8080/"
        },
        "id": "i--7uyVRS6CJ",
        "outputId": "8a47b165-30d1-49a5-9277-c39cb7893bc3"
      },
      "outputs": [
        {
          "data": {
            "text/plain": [
              "array([   2, 7991, 1244,    6,   64,   10, 1093,  120,   10, 1488, 3050,\n",
              "         13,   38,   66,  272,   15, 1285, 1929,   12,  136,   58, 1130,\n",
              "        804,  189,   27,  879, 1093, 6156,    8, 4385,  189,    5,    4,\n",
              "          1,    3,    0,    0,    0,    0,    0], dtype=int32)"
            ]
          },
          "execution_count": null,
          "metadata": {},
          "output_type": "execute_result"
        }
      ],
      "source": [
        "ko_tensor[5]"
      ]
    },
    {
      "cell_type": "code",
      "execution_count": null,
      "metadata": {
        "colab": {
          "background_save": true,
          "base_uri": "https://localhost:8080/"
        },
        "id": "wDspepsBTdOc",
        "outputId": "691182a2-8ac4-4d92-f527-6f68a3c99701"
      },
      "outputs": [
        {
          "data": {
            "application/vnd.google.colaboratory.intrinsic+json": {
              "type": "string"
            },
            "text/plain": [
              "'<start> '"
            ]
          },
          "execution_count": null,
          "metadata": {},
          "output_type": "execute_result"
        }
      ],
      "source": [
        "ko_tokenizer.index_word[2]"
      ]
    },
    {
      "cell_type": "markdown",
      "metadata": {
        "id": "eOoqcOXDcs_A"
      },
      "source": [
        "## 1.1.4 영문 tokenizer"
      ]
    },
    {
      "cell_type": "code",
      "execution_count": null,
      "metadata": {
        "colab": {
          "background_save": true
        },
        "id": "aT6gbJTbdi0Z"
      },
      "outputs": [],
      "source": [
        "# en 코퍼스 파일 생성\n",
        "with open('en_train.txt', 'w', encoding='utf8') as f:\n",
        "    f.write('\\n'.join(map(str,df['en'])))"
      ]
    },
    {
      "cell_type": "code",
      "execution_count": null,
      "metadata": {
        "colab": {
          "background_save": true
        },
        "id": "6zZfW6FZfsay"
      },
      "outputs": [],
      "source": [
        "en_train_txt = open('en_train.txt', 'r')\n",
        "enc_corpus = []\n",
        "for en in en_train_txt:\n",
        "    enc_corpus.append(en)\n",
        "en_tensor, en_tokenizer = tokenize(enc_corpus)"
      ]
    },
    {
      "cell_type": "code",
      "execution_count": null,
      "metadata": {
        "colab": {
          "background_save": true,
          "base_uri": "https://localhost:8080/"
        },
        "id": "fafz9ptnUtgd",
        "outputId": "2fe86b51-ee83-4d16-eb42-a98872b2fa19"
      },
      "outputs": [
        {
          "name": "stdout",
          "output_type": "stream",
          "text": [
            "English Vocab Size : 39049\n"
          ]
        }
      ],
      "source": [
        "print(\"English Vocab Size :\", len(en_tokenizer.index_word))"
      ]
    },
    {
      "cell_type": "code",
      "execution_count": null,
      "metadata": {
        "colab": {
          "background_save": true,
          "base_uri": "https://localhost:8080/"
        },
        "id": "boS8mtRpzO-f",
        "outputId": "6680620b-14a9-4c27-c4cd-8c61633ed06a"
      },
      "outputs": [
        {
          "name": "stdout",
          "output_type": "stream",
          "text": [
            "[[   2  701  618 ...    0    0    0]\n",
            " [   2  217 5233 ...    0    0    0]\n",
            " [   2   79  663 ...    0    0    0]\n",
            " ...\n",
            " [   2   79  355 ...    0    0    0]\n",
            " [   2  880  636 ...    0    0    0]\n",
            " [   2   71    9 ...    0    0    0]]\n"
          ]
        },
        {
          "data": {
            "text/plain": [
              "40"
            ]
          },
          "execution_count": null,
          "metadata": {},
          "output_type": "execute_result"
        }
      ],
      "source": [
        "print(ko_tensor)\n",
        "len(ko_tensor[1000])"
      ]
    },
    {
      "cell_type": "code",
      "execution_count": null,
      "metadata": {
        "colab": {
          "background_save": true,
          "base_uri": "https://localhost:8080/"
        },
        "id": "0c4fpB1BigY7",
        "outputId": "9c690be1-24f7-4ed4-de79-0feb4550cc1b"
      },
      "outputs": [
        {
          "name": "stdout",
          "output_type": "stream",
          "text": [
            "[[  4 272   7 ...   0   0   0]\n",
            " [  4 143   8 ...   0   0   0]\n",
            " [  4 163  78 ...   0   0   0]\n",
            " ...\n",
            " [  4  32   1 ...   0   0   0]\n",
            " [  4 297  10 ...   0   0   0]\n",
            " [  4  63  31 ...   0   0   0]]\n"
          ]
        },
        {
          "data": {
            "text/plain": [
              "40"
            ]
          },
          "execution_count": null,
          "metadata": {},
          "output_type": "execute_result"
        }
      ],
      "source": [
        "print(en_tensor)\n",
        "len(en_tensor[1000])"
      ]
    },
    {
      "cell_type": "code",
      "execution_count": null,
      "metadata": {
        "colab": {
          "background_save": true,
          "base_uri": "https://localhost:8080/"
        },
        "id": "JRB27UoYNR6b",
        "outputId": "6c334f0e-b4f7-4c7e-83e1-eb1f5466090d"
      },
      "outputs": [
        {
          "name": "stdout",
          "output_type": "stream",
          "text": [
            "60279\n",
            "60279\n"
          ]
        }
      ],
      "source": [
        "print(len(ko_tensor))\n",
        "print(len(en_tensor))"
      ]
    },
    {
      "cell_type": "markdown",
      "metadata": {
        "id": "vD1BDEpnLqas"
      },
      "source": [
        "## 1.1.5 훈련, 검증 데이터 분리"
      ]
    },
    {
      "cell_type": "code",
      "execution_count": null,
      "metadata": {
        "colab": {
          "background_save": true,
          "base_uri": "https://localhost:8080/"
        },
        "id": "jDdazHP4Pica",
        "outputId": "59fa965d-6f8e-4dd2-af64-1591f46c9733"
      },
      "outputs": [
        {
          "name": "stdout",
          "output_type": "stream",
          "text": [
            "Korean Vocab Size :  36952\n",
            "English Vocab Size :  39049\n"
          ]
        }
      ],
      "source": [
        "# 훈련 데이터와 검증 데이터로 분리하기 (80/20) ---> test_size = 0.2\n",
        "input_tensor_train, input_tensor_val, target_tensor_train, target_tensor_val = train_test_split(ko_tensor, en_tensor, test_size=0.2)\n",
        "\n",
        "print(\"Korean Vocab Size : \", len(ko_tokenizer.index_word))\n",
        "print(\"English Vocab Size : \", len(en_tokenizer.index_word))"
      ]
    },
    {
      "cell_type": "code",
      "execution_count": null,
      "metadata": {
        "colab": {
          "background_save": true,
          "base_uri": "https://localhost:8080/"
        },
        "id": "1cFeHrFNF22t",
        "outputId": "3ca013a1-bec5-468e-e83e-a08efe9ffa26"
      },
      "outputs": [
        {
          "data": {
            "text/plain": [
              "array([    2,   576,  1779,    18,     9,   576,   462, 28643,    15,\n",
              "        1125,  9241,    27,     5,   106,   476,     9,   517,   845,\n",
              "          26, 13965,  1029,     7,    13,     6,  1256,  5605,  1029,\n",
              "         320,     7,   604,    19,   476,     5,    36,    32,    11,\n",
              "           4,     1,     3,     0], dtype=int32)"
            ]
          },
          "execution_count": null,
          "metadata": {},
          "output_type": "execute_result"
        }
      ],
      "source": [
        "input_tensor_train[5]"
      ]
    },
    {
      "cell_type": "code",
      "execution_count": null,
      "metadata": {
        "colab": {
          "background_save": true,
          "base_uri": "https://localhost:8080/"
        },
        "id": "uSV5Xl54196j",
        "outputId": "8074e4ef-46a1-4d8c-83a4-312900c2ec3b"
      },
      "outputs": [
        {
          "data": {
            "text/plain": [
              "['<start>  이탈리아 수사관 들 은 이탈리아 북부 롬바르디아 가 본 거지 인 이 테러 조직 은 군사 훈련 과 이념 교육 을 하 는 장기 지하드 교육 프로그램 을 운영 한 조직 이 라고 말 했 다 .  <end>']"
            ]
          },
          "execution_count": null,
          "metadata": {},
          "output_type": "execute_result"
        }
      ],
      "source": [
        "ko_tokenizer.sequences_to_texts([input_tensor_train[5]])"
      ]
    },
    {
      "cell_type": "code",
      "execution_count": null,
      "metadata": {
        "colab": {
          "background_save": true,
          "base_uri": "https://localhost:8080/"
        },
        "id": "H9DXzKEWV9kq",
        "outputId": "5cae614f-b858-4c44-8143-caf25d042786"
      },
      "outputs": [
        {
          "data": {
            "text/plain": [
              "array([    4,     1,   444,   939,  1010,    17,   322,     9,     1,\n",
              "         414,  1125,   399,     7, 30005,    10,   672,   126,  1094,\n",
              "         145,     8,   206,   609, 14502,   304,    52,  1533,    96,\n",
              "          10, 13230,  1376,     2,     5,     0,     0,     0,     0,\n",
              "           0,     0,     0,     0], dtype=int32)"
            ]
          },
          "execution_count": null,
          "metadata": {},
          "output_type": "execute_result"
        }
      ],
      "source": [
        "target_tensor_train[5]"
      ]
    },
    {
      "cell_type": "code",
      "execution_count": null,
      "metadata": {
        "colab": {
          "background_save": true,
          "base_uri": "https://localhost:8080/"
        },
        "id": "udpAqAdQWJed",
        "outputId": "1f820464-66ff-43a8-abf0-72258baff1fc"
      },
      "outputs": [
        {
          "data": {
            "application/vnd.google.colaboratory.intrinsic+json": {
              "type": "string"
            },
            "text/plain": [
              "'<end>\\n'"
            ]
          },
          "execution_count": null,
          "metadata": {},
          "output_type": "execute_result"
        }
      ],
      "source": [
        "en_tokenizer.index_word[5]"
      ]
    },
    {
      "cell_type": "code",
      "execution_count": null,
      "metadata": {
        "colab": {
          "background_save": true,
          "base_uri": "https://localhost:8080/"
        },
        "id": "MjNlv9-wQkJI",
        "outputId": "23e414c3-ac4f-4df9-8ec3-958bb2f684d4"
      },
      "outputs": [
        {
          "data": {
            "text/plain": [
              "array([    4,     1,   444,   939,  1010,    17,   322,     9,     1,\n",
              "         414,  1125,   399,     7, 30005,    10,   672,   126,  1094,\n",
              "         145,     8,   206,   609, 14502,   304,    52,  1533,    96,\n",
              "          10, 13230,  1376,     2,     5,     0,     0,     0,     0,\n",
              "           0,     0,     0,     0], dtype=int32)"
            ]
          },
          "execution_count": null,
          "metadata": {},
          "output_type": "execute_result"
        }
      ],
      "source": [
        "target_tensor_train[5]"
      ]
    },
    {
      "cell_type": "code",
      "execution_count": null,
      "metadata": {
        "colab": {
          "background_save": true,
          "base_uri": "https://localhost:8080/"
        },
        "id": "wRPp9ipxud4s",
        "outputId": "5ed2fc77-b0a6-4436-d517-eae463ea0199"
      },
      "outputs": [
        {
          "data": {
            "text/plain": [
              "['<start> the main terrorist cell was based in the northern italian region of lombardy and involved what investigators called a long term jihadist program which provided military and ideological training . <end>\\n']"
            ]
          },
          "execution_count": null,
          "metadata": {},
          "output_type": "execute_result"
        }
      ],
      "source": [
        "en_tokenizer.sequences_to_texts([target_tensor_train[5]])"
      ]
    },
    {
      "cell_type": "markdown",
      "metadata": {
        "id": "CTcE9UBbKQOv"
      },
      "source": [
        "# 2.모델 설계"
      ]
    },
    {
      "cell_type": "code",
      "execution_count": null,
      "metadata": {
        "colab": {
          "background_save": true
        },
        "id": "TqHsArVZ3jFS"
      },
      "outputs": [],
      "source": [
        "BUFFER_SIZE = len(input_tensor_train)\n",
        "BATCH_SIZE = 64\n",
        "steps_per_epoch = len(input_tensor_train)//BATCH_SIZE\n",
        "embedding_dim = 256\n",
        "units = 1024\n",
        "vocab_inp_size = len(ko_tokenizer.word_index)+1\n",
        "vocab_tar_size = len(en_tokenizer.word_index)+1\n",
        "\n",
        "dataset = tf.data.Dataset.from_tensor_slices((input_tensor_train, target_tensor_train)).shuffle(BUFFER_SIZE)\n",
        "dataset = dataset.batch(BATCH_SIZE, drop_remainder=True)"
      ]
    },
    {
      "cell_type": "code",
      "execution_count": null,
      "metadata": {
        "colab": {
          "background_save": true
        },
        "id": "lbJ2mXS3DTy1"
      },
      "outputs": [],
      "source": [
        "test_dataset = tf.data.Dataset.from_tensor_slices((input_tensor_val, target_tensor_val)).shuffle(BUFFER_SIZE)\n",
        "test_dataset = test_dataset.batch(BATCH_SIZE, drop_remainder=True)"
      ]
    },
    {
      "cell_type": "code",
      "execution_count": null,
      "metadata": {
        "colab": {
          "background_save": true,
          "base_uri": "https://localhost:8080/"
        },
        "id": "qc6-NK1GtWQt",
        "outputId": "fd822cb4-d851-4e36-92a7-7a65ef60c39c"
      },
      "outputs": [
        {
          "data": {
            "text/plain": [
              "(TensorShape([64, 40]), TensorShape([64, 40]))"
            ]
          },
          "execution_count": null,
          "metadata": {},
          "output_type": "execute_result"
        }
      ],
      "source": [
        "example_input_batch, example_target_batch = next(iter(dataset))\n",
        "example_input_batch.shape, example_target_batch.shape"
      ]
    },
    {
      "cell_type": "markdown",
      "metadata": {
        "id": "Dh1pnGf1Py-X"
      },
      "source": [
        "![](https://aiffelstaticprd.blob.core.windows.net/media/images/GN-4-P-2.max-800x600.jpg)"
      ]
    },
    {
      "cell_type": "code",
      "execution_count": null,
      "metadata": {
        "colab": {
          "background_save": true
        },
        "id": "nZ2rI24i3jFg"
      },
      "outputs": [],
      "source": [
        "class Encoder(tf.keras.Model):\n",
        "  def __init__(self, vocab_size, embedding_dim, enc_units, batch_sz):\n",
        "    super(Encoder, self).__init__()\n",
        "    self.batch_sz = batch_sz\n",
        "    self.enc_units = enc_units\n",
        "    self.embedding = tf.keras.layers.Embedding(vocab_size, embedding_dim)\n",
        "    self.gru = tf.keras.layers.GRU(self.enc_units,\n",
        "                                   return_sequences=True,\n",
        "                                   return_state=True,\n",
        "                                   recurrent_initializer='glorot_uniform')\n",
        "\n",
        "  def call(self, x, hidden):\n",
        "    x = self.embedding(x)\n",
        "    output, state = self.gru(x, initial_state = hidden)\n",
        "    return output, state\n",
        "\n",
        "  def initialize_hidden_state(self):\n",
        "    return tf.zeros((self.batch_sz, self.enc_units))"
      ]
    },
    {
      "cell_type": "code",
      "execution_count": null,
      "metadata": {
        "colab": {
          "background_save": true,
          "base_uri": "https://localhost:8080/"
        },
        "id": "60gSVh05Jl6l",
        "outputId": "c0332849-80e8-4b4b-9c0e-ba23fcac2b29"
      },
      "outputs": [
        {
          "name": "stdout",
          "output_type": "stream",
          "text": [
            "Encoder output shape: (batch size, sequence length, units) (64, 40, 1024)\n",
            "Encoder Hidden state shape: (batch size, units) (64, 1024)\n"
          ]
        }
      ],
      "source": [
        "encoder = Encoder(vocab_inp_size, embedding_dim, units, BATCH_SIZE)\n",
        "\n",
        "# 샘플 입력\n",
        "sample_hidden = encoder.initialize_hidden_state()\n",
        "sample_output, sample_hidden = encoder(example_input_batch, sample_hidden)\n",
        "print ('Encoder output shape: (batch size, sequence length, units) {}'.format(sample_output.shape))\n",
        "print ('Encoder Hidden state shape: (batch size, units) {}'.format(sample_hidden.shape))"
      ]
    },
    {
      "cell_type": "code",
      "execution_count": null,
      "metadata": {
        "colab": {
          "background_save": true
        },
        "id": "umohpBN2OM94"
      },
      "outputs": [],
      "source": [
        "class BahdanauAttention(tf.keras.layers.Layer):\n",
        "  def __init__(self, units):\n",
        "    super(BahdanauAttention, self).__init__()\n",
        "    self.W1 = tf.keras.layers.Dense(units)\n",
        "    self.W2 = tf.keras.layers.Dense(units)\n",
        "    self.V = tf.keras.layers.Dense(1)\n",
        "\n",
        "  def call(self, query, values):\n",
        "    # 쿼리 은닉 상태(query hidden state)는 (batch_size, hidden size)쌍으로 이루어져 있습니다.\n",
        "    # query_with_time_axis은 (batch_size, 1, hidden size)쌍으로 이루어져 있습니다.\n",
        "    # values는 (batch_size, max_len, hidden size)쌍으로 이루어져 있습니다.\n",
        "    # 스코어(score)계산을 위해 덧셈을 수행하고자 시간 축을 확장하여 아래의 과정을 수행합니다.\n",
        "    query_with_time_axis = tf.expand_dims(query, 1)\n",
        "\n",
        "    # score는 (batch_size, max_length, 1)쌍으로 이루어져 있습니다.\n",
        "    # score를 self.V에 적용하기 때문에 마지막 축에 1을 얻습니다.\n",
        "    # self.V에 적용하기 전에 텐서는 (batch_size, max_length, units)쌍으로 이루어져 있습니다.\n",
        "    score = self.V(tf.nn.tanh(\n",
        "        self.W1(query_with_time_axis) + self.W2(values)))\n",
        "\n",
        "    # attention_weights는 (batch_size, max_length, 1)쌍으로 이루어져 있습니다. \n",
        "    attention_weights = tf.nn.softmax(score, axis=1)\n",
        "\n",
        "    # 덧셈이후 컨텍스트 벡터(context_vector)는 (batch_size, hidden_size)쌍으로 이루어져 있습니다.\n",
        "    context_vector = attention_weights * values\n",
        "    context_vector = tf.reduce_sum(context_vector, axis=1)\n",
        "\n",
        "    return context_vector, attention_weights"
      ]
    },
    {
      "cell_type": "code",
      "execution_count": null,
      "metadata": {
        "colab": {
          "background_save": true,
          "base_uri": "https://localhost:8080/"
        },
        "id": "k534zTHiDjQU",
        "outputId": "2f333b7b-25a1-494d-a008-5568d425da0b"
      },
      "outputs": [
        {
          "name": "stdout",
          "output_type": "stream",
          "text": [
            "Attention result shape: (batch size, units) (64, 1024)\n",
            "Attention weights shape: (batch_size, sequence_length, 1) (64, 40, 1)\n"
          ]
        }
      ],
      "source": [
        "attention_layer = BahdanauAttention(10)\n",
        "attention_result, attention_weights = attention_layer(sample_hidden, sample_output)\n",
        "\n",
        "print(\"Attention result shape: (batch size, units) {}\".format(attention_result.shape))\n",
        "print(\"Attention weights shape: (batch_size, sequence_length, 1) {}\".format(attention_weights.shape))"
      ]
    },
    {
      "cell_type": "code",
      "execution_count": null,
      "metadata": {
        "colab": {
          "background_save": true
        },
        "id": "yJ_B3mhW3jFk"
      },
      "outputs": [],
      "source": [
        "class Decoder(tf.keras.Model):\n",
        "  def __init__(self, vocab_size, embedding_dim, dec_units, batch_sz):\n",
        "    super(Decoder, self).__init__()\n",
        "    self.batch_sz = batch_sz\n",
        "    self.dec_units = dec_units\n",
        "    self.embedding = tf.keras.layers.Embedding(vocab_size, embedding_dim)\n",
        "    self.gru = tf.keras.layers.GRU(self.dec_units,\n",
        "                                   return_sequences=True,\n",
        "                                   return_state=True,\n",
        "                                   recurrent_initializer='glorot_uniform')\n",
        "    self.fc = tf.keras.layers.Dense(vocab_size)\n",
        "\n",
        "    # 어텐션을 사용합니다.\n",
        "    self.attention = BahdanauAttention(self.dec_units)\n",
        "\n",
        "  def call(self, x, hidden, enc_output):\n",
        "    # enc_output는 (batch_size, max_length, hidden_size)쌍으로 이루어져 있습니다.\n",
        "    context_vector, attention_weights = self.attention(hidden, enc_output)\n",
        "\n",
        "    # 임베딩층을 통과한 후 x는 (batch_size, 1, embedding_dim)쌍으로 이루어져 있습니다.\n",
        "    x = self.embedding(x)\n",
        "\n",
        "    # 컨텍스트 벡터와 임베딩 결과를 결합한 이후 x의 형태는 (batch_size, 1, embedding_dim + hidden_size)쌍으로 이루어져 있습니다.\n",
        "    x = tf.concat([tf.expand_dims(context_vector, 1), x], axis=-1)\n",
        "\n",
        "    # 위에서 결합된 벡터를 GRU에 전달합니다.\n",
        "    output, state = self.gru(x)\n",
        "\n",
        "    # output은 (batch_size * 1, hidden_size)쌍으로 이루어져 있습니다.\n",
        "    output = tf.reshape(output, (-1, output.shape[2]))\n",
        "\n",
        "    # output은 (batch_size, vocab)쌍으로 이루어져 있습니다.\n",
        "    x = self.fc(output)\n",
        "\n",
        "    return x, state, attention_weights"
      ]
    },
    {
      "cell_type": "code",
      "execution_count": null,
      "metadata": {
        "colab": {
          "background_save": true,
          "base_uri": "https://localhost:8080/"
        },
        "id": "P5UY8wko3jFp",
        "outputId": "f13e3310-d1f2-4f21-845c-a5199100c5a6"
      },
      "outputs": [
        {
          "name": "stdout",
          "output_type": "stream",
          "text": [
            "Decoder output shape: (batch_size, vocab size) (64, 39050)\n"
          ]
        }
      ],
      "source": [
        "decoder = Decoder(vocab_tar_size, embedding_dim, units, BATCH_SIZE)\n",
        "\n",
        "sample_decoder_output, _, _ = decoder(tf.random.uniform((BATCH_SIZE, 1)),\n",
        "                                      sample_hidden, sample_output)\n",
        "\n",
        "print ('Decoder output shape: (batch_size, vocab size) {}'.format(sample_decoder_output.shape))"
      ]
    },
    {
      "cell_type": "code",
      "execution_count": null,
      "metadata": {
        "colab": {
          "background_save": true
        },
        "id": "WmTHr5iV3jFr"
      },
      "outputs": [],
      "source": [
        "optimizer = tf.keras.optimizers.Adam()\n",
        "loss_object = tf.keras.losses.SparseCategoricalCrossentropy(\n",
        "    from_logits=True, reduction='none')\n",
        "\n",
        "def loss_function(real, pred):\n",
        "  mask = tf.math.logical_not(tf.math.equal(real, 0))\n",
        "  loss_ = loss_object(real, pred)\n",
        "\n",
        "  mask = tf.cast(mask, dtype=loss_.dtype)\n",
        "  loss_ *= mask\n",
        "\n",
        "  return tf.reduce_mean(loss_)"
      ]
    },
    {
      "cell_type": "code",
      "execution_count": null,
      "metadata": {
        "colab": {
          "background_save": true
        },
        "id": "Zj8bXQTgNwrF"
      },
      "outputs": [],
      "source": [
        "checkpoint_dir = './training_checkpoints'\n",
        "checkpoint_prefix = os.path.join(checkpoint_dir, \"ckpt\")\n",
        "checkpoint = tf.train.Checkpoint(optimizer=optimizer,\n",
        "                                 encoder=encoder,\n",
        "                                 decoder=decoder)"
      ]
    },
    {
      "cell_type": "code",
      "execution_count": null,
      "metadata": {
        "id": "sC9ArXSsVfqn"
      },
      "outputs": [],
      "source": [
        "@tf.function\n",
        "def train_step(inp, targ, enc_hidden):\n",
        "  loss = 0\n",
        "\n",
        "  with tf.GradientTape() as tape:\n",
        "    enc_output, enc_hidden = encoder(inp, enc_hidden)\n",
        "\n",
        "    dec_hidden = enc_hidden\n",
        "\n",
        "    dec_input = tf.expand_dims([en_tokenizer.word_index['<start>']] * BATCH_SIZE, 1)\n",
        "\n",
        "    # 교사 강요(teacher forcing) - 다음 입력으로 타겟을 피딩(feeding)합니다.\n",
        "    for t in range(1, targ.shape[1]):\n",
        "      # enc_output를 디코더에 전달합니다.\n",
        "      predictions, dec_hidden, _ = decoder(dec_input, dec_hidden, enc_output)\n",
        "\n",
        "      loss += loss_function(targ[:, t], predictions)\n",
        "\n",
        "      # 교사 강요(teacher forcing)를 사용합니다.\n",
        "      dec_input = tf.expand_dims(targ[:, t], 1)\n",
        "\n",
        "  batch_loss = (loss / int(targ.shape[1]))\n",
        "\n",
        "  variables = encoder.trainable_variables + decoder.trainable_variables\n",
        "\n",
        "  gradients = tape.gradient(loss, variables)\n",
        "\n",
        "  optimizer.apply_gradients(zip(gradients, variables))\n",
        "\n",
        "  return batch_loss"
      ]
    },
    {
      "cell_type": "code",
      "execution_count": null,
      "metadata": {
        "colab": {
          "base_uri": "https://localhost:8080/"
        },
        "id": "ddefjBMa3jF0",
        "outputId": "260bbc11-507e-4278-d24f-b6871e3b06ba"
      },
      "outputs": [
        {
          "name": "stdout",
          "output_type": "stream",
          "text": [
            "Epoch 1 Batch 0 Loss 6.2114\n",
            "Epoch 1 Batch 100 Loss 3.8011\n",
            "Epoch 1 Batch 200 Loss 3.3629\n",
            "Epoch 1 Batch 300 Loss 3.6000\n",
            "Epoch 1 Batch 400 Loss 3.3202\n",
            "Epoch 1 Batch 500 Loss 3.6192\n",
            "Epoch 1 Batch 600 Loss 3.2296\n",
            "Epoch 1 Batch 700 Loss 3.4878\n",
            "Epoch 1 Loss 3.7521\n",
            "Time taken for 1 epoch 342.1815962791443 sec\n",
            "\n",
            "Epoch 2 Batch 0 Loss 2.9684\n",
            "Epoch 2 Batch 100 Loss 3.1822\n",
            "Epoch 2 Batch 200 Loss 3.5107\n",
            "Epoch 2 Batch 300 Loss 3.3553\n",
            "Epoch 2 Batch 400 Loss 3.1868\n",
            "Epoch 2 Batch 500 Loss 3.5085\n",
            "Epoch 2 Batch 600 Loss 3.1045\n",
            "Epoch 2 Batch 700 Loss 3.1326\n",
            "Epoch 2 Loss 3.2653\n",
            "Time taken for 1 epoch 296.90341544151306 sec\n",
            "\n",
            "Epoch 3 Batch 0 Loss 3.1089\n",
            "Epoch 3 Batch 100 Loss 3.1480\n",
            "Epoch 3 Batch 200 Loss 3.2056\n",
            "Epoch 3 Batch 300 Loss 3.0188\n",
            "Epoch 3 Batch 400 Loss 2.7586\n",
            "Epoch 3 Batch 500 Loss 2.8923\n",
            "Epoch 3 Batch 600 Loss 2.9233\n",
            "Epoch 3 Batch 700 Loss 3.2022\n",
            "Epoch 3 Loss 2.9579\n",
            "Time taken for 1 epoch 293.37618017196655 sec\n",
            "\n",
            "Epoch 4 Batch 0 Loss 2.7579\n",
            "Epoch 4 Batch 100 Loss 2.7775\n",
            "Epoch 4 Batch 200 Loss 2.7116\n",
            "Epoch 4 Batch 300 Loss 2.7384\n",
            "Epoch 4 Batch 400 Loss 2.7963\n",
            "Epoch 4 Batch 500 Loss 2.6504\n",
            "Epoch 4 Batch 600 Loss 2.6333\n",
            "Epoch 4 Batch 700 Loss 2.7066\n",
            "Epoch 4 Loss 2.6865\n",
            "Time taken for 1 epoch 296.35808634757996 sec\n",
            "\n",
            "Epoch 5 Batch 0 Loss 2.4237\n",
            "Epoch 5 Batch 100 Loss 2.3874\n",
            "Epoch 5 Batch 200 Loss 2.4492\n",
            "Epoch 5 Batch 300 Loss 2.5930\n",
            "Epoch 5 Batch 400 Loss 2.4257\n",
            "Epoch 5 Batch 500 Loss 2.2632\n",
            "Epoch 5 Batch 600 Loss 2.9329\n",
            "Epoch 5 Batch 700 Loss 2.3636\n",
            "Epoch 5 Loss 2.4462\n",
            "Time taken for 1 epoch 293.2686629295349 sec\n",
            "\n",
            "Epoch 6 Batch 0 Loss 2.3439\n",
            "Epoch 6 Batch 100 Loss 2.1317\n",
            "Epoch 6 Batch 200 Loss 2.0991\n",
            "Epoch 6 Batch 300 Loss 2.0500\n",
            "Epoch 6 Batch 400 Loss 2.3666\n",
            "Epoch 6 Batch 500 Loss 2.3083\n",
            "Epoch 6 Batch 600 Loss 2.1904\n",
            "Epoch 6 Batch 700 Loss 2.2181\n",
            "Epoch 6 Loss 2.2201\n",
            "Time taken for 1 epoch 296.4311239719391 sec\n",
            "\n",
            "Epoch 7 Batch 0 Loss 1.9700\n",
            "Epoch 7 Batch 100 Loss 2.0791\n",
            "Epoch 7 Batch 200 Loss 1.9708\n",
            "Epoch 7 Batch 300 Loss 2.1581\n",
            "Epoch 7 Batch 400 Loss 1.8920\n",
            "Epoch 7 Batch 500 Loss 2.2046\n",
            "Epoch 7 Batch 600 Loss 2.2041\n",
            "Epoch 7 Batch 700 Loss 1.8850\n",
            "Epoch 7 Loss 2.0048\n",
            "Time taken for 1 epoch 293.27496457099915 sec\n",
            "\n",
            "Epoch 8 Batch 0 Loss 1.8334\n",
            "Epoch 8 Batch 100 Loss 1.8881\n",
            "Epoch 8 Batch 200 Loss 1.8810\n",
            "Epoch 8 Batch 300 Loss 1.7909\n",
            "Epoch 8 Batch 400 Loss 1.8339\n",
            "Epoch 8 Batch 500 Loss 1.7430\n",
            "Epoch 8 Batch 600 Loss 1.6894\n",
            "Epoch 8 Batch 700 Loss 1.8548\n",
            "Epoch 8 Loss 1.8034\n",
            "Time taken for 1 epoch 296.3398952484131 sec\n",
            "\n",
            "Epoch 9 Batch 0 Loss 1.3698\n",
            "Epoch 9 Batch 100 Loss 1.6680\n",
            "Epoch 9 Batch 200 Loss 1.7046\n",
            "Epoch 9 Batch 300 Loss 1.5717\n",
            "Epoch 9 Batch 400 Loss 1.7197\n",
            "Epoch 9 Batch 500 Loss 1.5214\n",
            "Epoch 9 Batch 600 Loss 1.7023\n",
            "Epoch 9 Batch 700 Loss 1.6700\n",
            "Epoch 9 Loss 1.6163\n",
            "Time taken for 1 epoch 293.1667845249176 sec\n",
            "\n",
            "Epoch 10 Batch 0 Loss 1.1974\n",
            "Epoch 10 Batch 100 Loss 1.5077\n",
            "Epoch 10 Batch 200 Loss 1.4397\n",
            "Epoch 10 Batch 300 Loss 1.4628\n",
            "Epoch 10 Batch 400 Loss 1.5160\n",
            "Epoch 10 Batch 500 Loss 1.4861\n",
            "Epoch 10 Batch 600 Loss 1.5023\n",
            "Epoch 10 Batch 700 Loss 1.5528\n",
            "Epoch 10 Loss 1.4452\n",
            "Time taken for 1 epoch 296.39120745658875 sec\n",
            "\n"
          ]
        }
      ],
      "source": [
        "EPOCHS = 10\n",
        "\n",
        "for epoch in range(EPOCHS):\n",
        "  start = time.time()\n",
        "\n",
        "  enc_hidden = encoder.initialize_hidden_state()\n",
        "  total_loss = 0\n",
        "\n",
        "  for (batch, (inp, targ)) in enumerate(dataset.take(steps_per_epoch)):\n",
        "    batch_loss = train_step(inp, targ, enc_hidden)\n",
        "    total_loss += batch_loss\n",
        "\n",
        "    if batch % 100 == 0:\n",
        "      print('Epoch {} Batch {} Loss {:.4f}'.format(epoch + 1,\n",
        "                                                   batch,\n",
        "                                                   batch_loss.numpy()))\n",
        "  # 에포크가 2번 실행될때마다 모델 저장 (체크포인트)\n",
        "  if (epoch + 1) % 2 == 0:\n",
        "    checkpoint.save(file_prefix = checkpoint_prefix)\n",
        "\n",
        "  print('Epoch {} Loss {:.4f}'.format(epoch + 1,\n",
        "                                      total_loss / steps_per_epoch))\n",
        "  print('Time taken for 1 epoch {} sec\\n'.format(time.time() - start))"
      ]
    },
    {
      "cell_type": "code",
      "execution_count": null,
      "metadata": {
        "id": "EbQpyYs13jF_"
      },
      "outputs": [],
      "source": [
        "def evaluate(sentence):\n",
        "  attention_plot = np.zeros((40, 40))\n",
        "\n",
        "  sentence = kor_preprocess_sentence(sentence)\n",
        "  inputs = mecab.morphs(sentence)\n",
        "  inputs.insert(0, '<start> ')\n",
        "  inputs.append(' <end>')\n",
        "  inputs = [ko_tokenizer.word_index[i] for i in inputs]\n",
        "  inputs = tf.keras.preprocessing.sequence.pad_sequences([inputs],\n",
        "                                                         maxlen=40,\n",
        "                                                         padding='post')\n",
        "  #inputs = tf.convert_to_tensor(inputs)\n",
        "\n",
        "  result = ''\n",
        "\n",
        "  hidden = [tf.zeros((1, units))]\n",
        "  enc_out, enc_hidden = encoder(inputs, hidden)\n",
        "\n",
        "  dec_hidden = enc_hidden\n",
        "  dec_input = tf.expand_dims([en_tokenizer.word_index['<start>']], 0)\n",
        "\n",
        "  for t in range(40):\n",
        "    predictions, dec_hidden, attention_weights = decoder(dec_input,\n",
        "                                                         dec_hidden,\n",
        "                                                         enc_out)\n",
        "\n",
        "    # 나중에 어텐션 가중치를 시각화하기 위해 어텐션 가중치를 저장합니다.\n",
        "    attention_weights = tf.reshape(attention_weights, (-1, ))\n",
        "    attention_plot[t] = attention_weights.numpy()\n",
        "\n",
        "    predicted_id = tf.argmax(predictions[0]).numpy()\n",
        "\n",
        "    result += en_tokenizer.index_word[predicted_id] + ' '\n",
        "\n",
        "    if en_tokenizer.index_word[predicted_id] == '<end>\\n':\n",
        "      return result, sentence, attention_plot\n",
        "\n",
        "    # 예측된 ID를 모델에 다시 피드합니다.\n",
        "    dec_input = tf.expand_dims([predicted_id], 0)\n",
        "\n",
        "  return result, sentence, attention_plot"
      ]
    },
    {
      "cell_type": "code",
      "execution_count": null,
      "metadata": {
        "id": "s5hQWlbN3jGF"
      },
      "outputs": [],
      "source": [
        "# 어텐션 가중치를 그리기 위한 함수입니다.\n",
        "plt.rc('font', family='NanumBarunGothic')\n",
        "\n",
        "def plot_attention(attention, sentence, predicted_sentence):\n",
        "  fig = plt.figure(figsize=(10,10))\n",
        "  ax = fig.add_subplot(1, 1, 1)\n",
        "  ax.matshow(attention, cmap='viridis')\n",
        "\n",
        "\n",
        "\n",
        "  fontdict = {'fontsize': 14}\n",
        "\n",
        "  sentence = kor_preprocess_sentence(sentence)\n",
        "  sentence = mecab.morphs(sentence)\n",
        "  sentence.insert(0, '<start> ')\n",
        "  sentence.append(' <end>')\n",
        "\n",
        "  ax.set_xticklabels([''] + sentence, rotation=90)\n",
        "  ax.set_yticklabels([''] + predicted_sentence)\n",
        "\n",
        "  ax.xaxis.set_major_locator(ticker.MultipleLocator(1))\n",
        "  ax.yaxis.set_major_locator(ticker.MultipleLocator(1))\n",
        "\n",
        "  plt.show()"
      ]
    },
    {
      "cell_type": "code",
      "execution_count": null,
      "metadata": {
        "id": "sl9zUHzg3jGI"
      },
      "outputs": [],
      "source": [
        "def translate(sentence):\n",
        "  result, sentence, attention_plot = evaluate(sentence)\n",
        "\n",
        "  print('Input: %s' % (sentence))\n",
        "  print('Predicted translation: {}'.format(result))\n",
        "\n",
        "  attention_plot = attention_plot[:len(result.split(' ')), :len(mecab.morphs(sentence))+2]\n",
        "  plot_attention(attention_plot, sentence, result.split(' '))"
      ]
    },
    {
      "cell_type": "code",
      "execution_count": null,
      "metadata": {
        "colab": {
          "base_uri": "https://localhost:8080/",
          "height": 586
        },
        "id": "l9XZQnNZjbOu",
        "outputId": "3b27c73f-f640-40cc-ab8b-f648fb942482"
      },
      "outputs": [
        {
          "name": "stdout",
          "output_type": "stream",
          "text": [
            "Input: 도대체 어째서 이런 일이 발생한 것일까\n",
            "Predicted translation: the trial may have been repeated . <end>\n",
            " \n"
          ]
        },
        {
          "data": {
            "image/png": "[encoded data removed]",
            "text/plain": [
              "<Figure size 720x720 with 1 Axes>"
            ]
          },
          "metadata": {},
          "output_type": "display_data"
        }
      ],
      "source": [
        "translate('도대체 어째서 이런 일이 발생한 것일까')"
      ]
    },
    {
      "cell_type": "code",
      "execution_count": null,
      "metadata": {
        "colab": {
          "base_uri": "https://localhost:8080/",
          "height": 601
        },
        "id": "r5pzcay16Ct2",
        "outputId": "1b4853c6-69b1-4a83-c0c2-60ee55225dda"
      },
      "outputs": [
        {
          "name": "stdout",
          "output_type": "stream",
          "text": [
            "Input: 북한은 핵실험을 강행할 것으로 예측된다 .\n",
            "Predicted translation: north korea is prepared to resume international pressure . <end>\n",
            " \n"
          ]
        },
        {
          "data": {
            "image/png": "[encoded data removed]",
            "text/plain": [
              "<Figure size 720x720 with 1 Axes>"
            ]
          },
          "metadata": {},
          "output_type": "display_data"
        }
      ],
      "source": [
        "translate('북한은 핵실험을 강행할 것으로 예측된다.')"
      ]
    },
    {
      "cell_type": "code",
      "execution_count": null,
      "metadata": {
        "colab": {
          "base_uri": "https://localhost:8080/",
          "height": 642
        },
        "id": "87-Gzrj08G8S",
        "outputId": "d1df9985-896e-430c-b8d8-8588c4408875"
      },
      "outputs": [
        {
          "name": "stdout",
          "output_type": "stream",
          "text": [
            "Input: 현대자동차가 전기차를 개발 중이다\n",
            "Predicted translation: the company has a new era in the company <end>\n",
            " \n"
          ]
        },
        {
          "data": {
            "image/png": "[encoded data removed]",
            "text/plain": [
              "<Figure size 720x720 with 1 Axes>"
            ]
          },
          "metadata": {},
          "output_type": "display_data"
        }
      ],
      "source": [
        "translate('현대자동차가 전기차를 개발 중이다')"
      ]
    },
    {
      "cell_type": "code",
      "execution_count": null,
      "metadata": {
        "colab": {
          "base_uri": "https://localhost:8080/",
          "height": 657
        },
        "id": "el6f8L5U6IkD",
        "outputId": "91ebc99a-d0e3-41e2-bce4-ca5658f6fff9"
      },
      "outputs": [
        {
          "name": "stdout",
          "output_type": "stream",
          "text": [
            "Input: 내일은 집중호우가 내릴 예정이다\n",
            "Predicted translation: the new entity is expected to be prepared to be prepared to be prepared to be prepared to be prepared to be prepared to be prepared to be prepared to be prepared to be prepared to be prepared to be \n"
          ]
        },
        {
          "data": {
            "image/png": "[encoded data removed]",
            "text/plain": [
              "<Figure size 720x720 with 1 Axes>"
            ]
          },
          "metadata": {},
          "output_type": "display_data"
        }
      ],
      "source": [
        "translate('내일은 집중호우가 내릴 예정이다')"
      ]
    },
    {
      "cell_type": "code",
      "execution_count": null,
      "metadata": {
        "colab": {
          "base_uri": "https://localhost:8080/",
          "height": 673
        },
        "id": "kDeR26mM6VJi",
        "outputId": "a46611b7-4781-4b1e-d15f-0185c27be667"
      },
      "outputs": [
        {
          "name": "stdout",
          "output_type": "stream",
          "text": [
            "Input: 이게 무슨 일인가 ?\n",
            "Predicted translation: what s a good thing ? <end>\n",
            " \n"
          ]
        },
        {
          "data": {
            "image/png": "[encoded data removed]",
            "text/plain": [
              "<Figure size 720x720 with 1 Axes>"
            ]
          },
          "metadata": {},
          "output_type": "display_data"
        }
      ],
      "source": [
        "translate('이게 무슨 일인가?')"
      ]
    },
    {
      "cell_type": "code",
      "execution_count": null,
      "metadata": {
        "colab": {
          "base_uri": "https://localhost:8080/",
          "height": 673
        },
        "id": "4lwX3Wx_6q5d",
        "outputId": "edba02d3-d6da-47d6-dabb-cd0388030db0"
      },
      "outputs": [
        {
          "name": "stdout",
          "output_type": "stream",
          "text": [
            "Input: 올림픽이 곧 개최된다\n",
            "Predicted translation: the shanghai campaign has been chosen for the olympics . <end>\n",
            " \n"
          ]
        },
        {
          "data": {
            "image/png": "[encoded data removed]",
            "text/plain": [
              "<Figure size 720x720 with 1 Axes>"
            ]
          },
          "metadata": {},
          "output_type": "display_data"
        }
      ],
      "source": [
        "translate('올림픽이 곧 개최된다')"
      ]
    },
    {
      "cell_type": "code",
      "execution_count": null,
      "metadata": {
        "colab": {
          "base_uri": "https://localhost:8080/",
          "height": 673
        },
        "id": "Et0PF8Jn7ROA",
        "outputId": "24288fd3-fc91-49db-fb93-25d1f8cf167e"
      },
      "outputs": [
        {
          "name": "stdout",
          "output_type": "stream",
          "text": [
            "Input: 미국 대통령 선거가 끝났다\n",
            "Predicted translation: the presidential election draws the two leaders of the two leaders of the two leaders of the election campaign has been voting . <end>\n",
            " \n"
          ]
        },
        {
          "data": {
            "image/png": "[encoded data removed]",
            "text/plain": [
              "<Figure size 720x720 with 1 Axes>"
            ]
          },
          "metadata": {},
          "output_type": "display_data"
        }
      ],
      "source": [
        "translate('미국 대통령 선거가 끝났다')"
      ]
    },
    {
      "cell_type": "markdown",
      "metadata": {
        "id": "aXmF4bTrMC3L"
      },
      "source": [
        "# 3.과적합 확인"
      ]
    },
    {
      "cell_type": "code",
      "execution_count": null,
      "metadata": {
        "colab": {
          "background_save": true
        },
        "id": "gMgCblPcCnJ_"
      },
      "outputs": [],
      "source": [
        "@tf.function\n",
        "def test_step(inp, targ, enc_hidden):\n",
        "  loss = 0\n",
        "\n",
        "  with tf.GradientTape() as tape:\n",
        "    enc_output, enc_hidden = encoder(inp, enc_hidden)\n",
        "\n",
        "    dec_hidden = enc_hidden\n",
        "\n",
        "    dec_input = tf.expand_dims([en_tokenizer.word_index['<start>']] * BATCH_SIZE, 1)\n",
        "\n",
        "    # 교사 강요(teacher forcing) - 다음 입력으로 타겟을 피딩(feeding)합니다.\n",
        "    for t in range(1, targ.shape[1]):\n",
        "      # enc_output를 디코더에 전달합니다.\n",
        "      predictions, dec_hidden, _ = decoder(dec_input, dec_hidden, enc_output)\n",
        "\n",
        "      loss += loss_function(targ[:, t], predictions)\n",
        "\n",
        "      # 교사 강요(teacher forcing)를 사용합니다.\n",
        "      dec_input = tf.expand_dims(targ[:, t], 1)\n",
        "\n",
        "  batch_loss = (loss / int(targ.shape[1]))\n",
        "\n",
        "  variables = encoder.trainable_variables + decoder.trainable_variables\n",
        "\n",
        "  gradients = tape.gradient(loss, variables)\n",
        "\n",
        "  optimizer.apply_gradients(zip(gradients, variables))\n",
        "\n",
        "  return batch_loss"
      ]
    },
    {
      "cell_type": "code",
      "execution_count": null,
      "metadata": {
        "colab": {
          "background_save": true,
          "base_uri": "https://localhost:8080/"
        },
        "id": "hUJBSzR_C0ZG",
        "outputId": "906b4988-c0a0-4516-b8fc-8d880ee6bc01"
      },
      "outputs": [
        {
          "name": "stdout",
          "output_type": "stream",
          "text": [
            "Epoch 1 Batch 0 Loss 6.3725\n",
            "Epoch 1 Batch 100 Loss 3.8239\n",
            "Epoch 1 Loss 1.0192\n",
            "Time taken for 1 epoch 146.09712147712708 sec\n",
            "\n",
            "Epoch 2 Batch 0 Loss 3.9018\n",
            "Epoch 2 Batch 100 Loss 3.8290\n",
            "Epoch 2 Loss 0.9194\n",
            "Time taken for 1 epoch 77.17036414146423 sec\n",
            "\n",
            "Epoch 3 Batch 0 Loss 3.4626\n",
            "Epoch 3 Batch 100 Loss 3.8276\n",
            "Epoch 3 Loss 0.8785\n",
            "Time taken for 1 epoch 73.59541893005371 sec\n",
            "\n",
            "Epoch 4 Batch 0 Loss 3.2496\n",
            "Epoch 4 Batch 100 Loss 3.5098\n",
            "Epoch 4 Loss 0.8418\n",
            "Time taken for 1 epoch 76.6546893119812 sec\n",
            "\n",
            "Epoch 5 Batch 0 Loss 3.2518\n",
            "Epoch 5 Batch 100 Loss 3.4032\n",
            "Epoch 5 Loss 0.8055\n",
            "Time taken for 1 epoch 73.54921269416809 sec\n",
            "\n",
            "Epoch 6 Batch 0 Loss 3.0041\n",
            "Epoch 6 Batch 100 Loss 3.1627\n",
            "Epoch 6 Loss 0.7728\n",
            "Time taken for 1 epoch 76.60919880867004 sec\n",
            "\n",
            "Epoch 7 Batch 0 Loss 3.0003\n",
            "Epoch 7 Batch 100 Loss 2.8653\n",
            "Epoch 7 Loss 0.7432\n",
            "Time taken for 1 epoch 73.54404044151306 sec\n",
            "\n",
            "Epoch 8 Batch 0 Loss 2.7265\n",
            "Epoch 8 Batch 100 Loss 2.8450\n",
            "Epoch 8 Loss 0.7162\n",
            "Time taken for 1 epoch 76.66972851753235 sec\n",
            "\n",
            "Epoch 9 Batch 0 Loss 2.6158\n",
            "Epoch 9 Batch 100 Loss 2.9374\n",
            "Epoch 9 Loss 0.6903\n",
            "Time taken for 1 epoch 73.49532723426819 sec\n",
            "\n",
            "Epoch 10 Batch 0 Loss 2.6903\n",
            "Epoch 10 Batch 100 Loss 2.5562\n",
            "Epoch 10 Loss 0.6656\n",
            "Time taken for 1 epoch 76.53655457496643 sec\n",
            "\n"
          ]
        }
      ],
      "source": [
        "EPOCHS = 10\n",
        "\n",
        "for epoch in range(EPOCHS):\n",
        "  start = time.time()\n",
        "\n",
        "  enc_hidden = encoder.initialize_hidden_state()\n",
        "  total_loss = 0\n",
        "\n",
        "  for (batch, (inp, targ)) in enumerate(test_dataset.take(steps_per_epoch)):\n",
        "    batch_loss = test_step(inp, targ, enc_hidden)\n",
        "    total_loss += batch_loss\n",
        "\n",
        "    if batch % 100 == 0:\n",
        "      print('Epoch {} Batch {} Loss {:.4f}'.format(epoch + 1,\n",
        "                                                   batch,\n",
        "                                                   batch_loss.numpy()))\n",
        "  # 에포크가 2번 실행될때마다 모델 저장 (체크포인트)\n",
        "  if (epoch + 1) % 2 == 0:\n",
        "    checkpoint.save(file_prefix = checkpoint_prefix)\n",
        "\n",
        "  print('Epoch {} Loss {:.4f}'.format(epoch + 1,\n",
        "                                      total_loss / steps_per_epoch))\n",
        "  print('Time taken for 1 epoch {} sec\\n'.format(time.time() - start))"
      ]
    }
  ],
  "metadata": {
    "accelerator": "GPU",
    "colab": {
      "collapsed_sections": [],
      "name": "5조_민재식_김민규_no_SentencePiece.ipynb",
      "provenance": [],
      "include_colab_link": true
    },
    "kernelspec": {
      "display_name": "Python 3",
      "name": "python3"
    },
    "language_info": {
      "name": "python"
    }
  },
  "nbformat": 4,
  "nbformat_minor": 0
}