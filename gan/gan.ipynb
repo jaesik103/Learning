{
  "nbformat": 4,
  "nbformat_minor": 0,
  "metadata": {
    "colab": {
      "private_outputs": true,
      "provenance": [],
      "authorship_tag": "ABX9TyNnjx9FMSr9S62jksZTaxqg",
      "include_colab_link": true
    },
    "kernelspec": {
      "name": "python3",
      "display_name": "Python 3"
    },
    "language_info": {
      "name": "python"
    }
  },
  "cells": [
    {
      "cell_type": "markdown",
      "metadata": {
        "id": "view-in-github",
        "colab_type": "text"
      },
      "source": [
        "<a href=\"https://colab.research.google.com/github/jaesik103/Learning/blob/main/gan/gan.ipynb\" target=\"_parent\"><img src=\"https://colab.research.google.com/assets/colab-badge.svg\" alt=\"Open In Colab\"/></a>"
      ]
    },
    {
      "cell_type": "markdown",
      "source": [
        "##Simple 1010 Pattern\n",
        "Make Your First GAN With PyTorch, 2020"
      ],
      "metadata": {
        "id": "2Kt7eBjt7P3W"
      }
    },
    {
      "cell_type": "code",
      "execution_count": null,
      "metadata": {
        "id": "EjuZZQ9V1uId"
      },
      "outputs": [],
      "source": [
        "\n",
        "# import libraries\n",
        "\n",
        "import torch\n",
        "import torch.nn as nn\n",
        "\n",
        "import pandas as pd\n",
        "import matplotlib.pyplot as plt\n",
        "import random\n",
        "import numpy as np"
      ]
    },
    {
      "cell_type": "code",
      "source": [],
      "metadata": {
        "id": "_6w3KwxC7MHe"
      },
      "execution_count": null,
      "outputs": []
    }
  ]
}