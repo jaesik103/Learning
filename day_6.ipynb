{
 "cells": [
  {
   "cell_type": "markdown",
   "id": "0afde60c",
   "metadata": {},
   "source": [
    "# 네이버 영화 랭킹 검색"
   ]
  },
  {
   "cell_type": "code",
   "execution_count": null,
   "id": "bb5e66dc",
   "metadata": {},
   "outputs": [],
   "source": [
    "import requests\n",
    "from bs4 import BeautifulSoup\n",
    "\n",
    "\n",
    "url = 'https://movie.naver.com/movie/sdb/rank/rmovie.naver?sel=cur&date=20211229'\n",
    "\n",
    "resp = requests.get(url) #데이터를 한꺼번에 가져옴\n",
    "\n",
    "soup = BeautifulSoup(resp.text)\n",
    "\n",
    "howmany = input(\"보고싶은 순위까지 입력 :\")\n",
    "\n",
    "for i in range(int(howmany)):\n",
    "    name = soup.select('td > div > a')[i] # 이름 불러오기\n",
    "    score = soup.select('td.point')[i] # 평점 불러오기\n",
    "    print(\"{}위 {} : {}\".format(i+1, name.string, score.string)) #출력"
   ]
  },
  {
   "cell_type": "markdown",
   "id": "5ebe7d3f",
   "metadata": {},
   "source": [
    "# 파파고 open API"
   ]
  },
  {
   "cell_type": "code",
   "execution_count": null,
   "id": "472ebd62",
   "metadata": {},
   "outputs": [],
   "source": [
    "text='''Yesterday\n",
    "All my troubles seemed so far away\n",
    "Now it looks as though they're here to stay\n",
    "Oh, I believe in yesterday\n",
    "Suddenly\n",
    "I'm not half the man I used to be\n",
    "There's a shadow hanging over me\n",
    "Oh, yesterday came suddenly\n",
    "Why she had to go, I don't know\n",
    "She wouldn't say\n",
    "I said something wrong\n",
    "Now I long for yesterday\n",
    "Yesterday\n",
    "Love was such an easy game to play\n",
    "Now I need a place to hide away\n",
    "Oh, I believe in yesterday\n",
    "Why she'''"
   ]
  },
  {
   "cell_type": "code",
   "execution_count": null,
   "id": "e842da6f",
   "metadata": {},
   "outputs": [],
   "source": [
    "import requests"
   ]
  },
  {
   "cell_type": "code",
   "execution_count": null,
   "id": "c825f935",
   "metadata": {},
   "outputs": [],
   "source": [
    "requests_url = \"https://openapi.naver.com/v1/papago/n2mt\"\n",
    "\n",
    "headers = {\"Content-Type\": \"application/x-www-form-urlencoded; charset=UTF-8\",\n",
    "          \"X-Naver-Client-Id\": \"z_FmuQic2SaSgaTFp0sU\",\n",
    "          \"X-Naver-Client-Secret\": \"OU0UFkWz74\"}\n",
    "\n",
    "# source=ko&target=en%text=만나서 반갑습니다.\n",
    "params = {\"source\":'en', 'target':'ko', 'text':text}\n"
   ]
  },
  {
   "cell_type": "code",
   "execution_count": null,
   "id": "8922ef0c",
   "metadata": {},
   "outputs": [],
   "source": [
    "response = requests.post(requests_url, headers=headers, data=params)\n",
    "print(type(response.text))\n",
    "print(response.text) #문자열로 반환\n",
    "\n",
    "res = response.json() # dict 타입으로 데이터 변경\n",
    "print(type(res))\n",
    "print(res)"
   ]
  },
  {
   "cell_type": "code",
   "execution_count": null,
   "id": "47b5f020",
   "metadata": {},
   "outputs": [],
   "source": [
    "print(res['message']['result']['translatedText'])"
   ]
  },
  {
   "cell_type": "markdown",
   "id": "cf173c72",
   "metadata": {},
   "source": [
    "# 08-1 클래스"
   ]
  },
  {
   "cell_type": "code",
   "execution_count": null,
   "id": "74b329a4",
   "metadata": {},
   "outputs": [],
   "source": [
    "# 학생 리스트\n",
    "students = [{'name' : '윤인성', 'kor':87, 'math':98, 'eng':88, 'sci':95},\n",
    "           {'name' : '연하진', 'kor':98, 'math':66, 'eng':44, 'sci':99},\n",
    "           {'name' : '구지연', 'kor':75, 'math':55, 'eng':66, 'sci':88},\n",
    "           {'name' : '나선주', 'kor':22, 'math':44, 'eng':88, 'sci':77}]\n",
    "\n",
    "# 학생 한 명씩 반복\n",
    "print('이름', '총점', '평균', sep=\"\\t\")\n",
    "\n",
    "for student in students:\n",
    "    # 점수합과 평균 구하기\n",
    "    score_sum = student['kor']+student['math']+student['eng']+student['sci']\n",
    "    score_average = score_sum / 4\n",
    "    \n",
    "    print(student['name'], score_sum, score_average, sep='\\t')"
   ]
  },
  {
   "cell_type": "code",
   "execution_count": null,
   "id": "6d88311b",
   "metadata": {},
   "outputs": [],
   "source": [
    "#딕셔너리를 리턴하는 함수\n",
    "def create_student(name, kor, math, eng, sci):\n",
    "    return {'name':name,\n",
    "           'kor':kor,\n",
    "           'math':math,\n",
    "           'eng':eng,\n",
    "           'sci':sci}\n",
    "#학생 리스트\n",
    "students = [\n",
    "    create_student(\"윤인성\", 12, 23, 45, 67),\n",
    "    create_student(\"연하진\", 23, 14, 23, 32),\n",
    "    create_student(\"구지연\", 45, 77, 88, 55),\n",
    "    create_student(\"나선주\", 14, 41, 23, 32)\n",
    "]\n",
    "print(students)\n",
    "\n",
    "# 학생 한 명씩 반복\n",
    "print('이름', '총점', '평균', sep=\"\\t\")\n",
    "\n",
    "for student in students:\n",
    "    # 점수합과 평균 구하기\n",
    "    score_sum = student['kor']+student['math']+student['eng']+student['sci']\n",
    "    score_average = score_sum / 4\n",
    "    \n",
    "    print(student['name'], score_sum, score_average, sep='\\t')"
   ]
  },
  {
   "cell_type": "code",
   "execution_count": null,
   "id": "73d7b9a9",
   "metadata": {},
   "outputs": [],
   "source": [
    "# 클래스를 선언\n",
    "class Student:\n",
    "    pass\n",
    "\n",
    "# 학생을 선언\n",
    "student = Student()\n",
    "\n",
    "# 학생 리스트 선언\n",
    "students = [Student(), Student(), Student(), Student(), Student(), Student()]"
   ]
  },
  {
   "cell_type": "code",
   "execution_count": null,
   "id": "d4c1587a",
   "metadata": {},
   "outputs": [],
   "source": [
    "# 클래스 선언\n",
    "class Student:\n",
    "    def __init__(self, name, kor, math, eng, sci):\n",
    "        self.name = name\n",
    "        self.kor = kor\n",
    "        self.math = math\n",
    "        self.eng = eng\n",
    "        self.sci = sci\n",
    "        \n",
    "#학생 리스트\n",
    "students = [\n",
    "    Student(\"윤인성\", 12, 23, 45, 67),\n",
    "    Student(\"연하진\", 23, 14, 23, 32),\n",
    "    Student(\"구지연\", 45, 77, 88, 55),\n",
    "    Student(\"나선주\", 14, 41, 23, 32)]\n",
    "\n",
    "# Student 인스턴스의 속성에 접근하는 방법\n",
    "\n",
    "print(students[0].name)\n",
    "print(students[0].kor)"
   ]
  },
  {
   "cell_type": "code",
   "execution_count": null,
   "id": "2802b454",
   "metadata": {},
   "outputs": [],
   "source": [
    "# 소멸자\n",
    "class Test:\n",
    "    def __init__(self, name):\n",
    "        self.name = name\n",
    "        print('{} - 생성되었습니다.'.format(self.name))\n",
    "    def __del__(self):\n",
    "        print('{} - 파괴되었습니다.'.format(self.name))\n",
    "\n",
    "test = Test('A')"
   ]
  },
  {
   "cell_type": "code",
   "execution_count": null,
   "id": "ebc1fee7",
   "metadata": {},
   "outputs": [],
   "source": [
    "# 클래스 내부에 메소드 선언\n",
    "class Student:\n",
    "    def __init__(self, name, kor, math, eng, sci):\n",
    "        self.name = name\n",
    "        self.kor = kor\n",
    "        self.math = math\n",
    "        self.eng = eng\n",
    "        self.sci = sci\n",
    "    def get_sum(self):\n",
    "        return self.kor + self.math + self.eng + self.sci\n",
    "    def get_average(self):\n",
    "        return self.get_sum()/4\n",
    "    def to_string(self):\n",
    "        return \"{}\\t{}\\t{}\".format(self.name, self.get_sum(), self.get_average())\n",
    "\n",
    "# 학생 리스트\n",
    "students = [\n",
    "    Student(\"윤인성\", 12, 23, 45, 67),\n",
    "    Student(\"연하진\", 23, 14, 23, 32),\n",
    "    Student(\"구지연\", 45, 77, 88, 55),\n",
    "    Student(\"나선주\", 14, 41, 23, 32)]\n",
    "\n",
    "# 한명씩 불러오고\n",
    "print('이름', '총점', '평균', sep='\\t')\n",
    "for student in students:\n",
    "    print(student.to_string())\n",
    "    "
   ]
  },
  {
   "cell_type": "markdown",
   "id": "9bd5cd91",
   "metadata": {},
   "source": [
    "# 08-2 클래스의 추가적인 구문"
   ]
  },
  {
   "cell_type": "code",
   "execution_count": null,
   "id": "2cf4357a",
   "metadata": {},
   "outputs": [],
   "source": [
    "#  isinstance()\n",
    "class Student:\n",
    "    def __init__(self):\n",
    "        pass\n",
    "student = Student()\n",
    "\n",
    "print('isinstance(student, Student):', isinstance(student, Student))\n",
    "type(student)==Student"
   ]
  },
  {
   "cell_type": "code",
   "execution_count": null,
   "id": "ebe49f1f",
   "metadata": {},
   "outputs": [],
   "source": [
    "class Student:\n",
    "    def study(self):\n",
    "        print('공부를 합니다.')\n",
    "class Teacher:\n",
    "    def teach(self):\n",
    "        print('학생을 가르칩니다.')\n",
    "\n",
    "classroom = [Student(), Student(), Teacher(), Student(), Student()] # 객체 리스트 생성\n",
    "\n",
    "for person in classroom:\n",
    "    if isinstance(person, Student):\n",
    "        person.study()\n",
    "    elif isinstance(person, Teacher):\n",
    "        person.teach()"
   ]
  },
  {
   "cell_type": "code",
   "execution_count": null,
   "id": "c56ea872",
   "metadata": {},
   "outputs": [],
   "source": [
    "# __str__()함수\n",
    "\n",
    "# 클래스 내부에 메소드 선언\n",
    "class Student:\n",
    "    def __init__(self, name, kor, math, eng, sci):\n",
    "        self.name = name\n",
    "        self.kor = kor\n",
    "        self.math = math\n",
    "        self.eng = eng\n",
    "        self.sci = sci\n",
    "        \n",
    "    def get_sum(self):\n",
    "        return self.kor + self.math + self.eng + self.sci\n",
    "    \n",
    "    def get_average(self):\n",
    "        return self.get_sum()/4\n",
    "    \n",
    "    def __str__(self):\n",
    "        return \"{}\\t{}\\t{}\".format(self.name, self.get_sum(), self.get_average())\n",
    "# 학생 리스트\n",
    "students = [\n",
    "    Student(\"윤인성\", 12, 23, 45, 67),\n",
    "    Student(\"연하진\", 23, 14, 23, 32),\n",
    "    Student(\"구지연\", 45, 77, 88, 55),\n",
    "    Student(\"나선주\", 14, 41, 23, 32)]\n",
    "\n",
    "# 한명씩 불러오고\n",
    "print('이름', '총점', '평균', sep='\\t')\n",
    "for student in students:\n",
    "    print(str(student))"
   ]
  },
  {
   "cell_type": "code",
   "execution_count": 1,
   "id": "51cbbbff",
   "metadata": {},
   "outputs": [
    {
     "name": "stdout",
     "output_type": "stream",
     "text": [
      "1번째 학생이 생성되었습니다.\n",
      "2번째 학생이 생성되었습니다.\n",
      "3번째 학생이 생성되었습니다.\n",
      "4번째 학생이 생성되었습니다.\n",
      "\n",
      "현재 생성된 총 학생 수는 4명입니다.\n"
     ]
    }
   ],
   "source": [
    "# 클래스 변수\n",
    "class Student:\n",
    "    count = 0\n",
    "    \n",
    "    def __init__(self, name, kor, math, eng, sci):\n",
    "        # 인스턴스 변수 초기화\n",
    "        self.name = name\n",
    "        self.kor = kor\n",
    "        self.math = math\n",
    "        self.eng = eng\n",
    "        self.sci = sci\n",
    "        \n",
    "        # 클래스 변수 설정\n",
    "        Student.count += 1\n",
    "        print(\"{}번째 학생이 생성되었습니다.\".format(Student.count))\n",
    "# 학생 리스트\n",
    "students = [\n",
    "    Student(\"윤인성\", 12, 23, 45, 67),\n",
    "    Student(\"연하진\", 23, 14, 23, 32),\n",
    "    Student(\"구지연\", 45, 77, 88, 55),\n",
    "    Student(\"나선주\", 14, 41, 23, 32)]\n",
    "\n",
    "print()\n",
    "print('현재 생성된 총 학생 수는 {}명입니다.'.format(Student.count))"
   ]
  },
  {
   "cell_type": "code",
   "execution_count": 2,
   "id": "0b5076c0",
   "metadata": {},
   "outputs": [
    {
     "name": "stdout",
     "output_type": "stream",
     "text": [
      "----- 학생 목록 -----\n",
      "이름\t총점\t평균\n",
      "윤인성\t147\t36.75\n",
      "연하진\t92\t23.0\n",
      "구지연\t265\t66.25\n",
      "나선주\t110\t27.5\n",
      "----- ----- -----\n"
     ]
    }
   ],
   "source": [
    "# 클래스함수\n",
    "class Student:\n",
    "    # 클래스 변수\n",
    "    count = 0\n",
    "    students = []\n",
    "    \n",
    "    # 클래스 함수\n",
    "    @classmethod\n",
    "    def print(cls):\n",
    "        print('----- 학생 목록 -----')\n",
    "        print('이름\\t총점\\t평균')\n",
    "        for student in cls.students:\n",
    "            print(str(student))\n",
    "        print('----- ----- -----')\n",
    "    # 인스턴스 함수\n",
    "    def __init__(self, name, kor, math, eng, sci):\n",
    "        # 인스턴스 변수 초기화\n",
    "        self.name = name\n",
    "        self.kor = kor\n",
    "        self.math = math\n",
    "        self.eng = eng\n",
    "        self.sci = sci\n",
    "        Student.count += 1\n",
    "        Student.students.append(self)\n",
    "    \n",
    "    def get_sum(self):\n",
    "        return self.kor + self.math + self.eng + self.sci\n",
    "    \n",
    "    def get_average(self):\n",
    "        return self.get_sum()/4\n",
    "    \n",
    "    def __str__(self):\n",
    "        return \"{}\\t{}\\t{}\".format(self.name, self.get_sum(), self.get_average())\n",
    "\n",
    "Student(\"윤인성\", 12, 23, 45, 67)\n",
    "Student(\"연하진\", 23, 14, 23, 32)\n",
    "Student(\"구지연\", 45, 77, 88, 55)\n",
    "Student(\"나선주\", 14, 41, 23, 32)\n",
    "\n",
    "Student.print()"
   ]
  },
  {
   "cell_type": "code",
   "execution_count": 4,
   "id": "4d7e2ffa",
   "metadata": {},
   "outputs": [],
   "source": [
    "# private 변수 사용\n",
    "class Circle:\n",
    "    def __init__(self, radius):\n",
    "        self.__radius = radius # private 변수\n",
    "    def get_circum(self):\n",
    "        return self.__radius * 2 * 3.14\n",
    "    def get_area(self):\n",
    "        return self.__radius * self.__radius * 3.14\n",
    "   \n",
    "    def get_radius(self):\n",
    "        return self.__radius\n",
    "    def set_radius(self, value):\n",
    "        self.__radius = value"
   ]
  },
  {
   "cell_type": "code",
   "execution_count": 5,
   "id": "d9c66257",
   "metadata": {},
   "outputs": [
    {
     "name": "stdout",
     "output_type": "stream",
     "text": [
      "314.0\n",
      "10\n",
      "5\n"
     ]
    }
   ],
   "source": [
    "# getter, setter\n",
    "circle = Circle(10)\n",
    "print(circle.get_area())\n",
    "\n",
    "print(circle.get_radius())\n",
    "circle.set_radius(5)\n",
    "print(circle.get_radius())"
   ]
  },
  {
   "cell_type": "code",
   "execution_count": null,
   "id": "3d4475c8",
   "metadata": {},
   "outputs": [],
   "source": [
    "# 학생들의 이름과 점수를 입력받아 리스트에 저장한 후 자료 출력\n",
    "# 학생들의 이름과 점수를 입력받아 딕셔너리에 저장한 후 출력\n",
    "# 클래스를 생성하여 입력 후 출력\n",
    "# 위에 3개 각각 따로임."
   ]
  },
  {
   "cell_type": "code",
   "execution_count": null,
   "id": "920c5c9d",
   "metadata": {},
   "outputs": [],
   "source": []
  }
 ],
 "metadata": {
  "kernelspec": {
   "display_name": "Python 3 (ipykernel)",
   "language": "python",
   "name": "python3"
  },
  "language_info": {
   "codemirror_mode": {
    "name": "ipython",
    "version": 3
   },
   "file_extension": ".py",
   "mimetype": "text/x-python",
   "name": "python",
   "nbconvert_exporter": "python",
   "pygments_lexer": "ipython3",
   "version": "3.9.7"
  }
 },
 "nbformat": 4,
 "nbformat_minor": 5
}
