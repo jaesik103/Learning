{
 "cells": [
  {
   "cell_type": "markdown",
   "id": "4d7e7e97",
   "metadata": {},
   "source": [
    "# 01. 판다스 입문"
   ]
  },
  {
   "cell_type": "code",
   "execution_count": null,
   "id": "bf390e32",
   "metadata": {},
   "outputs": [],
   "source": [
    "# 딕셔너리 -> 시리즈\n",
    "import pandas as pd\n",
    "\n",
    "dict_data = {'a':1, 'b':2, 'c':3}\n",
    "list_data = [1,2,3]\n",
    "\n",
    "srd = pd.Series(dict_data)\n",
    "srl = pd.Series(list_data)\n",
    "\n",
    "print(type(dict_data), dict_data)\n",
    "print(type(srd), '\\n', srd)\n",
    "\n",
    "print(type(list_data), list_data)\n",
    "print(type(srl), '\\n', srl)"
   ]
  },
  {
   "cell_type": "code",
   "execution_count": null,
   "id": "a871c100",
   "metadata": {},
   "outputs": [],
   "source": [
    "# 인덱스 확인\n",
    "print(srd.index)\n",
    "print(srl.index)\n",
    "\n",
    "# 시리즈의 값을 확인\n",
    "print('srd.value', srd.values)\n",
    "print('srl.value', srl.values)"
   ]
  },
  {
   "cell_type": "code",
   "execution_count": null,
   "id": "4e8b03b3",
   "metadata": {},
   "outputs": [],
   "source": [
    "# 각 자료의 원소 선택\n",
    "sr_data = pd.Series(list(range(10)))\n",
    "sr_data[1:]\n",
    "srd['a']\n",
    "sr_key = pd.Series({'a' : 1, 'b' : 2, 'c' : 3})"
   ]
  },
  {
   "cell_type": "code",
   "execution_count": null,
   "id": "232e4bb3",
   "metadata": {},
   "outputs": [],
   "source": [
    "print(sr_key)\n",
    "print(sr_key['a' : 'c']) # c포함\n",
    "print(sr_key[0:2]) # 2미포함"
   ]
  },
  {
   "cell_type": "code",
   "execution_count": null,
   "id": "b29d64e2",
   "metadata": {},
   "outputs": [],
   "source": [
    "sr_list = pd.Series(list(range(5)), index=['a', 'b', 'c', 'd', 'x'])\n",
    "sr_list"
   ]
  },
  {
   "cell_type": "code",
   "execution_count": null,
   "id": "7f760ada",
   "metadata": {},
   "outputs": [],
   "source": [
    "# 마지막 자료 출력 : 인덱스 명과 첨자 둘다\n",
    "print(sr_list.index[-1], sr_list[-1])\n",
    "# 1번째부터 3번째 까지의 자료 출력, 인덱스명 으로도 출력\n",
    "print(sr_list[1:4],'\\n',sr_list['a':'c'])\n",
    "# 인덱스명 'b' 와 'd'의 값을 출력\n",
    "print(sr_list[[\"b\",'d']])"
   ]
  },
  {
   "cell_type": "code",
   "execution_count": null,
   "id": "5b9a539f",
   "metadata": {},
   "outputs": [],
   "source": [
    "# dataframe : 2차원, pandas.DataFrame(data(2차원), [index=] , [columns= ])\n",
    "dict_data = {'c0' : [1,2,3], 'c1':[4,5,6], 'c2':[7,8,9]}\n",
    "df = pd.DataFrame(dict_data)\n",
    "df"
   ]
  },
  {
   "cell_type": "code",
   "execution_count": null,
   "id": "aa257162",
   "metadata": {},
   "outputs": [],
   "source": [
    "df = pd.DataFrame([[15, '남', '수리중'], [17, '여', '덕명중']],\n",
    "                 index=['준서', '예은'],\n",
    "                 columns=['나이', '성별', '학교'])\n",
    "df"
   ]
  },
  {
   "cell_type": "code",
   "execution_count": null,
   "id": "582dbea5",
   "metadata": {},
   "outputs": [],
   "source": [
    "# 인덱스명 변경\n",
    "# 객체명.index = 새로운 인덱스명\n",
    "print(df)\n",
    "df.index=['a', 'b', 'c' ]\n",
    "df\n",
    "df.columns = ['연령', '남녀', '학교', '잘못1', '잘못2']\n",
    "df\n",
    "\n",
    "# 일부 인덱스명만 수정\n",
    "# 객체명.rename(index={기존인덱스:새로운인덱스})\n",
    "# 객체명.rename(columns={기존컬럼명:새로운컬럼명})\n",
    "df.rename(index={'a':'준서'}, columns={'남녀':'성별'}, inplace=True)\n",
    "df"
   ]
  },
  {
   "cell_type": "code",
   "execution_count": null,
   "id": "2117d413",
   "metadata": {},
   "outputs": [],
   "source": [
    "# 행 추가 df.loc['인덱스명'] = [값, ..] or df.인덱스명 = 값\n",
    "df.loc['은서'] = ['17', '여', '평택중', 1, 1]\n",
    "df"
   ]
  },
  {
   "cell_type": "code",
   "execution_count": null,
   "id": "245a03e6",
   "metadata": {},
   "outputs": [],
   "source": [
    "# 이름을 키로, 국어, 영어, 수학 과학 점수를 값으로\n",
    "# 입력받아 dictonary에 저장한 후\n",
    "# 해당 자료를 데이터 프레임으로 전환->인덱스명은 이름으로"
   ]
  },
  {
   "cell_type": "code",
   "execution_count": null,
   "id": "372421e8",
   "metadata": {},
   "outputs": [],
   "source": [
    "import pandas as pd\n",
    "def create_student():\n",
    "    list_value = []\n",
    "    while True:\n",
    "        name = input(\"이름 국어 영어 수학(q) :\").split()\n",
    "        if name[0] == 'q':\n",
    "            break\n",
    "        else:\n",
    "            list_student = []\n",
    "            for i in list(range(len(name))):\n",
    "                list_student.append(name[i])\n",
    "            list_value.append(list_student)\n",
    "    return list_value\n",
    "\n",
    "        \n",
    "        "
   ]
  },
  {
   "cell_type": "code",
   "execution_count": null,
   "id": "2e88a60c",
   "metadata": {},
   "outputs": [],
   "source": [
    "A = pd.DataFrame(create_student())\n",
    "A.columns = ['이름', '국어', '영어', '수학', '과학']\n",
    "print(A)"
   ]
  },
  {
   "cell_type": "code",
   "execution_count": null,
   "id": "5ced4179",
   "metadata": {},
   "outputs": [],
   "source": [
    "exam_data = {'수학' : [90, 80, 70], '영어':[99, 87, 95], '음악':[85, 95, 100], '체육':[100, 90, 100]}\n",
    "df = pd.DataFrame(exam_data, index=['서준', '우현', '인아'])\n",
    "df"
   ]
  },
  {
   "cell_type": "code",
   "execution_count": null,
   "id": "096f0ae1",
   "metadata": {},
   "outputs": [],
   "source": [
    "print(df.loc['서준'])\n",
    "print(df.iloc[0])"
   ]
  },
  {
   "cell_type": "code",
   "execution_count": null,
   "id": "5068286f",
   "metadata": {},
   "outputs": [],
   "source": [
    "df.loc[['서준'],['수학', '체육']]"
   ]
  },
  {
   "cell_type": "code",
   "execution_count": null,
   "id": "cc777ff6",
   "metadata": {},
   "outputs": [],
   "source": [
    "df['수학 : '음악']"
   ]
  },
  {
   "cell_type": "code",
   "execution_count": null,
   "id": "a8f9f58e",
   "metadata": {},
   "outputs": [],
   "source": [
    "# 범위 슬라이싱 : 객체.iloc[star : end : step]\n",
    "df.iloc[::2]"
   ]
  },
  {
   "cell_type": "code",
   "execution_count": null,
   "id": "fcfb3314",
   "metadata": {},
   "outputs": [],
   "source": [
    "print(df.loc['서준', '영어'], df.iloc[0,1])"
   ]
  },
  {
   "cell_type": "code",
   "execution_count": null,
   "id": "7cdcc928",
   "metadata": {},
   "outputs": [],
   "source": [
    "df.loc[['서준','인아'], ['영어' , '체육']]"
   ]
  },
  {
   "cell_type": "code",
   "execution_count": null,
   "id": "f2034ba3",
   "metadata": {},
   "outputs": [],
   "source": [
    "df.loc['서준', '체육']"
   ]
  },
  {
   "cell_type": "code",
   "execution_count": 8,
   "id": "aa3c84c7",
   "metadata": {},
   "outputs": [],
   "source": [
    "# 이름, 국어, 영어 수학점수 입력받아 이름을 인덱스로 데이터프레임에 저장\n",
    "# df 을 출력\n",
    "# 이름을 입력받아 데이터프레임의 자료를 검색해서 출력\n",
    "# 이름과 과목을 입력받아 데이터 출력\n",
    "\n",
    "import pandas as pd\n",
    "def create_student():\n",
    "    list_value = []\n",
    "    score_name = []\n",
    "    while True:\n",
    "        name = input(\"이름 국어 영어 수학(q) :\").split()\n",
    "        if name[0] == 'q':\n",
    "            break\n",
    "        else:\n",
    "            list_student = []\n",
    "            for i in list(range(len(name))):\n",
    "                list_student.append(name[i])\n",
    "                if i==0:\n",
    "                    score_name.append(list_student[0])\n",
    "            list_value.append(list_student)\n",
    "            \n",
    "    return list_value, score_name\n"
   ]
  },
  {
   "cell_type": "code",
   "execution_count": 9,
   "id": "d092dcb4",
   "metadata": {},
   "outputs": [],
   "source": [
    "def search(A):\n",
    "    search_name = input('검색할 이름 입력 :')\n",
    "    search_score = input('과목입력 :')\n",
    "    try:\n",
    "        return print(A.loc[search_name],[search_score])\n",
    "    except:\n",
    "        print('잘못 입력하셨습니다.')"
   ]
  },
  {
   "cell_type": "code",
   "execution_count": 10,
   "id": "b18d42c8",
   "metadata": {},
   "outputs": [],
   "source": [
    "def add_score(A):   \n",
    "    name_plus = input('추가할 이름 :')\n",
    "    score_plus = [name_plus]+list(map(int, input(\"국어 영어 수학 :\").split()))\n",
    "    try:\n",
    "        A.loc[name_plus] = score_plus\n",
    "    except:\n",
    "        print('잘못 입력하셨습니다.')\n",
    "    return A"
   ]
  },
  {
   "cell_type": "code",
   "execution_count": 12,
   "id": "cecff9a2",
   "metadata": {},
   "outputs": [
    {
     "name": "stdout",
     "output_type": "stream",
     "text": [
      "이름 국어 영어 수학(q) :a4 qwe qwe qwe\n",
      "이름 국어 영어 수학(q) :sadqwe qwe asd \n",
      "이름 국어 영어 수학(q) :qweqweasd asd qweqwe qwe qwe \n",
      "이름 국어 영어 수학(q) :q\n",
      "잘못 입력하셨습니다.\n",
      "    이름  국어  영어  수학\n",
      "파랑  파랑  10  50  60\n",
      "블루  블루  78  99  60\n",
      "레드  레드  44  55  77\n",
      "검색할 이름 입력 :asd\n",
      "과목입력 :asd\n",
      "잘못 입력하셨습니다.\n",
      "추가할 이름 :수진\n",
      "국어 영어 수학 :50 60 50\n"
     ]
    },
    {
     "data": {
      "text/html": [
       "<div>\n",
       "<style scoped>\n",
       "    .dataframe tbody tr th:only-of-type {\n",
       "        vertical-align: middle;\n",
       "    }\n",
       "\n",
       "    .dataframe tbody tr th {\n",
       "        vertical-align: top;\n",
       "    }\n",
       "\n",
       "    .dataframe thead th {\n",
       "        text-align: right;\n",
       "    }\n",
       "</style>\n",
       "<table border=\"1\" class=\"dataframe\">\n",
       "  <thead>\n",
       "    <tr style=\"text-align: right;\">\n",
       "      <th></th>\n",
       "      <th>이름</th>\n",
       "      <th>국어</th>\n",
       "      <th>영어</th>\n",
       "      <th>수학</th>\n",
       "    </tr>\n",
       "  </thead>\n",
       "  <tbody>\n",
       "    <tr>\n",
       "      <th>파랑</th>\n",
       "      <td>파랑</td>\n",
       "      <td>10</td>\n",
       "      <td>50</td>\n",
       "      <td>60</td>\n",
       "    </tr>\n",
       "    <tr>\n",
       "      <th>블루</th>\n",
       "      <td>블루</td>\n",
       "      <td>78</td>\n",
       "      <td>99</td>\n",
       "      <td>60</td>\n",
       "    </tr>\n",
       "    <tr>\n",
       "      <th>레드</th>\n",
       "      <td>레드</td>\n",
       "      <td>44</td>\n",
       "      <td>55</td>\n",
       "      <td>77</td>\n",
       "    </tr>\n",
       "    <tr>\n",
       "      <th>수진</th>\n",
       "      <td>수진</td>\n",
       "      <td>50</td>\n",
       "      <td>60</td>\n",
       "      <td>50</td>\n",
       "    </tr>\n",
       "  </tbody>\n",
       "</table>\n",
       "</div>"
      ],
      "text/plain": [
       "    이름  국어  영어  수학\n",
       "파랑  파랑  10  50  60\n",
       "블루  블루  78  99  60\n",
       "레드  레드  44  55  77\n",
       "수진  수진  50  60  50"
      ]
     },
     "execution_count": 12,
     "metadata": {},
     "output_type": "execute_result"
    }
   ],
   "source": [
    "list_value, score_name = create_student()\n",
    "try:\n",
    "    A = pd.DataFrame(list_value, index=score_name, columns =[\"이름\", '국어', '영어', '수학'])\n",
    "except:\n",
    "    print('잘못 입력하셨습니다.')\n",
    "print(A)\n",
    "search(A)\n",
    "add_score(A)\n"
   ]
  },
  {
   "cell_type": "code",
   "execution_count": null,
   "id": "e5588af3",
   "metadata": {},
   "outputs": [],
   "source": []
  },
  {
   "cell_type": "code",
   "execution_count": null,
   "id": "07512512",
   "metadata": {},
   "outputs": [],
   "source": []
  }
 ],
 "metadata": {
  "kernelspec": {
   "display_name": "Python 3 (ipykernel)",
   "language": "python",
   "name": "python3"
  },
  "language_info": {
   "codemirror_mode": {
    "name": "ipython",
    "version": 3
   },
   "file_extension": ".py",
   "mimetype": "text/x-python",
   "name": "python",
   "nbconvert_exporter": "python",
   "pygments_lexer": "ipython3",
   "version": "3.9.7"
  }
 },
 "nbformat": 4,
 "nbformat_minor": 5
}
