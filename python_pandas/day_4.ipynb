{
 "cells": [
  {
   "cell_type": "code",
   "execution_count": 2,
   "id": "1d00f42e",
   "metadata": {},
   "outputs": [],
   "source": [
    "import numpy as np\n",
    "import matplotlib.pyplot as plt\n",
    "import pandas as pd"
   ]
  },
  {
   "cell_type": "code",
   "execution_count": 118,
   "id": "16d02cee",
   "metadata": {},
   "outputs": [],
   "source": [
    "import platform\n",
    "if platform.system() == 'Darwin': #맥\n",
    "        plt.rc('font', family='AppleGothic') \n",
    "elif platform.system() == 'Windows': #윈도우\n",
    "        plt.rc('font', family='Malgun Gothic') \n",
    "elif platform.system() == 'Linux': #리눅스 (구글 콜랩)\n",
    "        plt.rc('font', family='Malgun Gothic') \n",
    "\n",
    "plt.rcParams['axes.unicode_minus'] = False #한글 폰트 사용시 마이너스 폰트 깨짐 해결"
   ]
  },
  {
   "cell_type": "code",
   "execution_count": null,
   "id": "ac38cacb",
   "metadata": {},
   "outputs": [],
   "source": [
    "# 히스토그램 : 변수가 하나\n",
    "df =pd.read_csv('dataset/auto-mpg.csv', header=None)\n",
    "\n",
    "#열 이름을 지정\n",
    "df.columns = ['mpg','cylinders','displacement','horsepower','weight',\n",
    "              'acceleration','model year','origin','name']\n",
    "df['mpg'].plot(kind='hist', bins=10, figsize=(10,5), color='skyblue')\n",
    "plt.title(\"mpg histogram\")\n",
    "plt.xlabel('mpg')\n",
    "plt.show()"
   ]
  },
  {
   "cell_type": "code",
   "execution_count": null,
   "id": "d156efe0",
   "metadata": {},
   "outputs": [],
   "source": [
    "# scatter : 2개의 변수\n",
    "# cylender : 3개의 변수\n",
    "# bubble : cylinders_size로 점의 크기 변경\n",
    "cyliners_size = df.cylinders / df.cylinders.max()*300\n",
    "print(cyliners_size)\n",
    "df.plot(kind='scatter', x='weight', y='mpg', figsize=(10,5), color='skyblue', s=cyliners_size,\n",
    "       alpha=0.2)\n",
    "plt.title('mpg - weight scatter')\n",
    "plt.xlabel('weight')\n",
    "plt.ylabel('mpg')\n",
    "plt.show()"
   ]
  },
  {
   "cell_type": "code",
   "execution_count": null,
   "id": "4094198d",
   "metadata": {},
   "outputs": [],
   "source": [
    "# scatter : 2개의 변수\n",
    "# cylender_size를 컬러맵으로 사용\n",
    "\n",
    "cyliners_size = df.cylinders / df.cylinders.max()*300\n",
    "print(cyliners_size)\n",
    "df.plot(kind='scatter', x='weight', y='mpg', figsize=(10,5), c=cyliners_size,\n",
    "       alpha=0.2, s=40, cmap='viridis', marker='+')\n",
    "plt.title('mpg - weight scatter')\n",
    "plt.xlabel('weight')\n",
    "plt.ylabel('mpg')\n",
    "plt.savefig('img/scatter.png') # 이미지 저장\n",
    "plt.show()"
   ]
  },
  {
   "cell_type": "code",
   "execution_count": null,
   "id": "143954fc",
   "metadata": {},
   "outputs": [],
   "source": [
    "df['count'] = 1\n",
    "df_origin = df.groupby('origin').sum()   # origin 열을 기준으로 그룹화, 합계 연산\n",
    "print(df_origin.head())                  # 그룹 연산 결과 출력\n",
    "\n",
    "# 제조국가(origin) 값을 실제 지역명으로 변경\n",
    "df_origin.index = ['USA', 'EU', 'JAPAN']\n",
    "\n",
    "# 제조국가(origin) 열에 대한 파이 차트 그리기 – count 열 데이터 사용\n",
    "df_origin['count'].plot(kind='pie', \n",
    "                     figsize=(7, 5),\n",
    "                     autopct='%1.1f%%',   # 퍼센트 % 표시\n",
    "                     startangle=10,       # 파이 조각을 나누는 시작점(각도 표시)\n",
    "                     colors=['chocolate', 'bisque', 'cadetblue']    # 색상 리스트\n",
    "                     )\n",
    "\n",
    "plt.title('Model Origin', size=20)\n",
    "plt.axis('equal')    # 파이 차트의 비율을 같게 (원에 가깝게) 조정\n",
    "plt.legend(labels=df_origin.index, loc='upper right')   # 범례 표시\n",
    "plt.show()"
   ]
  },
  {
   "cell_type": "code",
   "execution_count": null,
   "id": "e0df7f57",
   "metadata": {},
   "outputs": [],
   "source": [
    "# 그래프 객체 생성 (figure에 2개의 서브 플롯을 생성)\n",
    "fig = plt.figure(figsize=(15, 5))\n",
    "ax1 = fig.add_subplot(1, 2, 1)\n",
    "ax2 = fig.add_subplot(1, 2, 2)\n",
    "\n",
    "# axe 객체에 boxplot 메서드로 그래프 출력\n",
    "ax1.boxplot(x=[df[df['origin']==1]['mpg'],\n",
    "               df[df['origin']==2]['mpg'],\n",
    "               df[df['origin']==3]['mpg']], \n",
    "         labels=['USA', 'EU', 'JAPAN'])\n",
    "\n",
    "ax2.boxplot(x=[df[df['origin']==1]['mpg'],\n",
    "               df[df['origin']==2]['mpg'],\n",
    "               df[df['origin']==3]['mpg']], \n",
    "         labels=['USA', 'EU', 'JAPAN'],\n",
    "         vert=False)\n",
    "\n",
    "ax1.set_title('제조국가별 연비 분포(수직 박스 플롯)')\n",
    "ax2.set_title('제조국가별 연비 분포(수평 박스 플롯)')\n",
    "\n",
    "plt.show()"
   ]
  },
  {
   "cell_type": "code",
   "execution_count": 5,
   "id": "782653f3",
   "metadata": {},
   "outputs": [],
   "source": [
    "import seaborn as sns"
   ]
  },
  {
   "cell_type": "code",
   "execution_count": 112,
   "id": "20fd4fc0",
   "metadata": {},
   "outputs": [
    {
     "name": "stdout",
     "output_type": "stream",
     "text": [
      "<class 'pandas.core.frame.DataFrame'>\n",
      "RangeIndex: 891 entries, 0 to 890\n",
      "Data columns (total 15 columns):\n",
      " #   Column       Non-Null Count  Dtype   \n",
      "---  ------       --------------  -----   \n",
      " 0   survived     891 non-null    int64   \n",
      " 1   pclass       891 non-null    int64   \n",
      " 2   sex          891 non-null    object  \n",
      " 3   age          714 non-null    float64 \n",
      " 4   sibsp        891 non-null    int64   \n",
      " 5   parch        891 non-null    int64   \n",
      " 6   fare         891 non-null    float64 \n",
      " 7   embarked     889 non-null    object  \n",
      " 8   class        891 non-null    category\n",
      " 9   who          891 non-null    object  \n",
      " 10  adult_male   891 non-null    bool    \n",
      " 11  deck         203 non-null    category\n",
      " 12  embark_town  889 non-null    object  \n",
      " 13  alive        891 non-null    object  \n",
      " 14  alone        891 non-null    bool    \n",
      "dtypes: bool(2), category(2), float64(2), int64(4), object(5)\n",
      "memory usage: 80.7+ KB\n"
     ]
    }
   ],
   "source": [
    "titanic = sns.load_dataset('titanic')\n",
    "titanic.info()"
   ]
  },
  {
   "cell_type": "code",
   "execution_count": 113,
   "id": "218b77bb",
   "metadata": {},
   "outputs": [
    {
     "data": {
      "image/png": "[encoded data removed]",
      "text/plain": [
       "<Figure size 1440x720 with 2 Axes>"
      ]
     },
     "metadata": {},
     "output_type": "display_data"
    }
   ],
   "source": [
    "# 회귀선이 있는 scatter 그래프, 회귀선이 없는 2개의 그래프\n",
    "sns.set_style('darkgrid')\n",
    "fig = plt.figure(figsize=(20, 10))\n",
    "ax1 = fig.add_subplot(1, 2, 1)\n",
    "ax2 = fig.add_subplot(1, 2, 2)\n",
    "\n",
    "sns.regplot(x='age', y='fare',\n",
    "           data=titanic,\n",
    "           ax=ax1)\n",
    "sns.regplot(x='age', y='fare',\n",
    "           data=titanic,\n",
    "           ax=ax2,\n",
    "           fit_reg=False)\n",
    "plt.show()"
   ]
  },
  {
   "cell_type": "code",
   "execution_count": null,
   "id": "c0355956",
   "metadata": {},
   "outputs": [],
   "source": [
    "# distplot() : 커널 밀도\n",
    "# 스타일 테마 설정 (darkgrid, whitegrid, dark, white, )\n",
    "sns.set_style('darkgrid')\n",
    "\n",
    "fig = plt.figure(figsize=(15, 5))\n",
    "ax1 = fig.add_subplot(1, 3, 1)\n",
    "ax2 = fig.add_subplot(1, 3, 2)\n",
    "ax3 = fig.add_subplot(1, 3, 3)\n",
    " \n",
    "# distplot\n",
    "sns.distplot(x=titanic.fare, ax=ax1) \n",
    "\n",
    "# kdeplot\n",
    "sns.kdeplot(x='fare', data=titanic, ax=ax2) \n",
    "\n",
    "# histplot\n",
    "sns.histplot(x='fare', data=titanic,  ax=ax3)\n",
    "\n",
    "# 차트 제목 표시\n",
    "ax1.set_title('titanic fare - distplot')\n",
    "ax2.set_title('titanic fare - kedplot')\n",
    "ax3.set_title('titanic fare - histplot')\n",
    "\n",
    "plt.show()"
   ]
  },
  {
   "cell_type": "code",
   "execution_count": null,
   "id": "184dee82",
   "metadata": {},
   "outputs": [],
   "source": [
    "# heatmap\n",
    "sns.set_style('darkgrid')\n",
    "\n",
    "# 피벗테이블로 범주형 변수를 각각 행, 열로 재구분하여 정리\n",
    "table = titanic.pivot_table(index=['sex'], columns=['class'], aggfunc='size')\n",
    "\n",
    "# 히트맵 그리기\n",
    "sns.heatmap(table,\n",
    "           annot=True, fmt='d',\n",
    "           cmap='YlGnBu',\n",
    "           linewidth=.5,\n",
    "           cbar=True)\n",
    "plt.show()"
   ]
  },
  {
   "cell_type": "code",
   "execution_count": null,
   "id": "4e41fef1",
   "metadata": {},
   "outputs": [],
   "source": [
    "# 지도 그래프\n",
    "import folium"
   ]
  },
  {
   "cell_type": "code",
   "execution_count": null,
   "id": "1c7c6f61",
   "metadata": {},
   "outputs": [],
   "source": [
    "# 서울 지도 만들기\n",
    "seoul_map2 = folium.Map(location=[37.55,126.98], tiles='Stamen Terrain', \n",
    "                        zoom_start=12)\n",
    "seoul_map3 = folium.Map(location=[37.55,126.98], tiles='Stamen Toner', \n",
    "                        zoom_start=15)\n",
    "\n",
    "# 지도를 HTML 파일로 저장하기\n",
    "seoul_map2.save('./dataset/seoul2.html')\n",
    "seoul_map3.save('./dataset/seoul3.html')"
   ]
  },
  {
   "cell_type": "code",
   "execution_count": null,
   "id": "41e04e2f",
   "metadata": {},
   "outputs": [],
   "source": [
    "df = pd.read_excel('dataset/서울지역 대학교 위치.xlsx')\n",
    "df.info()\n",
    "\n",
    "seoul_map = folium.Map(location=[37.55, 126.98], tiles='Stamen Terrain', zoom_start=12)\n",
    "\n",
    "for name, lat, lng in zip(df.index, df.위도, df.경도):\n",
    "    folium.Marker([lat, lng], popup=name).add_to(seoul_map)\n",
    "    \n",
    "seoul_map.save('dataset/seoul.html')\n",
    "df"
   ]
  },
  {
   "cell_type": "code",
   "execution_count": null,
   "id": "8766d8e4",
   "metadata": {},
   "outputs": [],
   "source": [
    "df = pd.read_excel('dataset/서울지역 대학교 위치.xlsx', header=None, skiprows=1)\n",
    "df.columns = ['학교명', '위도', '경도']\n",
    "\n",
    "df.set_index('학교명', inplace=True)\n",
    "df.head(10)"
   ]
  },
  {
   "cell_type": "code",
   "execution_count": null,
   "id": "16d95463",
   "metadata": {},
   "outputs": [],
   "source": [
    "for name, lat, lng in zip(df.index, df.위도, df.경도):\n",
    "    folium.CircleMarker([lat, lng],\n",
    "                    radius=10,         # 원의 반지름\n",
    "                    color='brown',     # 원의 둘레 색상\n",
    "                    fill=True,\n",
    "                    fill_color='coral', # 원을 채우는 색\n",
    "                    fill_opacity=0.7, # 투명도\n",
    "                    popup=name).add_to(seoul_map)\n",
    "seoul_map.save('dataset/seoul_curcle.html')"
   ]
  },
  {
   "cell_type": "code",
   "execution_count": null,
   "id": "3f8d632f",
   "metadata": {},
   "outputs": [],
   "source": [
    "import json\n",
    "\n",
    "# 경기도 인구변화 데이터를 불러와서 데이터프레임으로 변환\n",
    "file_path = 'dataset/경기도인구데이터.xlsx'\n",
    "df = pd.read_excel(file_path, index_col='구분', engine= 'openpyxl')\n",
    "df.columns = df.columns.map(str)\n",
    "\n",
    "# 경기도 시군구 경계 정보를 가진 geo-json 파일 불러오기\n",
    "geo_path = 'dataset/경기도행정구역경계.json'\n",
    "try:\n",
    "    geo_data = json.load(open(geo_path, encoding='utf-8'))\n",
    "except:\n",
    "    geo_data = json.load(open(geo_path, encoding='utf-8-sig'))\n",
    "\n",
    "# 경기도 지도 만들기\n",
    "g_map = folium.Map(location=[37.5502,126.982], \n",
    "                   tiles='Stamen Terrain', zoom_start=9)\n",
    "\n",
    "# 출력할 연도 선택 (2007 ~ 2017년 중에서 선택)\n",
    "year = '2017'\n",
    "\n",
    "# Choropleth 클래스로 단계구분도 표시하기\n",
    "folium.Choropleth(geo_data=geo_data,    # 지도 경계\n",
    "                 data = df[year],      # 표시하려는 데이터\n",
    "                 columns = [df.index, df[year]],  # 열 지정\n",
    "                 fill_color='YlOrRd', fill_opacity=0.7, line_opacity=0.3,\n",
    "                 threshold_scale=[10000, 100000, 300000, 500000, 700000],\n",
    "                 key_on='feature.properties.name',\n",
    "                 ).add_to(g_map)\n",
    "\n",
    "# 지도를 HTML 파일로 저장하기\n",
    "g_map.save('./gyonggipopulation' + year + '.html')"
   ]
  },
  {
   "cell_type": "code",
   "execution_count": 38,
   "id": "b3a20c5c",
   "metadata": {},
   "outputs": [
    {
     "name": "stdout",
     "output_type": "stream",
     "text": [
      "<class 'pandas.core.frame.DataFrame'>\n",
      "RangeIndex: 891 entries, 0 to 890\n",
      "Data columns (total 15 columns):\n",
      " #   Column       Non-Null Count  Dtype   \n",
      "---  ------       --------------  -----   \n",
      " 0   survived     891 non-null    int64   \n",
      " 1   pclass       891 non-null    int64   \n",
      " 2   sex          891 non-null    object  \n",
      " 3   age          714 non-null    float64 \n",
      " 4   sibsp        891 non-null    int64   \n",
      " 5   parch        891 non-null    int64   \n",
      " 6   fare         891 non-null    float64 \n",
      " 7   embarked     889 non-null    object  \n",
      " 8   class        891 non-null    category\n",
      " 9   who          891 non-null    object  \n",
      " 10  adult_male   891 non-null    bool    \n",
      " 11  deck         203 non-null    category\n",
      " 12  embark_town  889 non-null    object  \n",
      " 13  alive        891 non-null    object  \n",
      " 14  alone        891 non-null    bool    \n",
      "dtypes: bool(2), category(2), float64(2), int64(4), object(5)\n",
      "memory usage: 80.7+ KB\n"
     ]
    }
   ],
   "source": [
    "df = sns.load_dataset('titanic')\n",
    "df.info()"
   ]
  },
  {
   "cell_type": "code",
   "execution_count": null,
   "id": "6e499d0b",
   "metadata": {},
   "outputs": [],
   "source": [
    "# deck 칼럼의 값들의 갯수를 새어 봄 df.value_counts() : 유니크한 값들의 갯수\n",
    "print(df['deck'].value_counts())\n",
    "deck_cnt = df['deck'].value_counts(dropna=False) # Nan 데이터 계산하기\n",
    "print(deck_cnt)\n",
    "\n",
    "# isnull() 메서드로 누락된 데이터 찾기, null 이면 True, 값이 있으면 False 반환\n",
    "print(df['deck'].head().isnull())\n",
    "print()"
   ]
  },
  {
   "cell_type": "code",
   "execution_count": 18,
   "id": "bcae3298",
   "metadata": {},
   "outputs": [
    {
     "name": "stdout",
     "output_type": "stream",
     "text": [
      "688\n"
     ]
    },
    {
     "data": {
      "text/plain": [
       "survived         0\n",
       "pclass           0\n",
       "sex              0\n",
       "age            177\n",
       "sibsp            0\n",
       "parch            0\n",
       "fare             0\n",
       "embarked         2\n",
       "class            0\n",
       "who              0\n",
       "adult_male       0\n",
       "deck           688\n",
       "embark_town      2\n",
       "alive            0\n",
       "alone            0\n",
       "dtype: int64"
      ]
     },
     "execution_count": 18,
     "metadata": {},
     "output_type": "execute_result"
    }
   ],
   "source": [
    "# isnull()과 sum() 함수를 사용하여 누락된 데이터 갯수 확인\n",
    "print(df['deck'].isnull().sum())\n",
    "df.isnull().sum(axis=0)"
   ]
  },
  {
   "cell_type": "code",
   "execution_count": 19,
   "id": "4d870f76",
   "metadata": {},
   "outputs": [
    {
     "name": "stdout",
     "output_type": "stream",
     "text": [
      "survived : 0\n",
      "pclass : 0\n",
      "sex : 0\n",
      "age : 177\n",
      "sibsp : 0\n",
      "parch : 0\n",
      "fare : 0\n",
      "embarked : 2\n",
      "class : 0\n",
      "who : 0\n",
      "adult_male : 0\n",
      "deck : 688\n",
      "embark_town : 2\n",
      "alive : 0\n",
      "alone : 0\n"
     ]
    }
   ],
   "source": [
    "# 반복문으로 Nan 데이터 개수 계산하기\n",
    "nan_data = df.isnull()\n",
    "for col in nan_data.columns:\n",
    "    nan_cnt = nan_data[col].value_counts()\n",
    "    \n",
    "    try:\n",
    "        print(col, ':', nan_cnt[True]) # Nan 값이 존재하면 개수를 출력\n",
    "    except:\n",
    "        print(col, ':', 0) # Nan 값이 없으면 0을 출력\n",
    "\n",
    "# Nan 데이터 확인 -> 어떻게 처리 할 건지?\n",
    "# Nan 데이터가 있는 컬럼을 삭제?, Nan 데이터가 있는 행을 삭제?"
   ]
  },
  {
   "cell_type": "code",
   "execution_count": 22,
   "id": "64e7cc32",
   "metadata": {},
   "outputs": [
    {
     "name": "stdout",
     "output_type": "stream",
     "text": [
      "<class 'pandas.core.frame.DataFrame'>\n",
      "RangeIndex: 891 entries, 0 to 890\n",
      "Data columns (total 14 columns):\n",
      " #   Column       Non-Null Count  Dtype   \n",
      "---  ------       --------------  -----   \n",
      " 0   survived     891 non-null    int64   \n",
      " 1   pclass       891 non-null    int64   \n",
      " 2   sex          891 non-null    object  \n",
      " 3   age          714 non-null    float64 \n",
      " 4   sibsp        891 non-null    int64   \n",
      " 5   parch        891 non-null    int64   \n",
      " 6   fare         891 non-null    float64 \n",
      " 7   embarked     889 non-null    object  \n",
      " 8   class        891 non-null    category\n",
      " 9   who          891 non-null    object  \n",
      " 10  adult_male   891 non-null    bool    \n",
      " 11  embark_town  889 non-null    object  \n",
      " 12  alive        891 non-null    object  \n",
      " 13  alone        891 non-null    bool    \n",
      "dtypes: bool(2), category(1), float64(2), int64(4), object(5)\n",
      "memory usage: 79.4+ KB\n",
      "<class 'pandas.core.frame.DataFrame'>\n",
      "Int64Index: 714 entries, 0 to 890\n",
      "Data columns (total 15 columns):\n",
      " #   Column       Non-Null Count  Dtype   \n",
      "---  ------       --------------  -----   \n",
      " 0   survived     714 non-null    int64   \n",
      " 1   pclass       714 non-null    int64   \n",
      " 2   sex          714 non-null    object  \n",
      " 3   age          714 non-null    float64 \n",
      " 4   sibsp        714 non-null    int64   \n",
      " 5   parch        714 non-null    int64   \n",
      " 6   fare         714 non-null    float64 \n",
      " 7   embarked     712 non-null    object  \n",
      " 8   class        714 non-null    category\n",
      " 9   who          714 non-null    object  \n",
      " 10  adult_male   714 non-null    bool    \n",
      " 11  deck         184 non-null    category\n",
      " 12  embark_town  712 non-null    object  \n",
      " 13  alive        714 non-null    object  \n",
      " 14  alone        714 non-null    bool    \n",
      "dtypes: bool(2), category(2), float64(2), int64(4), object(5)\n",
      "memory usage: 70.2+ KB\n"
     ]
    }
   ],
   "source": [
    "# df.dropna() : axis=1 열을 삭제, axis=0 행을 삭제\n",
    "# dropna(thresh=500) : Nan이 존재하는 컬럼을 삭제, 갯수가 500 이상인 컬럼만 삭제\n",
    "df_thresh = df.dropna(axis=1, thresh=500)\n",
    "df_thresh.info()\n",
    "\n",
    "# age에 Nan이 존재하는 행을 삭제\n",
    "df_age = df.dropna(subset=['age'], how='any', axis=0)\n",
    "df_age.info()"
   ]
  },
  {
   "cell_type": "code",
   "execution_count": 34,
   "id": "73f62c06",
   "metadata": {},
   "outputs": [
    {
     "name": "stdout",
     "output_type": "stream",
     "text": [
      "[survived       False\n",
      "pclass         False\n",
      "sex            False\n",
      "age             True\n",
      "sibsp          False\n",
      "parch          False\n",
      "fare           False\n",
      "embarked        True\n",
      "class          False\n",
      "who            False\n",
      "adult_male     False\n",
      "deck            True\n",
      "embark_town     True\n",
      "alive          False\n",
      "alone          False\n",
      "dtype: bool]\n",
      "\n",
      "survived       False\n",
      "pclass         False\n",
      "sex            False\n",
      "age             True\n",
      "sibsp          False\n",
      "parch          False\n",
      "fare           False\n",
      "embarked        True\n",
      "class          False\n",
      "who            False\n",
      "adult_male     False\n",
      "deck            True\n",
      "embark_town     True\n",
      "alive          False\n",
      "alone          False\n",
      "dtype: bool\n",
      "<class 'pandas.core.frame.DataFrame'>\n",
      "Int64Index: 182 entries, 1 to 889\n",
      "Data columns (total 15 columns):\n",
      " #   Column       Non-Null Count  Dtype   \n",
      "---  ------       --------------  -----   \n",
      " 0   survived     182 non-null    int64   \n",
      " 1   pclass       182 non-null    int64   \n",
      " 2   sex          182 non-null    object  \n",
      " 3   age          182 non-null    float64 \n",
      " 4   sibsp        182 non-null    int64   \n",
      " 5   parch        182 non-null    int64   \n",
      " 6   fare         182 non-null    float64 \n",
      " 7   embarked     182 non-null    object  \n",
      " 8   class        182 non-null    category\n",
      " 9   who          182 non-null    object  \n",
      " 10  adult_male   182 non-null    bool    \n",
      " 11  deck         182 non-null    category\n",
      " 12  embark_town  182 non-null    object  \n",
      " 13  alive        182 non-null    object  \n",
      " 14  alone        182 non-null    bool    \n",
      "dtypes: bool(2), category(2), float64(2), int64(4), object(5)\n",
      "memory usage: 18.2+ KB\n"
     ]
    }
   ],
   "source": [
    "# 컬럼리스트 : Nan이 존재하는 컬럼리스트\n",
    "nan_col = [df.isnull().sum()>0]   # 마스크\n",
    "print(nan_col)\n",
    "\n",
    "print()\n",
    "print(df.isnull().sum()>0)\n",
    "non_col_names = list(df.columns[nan_col])\n",
    "non_col_names\n",
    "# Nan이 존재하는 모든 행을 삭제\n",
    "df_nan = df.dropna(subset=non_col_names, how='any', axis=0)\n",
    "df_nan.info()"
   ]
  },
  {
   "cell_type": "code",
   "execution_count": 41,
   "id": "76da9fb0",
   "metadata": {},
   "outputs": [
    {
     "name": "stdout",
     "output_type": "stream",
     "text": [
      "0\n",
      "0    22.000000\n",
      "1    38.000000\n",
      "2    26.000000\n",
      "3    35.000000\n",
      "4    35.000000\n",
      "5    29.699118\n",
      "6    54.000000\n",
      "7     2.000000\n",
      "8    27.000000\n",
      "9    14.000000\n",
      "Name: age, dtype: float64 0    22.000000\n",
      "1    38.000000\n",
      "2    26.000000\n",
      "3    35.000000\n",
      "4    35.000000\n",
      "5    29.699118\n",
      "6    54.000000\n",
      "7     2.000000\n",
      "8    27.000000\n",
      "9    14.000000\n",
      "Name: age, dtype: float64\n"
     ]
    }
   ],
   "source": [
    "# 누락 데이터 치환 : df.fillna(값 또는 method=ffill/bfill, inplace=True)\n",
    "print(df['age'].isnull().sum())\n",
    "\n",
    "# Nan이 입력된 age를 평균 나이로 치환\n",
    "df_age = df.copy()\n",
    "df['age'].fillna(df['age'].mean(axis=0), inplace=True)\n",
    "df_age['age'].isnull().sum()\n",
    "print(df['age'].head(10), df_age['age'].head(10))"
   ]
  },
  {
   "cell_type": "code",
   "execution_count": 46,
   "id": "e8eb05ac",
   "metadata": {},
   "outputs": [
    {
     "name": "stdout",
     "output_type": "stream",
     "text": [
      "<class 'pandas.core.frame.DataFrame'>\n",
      "RangeIndex: 891 entries, 0 to 890\n",
      "Data columns (total 15 columns):\n",
      " #   Column       Non-Null Count  Dtype   \n",
      "---  ------       --------------  -----   \n",
      " 0   survived     891 non-null    int64   \n",
      " 1   pclass       891 non-null    int64   \n",
      " 2   sex          891 non-null    object  \n",
      " 3   age          891 non-null    float64 \n",
      " 4   sibsp        891 non-null    int64   \n",
      " 5   parch        891 non-null    int64   \n",
      " 6   fare         891 non-null    float64 \n",
      " 7   embarked     889 non-null    object  \n",
      " 8   class        891 non-null    category\n",
      " 9   who          891 non-null    object  \n",
      " 10  adult_male   891 non-null    bool    \n",
      " 11  deck         203 non-null    category\n",
      " 12  embark_town  891 non-null    object  \n",
      " 13  alive        891 non-null    object  \n",
      " 14  alone        891 non-null    bool    \n",
      "dtypes: bool(2), category(2), float64(2), int64(4), object(5)\n",
      "memory usage: 80.7+ KB\n"
     ]
    }
   ],
   "source": [
    "# 가장 빈번하게 나오는 값으로 치환\n",
    "df.embark_town[825:832]\n",
    "df['embark_town'].value_counts().idxmax()\n",
    "df_em = df.copy()\n",
    "df_em['embark_town'].fillna(df['embark_town'].value_counts().idxmax(), inplace=True)\n",
    "df_em.info()"
   ]
  },
  {
   "cell_type": "code",
   "execution_count": 51,
   "id": "fcfa3fc0",
   "metadata": {},
   "outputs": [
    {
     "name": "stdout",
     "output_type": "stream",
     "text": [
      "828    Queenstown\n",
      "829    Queenstown\n",
      "Name: embark_town, dtype: object \n",
      " 828    Queenstown\n",
      "829           NaN\n",
      "Name: embark_town, dtype: object\n"
     ]
    }
   ],
   "source": [
    "# 누락 데이터 치환 : 이전 데이터로 치환\n",
    "df_me = df.copy()\n",
    "df_me.embark_town.fillna(method='ffill', inplace=True)\n",
    "\n",
    "print(df_me.embark_town[[828, 829]],'\\n' , df.embark_town[[828, 829]])"
   ]
  },
  {
   "cell_type": "code",
   "execution_count": null,
   "id": "ef852332",
   "metadata": {},
   "outputs": [],
   "source": [
    "# 중복된거 제거 df.drop_duplicates()"
   ]
  },
  {
   "cell_type": "code",
   "execution_count": 72,
   "id": "630e60c9",
   "metadata": {},
   "outputs": [
    {
     "name": "stdout",
     "output_type": "stream",
     "text": [
      "<class 'pandas.core.frame.DataFrame'>\n",
      "RangeIndex: 891 entries, 0 to 890\n",
      "Data columns (total 4 columns):\n",
      " #   Column  Non-Null Count  Dtype   \n",
      "---  ------  --------------  -----   \n",
      " 0   age     891 non-null    float64 \n",
      " 1   fare    891 non-null    float64 \n",
      " 2   class   891 non-null    category\n",
      " 3   alive   891 non-null    object  \n",
      "dtypes: category(1), float64(2), object(1)\n",
      "memory usage: 22.0+ KB\n"
     ]
    }
   ],
   "source": [
    "# titanic 에서 age, fare, class, alive 컬럼만 가져와서 df_titanic 로 저장한 후\n",
    "# Nan 있는 칼럼의 값의 숫자는 평균으로, 문자는 이전 값을 대체\n",
    "# 중복된 행과 컬럼은 삭제\n",
    "\n",
    "df_titancic = df[['age', 'fare', 'class', 'alive']]\n",
    "df_titancic.info()"
   ]
  },
  {
   "cell_type": "code",
   "execution_count": 71,
   "id": "f46f9182",
   "metadata": {},
   "outputs": [
    {
     "name": "stdout",
     "output_type": "stream",
     "text": [
      "<class 'pandas.core.frame.DataFrame'>\n",
      "Int64Index: 746 entries, 0 to 890\n",
      "Data columns (total 4 columns):\n",
      " #   Column  Non-Null Count  Dtype   \n",
      "---  ------  --------------  -----   \n",
      " 0   age     746 non-null    float64 \n",
      " 1   fare    746 non-null    float64 \n",
      " 2   class   746 non-null    category\n",
      " 3   alive   746 non-null    object  \n",
      "dtypes: category(1), float64(2), object(1)\n",
      "memory usage: 24.2+ KB\n"
     ]
    },
    {
     "name": "stderr",
     "output_type": "stream",
     "text": [
      "C:\\ProgramData\\Anaconda3\\lib\\site-packages\\pandas\\util\\_decorators.py:311: SettingWithCopyWarning: \n",
      "A value is trying to be set on a copy of a slice from a DataFrame\n",
      "\n",
      "See the caveats in the documentation: https://pandas.pydata.org/pandas-docs/stable/user_guide/indexing.html#returning-a-view-versus-a-copy\n",
      "  return func(*args, **kwargs)\n"
     ]
    }
   ],
   "source": [
    "df_titancic.loc[:,['age', 'fare']].fillna(df_titancic.loc[:,['age', 'fare']].mean(axis=0), inplace=True)\n",
    "\n",
    "df_titancic.loc[:,['class', 'alive']].fillna(method='ffill', inplace=True)\n",
    "\n",
    "df_titancic.drop_duplicates(inplace=True)\n",
    "\n",
    "df_titancic.info()"
   ]
  },
  {
   "cell_type": "code",
   "execution_count": 79,
   "id": "1c899b5b",
   "metadata": {},
   "outputs": [
    {
     "name": "stdout",
     "output_type": "stream",
     "text": [
      "<class 'pandas.core.frame.DataFrame'>\n",
      "RangeIndex: 398 entries, 0 to 397\n",
      "Data columns (total 9 columns):\n",
      " #   Column        Non-Null Count  Dtype  \n",
      "---  ------        --------------  -----  \n",
      " 0   mpg           398 non-null    float64\n",
      " 1   cylinders     398 non-null    int64  \n",
      " 2   displacement  398 non-null    float64\n",
      " 3   horsepower    398 non-null    object \n",
      " 4   weight        398 non-null    float64\n",
      " 5   acceleration  398 non-null    float64\n",
      " 6   model year    398 non-null    int64  \n",
      " 7   origin        398 non-null    int64  \n",
      " 8   name          398 non-null    object \n",
      "dtypes: float64(4), int64(3), object(2)\n",
      "memory usage: 28.1+ KB\n"
     ]
    }
   ],
   "source": [
    "# dataset/auto_mpg.csv\n",
    "# 데이터 표준화\n",
    "df = pd.read_csv('dataset/auto-mpg.csv', header=None)\n",
    "\n",
    "# 컬럼 이름 지정\n",
    "df.columns = ['mpg','cylinders','displacement','horsepower','weight',\n",
    "              'acceleration','model year','origin','name']\n",
    "df.head()\n",
    "df.info()"
   ]
  },
  {
   "cell_type": "code",
   "execution_count": 81,
   "id": "6c582327",
   "metadata": {},
   "outputs": [
    {
     "data": {
      "text/html": [
       "<div>\n",
       "<style scoped>\n",
       "    .dataframe tbody tr th:only-of-type {\n",
       "        vertical-align: middle;\n",
       "    }\n",
       "\n",
       "    .dataframe tbody tr th {\n",
       "        vertical-align: top;\n",
       "    }\n",
       "\n",
       "    .dataframe thead th {\n",
       "        text-align: right;\n",
       "    }\n",
       "</style>\n",
       "<table border=\"1\" class=\"dataframe\">\n",
       "  <thead>\n",
       "    <tr style=\"text-align: right;\">\n",
       "      <th></th>\n",
       "      <th>mpg</th>\n",
       "      <th>cylinders</th>\n",
       "      <th>displacement</th>\n",
       "      <th>horsepower</th>\n",
       "      <th>weight</th>\n",
       "      <th>acceleration</th>\n",
       "      <th>model year</th>\n",
       "      <th>origin</th>\n",
       "      <th>name</th>\n",
       "      <th>kpl</th>\n",
       "    </tr>\n",
       "  </thead>\n",
       "  <tbody>\n",
       "    <tr>\n",
       "      <th>0</th>\n",
       "      <td>18.0</td>\n",
       "      <td>8</td>\n",
       "      <td>307.0</td>\n",
       "      <td>130.0</td>\n",
       "      <td>3504.0</td>\n",
       "      <td>12.0</td>\n",
       "      <td>70</td>\n",
       "      <td>1</td>\n",
       "      <td>chevrolet chevelle malibu</td>\n",
       "      <td>7.65</td>\n",
       "    </tr>\n",
       "    <tr>\n",
       "      <th>1</th>\n",
       "      <td>15.0</td>\n",
       "      <td>8</td>\n",
       "      <td>350.0</td>\n",
       "      <td>165.0</td>\n",
       "      <td>3693.0</td>\n",
       "      <td>11.5</td>\n",
       "      <td>70</td>\n",
       "      <td>1</td>\n",
       "      <td>buick skylark 320</td>\n",
       "      <td>6.38</td>\n",
       "    </tr>\n",
       "  </tbody>\n",
       "</table>\n",
       "</div>"
      ],
      "text/plain": [
       "    mpg  cylinders  displacement horsepower  weight  acceleration  model year  \\\n",
       "0  18.0          8         307.0      130.0  3504.0          12.0          70   \n",
       "1  15.0          8         350.0      165.0  3693.0          11.5          70   \n",
       "\n",
       "   origin                       name   kpl  \n",
       "0       1  chevrolet chevelle malibu  7.65  \n",
       "1       1          buick skylark 320  6.38  "
      ]
     },
     "execution_count": 81,
     "metadata": {},
     "output_type": "execute_result"
    }
   ],
   "source": [
    "# 단위 환산 : mpg -> gallon =>kg 으로 변환\n",
    "mpg_to_kg = 1.60934 / 3.78541\n",
    "df['kpl'] = (df['mpg'] * mpg_to_kg).round(2)\n",
    "df.head(2)"
   ]
  },
  {
   "cell_type": "code",
   "execution_count": 87,
   "id": "b0f26099",
   "metadata": {},
   "outputs": [],
   "source": [
    "df['horsepower'].unique() # '?' 발견 -> Nan으로 변경\n",
    "df['horsepower'].replace('?', np.nan, inplace=True)\n",
    "df['horsepower'].unique()\n",
    "\n",
    "# 데이터 타입을 float으로 변경\n",
    "df['horsepower'] = df['horsepower'].astype('float')"
   ]
  },
  {
   "cell_type": "code",
   "execution_count": 89,
   "id": "57720930",
   "metadata": {},
   "outputs": [
    {
     "name": "stdout",
     "output_type": "stream",
     "text": [
      "<class 'pandas.core.frame.DataFrame'>\n",
      "RangeIndex: 398 entries, 0 to 397\n",
      "Data columns (total 10 columns):\n",
      " #   Column        Non-Null Count  Dtype   \n",
      "---  ------        --------------  -----   \n",
      " 0   mpg           398 non-null    float64 \n",
      " 1   cylinders     398 non-null    int64   \n",
      " 2   displacement  398 non-null    float64 \n",
      " 3   horsepower    392 non-null    float64 \n",
      " 4   weight        398 non-null    float64 \n",
      " 5   acceleration  398 non-null    float64 \n",
      " 6   model year    398 non-null    int64   \n",
      " 7   origin        398 non-null    category\n",
      " 8   name          398 non-null    object  \n",
      " 9   kpl           398 non-null    float64 \n",
      "dtypes: category(1), float64(6), int64(2), object(1)\n",
      "memory usage: 28.6+ KB\n"
     ]
    }
   ],
   "source": [
    "# origin : 숫자로 표기되어있음\n",
    "df.origin.unique() # 숫자를 category로 변경 : 제조국 이름으로 변경\n",
    "df.origin.replace({1 : 'USA', 2: \"EU\", 3: 'JPN'}, inplace=True)\n",
    "\n",
    "# object를 카테고리로 변경\n",
    "df.origin = df.origin.astype('category')\n",
    "df.info()"
   ]
  },
  {
   "cell_type": "code",
   "execution_count": 92,
   "id": "afaf95e3",
   "metadata": {},
   "outputs": [
    {
     "name": "stdout",
     "output_type": "stream",
     "text": [
      "<class 'pandas.core.frame.DataFrame'>\n",
      "RangeIndex: 398 entries, 0 to 397\n",
      "Data columns (total 10 columns):\n",
      " #   Column        Non-Null Count  Dtype   \n",
      "---  ------        --------------  -----   \n",
      " 0   mpg           398 non-null    float64 \n",
      " 1   cylinders     398 non-null    int64   \n",
      " 2   displacement  398 non-null    float64 \n",
      " 3   horsepower    392 non-null    float64 \n",
      " 4   weight        398 non-null    float64 \n",
      " 5   acceleration  398 non-null    float64 \n",
      " 6   model year    398 non-null    category\n",
      " 7   origin        398 non-null    category\n",
      " 8   name          398 non-null    object  \n",
      " 9   kpl           398 non-null    float64 \n",
      "dtypes: category(2), float64(6), int64(1), object(1)\n",
      "memory usage: 26.6+ KB\n"
     ]
    },
    {
     "data": {
      "text/plain": [
       "<bound method Series.unique of 0      70\n",
       "1      70\n",
       "2      70\n",
       "3      70\n",
       "4      70\n",
       "       ..\n",
       "393    82\n",
       "394    82\n",
       "395    82\n",
       "396    82\n",
       "397    82\n",
       "Name: model year, Length: 398, dtype: category\n",
       "Categories (13, int64): [70, 71, 72, 73, ..., 79, 80, 81, 82]>"
      ]
     },
     "execution_count": 92,
     "metadata": {},
     "output_type": "execute_result"
    }
   ],
   "source": [
    "# 제조년도 : model year -> 카테고리로 변경\n",
    "df['model year'].unique()\n",
    "\n",
    "# 문자를 category로 변경\n",
    "df['model year'] = df['model year'].astype('category')\n",
    "df.info()\n",
    "df['model year'].unique"
   ]
  },
  {
   "cell_type": "code",
   "execution_count": null,
   "id": "146166b7",
   "metadata": {},
   "outputs": [],
   "source": [
    "# 데이터 전처리\n",
    "# 1. 누락 데이터 처리 : 제거, 치환\n",
    "# 2. 중복 데이터 처리 : 제거(행), 컬럼..\n",
    "# 3. 자료 표준화\n",
    "#   1)단위 환산\n",
    "#   2)자료형 변경 : object -> float, object -> category\n",
    "#    2.1) 변환 불가능한 자료는 Nan으로 치환하고 자료형 변경\n",
    "#    2.2"
   ]
  },
  {
   "cell_type": "code",
   "execution_count": 94,
   "id": "f2830d25",
   "metadata": {},
   "outputs": [
    {
     "name": "stdout",
     "output_type": "stream",
     "text": [
      "<class 'pandas.core.frame.DataFrame'>\n",
      "RangeIndex: 398 entries, 0 to 397\n",
      "Data columns (total 9 columns):\n",
      " #   Column        Non-Null Count  Dtype  \n",
      "---  ------        --------------  -----  \n",
      " 0   mpg           398 non-null    float64\n",
      " 1   cylinders     398 non-null    int64  \n",
      " 2   displacement  398 non-null    float64\n",
      " 3   horsepower    398 non-null    object \n",
      " 4   weight        398 non-null    float64\n",
      " 5   acceleration  398 non-null    float64\n",
      " 6   model year    398 non-null    int64  \n",
      " 7   origin        398 non-null    int64  \n",
      " 8   name          398 non-null    object \n",
      "dtypes: float64(4), int64(3), object(2)\n",
      "memory usage: 28.1+ KB\n"
     ]
    }
   ],
   "source": [
    "df = pd.read_csv('dataset/auto-mpg.csv', header=None)\n",
    "df.columns = ['mpg','cylinders','displacement','horsepower','weight',\n",
    "              'acceleration','model year','origin','name']\n",
    "df.info()"
   ]
  },
  {
   "cell_type": "code",
   "execution_count": 99,
   "id": "8818d0c8",
   "metadata": {},
   "outputs": [
    {
     "name": "stdout",
     "output_type": "stream",
     "text": [
      "mpg             0\n",
      "cylinders       0\n",
      "displacement    0\n",
      "horsepower      0\n",
      "weight          0\n",
      "acceleration    0\n",
      "model year      0\n",
      "origin          0\n",
      "name            0\n",
      "dtype: int64\n"
     ]
    },
    {
     "data": {
      "text/plain": [
       "mpg             0\n",
       "cylinders       0\n",
       "displacement    0\n",
       "horsepower      0\n",
       "weight          0\n",
       "acceleration    0\n",
       "model year      0\n",
       "origin          0\n",
       "name            0\n",
       "dtype: int64"
      ]
     },
     "execution_count": 99,
     "metadata": {},
     "output_type": "execute_result"
    }
   ],
   "source": [
    "df.value_counts()\n",
    "# print(df.isnull().sum())\n",
    "df.isnull().sum(axis=0)"
   ]
  },
  {
   "cell_type": "code",
   "execution_count": 110,
   "id": "6b42cdd3",
   "metadata": {},
   "outputs": [
    {
     "data": {
      "text/html": [
       "<div>\n",
       "<style scoped>\n",
       "    .dataframe tbody tr th:only-of-type {\n",
       "        vertical-align: middle;\n",
       "    }\n",
       "\n",
       "    .dataframe tbody tr th {\n",
       "        vertical-align: top;\n",
       "    }\n",
       "\n",
       "    .dataframe thead th {\n",
       "        text-align: right;\n",
       "    }\n",
       "</style>\n",
       "<table border=\"1\" class=\"dataframe\">\n",
       "  <thead>\n",
       "    <tr style=\"text-align: right;\">\n",
       "      <th></th>\n",
       "      <th>mpg</th>\n",
       "      <th>cylinders</th>\n",
       "      <th>displacement</th>\n",
       "      <th>horsepower</th>\n",
       "      <th>weight</th>\n",
       "      <th>acceleration</th>\n",
       "      <th>model year</th>\n",
       "      <th>origin</th>\n",
       "      <th>name</th>\n",
       "    </tr>\n",
       "  </thead>\n",
       "  <tbody>\n",
       "    <tr>\n",
       "      <th>0</th>\n",
       "      <td>18.0</td>\n",
       "      <td>8</td>\n",
       "      <td>307.0</td>\n",
       "      <td>130.0</td>\n",
       "      <td>3504.0</td>\n",
       "      <td>12.0</td>\n",
       "      <td>70</td>\n",
       "      <td>1</td>\n",
       "      <td>chevrolet chevelle malibu</td>\n",
       "    </tr>\n",
       "    <tr>\n",
       "      <th>1</th>\n",
       "      <td>15.0</td>\n",
       "      <td>8</td>\n",
       "      <td>350.0</td>\n",
       "      <td>165.0</td>\n",
       "      <td>3693.0</td>\n",
       "      <td>11.5</td>\n",
       "      <td>70</td>\n",
       "      <td>1</td>\n",
       "      <td>buick skylark 320</td>\n",
       "    </tr>\n",
       "    <tr>\n",
       "      <th>2</th>\n",
       "      <td>18.0</td>\n",
       "      <td>8</td>\n",
       "      <td>318.0</td>\n",
       "      <td>150.0</td>\n",
       "      <td>3436.0</td>\n",
       "      <td>11.0</td>\n",
       "      <td>70</td>\n",
       "      <td>1</td>\n",
       "      <td>plymouth satellite</td>\n",
       "    </tr>\n",
       "    <tr>\n",
       "      <th>3</th>\n",
       "      <td>16.0</td>\n",
       "      <td>8</td>\n",
       "      <td>304.0</td>\n",
       "      <td>150.0</td>\n",
       "      <td>3433.0</td>\n",
       "      <td>12.0</td>\n",
       "      <td>70</td>\n",
       "      <td>1</td>\n",
       "      <td>amc rebel sst</td>\n",
       "    </tr>\n",
       "    <tr>\n",
       "      <th>4</th>\n",
       "      <td>17.0</td>\n",
       "      <td>8</td>\n",
       "      <td>302.0</td>\n",
       "      <td>140.0</td>\n",
       "      <td>3449.0</td>\n",
       "      <td>10.5</td>\n",
       "      <td>70</td>\n",
       "      <td>1</td>\n",
       "      <td>ford torino</td>\n",
       "    </tr>\n",
       "    <tr>\n",
       "      <th>...</th>\n",
       "      <td>...</td>\n",
       "      <td>...</td>\n",
       "      <td>...</td>\n",
       "      <td>...</td>\n",
       "      <td>...</td>\n",
       "      <td>...</td>\n",
       "      <td>...</td>\n",
       "      <td>...</td>\n",
       "      <td>...</td>\n",
       "    </tr>\n",
       "    <tr>\n",
       "      <th>393</th>\n",
       "      <td>27.0</td>\n",
       "      <td>4</td>\n",
       "      <td>140.0</td>\n",
       "      <td>86.00</td>\n",
       "      <td>2790.0</td>\n",
       "      <td>15.6</td>\n",
       "      <td>82</td>\n",
       "      <td>1</td>\n",
       "      <td>ford mustang gl</td>\n",
       "    </tr>\n",
       "    <tr>\n",
       "      <th>394</th>\n",
       "      <td>44.0</td>\n",
       "      <td>4</td>\n",
       "      <td>97.0</td>\n",
       "      <td>52.00</td>\n",
       "      <td>2130.0</td>\n",
       "      <td>24.6</td>\n",
       "      <td>82</td>\n",
       "      <td>2</td>\n",
       "      <td>vw pickup</td>\n",
       "    </tr>\n",
       "    <tr>\n",
       "      <th>395</th>\n",
       "      <td>32.0</td>\n",
       "      <td>4</td>\n",
       "      <td>135.0</td>\n",
       "      <td>84.00</td>\n",
       "      <td>2295.0</td>\n",
       "      <td>11.6</td>\n",
       "      <td>82</td>\n",
       "      <td>1</td>\n",
       "      <td>dodge rampage</td>\n",
       "    </tr>\n",
       "    <tr>\n",
       "      <th>396</th>\n",
       "      <td>28.0</td>\n",
       "      <td>4</td>\n",
       "      <td>120.0</td>\n",
       "      <td>79.00</td>\n",
       "      <td>2625.0</td>\n",
       "      <td>18.6</td>\n",
       "      <td>82</td>\n",
       "      <td>1</td>\n",
       "      <td>ford ranger</td>\n",
       "    </tr>\n",
       "    <tr>\n",
       "      <th>397</th>\n",
       "      <td>31.0</td>\n",
       "      <td>4</td>\n",
       "      <td>119.0</td>\n",
       "      <td>82.00</td>\n",
       "      <td>2720.0</td>\n",
       "      <td>19.4</td>\n",
       "      <td>82</td>\n",
       "      <td>1</td>\n",
       "      <td>chevy s-10</td>\n",
       "    </tr>\n",
       "  </tbody>\n",
       "</table>\n",
       "<p>398 rows × 9 columns</p>\n",
       "</div>"
      ],
      "text/plain": [
       "      mpg  cylinders  displacement horsepower  weight  acceleration  \\\n",
       "0    18.0          8         307.0      130.0  3504.0          12.0   \n",
       "1    15.0          8         350.0      165.0  3693.0          11.5   \n",
       "2    18.0          8         318.0      150.0  3436.0          11.0   \n",
       "3    16.0          8         304.0      150.0  3433.0          12.0   \n",
       "4    17.0          8         302.0      140.0  3449.0          10.5   \n",
       "..    ...        ...           ...        ...     ...           ...   \n",
       "393  27.0          4         140.0      86.00  2790.0          15.6   \n",
       "394  44.0          4          97.0      52.00  2130.0          24.6   \n",
       "395  32.0          4         135.0      84.00  2295.0          11.6   \n",
       "396  28.0          4         120.0      79.00  2625.0          18.6   \n",
       "397  31.0          4         119.0      82.00  2720.0          19.4   \n",
       "\n",
       "     model year  origin                       name  \n",
       "0            70       1  chevrolet chevelle malibu  \n",
       "1            70       1          buick skylark 320  \n",
       "2            70       1         plymouth satellite  \n",
       "3            70       1              amc rebel sst  \n",
       "4            70       1                ford torino  \n",
       "..          ...     ...                        ...  \n",
       "393          82       1            ford mustang gl  \n",
       "394          82       2                  vw pickup  \n",
       "395          82       1              dodge rampage  \n",
       "396          82       1                ford ranger  \n",
       "397          82       1                 chevy s-10  \n",
       "\n",
       "[398 rows x 9 columns]"
      ]
     },
     "execution_count": 110,
     "metadata": {},
     "output_type": "execute_result"
    }
   ],
   "source": [
    "df['horsepower'].replace('?', np.nan, inplace=True)\n",
    "\n",
    "df.drop_duplicates()"
   ]
  },
  {
   "cell_type": "code",
   "execution_count": 116,
   "id": "4884cda3",
   "metadata": {},
   "outputs": [
    {
     "data": {
      "image/png": "[encoded data removed]",
      "text/plain": [
       "<Figure size 720x360 with 1 Axes>"
      ]
     },
     "metadata": {},
     "output_type": "display_data"
    }
   ],
   "source": [
    "df.plot(kind='scatter', x='weight', y='mpg', figsize=(10,5), color='skyblue',\n",
    "       alpha=1)\n",
    "plt.title('mpg - weight scatter')\n",
    "plt.xlabel('weight')\n",
    "plt.ylabel('mpg')\n",
    "plt.show()"
   ]
  },
  {
   "cell_type": "code",
   "execution_count": 119,
   "id": "aa71f1a7",
   "metadata": {},
   "outputs": [
    {
     "data": {
      "image/png": "[encoded data removed]",
      "text/plain": [
       "<Figure size 1080x360 with 2 Axes>"
      ]
     },
     "metadata": {},
     "output_type": "display_data"
    }
   ],
   "source": [
    "fig = plt.figure(figsize=(15, 5))\n",
    "ax1 = fig.add_subplot(1, 2, 1)\n",
    "ax2 = fig.add_subplot(1, 2, 2)\n",
    "\n",
    "# axe 객체에 boxplot 메서드로 그래프 출력\n",
    "ax1.boxplot(x=[df[df['origin']==1]['mpg'],\n",
    "               df[df['origin']==2]['mpg'],\n",
    "               df[df['origin']==3]['mpg']], \n",
    "         labels=['USA', 'EU', 'JAPAN'])\n",
    "\n",
    "ax2.boxplot(x=[df[df['origin']==1]['mpg'],\n",
    "               df[df['origin']==2]['mpg'],\n",
    "               df[df['origin']==3]['mpg']], \n",
    "         labels=['USA', 'EU', 'JAPAN'],\n",
    "         vert=False)\n",
    "\n",
    "ax1.set_title('제조국가별 연비 분포(수직 박스 플롯)')\n",
    "ax2.set_title('제조국가별 연비 분포(수평 박스 플롯)')\n",
    "\n",
    "plt.show()"
   ]
  },
  {
   "cell_type": "code",
   "execution_count": 120,
   "id": "1bc7d148",
   "metadata": {},
   "outputs": [],
   "source": [
    "df.origin.replace({1 : 'USA', 2: \"EU\", 3: 'JPN'}, inplace=True)"
   ]
  },
  {
   "cell_type": "code",
   "execution_count": 122,
   "id": "5c58ffb5",
   "metadata": {},
   "outputs": [
    {
     "name": "stdout",
     "output_type": "stream",
     "text": [
      "<class 'pandas.core.frame.DataFrame'>\n",
      "RangeIndex: 398 entries, 0 to 397\n",
      "Data columns (total 9 columns):\n",
      " #   Column        Non-Null Count  Dtype  \n",
      "---  ------        --------------  -----  \n",
      " 0   mpg           398 non-null    float64\n",
      " 1   cylinders     398 non-null    int64  \n",
      " 2   displacement  398 non-null    float64\n",
      " 3   horsepower    392 non-null    object \n",
      " 4   weight        398 non-null    float64\n",
      " 5   acceleration  398 non-null    float64\n",
      " 6   model year    398 non-null    int64  \n",
      " 7   origin        398 non-null    object \n",
      " 8   name          398 non-null    object \n",
      "dtypes: float64(4), int64(2), object(3)\n",
      "memory usage: 28.1+ KB\n"
     ]
    }
   ],
   "source": [
    "df.info()"
   ]
  },
  {
   "cell_type": "code",
   "execution_count": null,
   "id": "be951a06",
   "metadata": {},
   "outputs": [],
   "source": []
  }
 ],
 "metadata": {
  "kernelspec": {
   "display_name": "Python 3 (ipykernel)",
   "language": "python",
   "name": "python3"
  },
  "language_info": {
   "codemirror_mode": {
    "name": "ipython",
    "version": 3
   },
   "file_extension": ".py",
   "mimetype": "text/x-python",
   "name": "python",
   "nbconvert_exporter": "python",
   "pygments_lexer": "ipython3",
   "version": "3.9.7"
  }
 },
 "nbformat": 4,
 "nbformat_minor": 5
}
