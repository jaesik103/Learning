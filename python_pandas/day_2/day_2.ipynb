{
 "cells": [
  {
   "cell_type": "code",
   "execution_count": 1,
   "id": "b3c0e0c4",
   "metadata": {},
   "outputs": [],
   "source": [
    "import pandas as pd"
   ]
  },
  {
   "cell_type": "code",
   "execution_count": 13,
   "id": "c855ab77",
   "metadata": {},
   "outputs": [
    {
     "name": "stdout",
     "output_type": "stream",
     "text": [
      "   이름  수학  영어  국어\n",
      "0  서준  90  98  55\n",
      "1  우현  80  89  11\n",
      "2  인아  70  95  22\n",
      "    수학  영어  국어\n",
      "이름            \n",
      "서준  90  98  55\n",
      "우현  80  89  11\n",
      "인아  70  95  22\n"
     ]
    }
   ],
   "source": [
    "# 행과 열을 바꾸기(전치행렬)\n",
    "exam_data = {'이름' : ['서준', '우현', '인아'],\n",
    "            '수학' : [90, 80, 70],\n",
    "            '영어' : [98, 89, 95],\n",
    "            '국어' : [55, 11, 22]}\n",
    "df = pd.DataFrame(exam_data)\n",
    "print(df)\n",
    "df.set_index('이름', inplace=True)\n",
    "\n",
    "# df.set_index(['수학','영어'], inplace=True)\n",
    "print(df)"
   ]
  },
  {
   "cell_type": "code",
   "execution_count": 15,
   "id": "97874dfe",
   "metadata": {},
   "outputs": [
    {
     "data": {
      "text/html": [
       "<div>\n",
       "<style scoped>\n",
       "    .dataframe tbody tr th:only-of-type {\n",
       "        vertical-align: middle;\n",
       "    }\n",
       "\n",
       "    .dataframe tbody tr th {\n",
       "        vertical-align: top;\n",
       "    }\n",
       "\n",
       "    .dataframe thead th {\n",
       "        text-align: right;\n",
       "    }\n",
       "</style>\n",
       "<table border=\"1\" class=\"dataframe\">\n",
       "  <thead>\n",
       "    <tr style=\"text-align: right;\">\n",
       "      <th></th>\n",
       "      <th>수학</th>\n",
       "      <th>영어</th>\n",
       "      <th>국어</th>\n",
       "    </tr>\n",
       "    <tr>\n",
       "      <th>이름</th>\n",
       "      <th></th>\n",
       "      <th></th>\n",
       "      <th></th>\n",
       "    </tr>\n",
       "  </thead>\n",
       "  <tbody>\n",
       "    <tr>\n",
       "      <th>서준</th>\n",
       "      <td>90</td>\n",
       "      <td>98</td>\n",
       "      <td>55</td>\n",
       "    </tr>\n",
       "    <tr>\n",
       "      <th>우현</th>\n",
       "      <td>80</td>\n",
       "      <td>89</td>\n",
       "      <td>11</td>\n",
       "    </tr>\n",
       "    <tr>\n",
       "      <th>인아</th>\n",
       "      <td>70</td>\n",
       "      <td>95</td>\n",
       "      <td>22</td>\n",
       "    </tr>\n",
       "  </tbody>\n",
       "</table>\n",
       "</div>"
      ],
      "text/plain": [
       "    수학  영어  국어\n",
       "이름            \n",
       "서준  90  98  55\n",
       "우현  80  89  11\n",
       "인아  70  95  22"
      ]
     },
     "execution_count": 15,
     "metadata": {},
     "output_type": "execute_result"
    }
   ],
   "source": [
    "df = df.T\n",
    "df"
   ]
  },
  {
   "cell_type": "code",
   "execution_count": 83,
   "id": "778360af",
   "metadata": {},
   "outputs": [
    {
     "data": {
      "text/html": [
       "<div>\n",
       "<style scoped>\n",
       "    .dataframe tbody tr th:only-of-type {\n",
       "        vertical-align: middle;\n",
       "    }\n",
       "\n",
       "    .dataframe tbody tr th {\n",
       "        vertical-align: top;\n",
       "    }\n",
       "\n",
       "    .dataframe thead th {\n",
       "        text-align: right;\n",
       "    }\n",
       "</style>\n",
       "<table border=\"1\" class=\"dataframe\">\n",
       "  <thead>\n",
       "    <tr style=\"text-align: right;\">\n",
       "      <th></th>\n",
       "      <th>c0</th>\n",
       "      <th>c1</th>\n",
       "      <th>c2</th>\n",
       "      <th>c3</th>\n",
       "    </tr>\n",
       "  </thead>\n",
       "  <tbody>\n",
       "    <tr>\n",
       "      <th>r1</th>\n",
       "      <td>1</td>\n",
       "      <td>4</td>\n",
       "      <td>7</td>\n",
       "      <td>10</td>\n",
       "    </tr>\n",
       "    <tr>\n",
       "      <th>r2</th>\n",
       "      <td>2</td>\n",
       "      <td>5</td>\n",
       "      <td>0</td>\n",
       "      <td>11</td>\n",
       "    </tr>\n",
       "    <tr>\n",
       "      <th>r3</th>\n",
       "      <td>3</td>\n",
       "      <td>6</td>\n",
       "      <td>9</td>\n",
       "      <td>12</td>\n",
       "    </tr>\n",
       "  </tbody>\n",
       "</table>\n",
       "</div>"
      ],
      "text/plain": [
       "    c0  c1  c2  c3\n",
       "r1   1   4   7  10\n",
       "r2   2   5   0  11\n",
       "r3   3   6   9  12"
      ]
     },
     "execution_count": 83,
     "metadata": {},
     "output_type": "execute_result"
    }
   ],
   "source": [
    "# reindex(새로운 인덱스 배열) : 기존의 자료변경 X, 새로운 데이터프레임 반환\n",
    "dict_data = {'c0' : [1,2,3], 'c1' : [4, 5, 6], 'c2' : [7, 0, 9], 'c3' : [10, 11, 12]}\n",
    "df = pd.DataFrame(dict_data, index=['r1', 'r2', 'r3'])\n",
    "df"
   ]
  },
  {
   "cell_type": "code",
   "execution_count": 84,
   "id": "9dadb073",
   "metadata": {},
   "outputs": [
    {
     "name": "stdout",
     "output_type": "stream",
     "text": [
      "     c0   c1   c2    c3\n",
      "r0  NaN  NaN  NaN   NaN\n",
      "r1  1.0  4.0  7.0  10.0\n",
      "r2  2.0  5.0  0.0  11.0\n",
      "r3  3.0  6.0  9.0  12.0\n",
      "r4  NaN  NaN  NaN   NaN\n"
     ]
    }
   ],
   "source": [
    "# index를 ['r0', 'r1', 'r2', 'r3', 'r4']\n",
    "new_index = ['r0', 'r1', 'r2', 'r3', 'r4']\n",
    "ndf = df.reindex(new_index) # 존재하지않는 인덱스의 값은 Nan으로 채움\n",
    "print(ndf)\n",
    "\n",
    "# ndf1 = df.reindex(new_index, fill_value=0) # 0으로 채움\n",
    "# ndf1\n",
    "# # method\n",
    "# ndf1 = df.reindex(new_index, method='bfill') # 이후 자료 복사\n",
    "# ndf1"
   ]
  },
  {
   "cell_type": "code",
   "execution_count": 27,
   "id": "88bc8887",
   "metadata": {},
   "outputs": [
    {
     "name": "stdout",
     "output_type": "stream",
     "text": [
      "    c0  c1  c2  c3\n",
      "r1   1   4   7  10\n",
      "r2   2   5   8  11\n",
      "r3   3   6   9  12\n",
      "  index  c0  c1  c2  c3\n",
      "0    r1   1   4   7  10\n",
      "1    r2   2   5   8  11\n",
      "2    r3   3   6   9  12\n"
     ]
    },
    {
     "data": {
      "text/html": [
       "<div>\n",
       "<style scoped>\n",
       "    .dataframe tbody tr th:only-of-type {\n",
       "        vertical-align: middle;\n",
       "    }\n",
       "\n",
       "    .dataframe tbody tr th {\n",
       "        vertical-align: top;\n",
       "    }\n",
       "\n",
       "    .dataframe thead th {\n",
       "        text-align: right;\n",
       "    }\n",
       "</style>\n",
       "<table border=\"1\" class=\"dataframe\">\n",
       "  <thead>\n",
       "    <tr style=\"text-align: right;\">\n",
       "      <th></th>\n",
       "      <th>c0</th>\n",
       "      <th>c1</th>\n",
       "      <th>c2</th>\n",
       "      <th>c3</th>\n",
       "    </tr>\n",
       "  </thead>\n",
       "  <tbody>\n",
       "    <tr>\n",
       "      <th>r1</th>\n",
       "      <td>1</td>\n",
       "      <td>4</td>\n",
       "      <td>7</td>\n",
       "      <td>10</td>\n",
       "    </tr>\n",
       "    <tr>\n",
       "      <th>r2</th>\n",
       "      <td>2</td>\n",
       "      <td>5</td>\n",
       "      <td>8</td>\n",
       "      <td>11</td>\n",
       "    </tr>\n",
       "    <tr>\n",
       "      <th>r3</th>\n",
       "      <td>3</td>\n",
       "      <td>6</td>\n",
       "      <td>9</td>\n",
       "      <td>12</td>\n",
       "    </tr>\n",
       "  </tbody>\n",
       "</table>\n",
       "</div>"
      ],
      "text/plain": [
       "    c0  c1  c2  c3\n",
       "r1   1   4   7  10\n",
       "r2   2   5   8  11\n",
       "r3   3   6   9  12"
      ]
     },
     "execution_count": 27,
     "metadata": {},
     "output_type": "execute_result"
    }
   ],
   "source": [
    "# reset_index() : 인덱스 초기화\n",
    "print(df)\n",
    "print(df.reset_index()) # 기존 인덱스 칼럼으로, 인덱스는 초기화\n",
    "df.reset_index(drop=True)\n",
    "df"
   ]
  },
  {
   "cell_type": "code",
   "execution_count": 28,
   "id": "ddd3f8c2",
   "metadata": {},
   "outputs": [
    {
     "data": {
      "text/html": [
       "<div>\n",
       "<style scoped>\n",
       "    .dataframe tbody tr th:only-of-type {\n",
       "        vertical-align: middle;\n",
       "    }\n",
       "\n",
       "    .dataframe tbody tr th {\n",
       "        vertical-align: top;\n",
       "    }\n",
       "\n",
       "    .dataframe thead th {\n",
       "        text-align: right;\n",
       "    }\n",
       "</style>\n",
       "<table border=\"1\" class=\"dataframe\">\n",
       "  <thead>\n",
       "    <tr style=\"text-align: right;\">\n",
       "      <th></th>\n",
       "      <th>c0</th>\n",
       "      <th>c1</th>\n",
       "      <th>c2</th>\n",
       "      <th>c3</th>\n",
       "    </tr>\n",
       "  </thead>\n",
       "  <tbody>\n",
       "    <tr>\n",
       "      <th>r3</th>\n",
       "      <td>3</td>\n",
       "      <td>6</td>\n",
       "      <td>9</td>\n",
       "      <td>12</td>\n",
       "    </tr>\n",
       "    <tr>\n",
       "      <th>r2</th>\n",
       "      <td>2</td>\n",
       "      <td>5</td>\n",
       "      <td>8</td>\n",
       "      <td>11</td>\n",
       "    </tr>\n",
       "    <tr>\n",
       "      <th>r1</th>\n",
       "      <td>1</td>\n",
       "      <td>4</td>\n",
       "      <td>7</td>\n",
       "      <td>10</td>\n",
       "    </tr>\n",
       "  </tbody>\n",
       "</table>\n",
       "</div>"
      ],
      "text/plain": [
       "    c0  c1  c2  c3\n",
       "r3   3   6   9  12\n",
       "r2   2   5   8  11\n",
       "r1   1   4   7  10"
      ]
     },
     "execution_count": 28,
     "metadata": {},
     "output_type": "execute_result"
    }
   ],
   "source": [
    "# 인덱스를 기준으로 정렬\n",
    "df.sort_index(ascending=False)"
   ]
  },
  {
   "cell_type": "code",
   "execution_count": 34,
   "id": "707dfd60",
   "metadata": {},
   "outputs": [
    {
     "data": {
      "text/html": [
       "<div>\n",
       "<style scoped>\n",
       "    .dataframe tbody tr th:only-of-type {\n",
       "        vertical-align: middle;\n",
       "    }\n",
       "\n",
       "    .dataframe tbody tr th {\n",
       "        vertical-align: top;\n",
       "    }\n",
       "\n",
       "    .dataframe thead th {\n",
       "        text-align: right;\n",
       "    }\n",
       "</style>\n",
       "<table border=\"1\" class=\"dataframe\">\n",
       "  <thead>\n",
       "    <tr style=\"text-align: right;\">\n",
       "      <th></th>\n",
       "      <th>c0</th>\n",
       "      <th>c1</th>\n",
       "      <th>c2</th>\n",
       "      <th>c3</th>\n",
       "    </tr>\n",
       "  </thead>\n",
       "  <tbody>\n",
       "    <tr>\n",
       "      <th>r3</th>\n",
       "      <td>3</td>\n",
       "      <td>6</td>\n",
       "      <td>9</td>\n",
       "      <td>12</td>\n",
       "    </tr>\n",
       "    <tr>\n",
       "      <th>r1</th>\n",
       "      <td>2</td>\n",
       "      <td>4</td>\n",
       "      <td>7</td>\n",
       "      <td>10</td>\n",
       "    </tr>\n",
       "    <tr>\n",
       "      <th>r2</th>\n",
       "      <td>2</td>\n",
       "      <td>5</td>\n",
       "      <td>0</td>\n",
       "      <td>11</td>\n",
       "    </tr>\n",
       "  </tbody>\n",
       "</table>\n",
       "</div>"
      ],
      "text/plain": [
       "    c0  c1  c2  c3\n",
       "r3   3   6   9  12\n",
       "r1   2   4   7  10\n",
       "r2   2   5   0  11"
      ]
     },
     "execution_count": 34,
     "metadata": {},
     "output_type": "execute_result"
    }
   ],
   "source": [
    "# 칼럼을 기준으로 정렬\n",
    "df.loc['r1', 'c0']=2\n",
    "df.sort_values(by=['c0','c2'], ascending=False)"
   ]
  },
  {
   "cell_type": "code",
   "execution_count": null,
   "id": "86f03687",
   "metadata": {},
   "outputs": [],
   "source": [
    "# 시리즈 연산 : 시리즈 +-*/ 사칙연산가능\n",
    "# 1. 인덱스로 정렬\n",
    "# 2. 매칭되는 값에 대해 연산, Nan이 있으면 결과는 Nan\n",
    "# 3. 결과 리턴 -> 인덱스로 정렬된 상태"
   ]
  },
  {
   "cell_type": "code",
   "execution_count": 37,
   "id": "f40848b2",
   "metadata": {},
   "outputs": [
    {
     "name": "stdout",
     "output_type": "stream",
     "text": [
      "국어    100\n",
      "수학     90\n",
      "영어     90\n",
      "dtype: int64\n",
      "국어    300\n",
      "수학    290\n",
      "영어    290\n",
      "dtype: int64\n",
      "국어   -100\n",
      "수학   -110\n",
      "영어   -110\n",
      "dtype: int64\n",
      "국어    20000\n",
      "수학    18000\n",
      "영어    18000\n",
      "dtype: int64\n",
      "국어    0.50\n",
      "수학    0.45\n",
      "영어    0.45\n",
      "dtype: float64\n"
     ]
    }
   ],
   "source": [
    "student = pd.Series({'국어' : 100, '수학' : 90, \"영어\" : 90})\n",
    "print(student)\n",
    "\n",
    "print(student + 200)\n",
    "print(student - 200)\n",
    "print(student * 200)\n",
    "print(student / 200)"
   ]
  },
  {
   "cell_type": "code",
   "execution_count": 40,
   "id": "bea90133",
   "metadata": {},
   "outputs": [
    {
     "name": "stdout",
     "output_type": "stream",
     "text": [
      "과학      NaN\n",
      "국어      NaN\n",
      "수학    180.0\n",
      "영어    180.0\n",
      "dtype: float64\n"
     ]
    }
   ],
   "source": [
    "# 시리즈 연산\n",
    "import numpy as np\n",
    "student1 = pd.Series({'국어' : np.nan, '수학' : 90, \"영어\" : 90})\n",
    "student2 = pd.Series({'수학' : 90, '국어' : 90, \"영어\" : 90, '과학' : 100})\n",
    "print(student1 + student2)"
   ]
  },
  {
   "cell_type": "code",
   "execution_count": 42,
   "id": "6626256e",
   "metadata": {},
   "outputs": [
    {
     "name": "stdout",
     "output_type": "stream",
     "text": [
      "과학    100.0\n",
      "국어     90.0\n",
      "수학    180.0\n",
      "영어    180.0\n",
      "dtype: float64\n",
      "과학   -100.0\n",
      "국어    -90.0\n",
      "수학      0.0\n",
      "영어      0.0\n",
      "dtype: float64\n",
      "과학       0.0\n",
      "국어       0.0\n",
      "수학    8100.0\n",
      "영어    8100.0\n",
      "dtype: float64\n",
      "과학    0.0\n",
      "국어    0.0\n",
      "수학    1.0\n",
      "영어    1.0\n",
      "dtype: float64\n"
     ]
    }
   ],
   "source": [
    "# 시리즈 연산 메서드 : 시리즈.add(시리즈1, fill_value=0)\n",
    "print(student1.add(student2, fill_value=0))\n",
    "print(student1.sub(student2, fill_value=0))\n",
    "print(student1.mul(student2, fill_value=0))\n",
    "print(student1.div(student2, fill_value=0))"
   ]
  },
  {
   "cell_type": "code",
   "execution_count": 43,
   "id": "393612d5",
   "metadata": {},
   "outputs": [],
   "source": [
    "# 데이터 프레임 연산 (+ - * /)\n",
    "# seaborn 에서 dataset 가져오기\n",
    "import seaborn as sns"
   ]
  },
  {
   "cell_type": "code",
   "execution_count": 54,
   "id": "83bfdcaa",
   "metadata": {},
   "outputs": [],
   "source": [
    "titanic = sns.load_dataset('titanic')\n",
    "titanic.columns\n",
    "df = titanic.loc[:, ['age', 'fare']]"
   ]
  },
  {
   "cell_type": "code",
   "execution_count": 52,
   "id": "63e44967",
   "metadata": {},
   "outputs": [
    {
     "name": "stdout",
     "output_type": "stream",
     "text": [
      "    age     fare\n",
      "0  22.0   7.2500\n",
      "1  38.0  71.2833\n",
      "2  26.0   7.9250\n",
      "3  35.0  53.1000\n",
      "4  35.0   8.0500 \n",
      "     age     fare\n",
      "0  32.0  17.2500\n",
      "1  48.0  81.2833\n",
      "2  36.0  17.9250\n",
      "3  45.0  63.1000\n",
      "4  45.0  18.0500\n"
     ]
    }
   ],
   "source": [
    "print(df.head(), '\\n', (df+10).head())"
   ]
  },
  {
   "cell_type": "code",
   "execution_count": 55,
   "id": "761eab3e",
   "metadata": {},
   "outputs": [
    {
     "data": {
      "text/html": [
       "<div>\n",
       "<style scoped>\n",
       "    .dataframe tbody tr th:only-of-type {\n",
       "        vertical-align: middle;\n",
       "    }\n",
       "\n",
       "    .dataframe tbody tr th {\n",
       "        vertical-align: top;\n",
       "    }\n",
       "\n",
       "    .dataframe thead th {\n",
       "        text-align: right;\n",
       "    }\n",
       "</style>\n",
       "<table border=\"1\" class=\"dataframe\">\n",
       "  <thead>\n",
       "    <tr style=\"text-align: right;\">\n",
       "      <th></th>\n",
       "      <th>age</th>\n",
       "      <th>fare</th>\n",
       "    </tr>\n",
       "  </thead>\n",
       "  <tbody>\n",
       "    <tr>\n",
       "      <th>0</th>\n",
       "      <td>32.0</td>\n",
       "      <td>17.2500</td>\n",
       "    </tr>\n",
       "    <tr>\n",
       "      <th>1</th>\n",
       "      <td>48.0</td>\n",
       "      <td>81.2833</td>\n",
       "    </tr>\n",
       "    <tr>\n",
       "      <th>2</th>\n",
       "      <td>36.0</td>\n",
       "      <td>17.9250</td>\n",
       "    </tr>\n",
       "    <tr>\n",
       "      <th>3</th>\n",
       "      <td>45.0</td>\n",
       "      <td>63.1000</td>\n",
       "    </tr>\n",
       "    <tr>\n",
       "      <th>4</th>\n",
       "      <td>45.0</td>\n",
       "      <td>18.0500</td>\n",
       "    </tr>\n",
       "  </tbody>\n",
       "</table>\n",
       "</div>"
      ],
      "text/plain": [
       "    age     fare\n",
       "0  32.0  17.2500\n",
       "1  48.0  81.2833\n",
       "2  36.0  17.9250\n",
       "3  45.0  63.1000\n",
       "4  45.0  18.0500"
      ]
     },
     "execution_count": 55,
     "metadata": {},
     "output_type": "execute_result"
    }
   ],
   "source": [
    "add_df = df.add(10, fill_value=0)\n",
    "add_df.head()"
   ]
  },
  {
   "cell_type": "code",
   "execution_count": null,
   "id": "7f7f0d15",
   "metadata": {},
   "outputs": [],
   "source": [
    "# seaborn 에서 titanic 데이터셋 로드\n",
    "# class, sex, age, alive 칼럼과 0행부터 100행까지만 자료 추출\n",
    "# 인덱스를 class로 지정하고 인덱스로 정렬"
   ]
  },
  {
   "cell_type": "code",
   "execution_count": 89,
   "id": "cab3864e",
   "metadata": {},
   "outputs": [
    {
     "data": {
      "text/html": [
       "<div>\n",
       "<style scoped>\n",
       "    .dataframe tbody tr th:only-of-type {\n",
       "        vertical-align: middle;\n",
       "    }\n",
       "\n",
       "    .dataframe tbody tr th {\n",
       "        vertical-align: top;\n",
       "    }\n",
       "\n",
       "    .dataframe thead th {\n",
       "        text-align: right;\n",
       "    }\n",
       "</style>\n",
       "<table border=\"1\" class=\"dataframe\">\n",
       "  <thead>\n",
       "    <tr style=\"text-align: right;\">\n",
       "      <th></th>\n",
       "      <th>class</th>\n",
       "      <th>sex</th>\n",
       "      <th>age</th>\n",
       "      <th>alive</th>\n",
       "    </tr>\n",
       "  </thead>\n",
       "  <tbody>\n",
       "    <tr>\n",
       "      <th>0</th>\n",
       "      <td>Third</td>\n",
       "      <td>male</td>\n",
       "      <td>22.0</td>\n",
       "      <td>no</td>\n",
       "    </tr>\n",
       "    <tr>\n",
       "      <th>1</th>\n",
       "      <td>First</td>\n",
       "      <td>female</td>\n",
       "      <td>38.0</td>\n",
       "      <td>yes</td>\n",
       "    </tr>\n",
       "    <tr>\n",
       "      <th>2</th>\n",
       "      <td>Third</td>\n",
       "      <td>female</td>\n",
       "      <td>26.0</td>\n",
       "      <td>yes</td>\n",
       "    </tr>\n",
       "    <tr>\n",
       "      <th>3</th>\n",
       "      <td>First</td>\n",
       "      <td>female</td>\n",
       "      <td>35.0</td>\n",
       "      <td>yes</td>\n",
       "    </tr>\n",
       "    <tr>\n",
       "      <th>4</th>\n",
       "      <td>Third</td>\n",
       "      <td>male</td>\n",
       "      <td>35.0</td>\n",
       "      <td>no</td>\n",
       "    </tr>\n",
       "    <tr>\n",
       "      <th>...</th>\n",
       "      <td>...</td>\n",
       "      <td>...</td>\n",
       "      <td>...</td>\n",
       "      <td>...</td>\n",
       "    </tr>\n",
       "    <tr>\n",
       "      <th>96</th>\n",
       "      <td>First</td>\n",
       "      <td>male</td>\n",
       "      <td>71.0</td>\n",
       "      <td>no</td>\n",
       "    </tr>\n",
       "    <tr>\n",
       "      <th>97</th>\n",
       "      <td>First</td>\n",
       "      <td>male</td>\n",
       "      <td>23.0</td>\n",
       "      <td>yes</td>\n",
       "    </tr>\n",
       "    <tr>\n",
       "      <th>98</th>\n",
       "      <td>Second</td>\n",
       "      <td>female</td>\n",
       "      <td>34.0</td>\n",
       "      <td>yes</td>\n",
       "    </tr>\n",
       "    <tr>\n",
       "      <th>99</th>\n",
       "      <td>Second</td>\n",
       "      <td>male</td>\n",
       "      <td>34.0</td>\n",
       "      <td>no</td>\n",
       "    </tr>\n",
       "    <tr>\n",
       "      <th>100</th>\n",
       "      <td>Third</td>\n",
       "      <td>female</td>\n",
       "      <td>28.0</td>\n",
       "      <td>no</td>\n",
       "    </tr>\n",
       "  </tbody>\n",
       "</table>\n",
       "<p>101 rows × 4 columns</p>\n",
       "</div>"
      ],
      "text/plain": [
       "      class     sex   age alive\n",
       "0     Third    male  22.0    no\n",
       "1     First  female  38.0   yes\n",
       "2     Third  female  26.0   yes\n",
       "3     First  female  35.0   yes\n",
       "4     Third    male  35.0    no\n",
       "..      ...     ...   ...   ...\n",
       "96    First    male  71.0    no\n",
       "97    First    male  23.0   yes\n",
       "98   Second  female  34.0   yes\n",
       "99   Second    male  34.0    no\n",
       "100   Third  female  28.0    no\n",
       "\n",
       "[101 rows x 4 columns]"
      ]
     },
     "execution_count": 89,
     "metadata": {},
     "output_type": "execute_result"
    }
   ],
   "source": [
    "import seaborn as sns\n",
    "titanic = sns.load_dataset('titanic')\n",
    "df = titanic.loc[:, ['class', 'sex', 'age', 'alive']].head(101)\n",
    "df"
   ]
  },
  {
   "cell_type": "code",
   "execution_count": 94,
   "id": "9e81a5a9",
   "metadata": {},
   "outputs": [
    {
     "name": "stdout",
     "output_type": "stream",
     "text": [
      "       class  sex  age alive\n",
      "class                       \n",
      "Third    NaN  NaN  NaN   NaN\n",
      "First    NaN  NaN  NaN   NaN\n",
      "Third    NaN  NaN  NaN   NaN\n",
      "First    NaN  NaN  NaN   NaN\n",
      "Third    NaN  NaN  NaN   NaN\n",
      "...      ...  ...  ...   ...\n",
      "First    NaN  NaN  NaN   NaN\n",
      "First    NaN  NaN  NaN   NaN\n",
      "Second   NaN  NaN  NaN   NaN\n",
      "Second   NaN  NaN  NaN   NaN\n",
      "Third    NaN  NaN  NaN   NaN\n",
      "\n",
      "[101 rows x 4 columns]\n"
     ]
    }
   ],
   "source": [
    "# new_index = df['class']\n",
    "# df_class = df.set_index(new_index)\n",
    "# df_class.sort_index()\n",
    "\n",
    "new_index = df[]\n",
    "df_class = df.reindex(new_index)\n",
    "print(df_class)"
   ]
  },
  {
   "cell_type": "code",
   "execution_count": 92,
   "id": "398897d5",
   "metadata": {},
   "outputs": [
    {
     "data": {
      "text/plain": [
       "0       Third\n",
       "1       First\n",
       "2       Third\n",
       "3       First\n",
       "4       Third\n",
       "        ...  \n",
       "96      First\n",
       "97      First\n",
       "98     Second\n",
       "99     Second\n",
       "100     Third\n",
       "Name: class, Length: 101, dtype: category\n",
       "Categories (3, object): ['First', 'Second', 'Third']"
      ]
     },
     "execution_count": 92,
     "metadata": {},
     "output_type": "execute_result"
    }
   ],
   "source": [
    "new_index"
   ]
  },
  {
   "cell_type": "code",
   "execution_count": null,
   "id": "84e3d0f4",
   "metadata": {},
   "outputs": [],
   "source": []
  }
 ],
 "metadata": {
  "kernelspec": {
   "display_name": "Python 3 (ipykernel)",
   "language": "python",
   "name": "python3"
  },
  "language_info": {
   "codemirror_mode": {
    "name": "ipython",
    "version": 3
   },
   "file_extension": ".py",
   "mimetype": "text/x-python",
   "name": "python",
   "nbconvert_exporter": "python",
   "pygments_lexer": "ipython3",
   "version": "3.9.7"
  }
 },
 "nbformat": 4,
 "nbformat_minor": 5
}
