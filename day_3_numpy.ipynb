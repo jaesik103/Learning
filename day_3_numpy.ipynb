{
 "cells": [
  {
   "cell_type": "code",
   "execution_count": 1,
   "id": "4e9850e8",
   "metadata": {},
   "outputs": [],
   "source": [
    "import numpy as np"
   ]
  },
  {
   "cell_type": "code",
   "execution_count": 3,
   "id": "1c59e150",
   "metadata": {},
   "outputs": [
    {
     "name": "stdout",
     "output_type": "stream",
     "text": [
      "[[0.28024459 0.2529862  0.48421139]\n",
      " [0.28374827 0.63032393 0.08093332]] [[-0.30316589  1.10867484 -0.06212846]\n",
      " [-0.13815746 -0.09565756  0.93078768]]\n"
     ]
    }
   ],
   "source": [
    "print(np.random.rand(2,3), np.random.randn(2,3))"
   ]
  },
  {
   "cell_type": "code",
   "execution_count": 4,
   "id": "16a999bb",
   "metadata": {},
   "outputs": [],
   "source": [
    "# numpy 일반 함수\n",
    "# np.cos, tanh(), exp()"
   ]
  },
  {
   "cell_type": "code",
   "execution_count": 7,
   "id": "dacfabc2",
   "metadata": {},
   "outputs": [
    {
     "name": "stdout",
     "output_type": "stream",
     "text": [
      "26\n",
      "5.0\n"
     ]
    }
   ],
   "source": [
    "# 기술 통계 함수\n",
    "# count() mean() var() std() median() max main() perctile()\n",
    "arr = np.array([18, 5, 10, 23, 19, -8, 10, 0, 0, 5, 2, 15, 8,\n",
    "               2, 5, 4, 15, -1, 4, -7, -24, 7, 9, -6, 23, -13])\n",
    "print(len(arr))\n",
    "print(np.percentile(arr,50)) # 2분위 수"
   ]
  },
  {
   "cell_type": "code",
   "execution_count": 9,
   "id": "8f261dd4",
   "metadata": {},
   "outputs": [
    {
     "data": {
      "text/plain": [
       "array([0.5488135 , 0.71518937, 0.60276338, 0.54488318, 0.4236548 ])"
      ]
     },
     "execution_count": 9,
     "metadata": {},
     "output_type": "execute_result"
    }
   ],
   "source": [
    "# 난수 발생과 카운팅\n",
    "np.random.seed(0)\n",
    "np.random.rand(5)"
   ]
  },
  {
   "cell_type": "code",
   "execution_count": 12,
   "id": "b4e17c8c",
   "metadata": {},
   "outputs": [
    {
     "name": "stdout",
     "output_type": "stream",
     "text": [
      "[0 1 2 3 4 5 6 7 8 9]\n",
      "[5 1 9 2 6 7 0 3 4 8]\n"
     ]
    }
   ],
   "source": [
    "# 데이터 순서를 바꾸는 방법\n",
    "arr = np.arange(10)\n",
    "print(arr)\n",
    "np.random.shuffle(arr)\n",
    "print(arr)"
   ]
  },
  {
   "cell_type": "code",
   "execution_count": 18,
   "id": "36afea7b",
   "metadata": {},
   "outputs": [
    {
     "data": {
      "text/plain": [
       "array([3, 3, 3, 0, 3, 0, 3, 3, 2, 3])"
      ]
     },
     "execution_count": 18,
     "metadata": {},
     "output_type": "execute_result"
    }
   ],
   "source": [
    "# 샘플링 : choice()\n",
    "np.random.choice(5,5, replace=False) # shuffle 과 같은 결과\n",
    "np.random.choice(10, 3, replace=False) # 10개중 3개만 선택\n",
    "np.random.choice(5, 10) # 5개 중 10개 추출 : 중복허용\n",
    "np.random.choice(5, 10, p=[0.1, 0, 0.3, 0.6, 0]) # 선택확률을 다르게"
   ]
  },
  {
   "cell_type": "code",
   "execution_count": 25,
   "id": "d8d82e97",
   "metadata": {},
   "outputs": [
    {
     "data": {
      "text/plain": [
       "array([[15, 18, 12, 13, 19],\n",
       "       [17, 15, 13, 14, 15],\n",
       "       [13, 13, 17, 19, 19]])"
      ]
     },
     "execution_count": 25,
     "metadata": {},
     "output_type": "execute_result"
    }
   ],
   "source": [
    "# randint() 정수 난수 발생 np.random.randint(low, high=None, size=None)\n",
    "np.random.seed(0)\n",
    "np.random.randint(10, size=10) # 10 포함안함\n",
    "np.random.randint(10,20, size=10)\n",
    "np.random.randint(10,20, size=(3,5))"
   ]
  },
  {
   "cell_type": "code",
   "execution_count": 32,
   "id": "5a4a277c",
   "metadata": {},
   "outputs": [
    {
     "name": "stdout",
     "output_type": "stream",
     "text": [
      "3의 배수 : [ 3  6  9 12 15 18]\n",
      "4로 나누면 1 : [ 1  5  9 13 17]\n",
      "3로 나누면 1 : [9]\n"
     ]
    }
   ],
   "source": [
    "x = np.arange(1, 21, 1)\n",
    "print('3의 배수 :', x[(x%3)==0])\n",
    "print('4로 나누면 1 :', x[(x%4)==1])\n",
    "print('3로 나누면 1 :', x[((x%4)==1) & ((x%3)==0)])"
   ]
  },
  {
   "cell_type": "code",
   "execution_count": null,
   "id": "ba4d7a60",
   "metadata": {},
   "outputs": [],
   "source": []
  }
 ],
 "metadata": {
  "kernelspec": {
   "display_name": "Python 3 (ipykernel)",
   "language": "python",
   "name": "python3"
  },
  "language_info": {
   "codemirror_mode": {
    "name": "ipython",
    "version": 3
   },
   "file_extension": ".py",
   "mimetype": "text/x-python",
   "name": "python",
   "nbconvert_exporter": "python",
   "pygments_lexer": "ipython3",
   "version": "3.9.7"
  }
 },
 "nbformat": 4,
 "nbformat_minor": 5
}
