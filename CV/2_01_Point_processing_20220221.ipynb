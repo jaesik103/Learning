{
 "cells": [
  {
   "cell_type": "code",
   "execution_count": 1,
   "id": "ec93bc5a",
   "metadata": {},
   "outputs": [],
   "source": [
    "import numpy as np\n",
    "import sys\n",
    "import os\n",
    "import cv2"
   ]
  },
  {
   "cell_type": "code",
   "execution_count": 2,
   "id": "704caa39",
   "metadata": {},
   "outputs": [
    {
     "name": "stdout",
     "output_type": "stream",
     "text": [
      "<class 'numpy.ndarray'>\n",
      "(480, 640)\n",
      "(853, 1280, 3)\n",
      "uint8\n",
      "uint8\n",
      "2\n",
      "3\n"
     ]
    }
   ],
   "source": [
    "img = cv2.imread('./fig/puppy.bmp', 0)\n",
    "img2 = cv2.imread('./fig/puppy_1280_853.jpg', 1)\n",
    "\n",
    "if img is None or img2 is None:\n",
    "    sys.exit('imread failed')\n",
    "\n",
    "print(type(img))\n",
    "print(img.shape)\n",
    "print(img2.shape)\n",
    "    \n",
    "print(img.dtype)\n",
    "print(img2.dtype)\n",
    "\n",
    "print(len(img.shape))\n",
    "print(len(img2.shape))"
   ]
  },
  {
   "cell_type": "code",
   "execution_count": 3,
   "id": "afcb7d97",
   "metadata": {},
   "outputs": [
    {
     "name": "stdout",
     "output_type": "stream",
     "text": [
      "image dimension = 640 * 480\n"
     ]
    }
   ],
   "source": [
    "h, w = img.shape[:2]\n",
    "print('image dimension = {} * {}'.format(w, h))"
   ]
  },
  {
   "cell_type": "markdown",
   "id": "43d13cfd",
   "metadata": {},
   "source": [
    "# 포인트"
   ]
  },
  {
   "cell_type": "code",
   "execution_count": 4,
   "id": "25b9a644",
   "metadata": {},
   "outputs": [],
   "source": [
    "img = cv2.imread('./fig/puppy.bmp', 1)\n",
    "img2 = cv2.imread('./fig/puppy_1280_853.jpg', 1)\n",
    "\n",
    "\n",
    "\n",
    "img[150:250, 200:500] = [0, 0, 255] # BGR\n",
    "\n",
    "if img is None or img2 is None:\n",
    "    sys.exit('imread failed')\n",
    "\n",
    "cv2.imshow('img',img)\n",
    "cv2.waitKey()\n",
    "cv2.destroyAllWindows()"
   ]
  },
  {
   "cell_type": "markdown",
   "id": "06964e02",
   "metadata": {},
   "source": [
    "# 영상 생성\n",
    "- 노이즈 화면 random 함수로 생성\n",
    "- 사진합성\n",
    "- 카피를 이용해 사진 합성\n",
    "- 마스크를 이용해 사진 합성"
   ]
  },
  {
   "cell_type": "code",
   "execution_count": 5,
   "id": "629a797e",
   "metadata": {},
   "outputs": [],
   "source": [
    "img1 = np.ones([400, 600, 3], dtype = np.uint8)*255 # 3으로 컬러적용, 255로 흰색적용\n",
    "img2 = np.full((400, 600, 3), 127, dtype = np.uint8)\n",
    "img3 = np.zeros((400, 600, 3), dtype = np.uint8)\n",
    "img4 = np.random.randint(0, 255, (400, 600), dtype = np.uint8) # 노이즈 화면 생성\n",
    "\n",
    "cv2.imshow('img1', img1)\n",
    "cv2.imshow('img2', img2)\n",
    "cv2.imshow('img3', img3)\n",
    "cv2.imshow('img4', img4)\n",
    "\n",
    "cv2.waitKey()\n",
    "cv2.destroyAllWindows()"
   ]
  },
  {
   "cell_type": "code",
   "execution_count": 6,
   "id": "e4ef82c0",
   "metadata": {},
   "outputs": [],
   "source": [
    "img = cv2.imread('./fig/puppy.bmp', 1)\n",
    "img1 = img\n",
    "img2 = img.copy() # 백업\n",
    "\n",
    "img[150:250, 200:500] = [0, 0, 255]\n",
    "\n",
    "cv2.imshow('img', img)\n",
    "cv2.imshow('img1', img1)\n",
    "cv2.imshow('img2', img2)\n",
    "\n",
    "cv2.waitKey()\n",
    "cv2.destroyAllWindows()"
   ]
  },
  {
   "cell_type": "code",
   "execution_count": 7,
   "id": "619b31c6",
   "metadata": {},
   "outputs": [],
   "source": [
    "img = cv2.imread('./fig/rudolf.png', 1)\n",
    "\n",
    "img1 = img[450:550, 460:560]\n",
    "img2 = img[450:550, 460:560].copy()\n",
    "\n",
    "cv2.circle(img1, (50,50), 50, (0, 0, 255), -1)\n",
    "\n",
    "cv2.imshow('img', img)\n",
    "cv2.imshow('img1', img1)\n",
    "cv2.imshow('img2', img2)\n",
    "\n",
    "cv2.waitKey()\n",
    "cv2.destroyAllWindows()"
   ]
  },
  {
   "cell_type": "code",
   "execution_count": 8,
   "id": "0fa9fa5b",
   "metadata": {},
   "outputs": [],
   "source": [
    "src = cv2.imread('./fig/airplane.bmp')\n",
    "mask = cv2.imread('./fig/mask_plane.bmp', 0)\n",
    "dst = cv2.imread('./fig/field.bmp')\n",
    "\n",
    "#cv2.copyTo(src, mask, dst) 바로 입출력으로 연결\n",
    "\n",
    "dst[mask > 0] = src[mask > 0] # 인덱스 이용\n",
    "\n",
    "cv2.imshow('src', src)\n",
    "cv2.imshow('mask', mask)\n",
    "cv2.imshow('dst', dst)\n",
    "\n",
    "cv2.waitKey()\n",
    "cv2.destroyAllWindows()"
   ]
  },
  {
   "cell_type": "code",
   "execution_count": null,
   "id": "2f094dab",
   "metadata": {},
   "outputs": [],
   "source": []
  }
 ],
 "metadata": {
  "kernelspec": {
   "display_name": "Python 3 (ipykernel)",
   "language": "python",
   "name": "python3"
  },
  "language_info": {
   "codemirror_mode": {
    "name": "ipython",
    "version": 3
   },
   "file_extension": ".py",
   "mimetype": "text/x-python",
   "name": "python",
   "nbconvert_exporter": "python",
   "pygments_lexer": "ipython3",
   "version": "3.9.7"
  }
 },
 "nbformat": 4,
 "nbformat_minor": 5
}
