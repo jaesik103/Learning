{
 "cells": [
  {
   "cell_type": "code",
   "execution_count": 2,
   "metadata": {},
   "outputs": [],
   "source": [
    "import numpy as np\n",
    "import sys\n",
    "import cv2"
   ]
  },
  {
   "cell_type": "markdown",
   "metadata": {},
   "source": [
    "# mean filter"
   ]
  },
  {
   "cell_type": "code",
   "execution_count": 3,
   "metadata": {},
   "outputs": [],
   "source": [
    "src = cv2.imread('fig/blue_eyes.png', 1)\n",
    "\n",
    "if src is None:\n",
    "    print('Image load failed!')\n",
    "    sys.exit()\n",
    "\n",
    "cv2.imshow('src', src)\n",
    "\n",
    "for ksize in (3, 5, 7, 9):\n",
    "    dst = cv2.blur(src, (ksize, ksize))\n",
    "        \n",
    "    text = '{} x {}'. format(ksize, ksize)\n",
    "    cv2.putText(dst, text, (10, 30), cv2.FONT_HERSHEY_SIMPLEX,\n",
    "               1, 0, 2, cv2.LINE_AA)\n",
    "    \n",
    "    cv2.imshow('dst', dst)\n",
    "    cv2.waitKey()\n",
    "\n",
    "cv2.destroyAllWindows()"
   ]
  },
  {
   "cell_type": "markdown",
   "metadata": {},
   "source": [
    "# Sharping filter"
   ]
  },
  {
   "cell_type": "code",
   "execution_count": 2,
   "metadata": {},
   "outputs": [],
   "source": [
    "src = cv2.imread('./fig/blue_eyes.png', 0)\n",
    "src = cv2.GaussianBlur(src, (0, 0), 1)\n",
    "\n",
    "bir = cv2.GaussianBlur(src, (0, 0), 2)\n",
    "\n",
    "# src - dir\n",
    "dst_sharp = cv2.addWeighted(src, 2, bir, -1, 0)\n",
    "\n",
    "cv2.imshow('src', src)\n",
    "cv2.imshow('bir', bir)\n",
    "cv2.imshow('dst_sharp', dst_sharp)\n",
    "\n",
    "cv2.waitKey()\n",
    "cv2.destroyAllWindows()"
   ]
  },
  {
   "cell_type": "code",
   "execution_count": 7,
   "metadata": {},
   "outputs": [],
   "source": [
    "src = cv2.imread('./fig/blue_eyes.png', 1)\n",
    "src_hsv = cv2.cvtColor(src, cv2.COLOR_BGR2HSV)\n",
    "h, s, v = cv2.split(src_hsv)\n",
    "\n",
    "v_gaussian = cv2.GaussianBlur(v, (0, 0), 1)\n",
    "src_hsv_g = cv2.merge((h, s, v_gaussian))\n",
    "\n",
    "#src-src_hsv\n",
    "\n",
    "dst= cv2.addWeighted(src_hsv, 2, src_hsv_g, -1, 0) \n",
    "dst = cv2.cvtColor(dst, cv2.COLOR_HSV2BGR)\n",
    "\n",
    "\n",
    "\n",
    "cv2.imshow('src', src)\n",
    "cv2.imshow('src_hsv_g', src_hsv_g)\n",
    "cv2.imshow('dst', dst)\n",
    "\n",
    "cv2.waitKey()\n",
    "cv2.destroyAllWindows()"
   ]
  },
  {
   "cell_type": "markdown",
   "metadata": {},
   "source": [
    "# Median filter"
   ]
  },
  {
   "cell_type": "code",
   "execution_count": 12,
   "metadata": {},
   "outputs": [
    {
     "name": "stdout",
     "output_type": "stream",
     "text": [
      "(553, 840)\n"
     ]
    }
   ],
   "source": [
    "import numpy as np\n",
    "import sys\n",
    "import cv2\n",
    "\n",
    "src = cv2.imread('./fig/blue_eyes.png', 0)\n",
    "print(src.shape)\n",
    "\n",
    "noise_1 = np.random.choice((0, 255), src.shape[:2], p = (0.95, 0.05))\n",
    "#noise_1 = noise_1.astype(np.uint8)\n",
    "noise_2 = np.random.choice((0, 255), src.shape[:2], p = (0.95, 0.05))\n",
    "\n",
    "src_noise = src + noise_1 - noise_2\n",
    "#print(src_noise.dtype)\n",
    "src_noise = np.clip(src_noise, 0, 255).astype(np.uint8) # 노이즈 이미지\n",
    "\n",
    "dst = cv2.medianBlur(src_noise, 5)\n",
    "\n",
    "cv2.imshow('src', src)\n",
    "cv2.imshow('src_noise', src_noise)\n",
    "cv2.imshow('dst', dst)\n",
    "\n",
    "cv2.waitKey()\n",
    "cv2.destroyAllWindows()"
   ]
  },
  {
   "cell_type": "markdown",
   "metadata": {},
   "source": [
    "# Bilateral filter"
   ]
  },
  {
   "cell_type": "code",
   "execution_count": 15,
   "metadata": {},
   "outputs": [],
   "source": [
    "import numpy as np\n",
    "import sys\n",
    "import cv2\n",
    "\n",
    "src = cv2.imread('./fig/blue_eyes.png', 0)\n",
    "\n",
    "\n",
    "dst_Gaussian = cv2.GaussianBlur(src, (0, 0), 3)\n",
    "dst_bilateral = cv2.bilateralFilter(src, -1, 10, 3) # -1은 원본타입을 그대로 가져온다는 플래그\n",
    "\n",
    "\n",
    "cv2.imshow('src', src)\n",
    "cv2.imshow('dst_Gaussian', dst_Gaussian)\n",
    "cv2.imshow('dst_bilateral', dst_bilateral)\n",
    "\n",
    "cv2.waitKey()\n",
    "cv2.destroyAllWindows()"
   ]
  },
  {
   "cell_type": "markdown",
   "metadata": {},
   "source": [
    "# cartoon filter"
   ]
  },
  {
   "cell_type": "code",
   "execution_count": 20,
   "metadata": {},
   "outputs": [],
   "source": [
    "src = cv2.imread('./fig/son.jpg')\n",
    "\n",
    "bir = cv2.GaussianBlur(src, (0, 0), 2)\n",
    "edge = 255 - cv2.Canny(src, 50, 150)\n",
    "edge = cv2.cvtColor(edge, cv2.COLOR_GRAY2BGR)\n",
    "\n",
    "dst = cv2.bitwise_and(bir, edge)\n",
    "\n",
    "cv2.imshow('bir', bir)\n",
    "cv2.imshow('edge', edge)\n",
    "cv2.imshow('dst', dst)\n",
    "\n",
    "cv2.waitKey()\n",
    "cv2.destroyAllWindows()"
   ]
  },
  {
   "cell_type": "code",
   "execution_count": 23,
   "metadata": {},
   "outputs": [],
   "source": [
    "src = cv2.imread('./fig/my_face.jpg', cv2.IMREAD_REDUCED_COLOR_2)\n",
    "\n",
    "bir = cv2.GaussianBlur(src, (0, 0), 2)\n",
    "edge = 255 - cv2.Canny(src, 100, 150)\n",
    "edge = cv2.cvtColor(edge, cv2.COLOR_GRAY2BGR)\n",
    "\n",
    "dst = cv2.bitwise_and(bir, edge)\n",
    "\n",
    "cv2.imshow('bir', bir)\n",
    "cv2.imshow('edge', edge)\n",
    "cv2.imshow('dst', dst)\n",
    "\n",
    "cv2.waitKey()\n",
    "cv2.destroyAllWindows()"
   ]
  },
  {
   "cell_type": "markdown",
   "metadata": {},
   "source": [
    "# 카툰+ 트랙바"
   ]
  },
  {
   "cell_type": "code",
   "execution_count": 4,
   "metadata": {},
   "outputs": [
    {
     "ename": "error",
     "evalue": "OpenCV(4.5.5) D:\\a\\opencv-python\\opencv-python\\opencv\\modules\\imgproc\\src\\smooth.dispatch.cpp:294: error: (-215:Assertion failed) ksize.width > 0 && ksize.width % 2 == 1 && ksize.height > 0 && ksize.height % 2 == 1 in function 'cv::createGaussianKernels'\n",
     "output_type": "error",
     "traceback": [
      "\u001b[1;31m---------------------------------------------------------------------------\u001b[0m",
      "\u001b[1;31merror\u001b[0m                                     Traceback (most recent call last)",
      "\u001b[1;32m~\\AppData\\Local\\Temp/ipykernel_4344/2826639630.py\u001b[0m in \u001b[0;36mcall_track\u001b[1;34m(pos)\u001b[0m\n\u001b[0;32m      6\u001b[0m     \u001b[0mg_bar\u001b[0m \u001b[1;33m=\u001b[0m \u001b[0mcv2\u001b[0m\u001b[1;33m.\u001b[0m\u001b[0mgetTrackbarPos\u001b[0m\u001b[1;33m(\u001b[0m\u001b[1;34m'g_bar'\u001b[0m\u001b[1;33m,\u001b[0m \u001b[1;34m'bir'\u001b[0m\u001b[1;33m)\u001b[0m\u001b[1;33m\u001b[0m\u001b[1;33m\u001b[0m\u001b[0m\n\u001b[0;32m      7\u001b[0m \u001b[1;33m\u001b[0m\u001b[0m\n\u001b[1;32m----> 8\u001b[1;33m     \u001b[0mbir\u001b[0m \u001b[1;33m=\u001b[0m \u001b[0mcv2\u001b[0m\u001b[1;33m.\u001b[0m\u001b[0mGaussianBlur\u001b[0m\u001b[1;33m(\u001b[0m\u001b[0msrc\u001b[0m\u001b[1;33m,\u001b[0m \u001b[1;33m(\u001b[0m\u001b[1;36m0\u001b[0m\u001b[1;33m,\u001b[0m \u001b[1;36m0\u001b[0m\u001b[1;33m)\u001b[0m\u001b[1;33m,\u001b[0m \u001b[0mg_bar\u001b[0m\u001b[1;33m)\u001b[0m\u001b[1;33m\u001b[0m\u001b[1;33m\u001b[0m\u001b[0m\n\u001b[0m\u001b[0;32m      9\u001b[0m     \u001b[0mbir1\u001b[0m \u001b[1;33m=\u001b[0m \u001b[0mbir\u001b[0m\u001b[1;33m.\u001b[0m\u001b[0mcopy\u001b[0m\u001b[1;33m(\u001b[0m\u001b[1;33m)\u001b[0m\u001b[1;33m\u001b[0m\u001b[1;33m\u001b[0m\u001b[0m\n\u001b[0;32m     10\u001b[0m \u001b[1;33m\u001b[0m\u001b[0m\n",
      "\u001b[1;31merror\u001b[0m: OpenCV(4.5.5) D:\\a\\opencv-python\\opencv-python\\opencv\\modules\\imgproc\\src\\smooth.dispatch.cpp:294: error: (-215:Assertion failed) ksize.width > 0 && ksize.width % 2 == 1 && ksize.height > 0 && ksize.height % 2 == 1 in function 'cv::createGaussianKernels'\n"
     ]
    },
    {
     "ename": "error",
     "evalue": "OpenCV(4.5.5) D:\\a\\opencv-python\\opencv-python\\opencv\\modules\\imgproc\\src\\smooth.dispatch.cpp:294: error: (-215:Assertion failed) ksize.width > 0 && ksize.width % 2 == 1 && ksize.height > 0 && ksize.height % 2 == 1 in function 'cv::createGaussianKernels'\n",
     "output_type": "error",
     "traceback": [
      "\u001b[1;31m---------------------------------------------------------------------------\u001b[0m",
      "\u001b[1;31merror\u001b[0m                                     Traceback (most recent call last)",
      "\u001b[1;32m~\\AppData\\Local\\Temp/ipykernel_4344/2826639630.py\u001b[0m in \u001b[0;36mcall_track\u001b[1;34m(pos)\u001b[0m\n\u001b[0;32m      6\u001b[0m     \u001b[0mg_bar\u001b[0m \u001b[1;33m=\u001b[0m \u001b[0mcv2\u001b[0m\u001b[1;33m.\u001b[0m\u001b[0mgetTrackbarPos\u001b[0m\u001b[1;33m(\u001b[0m\u001b[1;34m'g_bar'\u001b[0m\u001b[1;33m,\u001b[0m \u001b[1;34m'bir'\u001b[0m\u001b[1;33m)\u001b[0m\u001b[1;33m\u001b[0m\u001b[1;33m\u001b[0m\u001b[0m\n\u001b[0;32m      7\u001b[0m \u001b[1;33m\u001b[0m\u001b[0m\n\u001b[1;32m----> 8\u001b[1;33m     \u001b[0mbir\u001b[0m \u001b[1;33m=\u001b[0m \u001b[0mcv2\u001b[0m\u001b[1;33m.\u001b[0m\u001b[0mGaussianBlur\u001b[0m\u001b[1;33m(\u001b[0m\u001b[0msrc\u001b[0m\u001b[1;33m,\u001b[0m \u001b[1;33m(\u001b[0m\u001b[1;36m0\u001b[0m\u001b[1;33m,\u001b[0m \u001b[1;36m0\u001b[0m\u001b[1;33m)\u001b[0m\u001b[1;33m,\u001b[0m \u001b[0mg_bar\u001b[0m\u001b[1;33m)\u001b[0m\u001b[1;33m\u001b[0m\u001b[1;33m\u001b[0m\u001b[0m\n\u001b[0m\u001b[0;32m      9\u001b[0m     \u001b[0mbir1\u001b[0m \u001b[1;33m=\u001b[0m \u001b[0mbir\u001b[0m\u001b[1;33m.\u001b[0m\u001b[0mcopy\u001b[0m\u001b[1;33m(\u001b[0m\u001b[1;33m)\u001b[0m\u001b[1;33m\u001b[0m\u001b[1;33m\u001b[0m\u001b[0m\n\u001b[0;32m     10\u001b[0m \u001b[1;33m\u001b[0m\u001b[0m\n",
      "\u001b[1;31merror\u001b[0m: OpenCV(4.5.5) D:\\a\\opencv-python\\opencv-python\\opencv\\modules\\imgproc\\src\\smooth.dispatch.cpp:294: error: (-215:Assertion failed) ksize.width > 0 && ksize.width % 2 == 1 && ksize.height > 0 && ksize.height % 2 == 1 in function 'cv::createGaussianKernels'\n"
     ]
    },
    {
     "ename": "error",
     "evalue": "OpenCV(4.5.5) D:\\a\\opencv-python\\opencv-python\\opencv\\modules\\imgproc\\src\\smooth.dispatch.cpp:294: error: (-215:Assertion failed) ksize.width > 0 && ksize.width % 2 == 1 && ksize.height > 0 && ksize.height % 2 == 1 in function 'cv::createGaussianKernels'\n",
     "output_type": "error",
     "traceback": [
      "\u001b[1;31m---------------------------------------------------------------------------\u001b[0m",
      "\u001b[1;31merror\u001b[0m                                     Traceback (most recent call last)",
      "\u001b[1;32m~\\AppData\\Local\\Temp/ipykernel_4344/2826639630.py\u001b[0m in \u001b[0;36mcall_track\u001b[1;34m(pos)\u001b[0m\n\u001b[0;32m      6\u001b[0m     \u001b[0mg_bar\u001b[0m \u001b[1;33m=\u001b[0m \u001b[0mcv2\u001b[0m\u001b[1;33m.\u001b[0m\u001b[0mgetTrackbarPos\u001b[0m\u001b[1;33m(\u001b[0m\u001b[1;34m'g_bar'\u001b[0m\u001b[1;33m,\u001b[0m \u001b[1;34m'bir'\u001b[0m\u001b[1;33m)\u001b[0m\u001b[1;33m\u001b[0m\u001b[1;33m\u001b[0m\u001b[0m\n\u001b[0;32m      7\u001b[0m \u001b[1;33m\u001b[0m\u001b[0m\n\u001b[1;32m----> 8\u001b[1;33m     \u001b[0mbir\u001b[0m \u001b[1;33m=\u001b[0m \u001b[0mcv2\u001b[0m\u001b[1;33m.\u001b[0m\u001b[0mGaussianBlur\u001b[0m\u001b[1;33m(\u001b[0m\u001b[0msrc\u001b[0m\u001b[1;33m,\u001b[0m \u001b[1;33m(\u001b[0m\u001b[1;36m0\u001b[0m\u001b[1;33m,\u001b[0m \u001b[1;36m0\u001b[0m\u001b[1;33m)\u001b[0m\u001b[1;33m,\u001b[0m \u001b[0mg_bar\u001b[0m\u001b[1;33m)\u001b[0m\u001b[1;33m\u001b[0m\u001b[1;33m\u001b[0m\u001b[0m\n\u001b[0m\u001b[0;32m      9\u001b[0m     \u001b[0mbir1\u001b[0m \u001b[1;33m=\u001b[0m \u001b[0mbir\u001b[0m\u001b[1;33m.\u001b[0m\u001b[0mcopy\u001b[0m\u001b[1;33m(\u001b[0m\u001b[1;33m)\u001b[0m\u001b[1;33m\u001b[0m\u001b[1;33m\u001b[0m\u001b[0m\n\u001b[0;32m     10\u001b[0m \u001b[1;33m\u001b[0m\u001b[0m\n",
      "\u001b[1;31merror\u001b[0m: OpenCV(4.5.5) D:\\a\\opencv-python\\opencv-python\\opencv\\modules\\imgproc\\src\\smooth.dispatch.cpp:294: error: (-215:Assertion failed) ksize.width > 0 && ksize.width % 2 == 1 && ksize.height > 0 && ksize.height % 2 == 1 in function 'cv::createGaussianKernels'\n"
     ]
    }
   ],
   "source": [
    "def call_track(pos):\n",
    "    global src, bir\n",
    "    \n",
    "    min = cv2.getTrackbarPos('min', 'bir')\n",
    "    max = cv2.getTrackbarPos('max', 'bir')\n",
    "    g_bar = cv2.getTrackbarPos('g_bar', 'bir')\n",
    "\n",
    "    bir = cv2.GaussianBlur(src, (0, 0), g_bar)\n",
    "    bir1 = bir.copy()\n",
    "\n",
    "    edge = 255 - cv2.Canny(src, min, max)\n",
    "    edge = cv2.cvtColor(edge, cv2.COLOR_GRAY2BGR)\n",
    "\n",
    "    edge1 = edge.copy()\n",
    "    dst = cv2.bitwise_and(bir1, edge1)\n",
    "\n",
    "    cv2.imshow('bir', bir1)\n",
    "    cv2.imshow('dst', dst)\n",
    "\n",
    "src = cv2.imread('./fig/my_face.jpg', cv2.IMREAD_REDUCED_COLOR_2)\n",
    "\n",
    "cv2.namedWindow('bir')\n",
    "cv2.createTrackbar('min', 'bir', 0, 255, call_track)\n",
    "cv2.createTrackbar('max', 'bir', 0, 255, call_track)\n",
    "cv2.createTrackbar('g_bar', 'bir', 0, 10, call_track)\n",
    "\n",
    "cv2.waitKey()\n",
    "cv2.destroyAllWindows()"
   ]
  }
 ],
 "metadata": {
  "interpreter": {
   "hash": "b3ba2566441a7c06988d0923437866b63cedc61552a5af99d1f4fb67d367b25f"
  },
  "kernelspec": {
   "display_name": "Python 3.9.7 ('base')",
   "language": "python",
   "name": "python3"
  },
  "language_info": {
   "codemirror_mode": {
    "name": "ipython",
    "version": 3
   },
   "file_extension": ".py",
   "mimetype": "text/x-python",
   "name": "python",
   "nbconvert_exporter": "python",
   "pygments_lexer": "ipython3",
   "version": "3.9.7"
  },
  "orig_nbformat": 4
 },
 "nbformat": 4,
 "nbformat_minor": 2
}
