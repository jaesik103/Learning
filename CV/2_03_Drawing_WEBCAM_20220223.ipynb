{
 "cells": [
  {
   "cell_type": "code",
   "execution_count": 2,
   "metadata": {},
   "outputs": [],
   "source": [
    "import numpy as np\n",
    "import os\n",
    "import cv2\n",
    "import sys"
   ]
  },
  {
   "cell_type": "code",
   "execution_count": 3,
   "metadata": {},
   "outputs": [],
   "source": [
    "img1 = np.ones((400, 600, 3), dtype = np.uint8)*255\n",
    "\n",
    "cv2.imshow('image', img1)\n",
    "cv2.waitKey()\n",
    "cv2.destroyAllWindows()"
   ]
  },
  {
   "cell_type": "markdown",
   "metadata": {},
   "source": [
    "# Opencv 그리기"
   ]
  },
  {
   "cell_type": "code",
   "execution_count": 20,
   "metadata": {},
   "outputs": [],
   "source": [
    "canvas = np.full((600, 1200, 3), 255, np.uint8)\n",
    "\n",
    "cv2.line(canvas,(50, 50), (300,50), (0,0,255), 3, cv2.LINE_8)\n",
    "cv2.line(canvas,(300, 50), (270,200), (0,0,255), 3, cv2.LINE_8)\n",
    "cv2.line(canvas,(400, 50), (400,200), (0,0,255), 3, cv2.LINE_8)\n",
    "\n",
    "cv2.rectangle(canvas, (50, 250), (400, 500), (0,0,255), -1)\n",
    "cv2.rectangle(canvas, (50, 250, 300, 100), (0,255,0), -1)\n",
    "\n",
    "cv2.circle(canvas, (600, 150), 100, (0, 0, 255), 5)\n",
    "\n",
    "cv2.ellipse(canvas, (600, 150), (100, 50), 10,0 , 300, (0, 0, 255), 5, cv2.LINE_AA)\n",
    "\n",
    "text = 'Hello World'\n",
    "cv2.putText(canvas, text, (700, 300), cv2.FONT_HERSHEY_COMPLEX, 1.2, (255, 0, 0), 1, cv2.LINE_AA)\n",
    "\n",
    "\n",
    "cv2.imshow('canvas', canvas)\n",
    "cv2.waitKey()\n",
    "\n",
    "cv2.destroyAllWindows()"
   ]
  },
  {
   "cell_type": "code",
   "execution_count": 51,
   "metadata": {},
   "outputs": [],
   "source": [
    "canvas = np.full((600, 1200, 3), 255, np.uint8)\n",
    "#ㄱ\n",
    "cv2.line(canvas,(50, 50), (300,50), (0,0,255), 3, cv2.LINE_8)\n",
    "cv2.line(canvas,(300, 50), (270,200), (0,0,255), 3, cv2.LINE_8)\n",
    "#ㅗ\n",
    "cv2.line(canvas,(200, 250), (200,300), (0,0,255), 3, cv2.LINE_8)\n",
    "cv2.line(canvas,(50, 300), (300,300), (0,0,255), 3, cv2.LINE_8)\n",
    "#ㄹ\n",
    "cv2.line(canvas,(350, 50), (450,50), (0,0,255), 3, cv2.LINE_8)\n",
    "cv2.line(canvas,(450, 50), (450,150), (0,0,255), 3, cv2.LINE_8)\n",
    "cv2.line(canvas,(350, 150), (450,150), (0,0,255), 3, cv2.LINE_8)\n",
    "cv2.line(canvas,(350, 150), (350,250), (0,0,255), 3, cv2.LINE_8)\n",
    "cv2.line(canvas,(350, 250), (450,250), (0,0,255), 3, cv2.LINE_8)\n",
    "#ㅕ\n",
    "cv2.line(canvas,(500, 100), (520,100), (0,0,255), 3, cv2.LINE_8)\n",
    "cv2.line(canvas,(500, 200), (520,200), (0,0,255), 3, cv2.LINE_8)\n",
    "cv2.line(canvas,(520, 50), (520,250), (0,0,255), 3, cv2.LINE_8)\n",
    "#인\n",
    "cv2.circle(canvas, (600, 150), 50, (0, 0, 255), 5, cv2.LINE_8)\n",
    "cv2.line(canvas,(700, 50), (700,250), (0,0,255), 3, cv2.LINE_8)\n",
    "cv2.line(canvas,(600, 280), (600,300), (0,0,255), 3, cv2.LINE_8)\n",
    "cv2.line(canvas,(600, 300), (700,300), (0,0,255), 3, cv2.LINE_8)\n",
    "#ㅅ\n",
    "cv2.line(canvas, (900, 50), (850, 200), (0,0,255), 3, cv2.LINE_8)\n",
    "cv2.line(canvas, (900, 50), (950, 200), (0,0,255), 3, cv2.LINE_8)\n",
    "#ㅏ\n",
    "cv2.line(canvas, (1000, 50), (1000, 200), (0,0,255), 3, cv2.LINE_8)\n",
    "cv2.line(canvas, (1000, 125), (1050, 125), (0,0,255), 3, cv2.LINE_8)\n",
    "#ㅁ\n",
    "cv2.rectangle(canvas, (900, 250), (1000, 350), (0,0,255), -1)\n",
    "\n",
    "\n",
    "text = 'Korea Ginseng'\n",
    "cv2.putText(canvas, text, (700, 400), cv2.FONT_HERSHEY_SIMPLEX, 1.2, (255, 0, 0), 1, cv2.LINE_AA)\n",
    "\n",
    "\n",
    "cv2.imshow('canvas', canvas)\n",
    "cv2.waitKey()\n",
    "\n",
    "cv2.destroyAllWindows()"
   ]
  },
  {
   "cell_type": "markdown",
   "metadata": {},
   "source": [
    "# 웹 캠"
   ]
  },
  {
   "cell_type": "code",
   "execution_count": 61,
   "metadata": {},
   "outputs": [],
   "source": [
    "cap = cv2.VideoCapture(0)\n",
    "\n",
    "if not cap.isOpened():\n",
    "    print('Video open failed')\n",
    "    cap.release()\n",
    "    sys.exit()\n",
    "\n",
    "w = int(cap.get(cv2.CAP_PROP_FRAME_WIDTH))\n",
    "h = int(cap.get(cv2.CAP_PROP_FRAME_HEIGHT))\n",
    "fps = int(cap.get(cv2.CAP_PROP_FPS))\n",
    "\n",
    "#print(w, h, fps)\n",
    "\n",
    "fourcc = cv2.VideoWriter_fourcc(*'DIVX')\n",
    "\n",
    "out = cv2.VideoWriter('output.avi', fourcc, fps, (w,h))\n",
    "\n",
    "while True:\n",
    "    ret, frame = cap.read()\n",
    "\n",
    "    if not ret:\n",
    "        print('Video read failed')\n",
    "        break\n",
    "\n",
    "    cv2.imshow('image', frame)\n",
    "    edge = cv2.Canny(frame, 50, 150)\n",
    "    edge = cv2.cvtColor(edge, cv2.COLOR_GRAY2BGR) # edge 는 color가 아니어서\n",
    "    cv2.imshow('edge', edge)\n",
    "    blur = cv2.GaussianBlur(frame, (0, 0), 1)\n",
    "    cv2.imshow('blur', blur)\n",
    "\n",
    "    out.write(edge)\n",
    "\n",
    "    if cv2.waitKey(30) == ord('q'):\n",
    "        break\n",
    "cap.release()\n",
    "out.release()\n",
    "cv2.destroyAllWindows()\n"
   ]
  },
  {
   "cell_type": "code",
   "execution_count": null,
   "metadata": {},
   "outputs": [],
   "source": []
  }
 ],
 "metadata": {
  "interpreter": {
   "hash": "b3ba2566441a7c06988d0923437866b63cedc61552a5af99d1f4fb67d367b25f"
  },
  "kernelspec": {
   "display_name": "Python 3.9.7 ('base')",
   "language": "python",
   "name": "python3"
  },
  "language_info": {
   "codemirror_mode": {
    "name": "ipython",
    "version": 3
   },
   "file_extension": ".py",
   "mimetype": "text/x-python",
   "name": "python",
   "nbconvert_exporter": "python",
   "pygments_lexer": "ipython3",
   "version": "3.9.7"
  },
  "orig_nbformat": 4
 },
 "nbformat": 4,
 "nbformat_minor": 2
}
