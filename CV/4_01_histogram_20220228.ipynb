{
 "cells": [
  {
   "cell_type": "code",
   "execution_count": 1,
   "metadata": {},
   "outputs": [],
   "source": [
    "import numpy as np\n",
    "import sys\n",
    "import cv2"
   ]
  },
  {
   "cell_type": "markdown",
   "metadata": {},
   "source": [
    "# Histogram nomalization"
   ]
  },
  {
   "cell_type": "code",
   "execution_count": 13,
   "metadata": {},
   "outputs": [
    {
     "name": "stdout",
     "output_type": "stream",
     "text": [
      "113.0 213.0\n",
      "(87, 5) (403, 75)\n"
     ]
    }
   ],
   "source": [
    "src = cv2.imread('./fig/Hawkes.jpg', 0)\n",
    "\n",
    "smin, smax, min_loc, max_loc = cv2.minMaxLoc(src)\n",
    "print(smin, smax)\n",
    "print(min_loc, max_loc)\n",
    "\n",
    "#dst = np.clip(((src-smin)*255)/(smax - smin) + 0.0, 0, 255).astype(np.uint8)\n",
    "dst_nr = cv2.normalize(src, None, 0, 255, cv2.NORM_MINMAX, -1)\n",
    "\n",
    "\n",
    "cv2.imshow('dst_nr', dst_nr)\n",
    "cv2.imshow('src', src)\n",
    "cv2.waitKey()\n",
    "cv2.destroyAllWindows()"
   ]
  },
  {
   "cell_type": "markdown",
   "metadata": {},
   "source": [
    "# Histogram equalization"
   ]
  },
  {
   "cell_type": "code",
   "execution_count": 14,
   "metadata": {},
   "outputs": [
    {
     "name": "stdout",
     "output_type": "stream",
     "text": [
      "113.0 213.0\n",
      "(87, 5) (403, 75)\n"
     ]
    }
   ],
   "source": [
    "src = cv2.imread('./fig/Hawkes.jpg', 0)\n",
    "\n",
    "smin, smax, min_loc, max_loc = cv2.minMaxLoc(src)\n",
    "print(smin, smax)\n",
    "print(min_loc, max_loc)\n",
    "\n",
    "dst_eq = cv2.equalizeHist(src)\n",
    "\n",
    "\n",
    "cv2.imshow('dst_eq', dst_eq)\n",
    "cv2.imshow('src', src)\n",
    "cv2.waitKey()\n",
    "cv2.destroyAllWindows()"
   ]
  },
  {
   "cell_type": "markdown",
   "metadata": {},
   "source": [
    "# Color"
   ]
  },
  {
   "cell_type": "code",
   "execution_count": 19,
   "metadata": {},
   "outputs": [],
   "source": [
    "src = cv2.imread('./fig/field.bmp', 1)\n",
    "\n",
    "src_hsv = cv2.cvtColor(src, cv2.COLOR_BGR2HSV)\n",
    "h, s, v = cv2.split(src_hsv)\n",
    "\n",
    "v_prime = cv2.equalizeHist(v)\n",
    "v_norm = cv2.normalize(v, None, 0, 255, cv2.NORM_MINMAX, -1)\n",
    "\n",
    "dst_eq = cv2.merge((h, s, v_prime))\n",
    "dst_eq = cv2.cvtColor(dst_eq, cv2.COLOR_HSV2BGR)\n",
    "dst_norm = cv2.merge((h, s, v_norm))\n",
    "dst_norm = cv2.cvtColor(dst_norm, cv2.COLOR_HSV2BGR)\n",
    "\n",
    "\n",
    "cv2.imshow('src', src)\n",
    "cv2.imshow('dst_eq', dst_eq)\n",
    "cv2.imshow('dst_norm', dst_norm)\n",
    "\n",
    "\n",
    "cv2.waitKey()\n",
    "cv2.destroyAllWindows()"
   ]
  },
  {
   "cell_type": "markdown",
   "metadata": {},
   "source": [
    "# 색 추출"
   ]
  },
  {
   "cell_type": "code",
   "execution_count": 2,
   "metadata": {},
   "outputs": [],
   "source": [
    "def call_trackbar(pos):\n",
    "    hmin = cv2.getTrackbarPos('H_min', 'dst')\n",
    "    hmax = cv2.getTrackbarPos('H_max', 'dst')\n",
    "\n",
    "    dst = cv2.inRange(dst_hsv, (hmin, 150, 0), (hmax, 255, 255))\n",
    "\n",
    "    cv2.imshow('dst', dst)\n",
    "\n",
    "src = cv2.imread('./fig/candies.png', 1)\n",
    "\n",
    "#dst_bgr = cv2.inRange(src, (0, 128, 0), (100, 255, 100))\n",
    "\n",
    "dst_hsv = cv2.cvtColor(src, cv2.COLOR_BGR2HSV)\n",
    "#dst_hsv = cv2.inRange(dst_hsv, (50, 150, 0), (70, 255, 255))\n",
    "\n",
    "cv2.imshow('src', src)\n",
    "#cv2.imshow('dst_bgr', dst_bgr)\n",
    "#cv2.imshow('dst_hsv', dst_hsv)\n",
    "\n",
    "cv2.imshow('dst', dst_hsv)\n",
    "cv2.createTrackbar('H_min', 'dst', 0, 179, call_trackbar)\n",
    "cv2.createTrackbar('H_max', 'dst', 100, 179, call_trackbar)\n",
    "\n",
    "\n",
    "cv2.waitKey()\n",
    "cv2.destroyAllWindows()"
   ]
  },
  {
   "cell_type": "code",
   "execution_count": null,
   "metadata": {},
   "outputs": [],
   "source": []
  }
 ],
 "metadata": {
  "interpreter": {
   "hash": "2097b8de0cf559b99a541878d948e75eb032eda4087ac9e140bfcd448ac40ac5"
  },
  "kernelspec": {
   "display_name": "Python 3.9.10 64-bit (windows store)",
   "language": "python",
   "name": "python3"
  },
  "language_info": {
   "codemirror_mode": {
    "name": "ipython",
    "version": 3
   },
   "file_extension": ".py",
   "mimetype": "text/x-python",
   "name": "python",
   "nbconvert_exporter": "python",
   "pygments_lexer": "ipython3",
   "version": "3.9.10"
  },
  "orig_nbformat": 4
 },
 "nbformat": 4,
 "nbformat_minor": 2
}
