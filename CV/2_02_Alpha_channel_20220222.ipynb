{
 "cells": [
  {
   "cell_type": "code",
   "execution_count": null,
   "metadata": {},
   "outputs": [],
   "source": [
    "pip install matplotlib"
   ]
  },
  {
   "cell_type": "code",
   "execution_count": null,
   "metadata": {},
   "outputs": [],
   "source": [
    "pip install opencv-python"
   ]
  },
  {
   "cell_type": "code",
   "execution_count": 3,
   "metadata": {},
   "outputs": [],
   "source": [
    "import numpy as np\n",
    "import os\n",
    "import cv2\n",
    "import sys"
   ]
  },
  {
   "cell_type": "markdown",
   "metadata": {},
   "source": [
    "# 기본 포맷"
   ]
  },
  {
   "cell_type": "code",
   "execution_count": 4,
   "metadata": {},
   "outputs": [],
   "source": [
    "img = cv2.imread('./fig/puppy.bmp',1)\n",
    "\n",
    "if img is None:\n",
    "    sys.exit('imread failed')\n",
    "\n",
    "cv2.namedWindow('image', cv2.WINDOW_AUTOSIZE)\n",
    "cv2.imshow('image', img)\n",
    "\n",
    "while True:\n",
    "    if cv2.waitKey() == ord('q'):\n",
    "        break\n",
    "\n",
    "cv2.destroyAllWindows()"
   ]
  },
  {
   "cell_type": "markdown",
   "metadata": {},
   "source": [
    "# 마스크 만들어서 합성"
   ]
  },
  {
   "cell_type": "code",
   "execution_count": 6,
   "metadata": {},
   "outputs": [],
   "source": [
    "src = cv2.imread('./fig/cow.png', 1)\n",
    "dst = cv2.imread('./fig/green.png', 1)\n",
    "\n",
    "srcGray = cv2.cvtColor(src, cv2.COLOR_BGR2GRAY)\n",
    "# threshold(src, thresh, maxval, type) -> retval, dst\n",
    "_, mask = cv2.threshold(srcGray, 240, 255, cv2.THRESH_BINARY_INV) # 마스크 제작\n",
    "\n",
    "h, w = src.shape[:2]\n",
    "#dst = cv2.resize(dst, (w, h), interpolation = cv2.INTER_AREA)\n",
    "\n",
    "\n",
    "if src is None or dst is None:\n",
    "    sys.exit('imread failed')\n",
    "\n",
    "\n",
    "cv2.copyTo(src, mask, dst[500:1100, 400:1000])\n",
    "\n",
    "cv2.imshow('src', src)\n",
    "cv2.imshow('dst', dst)\n",
    "cv2.imshow('mask', mask)\n",
    "#cv2.imshow('srcGray', srcGray)\n",
    "\n",
    "cv2.waitKey()\n",
    "\n",
    "cv2.destroyAllWindows()"
   ]
  },
  {
   "cell_type": "code",
   "execution_count": null,
   "metadata": {},
   "outputs": [],
   "source": [
    "src.shape"
   ]
  },
  {
   "cell_type": "code",
   "execution_count": 7,
   "metadata": {},
   "outputs": [],
   "source": [
    "##\n",
    "src = cv2.imread('./fig/puppy.bmp')\n",
    "sunglass = cv2.imread('./fig/imgbin_sunglasses_1.png', cv2.IMREAD_UNCHANGED) #언체이지드 플레그를 안쓰면 4채널이 날라감\n",
    "sunglass = cv2.resize(sunglass, (300, 150), interpolation = cv2.INTER_AREA)\n",
    "\n",
    "\n",
    "mask = sunglass[:, :, -1]\n",
    "sunglass = sunglass[:, :, :3]\n",
    "\n",
    "h, w = mask.shape[:2]\n",
    "src_crop = src[120:120+h, 220:220+w]\n",
    "\n",
    "cv2.copyTo(sunglass, mask, src_crop)\n",
    "\n",
    "cv2.imshow('mask', mask)\n",
    "cv2.imshow('src_crop', src_crop)\n",
    "cv2.imshow('sunglass', sunglass)\n",
    "cv2.imshow('src', src)\n",
    "\n",
    "cv2.waitKey()\n",
    "cv2.destroyAllWindows()"
   ]
  },
  {
   "cell_type": "code",
   "execution_count": 8,
   "metadata": {},
   "outputs": [],
   "source": [
    "dst = cv2.imread('./fig/green.png', 1)\n",
    "fire = cv2.imread('./fig/fire.png', cv2.IMREAD_UNCHANGED) #언체이지드 플레그를 안쓰면 4채널이 날라감\n",
    "fire = cv2.resize(fire, (300, 150), interpolation = cv2.INTER_AREA)\n",
    "\n",
    "\n",
    "mask = fire[:, :, -1]\n",
    "fire = fire[:, :, :3]\n",
    "\n",
    "h, w = mask.shape[:2]\n",
    "dst_crop = dst[750:750+h, 800:800+w]\n",
    "cv2.namedWindow('dst', cv2.WINDOW_NORMAL)\n",
    "cv2.copyTo(fire, mask, dst_crop)\n",
    "\n",
    "cv2.imshow('dst', dst)\n",
    "cv2.imshow('mask', mask)\n",
    "cv2.imshow('fire', fire)\n",
    "cv2.imshow('dst_crop', dst_crop)\n",
    "\n",
    "cv2.waitKey()\n",
    "cv2.destroyAllWindows()"
   ]
  },
  {
   "cell_type": "code",
   "execution_count": null,
   "metadata": {},
   "outputs": [],
   "source": []
  }
 ],
 "metadata": {
  "interpreter": {
   "hash": "2097b8de0cf559b99a541878d948e75eb032eda4087ac9e140bfcd448ac40ac5"
  },
  "kernelspec": {
   "display_name": "Python 3.9.10 64-bit (windows store)",
   "language": "python",
   "name": "python3"
  },
  "language_info": {
   "codemirror_mode": {
    "name": "ipython",
    "version": 3
   },
   "file_extension": ".py",
   "mimetype": "text/x-python",
   "name": "python",
   "nbconvert_exporter": "python",
   "pygments_lexer": "ipython3",
   "version": "3.9.10"
  },
  "orig_nbformat": 4
 },
 "nbformat": 4,
 "nbformat_minor": 2
}
