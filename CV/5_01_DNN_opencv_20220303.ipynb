{
 "cells": [
  {
   "cell_type": "code",
   "execution_count": 1,
   "metadata": {},
   "outputs": [],
   "source": [
    "import numpy as np\n",
    "import cv2\n",
    "import sys\n",
    "import os"
   ]
  },
  {
   "cell_type": "markdown",
   "metadata": {},
   "source": [
    "# googlenet 사용"
   ]
  },
  {
   "cell_type": "code",
   "execution_count": 7,
   "metadata": {},
   "outputs": [
    {
     "name": "stdout",
     "output_type": "stream",
     "text": [
      "0.87152827\n",
      "pelican\n"
     ]
    }
   ],
   "source": [
    "filename = './googlenet_old/fig/pelican.jpg'\n",
    "img = cv2.imread(filename)\n",
    "\n",
    "if img is None:\n",
    "    sys.exit('image read failed')\n",
    "\n",
    "### dnn Model\n",
    "model = './googlenet_old/bvlc_googlenet.caffemodel' # learning된 파라미터\n",
    "config = 'googlenet_old/deploy.prototxt' # 네트워크 구조\n",
    "\n",
    "net = cv2.dnn.readNet(model, config) # 모델이 config를 받아들임\n",
    "\n",
    "if net.empty():\n",
    "    sys.exit('network read failed')\n",
    "\n",
    "### 클래스 이름 불러오기\n",
    "\n",
    "classNames = []\n",
    "with open('./googlenet_old/classification_classes_ILSVRC2012.txt', 'rt') as f:\n",
    "    classNames = f.read().rstrip('\\n').split('\\n')\n",
    "# print(classNames)\n",
    "\n",
    "blob = cv2.dnn.blobFromImage(img, 1, (224, 224), (104, 117, 123), swapRB = False) # 우리의 데이터포맷을 학습된 데이터 포맷으로 맞춰줌\n",
    "net.setInput(blob)\n",
    "prob = net.forward()\n",
    "################################################\n",
    "\n",
    "#print(prob.shape)\n",
    "out = prob.flatten() # 차원축소\n",
    "#print(out.shape) \n",
    "\n",
    "classid = np.argmax(out)\n",
    "#print(classid)\n",
    "confidence = out[classid]\n",
    "print(confidence)\n",
    "category = classNames[classid]\n",
    "print(category)\n",
    "\n",
    "text = f'{category}({confidence*100:4.2f})%'  # 새 형식 당황ㄴ\n",
    "\n",
    "cv2.putText(img, text, (10, 30), cv2.FONT_HERSHEY_COMPLEX, 0.8, (0, 0, 255), 2, cv2.LINE_AA)\n",
    "\n",
    "\n",
    "\n",
    "cv2.imshow('img', img)\n",
    "cv2.waitKey()\n",
    "cv2.destroyAllWindows()"
   ]
  },
  {
   "cell_type": "markdown",
   "metadata": {},
   "source": [
    "# 이미지슬라이드 + googlenet"
   ]
  },
  {
   "cell_type": "code",
   "execution_count": 3,
   "metadata": {},
   "outputs": [],
   "source": [
    "img_list = os.listdir('./googlenet_old/fig')\n",
    "\n",
    "img_files = []\n",
    "for i in img_list:\n",
    "    img_file = './googlenet_old/fig/'+i\n",
    "    img_files.append(img_file)\n",
    "\n",
    "cv2.namedWindow('image')\n",
    "\n",
    "### dnn Model\n",
    "model = './googlenet_old/bvlc_googlenet.caffemodel' # learning된 파라미터\n",
    "config = './googlenet_old/deploy.prototxt' # 네트워크 구조\n",
    "\n",
    "net = cv2.dnn.readNet(model, config) # 모델이 config를 받아들임\n",
    "\n",
    "if net.empty():\n",
    "    sys.exit('network read failed')\n",
    "### 클래스 이름 불러오기\n",
    "\n",
    "classNames = []\n",
    "with open('./googlenet_old/classification_classes_ILSVRC2012.txt', 'rt') as f:\n",
    "    classNames = f.read().rstrip('\\n').split('\\n')\n",
    "\n",
    "\n",
    "idx = 0\n",
    "while True:\n",
    "    img = cv2.imread(img_files[idx])\n",
    "    blob = cv2.dnn.blobFromImage(img, 1, (224, 224), (104, 117, 123), swapRB = False) # 우리의 데이터포맷을 학습된 데이터 포맷으로 맞춰줌\n",
    "    net.setInput(blob)\n",
    "    prob = net.forward()\n",
    "    out = prob.flatten() # 차원축소\n",
    "    #print(out.shape) \n",
    "\n",
    "    classid = np.argmax(out)\n",
    "    confidence = out[classid]\n",
    "    category = classNames[classid]\n",
    "\n",
    "    text = f'{category}({confidence*100:4.2f})%'  # 새 형식 당황ㄴ\n",
    "\n",
    "    cv2.putText(img, text, (10, 30), cv2.FONT_HERSHEY_COMPLEX, 0.8, (0, 0, 255), 2, cv2.LINE_AA)\n",
    "\n",
    "\n",
    "    cv2.imshow('image', img)\n",
    "    \n",
    "    if cv2.waitKey(3000) == ord('q'):\n",
    "        cv2.destroyAllWindows()\n",
    "        break\n",
    "        \n",
    "    idx += 1\n",
    "    if idx>=len(img_files):\n",
    "        idx = 0"
   ]
  },
  {
   "cell_type": "markdown",
   "metadata": {},
   "source": [
    "# opencv_face_detector"
   ]
  },
  {
   "cell_type": "code",
   "execution_count": 6,
   "metadata": {},
   "outputs": [],
   "source": [
    "img = cv2.imread('./opencv_face_detector_old/fig/45.jpg')\n",
    "\n",
    "## Tensorflow\n",
    "model = './opencv_face_detector_old/opencv_face_detector_uint8.pb'\n",
    "config = './opencv_face_detector_old/opencv_face_detector.pbtxt'\n",
    "\n",
    "face_net = cv2.dnn.readNet(model, config)\n",
    "\n",
    "if face_net.empty():\n",
    "    print('net load failed')\n",
    "    sys.exit()\n",
    "\n",
    "blob = cv2.dnn.blobFromImage(img, 1, (300, 300), (104, 177, 123), swapRB = False)\n",
    "\n",
    "face_net.setInput(blob)\n",
    "out = face_net.forward()\n",
    "#print(out.shape)\n",
    "\n",
    "detect = out[0, 0, :, :]\n",
    "#print(detect.shape)\n",
    "\n",
    "h, w = img.shape[:2]\n",
    "\n",
    "for i in range(detect.shape[0]):\n",
    "    confidence = detect[i, 2] # 확률 추출\n",
    "    \n",
    "    if confidence > 0.5:\n",
    "        x1 = int(detect[i, 3]*w)\n",
    "        y1 = int(detect[i, 4]*h)\n",
    "        x2 = int(detect[i, 5]*w)\n",
    "        y2 = int(detect[i, 6]*h)\n",
    "\n",
    "        cv2.rectangle(img, (x1, y1), (x2, y2), (0, 0, 255), 2)\n",
    "        text = f'Face : {confidence*100:4.2f}%'\n",
    "        cv2.putText(img, text, (x1, y1-2), cv2.FONT_HERSHEY_COMPLEX, 1, (255, 0, 0), 1, cv2.LINE_AA)\n",
    "\n",
    "\n",
    "cv2.imshow('image', img)\n",
    "cv2.waitKey()\n",
    "cv2.destroyAllWindows()"
   ]
  },
  {
   "cell_type": "markdown",
   "metadata": {},
   "source": [
    "# 웹캠으로 face detect"
   ]
  },
  {
   "cell_type": "code",
   "execution_count": 5,
   "metadata": {},
   "outputs": [
    {
     "ename": "AttributeError",
     "evalue": "'numpy.ndarray' object has no attribute 'release'",
     "output_type": "error",
     "traceback": [
      "\u001b[1;31m---------------------------------------------------------------------------\u001b[0m",
      "\u001b[1;31mAttributeError\u001b[0m                            Traceback (most recent call last)",
      "\u001b[1;32m~\\AppData\\Local\\Temp/ipykernel_7308/1192392962.py\u001b[0m in \u001b[0;36m<module>\u001b[1;34m\u001b[0m\n\u001b[0;32m     48\u001b[0m     \u001b[1;32mif\u001b[0m \u001b[0mcv2\u001b[0m\u001b[1;33m.\u001b[0m\u001b[0mwaitKey\u001b[0m\u001b[1;33m(\u001b[0m\u001b[1;36m20\u001b[0m\u001b[1;33m)\u001b[0m \u001b[1;33m==\u001b[0m \u001b[0mord\u001b[0m\u001b[1;33m(\u001b[0m\u001b[1;34m'q'\u001b[0m\u001b[1;33m)\u001b[0m\u001b[1;33m:\u001b[0m\u001b[1;33m\u001b[0m\u001b[1;33m\u001b[0m\u001b[0m\n\u001b[0;32m     49\u001b[0m         \u001b[0mcv2\u001b[0m\u001b[1;33m.\u001b[0m\u001b[0mdestroyAllWindows\u001b[0m\u001b[1;33m(\u001b[0m\u001b[1;33m)\u001b[0m\u001b[1;33m\u001b[0m\u001b[1;33m\u001b[0m\u001b[0m\n\u001b[1;32m---> 50\u001b[1;33m         \u001b[0mimg\u001b[0m\u001b[1;33m.\u001b[0m\u001b[0mrelease\u001b[0m\u001b[1;33m(\u001b[0m\u001b[1;33m)\u001b[0m\u001b[1;33m\u001b[0m\u001b[1;33m\u001b[0m\u001b[0m\n\u001b[0m\u001b[0;32m     51\u001b[0m         \u001b[1;32mbreak\u001b[0m\u001b[1;33m\u001b[0m\u001b[1;33m\u001b[0m\u001b[0m\n",
      "\u001b[1;31mAttributeError\u001b[0m: 'numpy.ndarray' object has no attribute 'release'"
     ]
    }
   ],
   "source": [
    "### tensor Model\n",
    "model = './opencv_face_detector_old/opencv_face_detector_uint8.pb'\n",
    "config = './opencv_face_detector_old/opencv_face_detector.pbtxt'\n",
    "\n",
    "face_net = cv2.dnn.readNet(model, config) # 네트워크 연결\n",
    "if face_net.empty():\n",
    "    print('net load failed')\n",
    "    sys.exit()\n",
    "\n",
    "cap = cv2.VideoCapture(0) # 캡처 온\n",
    "if not cap.isOpened():\n",
    "    print('Video open failed')\n",
    "    cap.release()\n",
    "    sys.exit()\n",
    "\n",
    "while True:\n",
    "    ret, img = cap.read()\n",
    "    if not ret:\n",
    "        print('Video frame failed')\n",
    "        break\n",
    "\n",
    "    blob = cv2.dnn.blobFromImage(img, 1, (300, 300), (104, 177, 123), swapRB = False) # 우리의 데이터포맷을 학습된 데이터 포맷으로 맞춰줌\n",
    "    face_net.setInput(blob)\n",
    "    out = face_net.forward()\n",
    "    #print(out.shape)\n",
    "\n",
    "    detect = out[0, 0, :, :]\n",
    "    #print(detect.shape)\n",
    "\n",
    "    h, w = img.shape[:2]\n",
    "\n",
    "    for i in range(detect.shape[0]):\n",
    "        confidence = detect[i, 2] # 확률 추출\n",
    "        \n",
    "        if confidence > 0.5:\n",
    "            x1 = int(detect[i, 3]*w)\n",
    "            y1 = int(detect[i, 4]*h)\n",
    "            x2 = int(detect[i, 5]*w)\n",
    "            y2 = int(detect[i, 6]*h)\n",
    "\n",
    "            cv2.rectangle(img, (x1, y1), (x2, y2), (0, 0, 255), 2)\n",
    "            text = f'Face : {confidence*100:4.2f}%'\n",
    "            cv2.putText(img, text, (x1, y1-2), cv2.FONT_HERSHEY_COMPLEX, 1, (255, 0, 0), 1, cv2.LINE_AA)\n",
    "\n",
    "\n",
    "    cv2.imshow('image', img)\n",
    "    \n",
    "    if cv2.waitKey(20) == ord('q'):\n",
    "        cv2.destroyAllWindows()\n",
    "        cap.release()\n",
    "        break\n"
   ]
  }
 ],
 "metadata": {
  "interpreter": {
   "hash": "b3ba2566441a7c06988d0923437866b63cedc61552a5af99d1f4fb67d367b25f"
  },
  "kernelspec": {
   "display_name": "Python 3.9.7 ('base')",
   "language": "python",
   "name": "python3"
  },
  "language_info": {
   "codemirror_mode": {
    "name": "ipython",
    "version": 3
   },
   "file_extension": ".py",
   "mimetype": "text/x-python",
   "name": "python",
   "nbconvert_exporter": "python",
   "pygments_lexer": "ipython3",
   "version": "3.9.7"
  },
  "orig_nbformat": 4
 },
 "nbformat": 4,
 "nbformat_minor": 2
}
