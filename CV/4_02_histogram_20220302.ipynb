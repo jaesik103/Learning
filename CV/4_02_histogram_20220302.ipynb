{
 "cells": [
  {
   "cell_type": "code",
   "execution_count": 1,
   "metadata": {},
   "outputs": [],
   "source": [
    "import numpy as np\n",
    "import cv2\n",
    "import sys"
   ]
  },
  {
   "cell_type": "markdown",
   "metadata": {},
   "source": [
    "# 히스토그램 역투영"
   ]
  },
  {
   "cell_type": "code",
   "execution_count": 15,
   "metadata": {},
   "outputs": [
    {
     "name": "stdout",
     "output_type": "stream",
     "text": [
      "113 438 418 111\n"
     ]
    }
   ],
   "source": [
    "src = cv2.imread('./fig/green.png', cv2.IMREAD_REDUCED_COLOR_2)\n",
    "\n",
    "x, y, w, h = cv2.selectROI(src)\n",
    "print(x, y, w, h)\n",
    "\n",
    "src_ycrcb = cv2.cvtColor(src, cv2.COLOR_BGR2YCrCb)\n",
    "crop = src_ycrcb[y:y+h, x:x+w]\n",
    "\n",
    "hist = cv2.calcHist([crop], [1,2], None, [256, 256], [0, 256, 0, 256])\n",
    "\n",
    "backproj = cv2.calcBackProject([src_ycrcb], [1, 2], hist, [0, 256, 0, 256], 1) # 마스크 생성\n",
    "\n",
    "dst = cv2.copyTo(src, backproj)\n",
    "\n",
    "cv2.imshow('src', src)\n",
    "cv2.imshow('crop', crop)\n",
    "cv2.imshow('hist', hist)\n",
    "cv2.imshow('backproj', backproj)\n",
    "cv2.imshow('dst', dst)\n",
    "\n",
    "cv2.waitKey()\n",
    "cv2.destroyAllWindows()"
   ]
  },
  {
   "cell_type": "markdown",
   "metadata": {},
   "source": [
    "# 실습"
   ]
  },
  {
   "cell_type": "code",
   "execution_count": 24,
   "metadata": {},
   "outputs": [
    {
     "name": "stdout",
     "output_type": "stream",
     "text": [
      "2 25 420 721\n"
     ]
    }
   ],
   "source": [
    "woman = cv2.imread('./fig/chromakey.png', 1)\n",
    "univ = cv2.imread('./fig/autumn.jpg', 1)\n",
    "\n",
    "h, w = woman.shape[:2]\n",
    "univ = cv2.resize(univ, (w, h), interpolation=cv2.INTER_AREA)\n",
    "\n",
    "x, y, w, h = cv2.selectROI(woman)\n",
    "print(x, y, w, h)\n",
    "\n",
    "woman_ycrcb = cv2.cvtColor(woman, cv2.COLOR_BGR2YCrCb)\n",
    "crop = woman_ycrcb[y:y+h, x:x+w]\n",
    "\n",
    "hist = cv2.calcHist([crop], [1,2], None, [256, 256], [0, 256, 0, 256])\n",
    "\n",
    "backproj = cv2.calcBackProject([woman_ycrcb], [1, 2], hist, [0, 256, 0, 256], 1) # 마스크 생성\n",
    "mask = cv2.bitwise_not(backproj)\n",
    "\n",
    "dst = cv2.copyTo(woman, mask, univ)\n",
    "\n",
    "cv2.imshow('woman', woman)\n",
    "cv2.imshow('crop', crop)\n",
    "cv2.imshow('backproj', backproj)\n",
    "cv2.imshow('mask', mask)\n",
    "cv2.imshow('univ', univ)\n",
    "cv2.imshow('dst', dst)\n",
    "\n",
    "cv2.waitKey()\n",
    "cv2.destroyAllWindows()"
   ]
  },
  {
   "cell_type": "code",
   "execution_count": 10,
   "metadata": {},
   "outputs": [
    {
     "ename": "error",
     "evalue": "OpenCV(4.5.5) D:\\a\\opencv-python\\opencv-python\\opencv\\modules\\highgui\\src\\window.cpp:862: error: (-215:Assertion failed) trackbar in function 'cv::getTrackbarPos'\n",
     "output_type": "error",
     "traceback": [
      "\u001b[1;31m---------------------------------------------------------------------------\u001b[0m",
      "\u001b[1;31merror\u001b[0m                                     Traceback (most recent call last)",
      "\u001b[1;32m~\\AppData\\Local\\Temp/ipykernel_17800/3111966824.py\u001b[0m in \u001b[0;36mcall_track\u001b[1;34m(pos)\u001b[0m\n\u001b[0;32m      3\u001b[0m \u001b[1;33m\u001b[0m\u001b[0m\n\u001b[0;32m      4\u001b[0m     \u001b[0mhmin\u001b[0m \u001b[1;33m=\u001b[0m \u001b[0mcv2\u001b[0m\u001b[1;33m.\u001b[0m\u001b[0mgetTrackbarPos\u001b[0m\u001b[1;33m(\u001b[0m\u001b[1;34m'hmin'\u001b[0m\u001b[1;33m,\u001b[0m \u001b[1;34m'mask'\u001b[0m\u001b[1;33m)\u001b[0m\u001b[1;33m\u001b[0m\u001b[1;33m\u001b[0m\u001b[0m\n\u001b[1;32m----> 5\u001b[1;33m     \u001b[0mhmax\u001b[0m \u001b[1;33m=\u001b[0m \u001b[0mcv2\u001b[0m\u001b[1;33m.\u001b[0m\u001b[0mgetTrackbarPos\u001b[0m\u001b[1;33m(\u001b[0m\u001b[1;34m'hmax'\u001b[0m\u001b[1;33m,\u001b[0m \u001b[1;34m'mask'\u001b[0m\u001b[1;33m)\u001b[0m\u001b[1;33m\u001b[0m\u001b[1;33m\u001b[0m\u001b[0m\n\u001b[0m\u001b[0;32m      6\u001b[0m     \u001b[0msmin\u001b[0m \u001b[1;33m=\u001b[0m \u001b[0mcv2\u001b[0m\u001b[1;33m.\u001b[0m\u001b[0mgetTrackbarPos\u001b[0m\u001b[1;33m(\u001b[0m\u001b[1;34m'smin'\u001b[0m\u001b[1;33m,\u001b[0m \u001b[1;34m'mask'\u001b[0m\u001b[1;33m)\u001b[0m\u001b[1;33m\u001b[0m\u001b[1;33m\u001b[0m\u001b[0m\n\u001b[0;32m      7\u001b[0m \u001b[1;33m\u001b[0m\u001b[0m\n",
      "\u001b[1;31merror\u001b[0m: OpenCV(4.5.5) D:\\a\\opencv-python\\opencv-python\\opencv\\modules\\highgui\\src\\window.cpp:862: error: (-215:Assertion failed) trackbar in function 'cv::getTrackbarPos'\n"
     ]
    },
    {
     "ename": "error",
     "evalue": "OpenCV(4.5.5) D:\\a\\opencv-python\\opencv-python\\opencv\\modules\\highgui\\src\\window.cpp:862: error: (-215:Assertion failed) trackbar in function 'cv::getTrackbarPos'\n",
     "output_type": "error",
     "traceback": [
      "\u001b[1;31m---------------------------------------------------------------------------\u001b[0m",
      "\u001b[1;31merror\u001b[0m                                     Traceback (most recent call last)",
      "\u001b[1;32m~\\AppData\\Local\\Temp/ipykernel_17800/3111966824.py\u001b[0m in \u001b[0;36mcall_track\u001b[1;34m(pos)\u001b[0m\n\u001b[0;32m      4\u001b[0m     \u001b[0mhmin\u001b[0m \u001b[1;33m=\u001b[0m \u001b[0mcv2\u001b[0m\u001b[1;33m.\u001b[0m\u001b[0mgetTrackbarPos\u001b[0m\u001b[1;33m(\u001b[0m\u001b[1;34m'hmin'\u001b[0m\u001b[1;33m,\u001b[0m \u001b[1;34m'mask'\u001b[0m\u001b[1;33m)\u001b[0m\u001b[1;33m\u001b[0m\u001b[1;33m\u001b[0m\u001b[0m\n\u001b[0;32m      5\u001b[0m     \u001b[0mhmax\u001b[0m \u001b[1;33m=\u001b[0m \u001b[0mcv2\u001b[0m\u001b[1;33m.\u001b[0m\u001b[0mgetTrackbarPos\u001b[0m\u001b[1;33m(\u001b[0m\u001b[1;34m'hmax'\u001b[0m\u001b[1;33m,\u001b[0m \u001b[1;34m'mask'\u001b[0m\u001b[1;33m)\u001b[0m\u001b[1;33m\u001b[0m\u001b[1;33m\u001b[0m\u001b[0m\n\u001b[1;32m----> 6\u001b[1;33m     \u001b[0msmin\u001b[0m \u001b[1;33m=\u001b[0m \u001b[0mcv2\u001b[0m\u001b[1;33m.\u001b[0m\u001b[0mgetTrackbarPos\u001b[0m\u001b[1;33m(\u001b[0m\u001b[1;34m'smin'\u001b[0m\u001b[1;33m,\u001b[0m \u001b[1;34m'mask'\u001b[0m\u001b[1;33m)\u001b[0m\u001b[1;33m\u001b[0m\u001b[1;33m\u001b[0m\u001b[0m\n\u001b[0m\u001b[0;32m      7\u001b[0m \u001b[1;33m\u001b[0m\u001b[0m\n\u001b[0;32m      8\u001b[0m     dst_mask = cv2.inRange(dst_hsv, (hmin, smin, 0),\n",
      "\u001b[1;31merror\u001b[0m: OpenCV(4.5.5) D:\\a\\opencv-python\\opencv-python\\opencv\\modules\\highgui\\src\\window.cpp:862: error: (-215:Assertion failed) trackbar in function 'cv::getTrackbarPos'\n"
     ]
    }
   ],
   "source": [
    "def call_track(pos):\n",
    "    global dst_hsv, dst\n",
    "    \n",
    "    hmin = cv2.getTrackbarPos('hmin', 'mask')\n",
    "    hmax = cv2.getTrackbarPos('hmax', 'mask')\n",
    "    smin = cv2.getTrackbarPos('smin', 'mask')\n",
    "    \n",
    "    dst_mask = cv2.inRange(dst_hsv, (hmin, smin, 0),\n",
    "                          (hmax, 255, 255))\n",
    "    dst1 = dst.copy()\n",
    "    cv2.copyTo(src, dst_mask, dst1)\n",
    "    cv2.imshow('mask', dst_mask)\n",
    "    cv2.imshow('dst', dst1)\n",
    "    \n",
    "    \n",
    "\n",
    "src = cv2.imread('.//fig/autumn.jpg')\n",
    "dst = cv2.imread('.//fig/chromakey.png')\n",
    "\n",
    "h, w = dst.shape[:2]\n",
    "src = cv2.resize(src, (w, h), interpolation = cv2.INTER_AREA)\n",
    "dst_hsv = cv2.cvtColor(dst, cv2.COLOR_BGR2HSV)\n",
    "\n",
    "cv2.namedWindow('mask')\n",
    "cv2.createTrackbar('hmin', 'mask', 30, 255, call_track)\n",
    "cv2.createTrackbar('hmax', 'mask', 50, 255, call_track)\n",
    "cv2.createTrackbar('smin', 'mask', 0, 255, call_track)\n",
    "\n",
    "# mask = cv2.inRange(dst_hsv, (50, 150, 0), (80, 255, 255))\n",
    "# cv2.copyTo(src, mask, dst)\n",
    "\n",
    "cv2.imshow('src', src)\n",
    "cv2.imshow('mask', mask)\n",
    "cv2.imshow('dst', dst)\n",
    "\n",
    "\n",
    "cv2.waitKey()\n",
    "cv2.destroyAllWindows()\n"
   ]
  },
  {
   "cell_type": "code",
   "execution_count": null,
   "metadata": {},
   "outputs": [],
   "source": []
  }
 ],
 "metadata": {
  "interpreter": {
   "hash": "b3ba2566441a7c06988d0923437866b63cedc61552a5af99d1f4fb67d367b25f"
  },
  "kernelspec": {
   "display_name": "Python 3.9.7 ('base')",
   "language": "python",
   "name": "python3"
  },
  "language_info": {
   "codemirror_mode": {
    "name": "ipython",
    "version": 3
   },
   "file_extension": ".py",
   "mimetype": "text/x-python",
   "name": "python",
   "nbconvert_exporter": "python",
   "pygments_lexer": "ipython3",
   "version": "3.9.7"
  },
  "orig_nbformat": 4
 },
 "nbformat": 4,
 "nbformat_minor": 2
}
