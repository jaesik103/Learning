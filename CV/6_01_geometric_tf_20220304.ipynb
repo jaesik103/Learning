{
 "cells": [
  {
   "cell_type": "code",
   "execution_count": 1,
   "metadata": {},
   "outputs": [],
   "source": [
    "import numpy as np\n",
    "import sys\n",
    "import cv2"
   ]
  },
  {
   "cell_type": "markdown",
   "metadata": {},
   "source": [
    "# 평행이동"
   ]
  },
  {
   "cell_type": "code",
   "execution_count": 11,
   "metadata": {},
   "outputs": [
    {
     "name": "stdout",
     "output_type": "stream",
     "text": [
      "[[  2.   0. 200.]\n",
      " [  0.   1. 100.]]\n"
     ]
    }
   ],
   "source": [
    "src = cv2.imread('fig/puppy.bmp')\n",
    "h, w = src.shape[:2]\n",
    "\n",
    "if src is None:\n",
    "    print('Image load failed!')\n",
    "    sys.exit()\n",
    "\n",
    "affine = np.array([[2, 0, 200],\n",
    "                [0, 1, 100]], dtype=np.float32)\n",
    "print(affine)\n",
    "\n",
    "dst = cv2.warpAffine(src, affine, (int(2*w), h))\n",
    "\n",
    "cv2.imshow('src', src)\n",
    "cv2.imshow('dst', dst)\n",
    "cv2.waitKey()\n",
    "cv2.destroyAllWindows()"
   ]
  },
  {
   "cell_type": "code",
   "execution_count": 14,
   "metadata": {},
   "outputs": [],
   "source": [
    "src = cv2.imread('./fig/rose.jpg')\n",
    "\n",
    "dst1 = cv2.resize(src, (1920, 1280), interpolation=cv2.INTER_LINEAR)\n",
    "dst2 = cv2.resize(src, (1920, 1280), interpolation=cv2.INTER_NEAREST)\n",
    "dst3 = cv2.resize(src, (1920, 1280), interpolation=cv2.INTER_CUBIC) # 연상량이 늘음\n",
    "\n",
    "\n",
    "cv2.imshow('INTER_LINEAR', dst1)\n",
    "cv2.imshow('INTER_NEAREST', dst2)\n",
    "cv2.imshow('INTER_CUBIC', dst3)\n",
    "\n",
    "\n",
    "cv2.waitKey()\n",
    "cv2.destroyAllWindows()"
   ]
  },
  {
   "cell_type": "markdown",
   "metadata": {},
   "source": [
    "# 회전변환"
   ]
  },
  {
   "cell_type": "code",
   "execution_count": 15,
   "metadata": {},
   "outputs": [],
   "source": [
    "src = cv2.imread('fig/puppy.bmp')\n",
    "\n",
    "if src is None:\n",
    "    print('Image load failed!')\n",
    "    sys.exit()\n",
    "\n",
    "h, w = src.shape[:2]\n",
    "rot_affine = cv2.getRotationMatrix2D((w//2, h//2), 30, 1)\n",
    "dst = cv2.warpAffine(src, rot_affine, (0, 0))\n",
    "\n",
    "\n",
    "cv2.imshow('src', src)\n",
    "cv2.imshow('dst', dst)\n",
    "\n",
    "cv2.waitKey()\n",
    "cv2.destroyAllWindows()"
   ]
  }
 ],
 "metadata": {
  "interpreter": {
   "hash": "b3ba2566441a7c06988d0923437866b63cedc61552a5af99d1f4fb67d367b25f"
  },
  "kernelspec": {
   "display_name": "Python 3.9.7 ('base')",
   "language": "python",
   "name": "python3"
  },
  "language_info": {
   "codemirror_mode": {
    "name": "ipython",
    "version": 3
   },
   "file_extension": ".py",
   "mimetype": "text/x-python",
   "name": "python",
   "nbconvert_exporter": "python",
   "pygments_lexer": "ipython3",
   "version": "3.9.7"
  },
  "orig_nbformat": 4
 },
 "nbformat": 4,
 "nbformat_minor": 2
}
