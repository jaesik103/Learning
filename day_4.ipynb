{
 "cells": [
  {
   "cell_type": "code",
   "execution_count": 1,
   "id": "0d22eee6",
   "metadata": {},
   "outputs": [],
   "source": [
    "# 팩토리얼 함수 구현\n",
    "def factorial(n):\n",
    "    output = 1\n",
    "    for i in range(1, n+1):\n",
    "        output *= i\n",
    "    return output"
   ]
  },
  {
   "cell_type": "code",
   "execution_count": 3,
   "id": "605dd979",
   "metadata": {},
   "outputs": [],
   "source": [
    "def factorial1(n):\n",
    "    # n이 0이면 1을 return 아니면 n*f(n-1)\n",
    "    if n == 0:\n",
    "        return 1\n",
    "    else:\n",
    "        return n * factorial1(n-1)"
   ]
  },
  {
   "cell_type": "code",
   "execution_count": 5,
   "id": "f16147cf",
   "metadata": {},
   "outputs": [
    {
     "name": "stdout",
     "output_type": "stream",
     "text": [
      "120\n"
     ]
    },
    {
     "data": {
      "text/plain": [
       "120"
      ]
     },
     "execution_count": 5,
     "metadata": {},
     "output_type": "execute_result"
    }
   ],
   "source": [
    "print(factorial(5)) # 팩토리얼실행\n",
    "factorial1(5)"
   ]
  },
  {
   "cell_type": "code",
   "execution_count": 10,
   "id": "89a0207e",
   "metadata": {},
   "outputs": [],
   "source": [
    "# 피보나치수열 f(n) = f(n-1) + f(n-2), f(1)=1, f(2)=2\n",
    "def fibo(n):\n",
    "    global count \n",
    "    count += 1\n",
    "    if n==1 or n ==2:\n",
    "        return 1\n",
    "    else:\n",
    "        return fibo(n-1) + fibo(n-2)"
   ]
  },
  {
   "cell_type": "code",
   "execution_count": 36,
   "id": "719f22f2",
   "metadata": {},
   "outputs": [],
   "source": [
    "dictionary = {1:1, 2:1}\n",
    "def fibo_m(n):\n",
    "    global count\n",
    "    count += 1 # 계산횟수\n",
    "    \n",
    "    \n",
    "    \n",
    "    if n in dictionary:\n",
    "        return dictionary[n]\n",
    "    else:\n",
    "        output = fibo_m(n-1) + fibo_m(n-2)\n",
    "        dictionary[n] = output # 메모화\n",
    "        return output"
   ]
  },
  {
   "cell_type": "code",
   "execution_count": 31,
   "id": "873bff37",
   "metadata": {},
   "outputs": [
    {
     "name": "stdout",
     "output_type": "stream",
     "text": [
      "count : 25\n"
     ]
    }
   ],
   "source": [
    "count = 0\n",
    "fibo(7)\n",
    "print(\"count :\", count)"
   ]
  },
  {
   "cell_type": "code",
   "execution_count": 37,
   "id": "6fca1e5a",
   "metadata": {},
   "outputs": [
    {
     "name": "stdout",
     "output_type": "stream",
     "text": [
      "6765\n"
     ]
    }
   ],
   "source": [
    "count = 0\n",
    "print(fibo_m(20))\n",
    "# print(dictionary)\n",
    "# print(count)"
   ]
  },
  {
   "cell_type": "code",
   "execution_count": 42,
   "id": "a33e9265",
   "metadata": {},
   "outputs": [],
   "source": [
    "def asd_1():\n",
    "    a=1\n",
    "    b=10\n",
    "    return a,b"
   ]
  },
  {
   "cell_type": "code",
   "execution_count": 44,
   "id": "1c5e3c69",
   "metadata": {},
   "outputs": [
    {
     "name": "stdout",
     "output_type": "stream",
     "text": [
      "10\n"
     ]
    }
   ],
   "source": [
    "print(asd_1()[1])"
   ]
  },
  {
   "cell_type": "code",
   "execution_count": 47,
   "id": "eb76156e",
   "metadata": {},
   "outputs": [
    {
     "name": "stdout",
     "output_type": "stream",
     "text": [
      "10\n",
      "20\n",
      "30\n",
      "40\n",
      "a:10, b:20, c:30\n",
      "before => a:10, b:20\n",
      "after => a:20, b:10\n"
     ]
    }
   ],
   "source": [
    "# tuple : 수정할 수 없는 자료 (),\n",
    "tuple_test = (10, 20, 30, 40)\n",
    "for value in tuple_test:\n",
    "    print(value)\n",
    "a, b, c = 10, 20 ,30\n",
    "print(\"a:{}, b:{}, c:{}\".format(a,b,c))\n",
    "\n",
    "a,b = 10, 20\n",
    "print(\"before => a:{}, b:{}\".format(a,b))\n",
    "a,b = b,a # a와 b의 값이 바뀜\n",
    "print(\"after => a:{}, b:{}\".format(a,b))"
   ]
  },
  {
   "cell_type": "code",
   "execution_count": 50,
   "id": "9f4128ba",
   "metadata": {},
   "outputs": [
    {
     "name": "stdout",
     "output_type": "stream",
     "text": [
      "0번째 값 : 1\n",
      "1번째 값 : 2\n",
      "2번째 값 : 3\n",
      "3번째 값 : 4\n",
      "4번째 값 : 5\n",
      "29 : 몫 1: : 나머지\n"
     ]
    }
   ],
   "source": [
    "for idx, value in enumerate([1,2,3,4,5]):\n",
    "    print('{}번째 값 : {}'.format(idx, value))\n",
    "    \n",
    "a, b = divmod(88,3)\n",
    "print('{} : 몫 {}: : 나머지'.format(a,b))"
   ]
  },
  {
   "cell_type": "code",
   "execution_count": 61,
   "id": "3671c5ef",
   "metadata": {},
   "outputs": [
    {
     "name": "stdout",
     "output_type": "stream",
     "text": [
      "[1, 4, 9, 16, 25]\n",
      "\n",
      " [1, 2]\n"
     ]
    }
   ],
   "source": [
    "# map과 filter 함수 -> map(함수, 리스트), filter(함수,리스트)\n",
    "# def power(x):\n",
    "#     return x*x\n",
    "# def under_3(x):\n",
    "#     return x<3\n",
    "# lamda 함수로 변경 -> lambda 매개변수 : 리턴값\n",
    "power = lambda x: x*x\n",
    "under_3 = lambda x: x<3\n",
    "\n",
    "a_list = [1,2,3,4,5]\n",
    "b_list = list(map(lambda x: x*x, a_list))\n",
    "print(b_list)\n",
    "c_list = list(filter(lambda x: x<3, a_list))\n",
    "print('\\n',c_list)"
   ]
  },
  {
   "cell_type": "code",
   "execution_count": 67,
   "id": "e78f0f40",
   "metadata": {},
   "outputs": [
    {
     "name": "stdout",
     "output_type": "stream",
     "text": [
      "hello python file write !!\n"
     ]
    }
   ],
   "source": [
    "# file 처리 : open, close, write, read....\n",
    "file = open('a.txt','r')\n",
    "file_date = file.read()\n",
    "print(file_date)\n",
    "file.close()"
   ]
  },
  {
   "cell_type": "code",
   "execution_count": 75,
   "id": "52db0204",
   "metadata": {},
   "outputs": [],
   "source": [
    "# 파일을 자동으로 close() 시킴\n",
    "with open('a.txt','w') as file:\n",
    "    file.write('with python file open!! \\n')\n",
    "    file.write('with python file open!! \\n')\n",
    "    file.write('with python file open!! \\n')\n",
    "   \n",
    "\n",
    "# file_date = file.read()"
   ]
  },
  {
   "cell_type": "code",
   "execution_count": 76,
   "id": "2374fa39",
   "metadata": {},
   "outputs": [
    {
     "name": "stdout",
     "output_type": "stream",
     "text": [
      "with python file open!! \n",
      "\n",
      "with python file open!! \n",
      "\n",
      "with python file open!! \n",
      "\n"
     ]
    }
   ],
   "source": [
    "# 저장된 파일의 내용을 라인 단위로 읽어옴\n",
    "with open('a.txt', 'r') as file:\n",
    "    for line in file:\n",
    "        print(line)"
   ]
  },
  {
   "cell_type": "code",
   "execution_count": null,
   "id": "b722901b",
   "metadata": {},
   "outputs": [],
   "source": [
    "with open('score.txt', 'w') as file:\n",
    "    name, score = input(\"이름 성적 입력 >\").split()\n",
    "    file.write(name + ',' + score)"
   ]
  },
  {
   "cell_type": "code",
   "execution_count": 81,
   "id": "34a2c8c2",
   "metadata": {},
   "outputs": [
    {
     "name": "stdout",
     "output_type": "stream",
     "text": [
      "이름 성적 입력 >asd 123\n",
      "asd : 123\n"
     ]
    }
   ],
   "source": [
    "    \n",
    "with open('score.txt', 'r') as file:\n",
    "    for line in file:\n",
    "        name, score = line.split(',')\n",
    "        print(name, ':', score)"
   ]
  },
  {
   "cell_type": "code",
   "execution_count": 85,
   "id": "1d752b7b",
   "metadata": {},
   "outputs": [
    {
     "name": "stdout",
     "output_type": "stream",
     "text": [
      "이름 성적 입력 >qqq 111\n",
      "qwe : 123\n",
      "\n",
      "qqq : 111\n",
      "\n"
     ]
    }
   ],
   "source": [
    "file = open('score.txt', 'a+') # w, a, r\n",
    "name, score = input(\"이름 성적 입력 >\").split()\n",
    "file.write(name + ',' + score + '\\n') # 파일의 마지막 위치를 가리킴\n",
    "\n",
    "file.seek(0,0) # 파일의 처음 위치로 이동\n",
    "for line in file:\n",
    "    name, score = line.split(',')\n",
    "    print(name, \":\", score)\n",
    "file.close()"
   ]
  },
  {
   "cell_type": "code",
   "execution_count": 135,
   "id": "86b95c41",
   "metadata": {},
   "outputs": [],
   "source": [
    "# 이름, 국어, 영어, 수학 성적을 입력받아 파일에 저장한 후 file_write()\n",
    "# 검색할 이름을 입력받아 파일에서 데이터 검색 file_search()\n",
    "# 검색한 이름과 성적 출력\n",
    "# 전체 학생의 인원수와 총점 평균을 구함 file.total\n",
    "\n",
    "def file_write():\n",
    "    file = open('name_score.txt', 'w') # w, a, r   \n",
    "    while True: #리스트로 데이터 저장\n",
    "        write = input(\"이름 국어 영어 수학 점수입력(\\'q\\'입력하면 종료) :\").split()\n",
    "        name = []\n",
    "        score = []\n",
    "        sum_1=0\n",
    "        name = write[0]\n",
    "        if name == 'q':\n",
    "            break\n",
    "        i=1\n",
    "        while i<=3:\n",
    "            score.append(int(write[i]))\n",
    "            i +=1\n",
    "        i=0\n",
    "        while i<=2:\n",
    "            sum_1 += score[i]\n",
    "            i +=1\n",
    "        score.append(sum_1)\n",
    "        file.write(name + ',' + write[1]+ ',' + write[2]+ ',' + write[3] + '\\n')\n",
    "    \n",
    "    file.close()"
   ]
  },
  {
   "cell_type": "code",
   "execution_count": 136,
   "id": "7b6d2efb",
   "metadata": {},
   "outputs": [],
   "source": [
    "def file_search():\n",
    "    with open('name_score.txt', 'r') as file:\n",
    "        while True:\n",
    "            file.seek(0,0)\n",
    "            write = input(\"이름 검색(q) :\")\n",
    "            if write == 'q':\n",
    "                break\n",
    "            for line in file:\n",
    "                name, score1, score2, score3 = line.split(',')\n",
    "                if write == name:\n",
    "                    print(score1, score2, score3)"
   ]
  },
  {
   "cell_type": "code",
   "execution_count": 155,
   "id": "e048c616",
   "metadata": {},
   "outputs": [],
   "source": [
    "def file_total():\n",
    "    sum_total=0\n",
    "    i=0\n",
    "    with open('name_score.txt', 'r') as file:\n",
    "        file.seek(0,0)\n",
    "        for line in file:\n",
    "#             write=line.split #리스트로 데이터 불러오기\n",
    "#             name = []\n",
    "#             score = []\n",
    "#             name.append(write[0])\n",
    "#             score.append(lambda x : int(x), write[1:])\n",
    "#             sum_1=sum(score)\n",
    "#             sum_total +=sum_1\n",
    "#             i +=1\n",
    "                name, score1, score2, score3 = line.split(',') #튜플로 데이터 불러오기\n",
    "                sum_1=int(score1)+int(score2)+int(score3)\n",
    "                sum_total +=sum_1 #총합계\n",
    "                i +=1 # 총원\n",
    "        mean_total =(sum_total)/i # 평균\n",
    "    print(\"인원수 : {} 총합 : {} 평균 : {}\".format(i,sum_total,mean_total))"
   ]
  },
  {
   "cell_type": "code",
   "execution_count": 156,
   "id": "d54e2d47",
   "metadata": {},
   "outputs": [
    {
     "ename": "TypeError",
     "evalue": "'builtin_function_or_method' object is not subscriptable",
     "output_type": "error",
     "traceback": [
      "\u001b[1;31m---------------------------------------------------------------------------\u001b[0m",
      "\u001b[1;31mTypeError\u001b[0m                                 Traceback (most recent call last)",
      "\u001b[1;32m~\\AppData\\Local\\Temp/ipykernel_7256/1528493038.py\u001b[0m in \u001b[0;36m<module>\u001b[1;34m\u001b[0m\n\u001b[1;32m----> 1\u001b[1;33m \u001b[0mfile_total\u001b[0m\u001b[1;33m(\u001b[0m\u001b[1;33m)\u001b[0m\u001b[1;33m\u001b[0m\u001b[1;33m\u001b[0m\u001b[0m\n\u001b[0m",
      "\u001b[1;32m~\\AppData\\Local\\Temp/ipykernel_7256/1850579558.py\u001b[0m in \u001b[0;36mfile_total\u001b[1;34m()\u001b[0m\n\u001b[0;32m      8\u001b[0m             \u001b[0mname\u001b[0m \u001b[1;33m=\u001b[0m \u001b[1;33m[\u001b[0m\u001b[1;33m]\u001b[0m\u001b[1;33m\u001b[0m\u001b[1;33m\u001b[0m\u001b[0m\n\u001b[0;32m      9\u001b[0m             \u001b[0mscore\u001b[0m \u001b[1;33m=\u001b[0m \u001b[1;33m[\u001b[0m\u001b[1;33m]\u001b[0m\u001b[1;33m\u001b[0m\u001b[1;33m\u001b[0m\u001b[0m\n\u001b[1;32m---> 10\u001b[1;33m             \u001b[0mname\u001b[0m\u001b[1;33m.\u001b[0m\u001b[0mappend\u001b[0m\u001b[1;33m(\u001b[0m\u001b[0mwrite\u001b[0m\u001b[1;33m[\u001b[0m\u001b[1;36m0\u001b[0m\u001b[1;33m]\u001b[0m\u001b[1;33m)\u001b[0m\u001b[1;33m\u001b[0m\u001b[1;33m\u001b[0m\u001b[0m\n\u001b[0m\u001b[0;32m     11\u001b[0m             \u001b[0mscore\u001b[0m\u001b[1;33m.\u001b[0m\u001b[0mappend\u001b[0m\u001b[1;33m(\u001b[0m\u001b[1;32mlambda\u001b[0m \u001b[0mx\u001b[0m \u001b[1;33m:\u001b[0m \u001b[0mint\u001b[0m\u001b[1;33m(\u001b[0m\u001b[0mx\u001b[0m\u001b[1;33m)\u001b[0m\u001b[1;33m,\u001b[0m \u001b[0mwrite\u001b[0m\u001b[1;33m[\u001b[0m\u001b[1;36m1\u001b[0m\u001b[1;33m:\u001b[0m\u001b[1;33m]\u001b[0m\u001b[1;33m)\u001b[0m\u001b[1;33m\u001b[0m\u001b[1;33m\u001b[0m\u001b[0m\n\u001b[0;32m     12\u001b[0m             \u001b[0msum_1\u001b[0m\u001b[1;33m=\u001b[0m\u001b[0msum\u001b[0m\u001b[1;33m(\u001b[0m\u001b[0mscore\u001b[0m\u001b[1;33m)\u001b[0m\u001b[1;33m\u001b[0m\u001b[1;33m\u001b[0m\u001b[0m\n",
      "\u001b[1;31mTypeError\u001b[0m: 'builtin_function_or_method' object is not subscriptable"
     ]
    }
   ],
   "source": [
    "file_total()"
   ]
  },
  {
   "cell_type": "code",
   "execution_count": 145,
   "id": "405e858f",
   "metadata": {},
   "outputs": [
    {
     "name": "stdout",
     "output_type": "stream",
     "text": [
      "이름 국어 영어 수학 점수입력('q'입력하면 종료) :a 1 4 7\n",
      "이름 국어 영어 수학 점수입력('q'입력하면 종료) :b 5 5 5\n",
      "이름 국어 영어 수학 점수입력('q'입력하면 종료) :c 4 4 4\n",
      "이름 국어 영어 수학 점수입력('q'입력하면 종료) :q\n",
      "이름 검색(q) :q\n"
     ]
    },
    {
     "ename": "TypeError",
     "evalue": "'builtin_function_or_method' object is not subscriptable",
     "output_type": "error",
     "traceback": [
      "\u001b[1;31m---------------------------------------------------------------------------\u001b[0m",
      "\u001b[1;31mTypeError\u001b[0m                                 Traceback (most recent call last)",
      "\u001b[1;32m~\\AppData\\Local\\Temp/ipykernel_7256/1289693506.py\u001b[0m in \u001b[0;36m<module>\u001b[1;34m\u001b[0m\n\u001b[0;32m      1\u001b[0m \u001b[0mfile_write\u001b[0m\u001b[1;33m(\u001b[0m\u001b[1;33m)\u001b[0m\u001b[1;33m\u001b[0m\u001b[1;33m\u001b[0m\u001b[0m\n\u001b[0;32m      2\u001b[0m \u001b[0mfile_search\u001b[0m\u001b[1;33m(\u001b[0m\u001b[1;33m)\u001b[0m\u001b[1;33m\u001b[0m\u001b[1;33m\u001b[0m\u001b[0m\n\u001b[1;32m----> 3\u001b[1;33m \u001b[0mfile_total\u001b[0m\u001b[1;33m(\u001b[0m\u001b[1;33m)\u001b[0m\u001b[1;33m\u001b[0m\u001b[1;33m\u001b[0m\u001b[0m\n\u001b[0m",
      "\u001b[1;32m~\\AppData\\Local\\Temp/ipykernel_7256/592641531.py\u001b[0m in \u001b[0;36mfile_total\u001b[1;34m()\u001b[0m\n\u001b[0;32m      8\u001b[0m             \u001b[0mname\u001b[0m \u001b[1;33m=\u001b[0m \u001b[1;33m[\u001b[0m\u001b[1;33m]\u001b[0m\u001b[1;33m\u001b[0m\u001b[1;33m\u001b[0m\u001b[0m\n\u001b[0;32m      9\u001b[0m             \u001b[0mscore\u001b[0m \u001b[1;33m=\u001b[0m \u001b[1;33m[\u001b[0m\u001b[1;33m]\u001b[0m\u001b[1;33m\u001b[0m\u001b[1;33m\u001b[0m\u001b[0m\n\u001b[1;32m---> 10\u001b[1;33m             \u001b[0mname\u001b[0m\u001b[1;33m.\u001b[0m\u001b[0mappend\u001b[0m\u001b[1;33m(\u001b[0m\u001b[0mwrite\u001b[0m\u001b[1;33m[\u001b[0m\u001b[1;36m0\u001b[0m\u001b[1;33m]\u001b[0m\u001b[1;33m)\u001b[0m\u001b[1;33m\u001b[0m\u001b[1;33m\u001b[0m\u001b[0m\n\u001b[0m\u001b[0;32m     11\u001b[0m             \u001b[0mscore\u001b[0m\u001b[1;33m.\u001b[0m\u001b[0mappend\u001b[0m\u001b[1;33m(\u001b[0m\u001b[1;32mlambda\u001b[0m \u001b[0mx\u001b[0m\u001b[1;33m:\u001b[0m \u001b[0mint\u001b[0m\u001b[1;33m(\u001b[0m\u001b[0mx\u001b[0m\u001b[1;33m)\u001b[0m\u001b[1;33m,\u001b[0m \u001b[0mwrite\u001b[0m\u001b[1;33m[\u001b[0m\u001b[1;36m1\u001b[0m\u001b[1;33m:\u001b[0m\u001b[1;33m]\u001b[0m\u001b[1;33m)\u001b[0m\u001b[1;33m\u001b[0m\u001b[1;33m\u001b[0m\u001b[0m\n\u001b[0;32m     12\u001b[0m             \u001b[0msum_1\u001b[0m\u001b[1;33m=\u001b[0m\u001b[0msum\u001b[0m\u001b[1;33m(\u001b[0m\u001b[0mscore\u001b[0m\u001b[1;33m)\u001b[0m\u001b[1;33m\u001b[0m\u001b[1;33m\u001b[0m\u001b[0m\n",
      "\u001b[1;31mTypeError\u001b[0m: 'builtin_function_or_method' object is not subscriptable"
     ]
    }
   ],
   "source": [
    "file_write()\n",
    "file_search()\n",
    "file_total()"
   ]
  },
  {
   "cell_type": "code",
   "execution_count": 151,
   "id": "fe9e16eb",
   "metadata": {},
   "outputs": [
    {
     "name": "stdout",
     "output_type": "stream",
     "text": [
      "first call function\n",
      "second call function\n",
      "함수 호출 !! \n",
      "\n",
      "test\n",
      "next --- \n",
      "함수 호출 !!!!!\n",
      "test\n"
     ]
    }
   ],
   "source": [
    "# 제너레이터 함수 실행 : next(함수명), 함수 내부에 return 대신 yield 사용\n",
    "def test():\n",
    "    print('함수 호출 !! \\n')\n",
    "    yield 'test'\n",
    "    \n",
    "    print('함수 호출 !!!!!')\n",
    "    yield 'test'\n",
    "\n",
    "# 함수 호출\n",
    "print('first call function')\n",
    "test() # 제너레이터 함수는 일반적인 호출로 실행 안됨\n",
    "\n",
    "print(\"second call function\")\n",
    "test()\n",
    "\n",
    "file_name = test()\n",
    "a = next(file_name)\n",
    "print(a)\n",
    "print('next --- ')\n",
    "b = next(file_name)\n",
    "print(b)"
   ]
  },
  {
   "cell_type": "code",
   "execution_count": 152,
   "id": "539278bf",
   "metadata": {},
   "outputs": [
    {
     "name": "stdout",
     "output_type": "stream",
     "text": [
      "# 홀수만 추출하기\n",
      "[1, 3, 5, 7, 9]\n",
      "\n",
      "#3이상 7미만 추출하기\n",
      "[3, 4, 5, 6]\n",
      "\n",
      "# 제곱해서 50미만 추출하기\n",
      "[1, 2, 3, 4, 5, 6, 7]\n"
     ]
    }
   ],
   "source": [
    "# 269 page 연습문제2\n",
    "numbers = list(range(1, 10+1))\n",
    "\n",
    "print('# 홀수만 추출하기')\n",
    "print(list(filter(lambda x : x%2, numbers)))\n",
    "print()\n",
    "\n",
    "print('#3이상 7미만 추출하기')\n",
    "print(list(filter(lambda x : 3<=x<7, numbers)))\n",
    "print()\n",
    "\n",
    "print('# 제곱해서 50미만 추출하기')\n",
    "print(list(filter(lambda x : (x*x)<50, numbers)))"
   ]
  },
  {
   "cell_type": "code",
   "execution_count": 161,
   "id": "35e0db7e",
   "metadata": {},
   "outputs": [
    {
     "name": "stdout",
     "output_type": "stream",
     "text": [
      "정수 입력>a\n"
     ]
    }
   ],
   "source": [
    "# try ~ except 예외상황 발생시 처리\n",
    "import numpy as np\n",
    "\n",
    "try:\n",
    "    input_number = int(input('정수 입력>'))\n",
    "    \n",
    "    print('원의 반지름 : ', input_number)\n",
    "    print('원의 둘레 : ', input_number*2*np.pi)\n",
    "    print('원의 넓이 : ', input_number*input_number*np.pi)\n",
    "except :\n",
    "    pass\n",
    "#     print('입력오류 !!')"
   ]
  },
  {
   "cell_type": "code",
   "execution_count": 163,
   "id": "b11fb651",
   "metadata": {},
   "outputs": [
    {
     "name": "stdout",
     "output_type": "stream",
     "text": [
      "무조건 실행 !!\n",
      "무조건 실행 !!\n",
      "에러발생 : qwe\n",
      "무조건 실행 !!\n",
      "무조건 실행 !!\n",
      "['52', '345', 123]\n"
     ]
    }
   ],
   "source": [
    "# try except else\n",
    "list_data  = ['52','345','qwe',123]\n",
    "#숫자만 리스트에 추가\n",
    "list_number = []\n",
    "for item in list_data:\n",
    "    try : #에라 발생 가능 코드 구현\n",
    "        float(item)\n",
    "    except:\n",
    "        print('에러발생 :', item)\n",
    "    else:\n",
    "        list_number.append(item)\n",
    "    finally:\n",
    "        print('무조건 실행 !!')\n",
    "print(list_number)"
   ]
  },
  {
   "cell_type": "code",
   "execution_count": 165,
   "id": "3896c9c0",
   "metadata": {},
   "outputs": [
    {
     "name": "stdout",
     "output_type": "stream",
     "text": [
      "not readable\n",
      "file.closed :  True\n"
     ]
    }
   ],
   "source": [
    "# try except else\n",
    "try:\n",
    "    file = open('info.txt', 'w')\n",
    "    file.read()\n",
    "    file.close()\n",
    "except Exception as e :\n",
    "    print(e)\n",
    "finally:\n",
    "    file.close()\n",
    "    \n",
    "print('file.closed : ', file.closed)"
   ]
  },
  {
   "cell_type": "code",
   "execution_count": 166,
   "id": "4839ebe5",
   "metadata": {},
   "outputs": [
    {
     "name": "stdout",
     "output_type": "stream",
     "text": [
      "test 함수 시작 !!!\n",
      "test try start\n",
      "finally 구문\n"
     ]
    }
   ],
   "source": [
    "def test():\n",
    "    print('test 함수 시작 !!!')\n",
    "    try:\n",
    "        print('test try start')\n",
    "        return\n",
    "        print('try 구문 return 다음 문장')\n",
    "    except:\n",
    "        print('except 구문')\n",
    "    finally:\n",
    "        print('finally 구문')\n",
    "    print('test 함수 end !!')\n",
    "    \n",
    "test()"
   ]
  },
  {
   "cell_type": "code",
   "execution_count": 168,
   "id": "2e795999",
   "metadata": {},
   "outputs": [
    {
     "name": "stdout",
     "output_type": "stream",
     "text": [
      "정수 입력>11\n",
      "리스트의 인덱스 범위 오류 : list index out of range\n"
     ]
    }
   ],
   "source": [
    "# 여러가지 에러 발생시 종류별로 처리하는 방법\n",
    "list_number = [12, 7, 8, 9, 5]\n",
    "\n",
    "try:\n",
    "    input_number = int(input('정수 입력>'))\n",
    "    print('{}번째 요소 : {}'.format(input_number, list_number[input_number]))\n",
    "except ValueError as ex:\n",
    "    print(\"정수를 입력하세요 :\", ex)\n",
    "except IndexError as ex:\n",
    "    print(\"리스트의 인덱스 범위 오류 :\", ex)\n",
    "except Exception as ex:\n",
    "    print(\"알 수 없는 오류 :\", ex)"
   ]
  },
  {
   "cell_type": "code",
   "execution_count": null,
   "id": "2c07db3d",
   "metadata": {},
   "outputs": [],
   "source": [
    "# 이름 전화번호를 파일에 저장하는 프로그램 작성\n",
    "# 파일 이름은 'dataset/telno.txt', 기존에 파일이 존재하면 데이터 추가로\n",
    "# 전화번호 입력은 숫자 3개를 입력받아 123-456-789 형식으로 저장\n",
    "# 이름과 전화번호는 ' ' 로 분리해서 저장\n",
    "# 저장이 끝나면 파일을 닫고\n",
    "# 다시 파일을 open -> 'r'\n",
    "# 파일의 내용을 화면에 출력\n",
    "# -- 홍길동 123-456-7890\n",
    "# try ~ except ~ finally 사용해서 작성"
   ]
  },
  {
   "cell_type": "code",
   "execution_count": 10,
   "id": "95071d86",
   "metadata": {},
   "outputs": [
    {
     "ename": "SyntaxError",
     "evalue": "invalid syntax (Temp/ipykernel_8180/2851430470.py, line 4)",
     "output_type": "error",
     "traceback": [
      "\u001b[1;36m  File \u001b[1;32m\"C:\\Users\\HPE\\AppData\\Local\\Temp/ipykernel_8180/2851430470.py\"\u001b[1;36m, line \u001b[1;32m4\u001b[0m\n\u001b[1;33m    open('../\\dataset/name_score.txt', 'r') !=0:\u001b[0m\n\u001b[1;37m                                                ^\u001b[0m\n\u001b[1;31mSyntaxError\u001b[0m\u001b[1;31m:\u001b[0m invalid syntax\n"
     ]
    }
   ],
   "source": [
    "# 1.저장하는 프로그램 : file_write()\n",
    "def file_write():\n",
    "    try:\n",
    "        open('../\\dataset/name_score.txt', 'r') !=0:\n",
    "        file = open('../\\dataset/name_score.txt', 'a') # w, a, r   \n",
    "        while True: #리스트로 데이터 저장\n",
    "            write = input(\"이름 전화번호 입력(\\'q\\'입력하면 종료) :\").split()\n",
    "            name = []\n",
    "            number = []\n",
    "            name = write[0]\n",
    "            if name == 'q':\n",
    "                break\n",
    "            i=1\n",
    "            while i<=3:\n",
    "                number.append(write[i])\n",
    "                i +=1\n",
    "            file.write(name + ' ' + write[1]+ '-' + write[2]+ '-' + write[3] + '\\n')\n",
    "        file.close()\n",
    "    except:\n",
    "        file = open('../\\dataset/name_score.txt', 'w') \n",
    "        while True: #리스트로 데이터 저장\n",
    "            write = input(\"이름 전화번호 입력(\\'q\\'입력하면 종료) :\").split()\n",
    "            name = []\n",
    "            number = []\n",
    "            name = write[0]\n",
    "            if name == 'q':\n",
    "                break\n",
    "            i=1\n",
    "            while i<=3:\n",
    "                number.append(write[i])\n",
    "                i +=1\n",
    "            file.write(name + ' ' + write[1]+ '-' + write[2]+ '-' + write[3] + '\\n')\n",
    "        file.close()"
   ]
  },
  {
   "cell_type": "code",
   "execution_count": 186,
   "id": "d9b17dea",
   "metadata": {},
   "outputs": [
    {
     "name": "stdout",
     "output_type": "stream",
     "text": [
      "이름 전화번호 입력('q'입력하면 종료) :qqqqqq 444 8 777\n",
      "이름 전화번호 입력('q'입력하면 종료) :q\n"
     ]
    }
   ],
   "source": [
    "file_write()"
   ]
  },
  {
   "cell_type": "code",
   "execution_count": 2,
   "id": "3988b555",
   "metadata": {},
   "outputs": [],
   "source": [
    "def file_display():\n",
    "    with open('../\\dataset/name_score.txt', 'r') as file:\n",
    "        file.seek(0,0)\n",
    "        for line in file:\n",
    "            print(line)"
   ]
  },
  {
   "cell_type": "code",
   "execution_count": 193,
   "id": "60adc74a",
   "metadata": {},
   "outputs": [
    {
     "name": "stdout",
     "output_type": "stream",
     "text": [
      "qqq:777-888-999\n",
      "\n",
      "<class 'str'>\n",
      "asd:111-111-111\n",
      "\n",
      "<class 'str'>\n",
      "qqqqqq 444-8-777\n",
      "\n",
      "<class 'str'>\n"
     ]
    }
   ],
   "source": [
    "file_display()"
   ]
  },
  {
   "cell_type": "code",
   "execution_count": 3,
   "id": "7a1b1962",
   "metadata": {},
   "outputs": [],
   "source": [
    "def file_search():\n",
    "    with open('../\\dataset/name_score.txt', 'r') as file:\n",
    "        while True:\n",
    "            file.seek(0,0)\n",
    "            write = input(\"이름 검색(q) :\")\n",
    "            if write == 'q':\n",
    "                break\n",
    "            for line in file:\n",
    "                name = line.split(' ')[0]\n",
    "                if write == name:\n",
    "                    print(line.split(' ')[1])"
   ]
  },
  {
   "cell_type": "code",
   "execution_count": 8,
   "id": "6ffdef1b",
   "metadata": {},
   "outputs": [
    {
     "ename": "FileNotFoundError",
     "evalue": "[Errno 2] No such file or directory: '../\\\\dataset/name_score.txt'",
     "output_type": "error",
     "traceback": [
      "\u001b[1;31m---------------------------------------------------------------------------\u001b[0m",
      "\u001b[1;31mFileNotFoundError\u001b[0m                         Traceback (most recent call last)",
      "\u001b[1;32m~\\AppData\\Local\\Temp/ipykernel_8180/3762870009.py\u001b[0m in \u001b[0;36m<module>\u001b[1;34m\u001b[0m\n\u001b[1;32m----> 1\u001b[1;33m \u001b[0mfile_write\u001b[0m\u001b[1;33m(\u001b[0m\u001b[1;33m)\u001b[0m\u001b[1;33m\u001b[0m\u001b[1;33m\u001b[0m\u001b[0m\n\u001b[0m\u001b[0;32m      2\u001b[0m \u001b[0mfile_display\u001b[0m\u001b[1;33m(\u001b[0m\u001b[1;33m)\u001b[0m\u001b[1;33m\u001b[0m\u001b[1;33m\u001b[0m\u001b[0m\n\u001b[0;32m      3\u001b[0m \u001b[0mfile_search\u001b[0m\u001b[1;33m(\u001b[0m\u001b[1;33m)\u001b[0m\u001b[1;33m\u001b[0m\u001b[1;33m\u001b[0m\u001b[0m\n",
      "\u001b[1;32m~\\AppData\\Local\\Temp/ipykernel_8180/4153505699.py\u001b[0m in \u001b[0;36mfile_write\u001b[1;34m()\u001b[0m\n\u001b[0;32m      1\u001b[0m \u001b[1;31m# 1.저장하는 프로그램 : file_write()\u001b[0m\u001b[1;33m\u001b[0m\u001b[1;33m\u001b[0m\u001b[0m\n\u001b[0;32m      2\u001b[0m \u001b[1;32mdef\u001b[0m \u001b[0mfile_write\u001b[0m\u001b[1;33m(\u001b[0m\u001b[1;33m)\u001b[0m\u001b[1;33m:\u001b[0m\u001b[1;33m\u001b[0m\u001b[1;33m\u001b[0m\u001b[0m\n\u001b[1;32m----> 3\u001b[1;33m     \u001b[1;32mif\u001b[0m \u001b[0mopen\u001b[0m\u001b[1;33m(\u001b[0m\u001b[1;34m'../\\dataset/name_score.txt'\u001b[0m\u001b[1;33m,\u001b[0m \u001b[1;34m'r'\u001b[0m\u001b[1;33m)\u001b[0m \u001b[1;33m==\u001b[0m\u001b[1;36m0\u001b[0m\u001b[1;33m:\u001b[0m\u001b[1;33m\u001b[0m\u001b[1;33m\u001b[0m\u001b[0m\n\u001b[0m\u001b[0;32m      4\u001b[0m         \u001b[0mfile\u001b[0m \u001b[1;33m=\u001b[0m \u001b[0mopen\u001b[0m\u001b[1;33m(\u001b[0m\u001b[1;34m'../\\dataset/name_score.txt'\u001b[0m\u001b[1;33m,\u001b[0m \u001b[1;34m'w'\u001b[0m\u001b[1;33m)\u001b[0m \u001b[1;31m# w, a, r\u001b[0m\u001b[1;33m\u001b[0m\u001b[1;33m\u001b[0m\u001b[0m\n\u001b[0;32m      5\u001b[0m         \u001b[1;32mwhile\u001b[0m \u001b[1;32mTrue\u001b[0m\u001b[1;33m:\u001b[0m \u001b[1;31m#리스트로 데이터 저장\u001b[0m\u001b[1;33m\u001b[0m\u001b[1;33m\u001b[0m\u001b[0m\n",
      "\u001b[1;31mFileNotFoundError\u001b[0m: [Errno 2] No such file or directory: '../\\\\dataset/name_score.txt'"
     ]
    }
   ],
   "source": [
    "file_write()\n",
    "file_display()\n",
    "file_search()"
   ]
  },
  {
   "cell_type": "code",
   "execution_count": null,
   "id": "308bee8a",
   "metadata": {},
   "outputs": [],
   "source": []
  }
 ],
 "metadata": {
  "kernelspec": {
   "display_name": "Python 3 (ipykernel)",
   "language": "python",
   "name": "python3"
  },
  "language_info": {
   "codemirror_mode": {
    "name": "ipython",
    "version": 3
   },
   "file_extension": ".py",
   "mimetype": "text/x-python",
   "name": "python",
   "nbconvert_exporter": "python",
   "pygments_lexer": "ipython3",
   "version": "3.9.7"
  }
 },
 "nbformat": 4,
 "nbformat_minor": 5
}
