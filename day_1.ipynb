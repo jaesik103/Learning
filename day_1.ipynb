{
 "cells": [
  {
   "cell_type": "markdown",
   "id": "01b44862",
   "metadata": {},
   "source": [
    "#### 머신러닝 개념(ML)\n",
    "- 데이터를 기반으로 패턴을 학습하고 결과를 추론하는 알고리즘 기법\n",
    "- 지도학습(Supervised Learning), 비지도학습(Un-Supervised Learning)\n",
    "- 지도학습(분류, 회귀), 비지도학습(클러스터링, 차원축소)\n",
    "\n",
    "#### 머신러닝 용어(데이터의 형식 : DataFrame)\n",
    "- 피처(feature) : 데이터의 일반 속성\n",
    "- 레이블, 클래스, 타겟 값, 결정 값 : 정답데이터"
   ]
  },
  {
   "cell_type": "code",
   "execution_count": 1,
   "id": "ab1e00d5",
   "metadata": {},
   "outputs": [],
   "source": [
    "import numpy as np\n",
    "import pandas as pd"
   ]
  },
  {
   "cell_type": "code",
   "execution_count": null,
   "id": "9795ab8c",
   "metadata": {},
   "outputs": [],
   "source": [
    "print('numpy version - ',np.__version__)\n",
    "print('pandas version - ',pd.__version__)"
   ]
  },
  {
   "cell_type": "code",
   "execution_count": 2,
   "id": "95ac8746",
   "metadata": {},
   "outputs": [
    {
     "name": "stdout",
     "output_type": "stream",
     "text": [
      "sklearn version -  0.24.2\n"
     ]
    }
   ],
   "source": [
    "import sklearn\n",
    "from sklearn.datasets import load_iris\n",
    "\n",
    "print('sklearn version - ', sklearn.__version__)"
   ]
  },
  {
   "cell_type": "code",
   "execution_count": 3,
   "id": "07507dab",
   "metadata": {},
   "outputs": [
    {
     "name": "stdout",
     "output_type": "stream",
     "text": [
      "type : <class 'sklearn.utils.Bunch'>\n",
      "keys : dict_keys(['data', 'target', 'frame', 'target_names', 'DESCR', 'feature_names', 'filename'])\n",
      "feature_names :  ['sepal length (cm)', 'sepal width (cm)', 'petal length (cm)', 'petal width (cm)']\n",
      "feature_names type :  <class 'list'>\n"
     ]
    }
   ],
   "source": [
    "iris = load_iris()\n",
    "print('type :', type(iris))\n",
    "print('keys :', iris.keys())\n",
    "\n",
    "print('feature_names : ', iris.feature_names)\n",
    "print('feature_names type : ', type(iris.feature_names))"
   ]
  },
  {
   "cell_type": "code",
   "execution_count": null,
   "id": "b3741155",
   "metadata": {},
   "outputs": [],
   "source": [
    "print('data : ',iris.data)\n",
    "print('data type : ', type(iris.data))"
   ]
  },
  {
   "cell_type": "code",
   "execution_count": null,
   "id": "9448af5a",
   "metadata": {},
   "outputs": [],
   "source": [
    "print('target :', type(iris.target))\n",
    "print('target :', iris.target)"
   ]
  },
  {
   "cell_type": "code",
   "execution_count": null,
   "id": "2d3da495",
   "metadata": {},
   "outputs": [],
   "source": [
    "print('feature, target를 이용해서 데이터 프레이믈 만들어보자 -')\n",
    "print()\n",
    "iris_frm = pd.DataFrame(data = iris.data, columns = iris.feature_names)\n",
    "iris_frm['target'] = iris.target\n",
    "iris_frm"
   ]
  },
  {
   "cell_type": "markdown",
   "id": "c671e1e2",
   "metadata": {},
   "source": [
    "### 지도학습 - 분류(classification)\n",
    " - step 01. 데이터 분리(training data, test data)\n",
    " - step 02. 학습데이터를 기반으로 ML 알고리즘을 적용해 학습 모델 생성\n",
    " - step 03. 테스트데이터를 기반으로 분류 예측을 수행\n",
    " - step 04. 모델의 성능평가"
   ]
  },
  {
   "cell_type": "code",
   "execution_count": 17,
   "id": "c18a5aaf",
   "metadata": {},
   "outputs": [],
   "source": [
    "from sklearn.model_selection import train_test_split\n",
    "from sklearn.tree            import DecisionTreeClassifier\n",
    "from sklearn.metrics         import accuracy_score\n"
   ]
  },
  {
   "cell_type": "code",
   "execution_count": null,
   "id": "3f879942",
   "metadata": {},
   "outputs": [],
   "source": [
    "iris_feature_frm = iris_frm.iloc[:,:-1]\n",
    "iris_target_frm = iris_frm.iloc[:,-1]"
   ]
  },
  {
   "cell_type": "code",
   "execution_count": null,
   "id": "b626f54f",
   "metadata": {},
   "outputs": [],
   "source": [
    "iris_feature_frm"
   ]
  },
  {
   "cell_type": "code",
   "execution_count": null,
   "id": "50590276",
   "metadata": {},
   "outputs": [],
   "source": [
    "print('step 01.')\n",
    "print()\n",
    "X_train, X_test, y_train, y_test = train_test_split(iris_feature_frm,\n",
    "                                                    iris_target_frm,\n",
    "                                                    test_size = 0.2,\n",
    "                                                    shuffle = True,\n",
    "                                                    random_state = 100)"
   ]
  },
  {
   "cell_type": "code",
   "execution_count": null,
   "id": "151a2174",
   "metadata": {},
   "outputs": [],
   "source": [
    "X_train.shape, X_test.shape, y_train.shape, y_test.shape"
   ]
  },
  {
   "cell_type": "code",
   "execution_count": null,
   "id": "2d0bfbf8",
   "metadata": {},
   "outputs": [],
   "source": [
    "type(iris_target_frm)"
   ]
  },
  {
   "cell_type": "code",
   "execution_count": null,
   "id": "b9643888",
   "metadata": {},
   "outputs": [],
   "source": [
    "print('train data :', X_train)\n",
    "print('train target :', y_train)"
   ]
  },
  {
   "cell_type": "code",
   "execution_count": null,
   "id": "75ff5dfe",
   "metadata": {},
   "outputs": [],
   "source": [
    "print('test data :', X_test)\n",
    "print('test target :', y_test)"
   ]
  },
  {
   "cell_type": "code",
   "execution_count": null,
   "id": "67245536",
   "metadata": {},
   "outputs": [],
   "source": [
    "print('step 02. fit()')\n",
    "print()\n",
    "iris_dtc_model = DecisionTreeClassifier()\n",
    "iris_dtc_model.fit(X_train, y_train)"
   ]
  },
  {
   "cell_type": "code",
   "execution_count": null,
   "id": "d77b6268",
   "metadata": {},
   "outputs": [],
   "source": [
    "print('step 03. predict()')\n",
    "print()\n",
    "\n",
    "y_pred = iris_dtc_model.predict(X_test)\n",
    "print('y_test : ', y_test)\n",
    "print('y_pred : ', y_pred)"
   ]
  },
  {
   "cell_type": "code",
   "execution_count": null,
   "id": "60eefe25",
   "metadata": {},
   "outputs": [],
   "source": [
    "print('step 04. 예측정확도 : ')\n",
    "print()\n",
    "print('acc : ', accuracy_score(y_test, y_pred))"
   ]
  },
  {
   "cell_type": "code",
   "execution_count": null,
   "id": "dd7366e1",
   "metadata": {},
   "outputs": [],
   "source": [
    "# display(iris_frm)\n",
    "print()\n",
    "print('type : ', type(iris_frm))"
   ]
  },
  {
   "cell_type": "code",
   "execution_count": null,
   "id": "95536518",
   "metadata": {},
   "outputs": [],
   "source": [
    "print('데이터 프레임 형식에서 학습데이터와 테스트데이터를 분리한다면?')\n",
    "print()\n",
    "# print('target : ')\n",
    "# print(iris_frm['target'])\n",
    "iris_feature_frm = iris_frm.iloc[:,[0,1,2,3] ]\n",
    "# display(iris_feature_frm)\n",
    "iris_target_frm = iris_frm.iloc[:, 4]\n",
    "# display(iris_target_frm)"
   ]
  },
  {
   "cell_type": "code",
   "execution_count": null,
   "id": "7c4982c9",
   "metadata": {},
   "outputs": [],
   "source": [
    "# X_train 에 대해서 predict 하면\n",
    "y_pred = iris_dtc_model.predict(X_train)\n",
    "print('y_test : ', y_train)\n",
    "print('y_pred : ', y_pred, type(y_pred))"
   ]
  },
  {
   "cell_type": "code",
   "execution_count": null,
   "id": "5fd028be",
   "metadata": {},
   "outputs": [],
   "source": [
    "# 과적합 발생\n",
    "acc = accuracy_score(y_train, y_pred)\n",
    "print('acc : ',acc)"
   ]
  },
  {
   "cell_type": "markdown",
   "id": "7ee1b17e",
   "metadata": {},
   "source": [
    "#### 교차검증(cross validation) - 회귀 x, 분류 0\n",
    "- 과적합(overffiting)을 방지하기위한 방법\n",
    "- 데이터의 편중을 막기위해서\n",
    "- KFold 방식"
   ]
  },
  {
   "cell_type": "code",
   "execution_count": 5,
   "id": "2d1a6c01",
   "metadata": {},
   "outputs": [],
   "source": [
    "from sklearn.model_selection import KFold, StratifiedKFold, cross_val_score, cross_validate"
   ]
  },
  {
   "cell_type": "code",
   "execution_count": 6,
   "id": "1def30d9",
   "metadata": {},
   "outputs": [],
   "source": [
    "fold_iris = load_iris()\n",
    "\n",
    "features = fold_iris.data\n",
    "label    = fold_iris.target"
   ]
  },
  {
   "cell_type": "code",
   "execution_count": null,
   "id": "a079c11c",
   "metadata": {},
   "outputs": [],
   "source": [
    "features"
   ]
  },
  {
   "cell_type": "code",
   "execution_count": 12,
   "id": "3df5ed94",
   "metadata": {},
   "outputs": [
    {
     "name": "stdout",
     "output_type": "stream",
     "text": [
      "<generator object _BaseKFold.split at 0x000002904FE83890>\n"
     ]
    }
   ],
   "source": [
    "print(kfold.split(features))"
   ]
  },
  {
   "cell_type": "code",
   "execution_count": 14,
   "id": "dbaf76a1",
   "metadata": {},
   "outputs": [
    {
     "name": "stdout",
     "output_type": "stream",
     "text": [
      "5개의 폴더 세트를 분리하여 각 폴더 세트별 정확도를 확인해보자\n",
      "train idx :  [ 30  31  32  33  34  35  36  37  38  39  40  41  42  43  44  45  46  47\n",
      "  48  49  50  51  52  53  54  55  56  57  58  59  60  61  62  63  64  65\n",
      "  66  67  68  69  70  71  72  73  74  75  76  77  78  79  80  81  82  83\n",
      "  84  85  86  87  88  89  90  91  92  93  94  95  96  97  98  99 100 101\n",
      " 102 103 104 105 106 107 108 109 110 111 112 113 114 115 116 117 118 119\n",
      " 120 121 122 123 124 125 126 127 128 129 130 131 132 133 134 135 136 137\n",
      " 138 139 140 141 142 143 144 145 146 147 148 149]\n",
      "<class 'numpy.ndarray'>\n",
      "test idx :  [ 0  1  2  3  4  5  6  7  8  9 10 11 12 13 14 15 16 17 18 19 20 21 22 23\n",
      " 24 25 26 27 28 29]\n",
      "acc :  1.0\n",
      "train idx :  [  0   1   2   3   4   5   6   7   8   9  10  11  12  13  14  15  16  17\n",
      "  18  19  20  21  22  23  24  25  26  27  28  29  60  61  62  63  64  65\n",
      "  66  67  68  69  70  71  72  73  74  75  76  77  78  79  80  81  82  83\n",
      "  84  85  86  87  88  89  90  91  92  93  94  95  96  97  98  99 100 101\n",
      " 102 103 104 105 106 107 108 109 110 111 112 113 114 115 116 117 118 119\n",
      " 120 121 122 123 124 125 126 127 128 129 130 131 132 133 134 135 136 137\n",
      " 138 139 140 141 142 143 144 145 146 147 148 149]\n",
      "<class 'numpy.ndarray'>\n",
      "test idx :  [30 31 32 33 34 35 36 37 38 39 40 41 42 43 44 45 46 47 48 49 50 51 52 53\n",
      " 54 55 56 57 58 59]\n",
      "acc :  0.9666666666666667\n",
      "train idx :  [  0   1   2   3   4   5   6   7   8   9  10  11  12  13  14  15  16  17\n",
      "  18  19  20  21  22  23  24  25  26  27  28  29  30  31  32  33  34  35\n",
      "  36  37  38  39  40  41  42  43  44  45  46  47  48  49  50  51  52  53\n",
      "  54  55  56  57  58  59  90  91  92  93  94  95  96  97  98  99 100 101\n",
      " 102 103 104 105 106 107 108 109 110 111 112 113 114 115 116 117 118 119\n",
      " 120 121 122 123 124 125 126 127 128 129 130 131 132 133 134 135 136 137\n",
      " 138 139 140 141 142 143 144 145 146 147 148 149]\n",
      "<class 'numpy.ndarray'>\n",
      "test idx :  [60 61 62 63 64 65 66 67 68 69 70 71 72 73 74 75 76 77 78 79 80 81 82 83\n",
      " 84 85 86 87 88 89]\n",
      "acc :  0.8666666666666667\n",
      "train idx :  [  0   1   2   3   4   5   6   7   8   9  10  11  12  13  14  15  16  17\n",
      "  18  19  20  21  22  23  24  25  26  27  28  29  30  31  32  33  34  35\n",
      "  36  37  38  39  40  41  42  43  44  45  46  47  48  49  50  51  52  53\n",
      "  54  55  56  57  58  59  60  61  62  63  64  65  66  67  68  69  70  71\n",
      "  72  73  74  75  76  77  78  79  80  81  82  83  84  85  86  87  88  89\n",
      " 120 121 122 123 124 125 126 127 128 129 130 131 132 133 134 135 136 137\n",
      " 138 139 140 141 142 143 144 145 146 147 148 149]\n",
      "<class 'numpy.ndarray'>\n",
      "test idx :  [ 90  91  92  93  94  95  96  97  98  99 100 101 102 103 104 105 106 107\n",
      " 108 109 110 111 112 113 114 115 116 117 118 119]\n",
      "acc :  0.9333333333333333\n",
      "train idx :  [  0   1   2   3   4   5   6   7   8   9  10  11  12  13  14  15  16  17\n",
      "  18  19  20  21  22  23  24  25  26  27  28  29  30  31  32  33  34  35\n",
      "  36  37  38  39  40  41  42  43  44  45  46  47  48  49  50  51  52  53\n",
      "  54  55  56  57  58  59  60  61  62  63  64  65  66  67  68  69  70  71\n",
      "  72  73  74  75  76  77  78  79  80  81  82  83  84  85  86  87  88  89\n",
      "  90  91  92  93  94  95  96  97  98  99 100 101 102 103 104 105 106 107\n",
      " 108 109 110 111 112 113 114 115 116 117 118 119]\n",
      "<class 'numpy.ndarray'>\n",
      "test idx :  [120 121 122 123 124 125 126 127 128 129 130 131 132 133 134 135 136 137\n",
      " 138 139 140 141 142 143 144 145 146 147 148 149]\n",
      "acc :  0.7333333333333333\n",
      "교차검증 평균 정확도 :  0.9\n"
     ]
    }
   ],
   "source": [
    "print('5개의 폴더 세트를 분리하여 각 폴더 세트별 정확도를 확인해보자')\n",
    "cv_acc = []\n",
    "kfold = KFold(n_splits=5)\n",
    "# 인덱스가 안 섞임\n",
    "\n",
    "fold_dct_model = DecisionTreeClassifier()\n",
    "\n",
    "for train_idx, test_idx in kfold.split(features) :\n",
    "    print('train idx : ', train_idx)\n",
    "    print(type(train_idx))\n",
    "    print('test idx : ', test_idx)\n",
    "    X_train, X_val = features[train_idx], features[test_idx]\n",
    "    y_train, y_val = label[train_idx], label[test_idx]\n",
    "#     print('X_train :', X_train)\n",
    "#     print('X_val :', X_val)\n",
    "    fold_dct_model.fit(X_train, y_train)\n",
    "    fold_pred = fold_dct_model.predict(X_val)\n",
    "    \n",
    "    acc = accuracy_score(y_val, fold_pred)\n",
    "    print('acc : ', acc)\n",
    "    cv_acc.append(acc)\n",
    "    \n",
    "print('교차검증 평균 정확도 : ', np.mean(cv_acc))    "
   ]
  },
  {
   "cell_type": "code",
   "execution_count": null,
   "id": "73dbb765",
   "metadata": {},
   "outputs": [],
   "source": [
    "print('기존 KFold 방식의 문제점 확인 :')\n",
    "print()\n",
    "\n",
    "fold_iris_frm = pd.DataFrame(data = fold_iris.data,\n",
    "                            columns = fold_iris.feature_names)\n",
    "fold_iris_frm['target'] = fold_iris.target\n",
    "fold_iris_frm['target'].value_counts()"
   ]
  },
  {
   "cell_type": "code",
   "execution_count": null,
   "id": "cd0d1b1f",
   "metadata": {},
   "outputs": [],
   "source": [
    "bad_fold_iris = KFold(n_splits=3)\n",
    "n_iter = 0\n",
    "\n",
    "fold_dct_model = DecisionTreeClassifier()\n",
    "\n",
    "for train_idx, test_idx in bad_fold_iris.split(fold_iris_frm) :\n",
    "    n_iter += 1\n",
    "    \n",
    "    label_train = fold_iris_frm['target'].iloc[train_idx]\n",
    "    label_val   = fold_iris_frm.iloc[test_idx]\n",
    "    print('교차검증 횟수 :', n_iter)\n",
    "    print()\n",
    "    print('학습 레이블 데이터 분포 : \\n', label_train)\n",
    "    print('검증 레이블 데이터 분포 : \\n', label_val)\n",
    "    "
   ]
  },
  {
   "cell_type": "code",
   "execution_count": null,
   "id": "11f1bf76",
   "metadata": {},
   "outputs": [],
   "source": [
    "display(bad_fold_iris)"
   ]
  },
  {
   "cell_type": "markdown",
   "id": "b86ac8c8",
   "metadata": {},
   "source": [
    "#### [실습]\n",
    "- 아이리스 데이터를 이용하여 StratifiedkFold 교차검증을 진행해 보자\n",
    "- random_state = 200\n",
    "- StratifiedkFold(3,5) 평균 정확도 확인"
   ]
  },
  {
   "cell_type": "code",
   "execution_count": null,
   "id": "1a2e01db",
   "metadata": {},
   "outputs": [],
   "source": [
    "fold_iris = load_iris()\n",
    "n_iter = 0\n",
    "features = fold_iris.data\n",
    "label    = fold_iris.target\n",
    "\n",
    "print('레이블 불균형을 해결하면서 교차검증 진행')\n",
    "cv_acc = []\n",
    "kfold = StratifiedKFold(n_splits=3)\n",
    "# 인덱스가 섞임\n",
    "\n",
    "fold_dct_model = DecisionTreeClassifier(random_state=200)\n",
    "\n",
    "for train_idx, test_idx in kfold.split(features, label) :\n",
    "    n_iter += 1\n",
    "#     print('train idx : ', train_idx)\n",
    "#     print('test idx : ', test_idx)\n",
    "    X_train, X_val = features[train_idx], features[test_idx]\n",
    "    y_train, y_val = label[train_idx], label[test_idx]\n",
    "#     print('X_train :', X_train)\n",
    "#     print('X_val :', X_val)\n",
    "    fold_dct_model.fit(X_train, y_train)\n",
    "    fold_pred = fold_dct_model.predict(X_val)\n",
    "    \n",
    "    acc = accuracy_score(y_val, fold_pred)\n",
    "    print('검증횟수 {}, 교차검증 정확도 {}, 학습데이터 크기 {}, 검증데이터 크기{}'.format(n_iter, acc, len(X_train), len(y_val)))\n",
    "    cv_acc.append(acc)\n",
    "    \n",
    "print()\n",
    "print('*'*50)\n",
    "print('교차검증 평균 정확도 : ', np.mean(cv_acc))    "
   ]
  },
  {
   "cell_type": "markdown",
   "id": "3006e159",
   "metadata": {},
   "source": [
    "- 위 과정을 한번에 수행하는 함수 : cross_val_score(), 셔플 돼 있음\n",
    "- 인자로 예측모델, 피처세트, 레이블, 성능평가 지표, 폴더 수"
   ]
  },
  {
   "cell_type": "code",
   "execution_count": 19,
   "id": "252f7a10",
   "metadata": {},
   "outputs": [],
   "source": [
    "fold_iris = load_iris()\n",
    "n_iter = 0\n",
    "features = fold_iris.data\n",
    "label    = fold_iris.target\n",
    "\n",
    "dt_model = DecisionTreeClassifier(random_state = 100)"
   ]
  },
  {
   "cell_type": "code",
   "execution_count": 20,
   "id": "dbb02ff2",
   "metadata": {},
   "outputs": [
    {
     "name": "stdout",
     "output_type": "stream",
     "text": [
      "성능평가 acc, 교차검증 5회 수행\n",
      "cross_val_score() :\n",
      "\n"
     ]
    }
   ],
   "source": [
    "print('성능평가 acc, 교차검증 5회 수행')\n",
    "print('cross_val_score() :')\n",
    "print()\n",
    "\n",
    "scores = cross_val_score(dt_model, features, label, scoring='accuracy', cv = 5)"
   ]
  },
  {
   "cell_type": "code",
   "execution_count": 24,
   "id": "4ae1585e",
   "metadata": {},
   "outputs": [
    {
     "name": "stdout",
     "output_type": "stream",
     "text": [
      "type :  <class 'numpy.ndarray'>\n",
      "data :  [0.96666667 0.96666667 0.9        0.93333333 1.        ]\n",
      "mean :  0.95\n"
     ]
    }
   ],
   "source": [
    "print('type : ', type(scores))\n",
    "print('data : ', scores)\n",
    "print('mean : ', np.round(np.mean(scores), 2))"
   ]
  },
  {
   "cell_type": "markdown",
   "id": "fdc63819",
   "metadata": {},
   "source": [
    "- cross validate"
   ]
  },
  {
   "cell_type": "code",
   "execution_count": 25,
   "id": "0eb8dae9",
   "metadata": {},
   "outputs": [],
   "source": [
    "scores = cross_validate(dt_model, features, label, scoring='accuracy', cv = 5)"
   ]
  },
  {
   "cell_type": "code",
   "execution_count": 31,
   "id": "d215d36a",
   "metadata": {},
   "outputs": [
    {
     "name": "stdout",
     "output_type": "stream",
     "text": [
      "type :  <class 'dict'>\n",
      "fit_time\n",
      "score_time\n",
      "test_score\n",
      "fit_time : [0.00100183 0.00100088 0.00100017 0.00100112 0.        ]\n",
      "score_time : [0.         0.         0.         0.         0.00100088]\n",
      "test_score : [0.96666667 0.96666667 0.9        0.93333333 1.        ]\n",
      "mean :  0.95\n"
     ]
    }
   ],
   "source": [
    "print('type : ', type(scores))\n",
    "for key in scores.keys() :\n",
    "    print(key)\n",
    "\n",
    "print('fit_time :', scores['fit_time'])\n",
    "print('score_time :', scores['score_time'])\n",
    "print('test_score :', scores['test_score'])\n",
    "print('mean : ', np.round(np.mean(scores['test_score']),2))"
   ]
  },
  {
   "cell_type": "code",
   "execution_count": null,
   "id": "b8c82bb5",
   "metadata": {},
   "outputs": [],
   "source": []
  }
 ],
 "metadata": {
  "kernelspec": {
   "display_name": "Python 3 (ipykernel)",
   "language": "python",
   "name": "python3"
  },
  "language_info": {
   "codemirror_mode": {
    "name": "ipython",
    "version": 3
   },
   "file_extension": ".py",
   "mimetype": "text/x-python",
   "name": "python",
   "nbconvert_exporter": "python",
   "pygments_lexer": "ipython3",
   "version": "3.9.7"
  }
 },
 "nbformat": 4,
 "nbformat_minor": 5
}
