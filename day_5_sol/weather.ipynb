{
 "cells": [
  {
   "cell_type": "code",
   "execution_count": 54,
   "id": "bbc69665",
   "metadata": {},
   "outputs": [],
   "source": [
    "from urllib import request\n",
    "from bs4 import BeautifulSoup\n",
    "\n",
    "url = 'https://www.weather.go.kr/w/weather/forecast/mid-term.do?stnId=108'\n",
    "target = request.urlopen(url)\n",
    "\n",
    "soup = BeautifulSoup(target)"
   ]
  },
  {
   "cell_type": "code",
   "execution_count": 76,
   "id": "00a75a66",
   "metadata": {},
   "outputs": [
    {
     "name": "stdout",
     "output_type": "stream",
     "text": [
      "서울인천경기도 : 구름많음, 30%\n",
      "강원도영서 : 구름많음, 20%\n",
      "강원도영동 : 구름많음, 20%\n",
      "대전세종충청남도 : 구름많음, 30%\n",
      "충청북도 : 구름많음, 30%\n",
      "광주전라남도 : 구름많음, 30%\n",
      "전라북도 : 구름많음, 30%\n",
      "부산울산경상남도 : 구름많음, 20%\n",
      "대구경상북도 : 구름많음, 30%\n",
      "제주도 : 구름많음, 30%\n"
     ]
    }
   ],
   "source": [
    "# 구름의 정도를 출력 \n",
    "temp_dict = {}\n",
    "for tr in soup.select('tr'):\n",
    "    city = ''\n",
    "    if tr.select_one('td'):\n",
    "        city = tr.select_one('td').text\n",
    "        content = tr.select_one('img').attrs['title']\n",
    "        text = tr.select_one('span').text\n",
    "        temp_dict[city] = [content, text]\n",
    "        \n",
    "    if city == '제주도':\n",
    "        break\n",
    "        \n",
    "for key, value in temp_dict.items():\n",
    "    print(\"{} : {}, {}\".format(key, value[0], value[1]))\n",
    "   "
   ]
  },
  {
   "cell_type": "code",
   "execution_count": null,
   "id": "b50a3176",
   "metadata": {},
   "outputs": [],
   "source": [
    "    from urllib import request\n",
    "    from bs4 import BeautifulSoup\n",
    "\n",
    "    url = 'https://www.weather.go.kr/w/weather/forecast/mid-term.do?stnId=108'\n",
    "    target = request.urlopen(url)\n",
    "\n",
    "    soup = BeautifulSoup(target)\n",
    "    output = '<table>'\n",
    "    for location in soup.find_all('tr'):\n",
    "        output +='<tr>'\n",
    "        if location.find('td', class_='midterm-city'):\n",
    "            output += \"<td>{}</td>\".format(location.find('td',\n",
    "                                                class_='midterm-city').text)\n",
    "            output += \"<td>{}</td>\".format(location.find('span', class_='tmn').text)\n",
    "            output += \"<td>{}</td>\".format(location.find('span', class_='tmx').text)\n",
    "        output +='</tr>'\n",
    "    output += '</table>'\n",
    "    return output"
   ]
  },
  {
   "cell_type": "code",
   "execution_count": null,
   "id": "97b50cb3",
   "metadata": {},
   "outputs": [],
   "source": []
  }
 ],
 "metadata": {
  "kernelspec": {
   "display_name": "Python 3 (ipykernel)",
   "language": "python",
   "name": "python3"
  },
  "language_info": {
   "codemirror_mode": {
    "name": "ipython",
    "version": 3
   },
   "file_extension": ".py",
   "mimetype": "text/x-python",
   "name": "python",
   "nbconvert_exporter": "python",
   "pygments_lexer": "ipython3",
   "version": "3.9.7"
  }
 },
 "nbformat": 4,
 "nbformat_minor": 5
}
