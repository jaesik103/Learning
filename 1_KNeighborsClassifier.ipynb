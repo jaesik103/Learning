{
  "nbformat": 4,
  "nbformat_minor": 0,
  "metadata": {
    "colab": {
      "name": "1_KNeighborsClassifier.ipynb",
      "provenance": [],
      "authorship_tag": "ABX9TyOKZx6yhmUqoGdPrlB2w9F/",
      "include_colab_link": true
    },
    "kernelspec": {
      "name": "python3",
      "display_name": "Python 3"
    },
    "language_info": {
      "name": "python"
    }
  },
  "cells": [
    {
      "cell_type": "markdown",
      "metadata": {
        "id": "view-in-github",
        "colab_type": "text"
      },
      "source": [
        "<a href=\"https://colab.research.google.com/github/jaesik103/paython_machin-learning/blob/main/1_KNeighborsClassifier.ipynb\" target=\"_parent\"><img src=\"https://colab.research.google.com/assets/colab-badge.svg\" alt=\"Open In Colab\"/></a>"
      ]
    },
    {
      "cell_type": "markdown",
      "source": [
        "# 01-3 KNeighborsClassifier 사용\n",
        "1. 기존 데이터셋 플롯\n",
        "2. KNeighborsClassifier 사용\n",
        "3. 최적의 n값 찾기(n값이 클수록 단순)\n",
        "4. 샘플링 편향 해결(rand)"
      ],
      "metadata": {
        "id": "I3LpSpFhjKut"
      }
    },
    {
      "cell_type": "code",
      "execution_count": 1,
      "metadata": {
        "id": "ih9FTZ3t-G5q"
      },
      "outputs": [],
      "source": [
        "bream_length = [25.4, 26.3, 26.5, 29.0, 29.0, 29.7, 29.7, 30.0, 30.0, 30.7, 31.0, 31.0, \n",
        "                31.5, 32.0, 32.0, 32.0, 33.0, 33.0, 33.5, 33.5, 34.0, 34.0, 34.5, 35.0, \n",
        "                35.0, 35.0, 35.0, 36.0, 36.0, 37.0, 38.5, 38.5, 39.5, 41.0, 41.0]\n",
        "bream_weight = [242.0, 290.0, 340.0, 363.0, 430.0, 450.0, 500.0, 390.0, 450.0, 500.0, 475.0, 500.0, \n",
        "                500.0, 340.0, 600.0, 600.0, 700.0, 700.0, 610.0, 650.0, 575.0, 685.0, 620.0, 680.0, \n",
        "                700.0, 725.0, 720.0, 714.0, 850.0, 1000.0, 920.0, 955.0, 925.0, 975.0, 950.0]\n",
        "smelt_length = [9.8, 10.5, 10.6, 11.0, 11.2, 11.3, 11.8, 11.8, 12.0, 12.2, 12.4, 13.0, 14.3, 15.0]\n",
        "smelt_weight = [6.7, 7.5, 7.0, 9.7, 9.8, 8.7, 10.0, 9.9, 9.8, 12.2, 13.4, 12.2, 19.7, 19.9]"
      ]
    },
    {
      "cell_type": "code",
      "source": [
        "import matplotlib.pyplot as plt\n",
        "\n",
        "plt.scatter(bream_length, bream_weight, label='bream')\n",
        "plt.scatter(smelt_length, smelt_weight, label='smelt')\n",
        "plt.xlabel('length')\n",
        "plt.ylabel('weight')\n",
        "plt.legend()\n",
        "plt.show()"
      ],
      "metadata": {
        "id": "_hqCpKbd-X24",
        "colab": {
          "base_uri": "https://localhost:8080/",
          "height": 279
        },
        "outputId": "41503564-33b3-498f-c515-20d70ad5b61e"
      },
      "execution_count": 2,
      "outputs": [
        {
          "output_type": "display_data",
          "data": {
            "image/png": "[encoded data removed]",
            "text/plain": [
              "<Figure size 432x288 with 1 Axes>"
            ]
          },
          "metadata": {
            "needs_background": "light"
          }
        }
      ]
    },
    {
      "cell_type": "code",
      "source": [
        "length = bream_length + smelt_length\n",
        "weight = bream_weight + smelt_weight\n",
        "\n",
        "fish_data = [[l,w] for l,w in zip(length, weight)]\n",
        "fish_data[0:5]"
      ],
      "metadata": {
        "id": "WEvxSbXj__4C",
        "colab": {
          "base_uri": "https://localhost:8080/"
        },
        "outputId": "fad10230-cf6b-491a-a5ad-b52dd3599b8a"
      },
      "execution_count": 3,
      "outputs": [
        {
          "output_type": "execute_result",
          "data": {
            "text/plain": [
              "[[25.4, 242.0], [26.3, 290.0], [26.5, 340.0], [29.0, 363.0], [29.0, 430.0]]"
            ]
          },
          "metadata": {},
          "execution_count": 3
        }
      ]
    },
    {
      "cell_type": "code",
      "source": [
        "fish_target = [1]*35 + [0]*14 # 1=bream , 0=smelt\n",
        "print(fish_target)"
      ],
      "metadata": {
        "id": "toOdHiB9Bw3U",
        "colab": {
          "base_uri": "https://localhost:8080/"
        },
        "outputId": "3aa75c9f-ca6c-45bf-a46b-111e380e7de4"
      },
      "execution_count": 4,
      "outputs": [
        {
          "output_type": "stream",
          "name": "stdout",
          "text": [
            "[1, 1, 1, 1, 1, 1, 1, 1, 1, 1, 1, 1, 1, 1, 1, 1, 1, 1, 1, 1, 1, 1, 1, 1, 1, 1, 1, 1, 1, 1, 1, 1, 1, 1, 1, 0, 0, 0, 0, 0, 0, 0, 0, 0, 0, 0, 0, 0, 0]\n"
          ]
        }
      ]
    },
    {
      "cell_type": "markdown",
      "source": [
        "# KNeighborsClassifier 사용"
      ],
      "metadata": {
        "id": "3Il-QydIj2wp"
      }
    },
    {
      "cell_type": "code",
      "source": [
        "from sklearn.neighbors import KNeighborsClassifier\n",
        "kn = KNeighborsClassifier(n_neighbors=17)\n",
        "kn.fit(fish_data,fish_target)\n",
        "kn.score(fish_data,fish_target)"
      ],
      "metadata": {
        "id": "GO8V3McFyH-Y",
        "colab": {
          "base_uri": "https://localhost:8080/"
        },
        "outputId": "680cae2f-c6e3-478e-ab65-918a451e09d0"
      },
      "execution_count": 5,
      "outputs": [
        {
          "output_type": "execute_result",
          "data": {
            "text/plain": [
              "1.0"
            ]
          },
          "metadata": {},
          "execution_count": 5
        }
      ]
    },
    {
      "cell_type": "markdown",
      "source": [
        "# 최적 n값 찾기"
      ],
      "metadata": {
        "id": "0ejFcWX5kQun"
      }
    },
    {
      "cell_type": "code",
      "source": [
        "for n in range(5, 50):\n",
        "    kn.n_neighbors = n\n",
        "    score = kn.score(fish_data, fish_target)\n",
        "    if score<1:\n",
        "        print(n,score)\n",
        "        break"
      ],
      "metadata": {
        "id": "ytqpPF1U1RoS",
        "colab": {
          "base_uri": "https://localhost:8080/"
        },
        "outputId": "ca723f13-1b7d-48e2-c570-1d87b9697cb9"
      },
      "execution_count": 6,
      "outputs": [
        {
          "output_type": "stream",
          "name": "stdout",
          "text": [
            "18 0.9795918367346939\n"
          ]
        }
      ]
    },
    {
      "cell_type": "code",
      "source": [
        "kn.score(fish_data,fish_target)"
      ],
      "metadata": {
        "id": "w57mylj0zKlq",
        "colab": {
          "base_uri": "https://localhost:8080/"
        },
        "outputId": "7614e22f-404a-4996-c382-1062cd7d117d"
      },
      "execution_count": 7,
      "outputs": [
        {
          "output_type": "execute_result",
          "data": {
            "text/plain": [
              "0.9795918367346939"
            ]
          },
          "metadata": {},
          "execution_count": 7
        }
      ]
    },
    {
      "cell_type": "code",
      "source": [
        "kn.predict([[30, 600]])"
      ],
      "metadata": {
        "id": "ci78aM7Kzdgx",
        "colab": {
          "base_uri": "https://localhost:8080/"
        },
        "outputId": "59c01740-20be-4b1b-9c89-9f5e196b693f"
      },
      "execution_count": 8,
      "outputs": [
        {
          "output_type": "execute_result",
          "data": {
            "text/plain": [
              "array([1])"
            ]
          },
          "metadata": {},
          "execution_count": 8
        }
      ]
    },
    {
      "cell_type": "code",
      "source": [
        "print(kn._fit_X[[1, 2, 3, 4, 5]])"
      ],
      "metadata": {
        "id": "VPHAuxYdz2qJ",
        "colab": {
          "base_uri": "https://localhost:8080/"
        },
        "outputId": "17057727-c22c-4023-d834-82aad55721e0"
      },
      "execution_count": 9,
      "outputs": [
        {
          "output_type": "stream",
          "name": "stdout",
          "text": [
            "[[ 26.3 290. ]\n",
            " [ 26.5 340. ]\n",
            " [ 29.  363. ]\n",
            " [ 29.  430. ]\n",
            " [ 29.7 450. ]]\n"
          ]
        }
      ]
    },
    {
      "cell_type": "code",
      "source": [
        "print(kn._y)"
      ],
      "metadata": {
        "id": "V4OSL5eAz7Hr",
        "colab": {
          "base_uri": "https://localhost:8080/"
        },
        "outputId": "fd9168ae-ef33-4329-a65c-9be4afbadc56"
      },
      "execution_count": 10,
      "outputs": [
        {
          "output_type": "stream",
          "name": "stdout",
          "text": [
            "[1 1 1 1 1 1 1 1 1 1 1 1 1 1 1 1 1 1 1 1 1 1 1 1 1 1 1 1 1 1 1 1 1 1 1 0 0\n",
            " 0 0 0 0 0 0 0 0 0 0 0 0]\n"
          ]
        }
      ]
    },
    {
      "cell_type": "markdown",
      "source": [
        "# 샘플링 편향"
      ],
      "metadata": {
        "id": "6fKMvNpWoQFe"
      }
    },
    {
      "cell_type": "code",
      "source": [
        "train_input = fish_data[:35]\n",
        "train_target = fish_target[:35]\n",
        "test_input = fish_data[35:]\n",
        "test_target = fish_target[35:]"
      ],
      "metadata": {
        "id": "isYF7WIO3R4j"
      },
      "execution_count": 11,
      "outputs": []
    },
    {
      "cell_type": "code",
      "source": [
        "import numpy as np"
      ],
      "metadata": {
        "id": "jPl_3YO43SOJ"
      },
      "execution_count": 12,
      "outputs": []
    },
    {
      "cell_type": "code",
      "source": [
        "print(fish_data)"
      ],
      "metadata": {
        "id": "zAhSPSXn3SQx",
        "colab": {
          "base_uri": "https://localhost:8080/"
        },
        "outputId": "24f95cd5-ace6-476e-a1ac-fd223255e38c"
      },
      "execution_count": 13,
      "outputs": [
        {
          "output_type": "stream",
          "name": "stdout",
          "text": [
            "[[25.4, 242.0], [26.3, 290.0], [26.5, 340.0], [29.0, 363.0], [29.0, 430.0], [29.7, 450.0], [29.7, 500.0], [30.0, 390.0], [30.0, 450.0], [30.7, 500.0], [31.0, 475.0], [31.0, 500.0], [31.5, 500.0], [32.0, 340.0], [32.0, 600.0], [32.0, 600.0], [33.0, 700.0], [33.0, 700.0], [33.5, 610.0], [33.5, 650.0], [34.0, 575.0], [34.0, 685.0], [34.5, 620.0], [35.0, 680.0], [35.0, 700.0], [35.0, 725.0], [35.0, 720.0], [36.0, 714.0], [36.0, 850.0], [37.0, 1000.0], [38.5, 920.0], [38.5, 955.0], [39.5, 925.0], [41.0, 975.0], [41.0, 950.0], [9.8, 6.7], [10.5, 7.5], [10.6, 7.0], [11.0, 9.7], [11.2, 9.8], [11.3, 8.7], [11.8, 10.0], [11.8, 9.9], [12.0, 9.8], [12.2, 12.2], [12.4, 13.4], [13.0, 12.2], [14.3, 19.7], [15.0, 19.9]]\n"
          ]
        }
      ]
    },
    {
      "cell_type": "markdown",
      "source": [
        "# 학습시키려면 list를 array로 꼭 변환 시켜야 함 : \n",
        "\n",
        "```\n",
        "np.array(list)\n",
        "```\n",
        "\n"
      ],
      "metadata": {
        "id": "jCMukZIyoomj"
      }
    },
    {
      "cell_type": "code",
      "source": [
        "input_arr = np.array(fish_data)\n",
        "target_arr = np.array(fish_target)"
      ],
      "metadata": {
        "id": "283K6DA03STc"
      },
      "execution_count": 14,
      "outputs": []
    },
    {
      "cell_type": "code",
      "source": [
        "print(input_arr[[1, 2, 3, 4, 5]])"
      ],
      "metadata": {
        "id": "YD4Kg7-33SWB",
        "colab": {
          "base_uri": "https://localhost:8080/"
        },
        "outputId": "ee8475ec-4d86-48dc-e74d-6474b7dee280"
      },
      "execution_count": 15,
      "outputs": [
        {
          "output_type": "stream",
          "name": "stdout",
          "text": [
            "[[ 26.3 290. ]\n",
            " [ 26.5 340. ]\n",
            " [ 29.  363. ]\n",
            " [ 29.  430. ]\n",
            " [ 29.7 450. ]]\n"
          ]
        }
      ]
    },
    {
      "cell_type": "code",
      "source": [
        "print(input_arr.shape)"
      ],
      "metadata": {
        "id": "jRsmArL_3SYx",
        "colab": {
          "base_uri": "https://localhost:8080/"
        },
        "outputId": "9a5b18b7-a114-4dbb-d3ea-adedadeb0434"
      },
      "execution_count": 16,
      "outputs": [
        {
          "output_type": "stream",
          "name": "stdout",
          "text": [
            "(49, 2)\n"
          ]
        }
      ]
    },
    {
      "cell_type": "markdown",
      "source": [
        "# 랜덤인덱스를 통해 샘플링 편향 해결"
      ],
      "metadata": {
        "id": "Jnzv_UeHoZZa"
      }
    },
    {
      "cell_type": "code",
      "source": [
        "np.random.seed(43)\n",
        "index = np.arange(49)\n",
        "np.random.shuffle(index)"
      ],
      "metadata": {
        "id": "4K1RyVRo3Sa8"
      },
      "execution_count": 17,
      "outputs": []
    },
    {
      "cell_type": "code",
      "source": [
        "print(index)"
      ],
      "metadata": {
        "id": "2s_MAaKv40b6",
        "colab": {
          "base_uri": "https://localhost:8080/"
        },
        "outputId": "2441843f-1a0e-488b-9762-8dc17cc78781"
      },
      "execution_count": 18,
      "outputs": [
        {
          "output_type": "stream",
          "name": "stdout",
          "text": [
            "[ 6 26 33 13 14 38 18 31 22  5 40 44  7 19 36  8 28 20 32  9 43 10 39 15\n",
            " 24 12 41 45 29 48 46  3 42 37 34  1 25 11 35 47 23 30  2 27 17 16 21  0\n",
            "  4]\n"
          ]
        }
      ]
    },
    {
      "cell_type": "code",
      "source": [
        "train_input = input_arr[index[:35]]\n",
        "train_target = target_arr[index[:35]]"
      ],
      "metadata": {
        "id": "20eRJ6ct45t8"
      },
      "execution_count": 19,
      "outputs": []
    },
    {
      "cell_type": "code",
      "source": [
        "test_input = input_arr[index[35:]]\n",
        "test_target = target_arr[index[35:]]"
      ],
      "metadata": {
        "id": "LNSWKOtEiLZG"
      },
      "execution_count": 20,
      "outputs": []
    },
    {
      "cell_type": "code",
      "source": [
        "plt.scatter(train_input[:,0], train_input[:,1])\n",
        "plt.scatter(test_input[:,0], test_input[:,1])\n",
        "plt.xlabel('length')\n",
        "plt.ylabel('weight')\n",
        "plt.show()"
      ],
      "metadata": {
        "id": "xtYhFjALjASe",
        "colab": {
          "base_uri": "https://localhost:8080/",
          "height": 279
        },
        "outputId": "cc5c0e67-d1fe-4d5b-e971-d42063759a3f"
      },
      "execution_count": 21,
      "outputs": [
        {
          "output_type": "display_data",
          "data": {
            "image/png": "[encoded data removed]",
            "text/plain": [
              "<Figure size 432x288 with 1 Axes>"
            ]
          },
          "metadata": {
            "needs_background": "light"
          }
        }
      ]
    },
    {
      "cell_type": "code",
      "source": [
        "kn = kn.fit(train_input, train_target)"
      ],
      "metadata": {
        "id": "irV4_2Bdkijr"
      },
      "execution_count": 22,
      "outputs": []
    },
    {
      "cell_type": "code",
      "source": [
        "kn.score(test_input, test_target)"
      ],
      "metadata": {
        "id": "4d7F8oZRlNxD",
        "colab": {
          "base_uri": "https://localhost:8080/"
        },
        "outputId": "a3e7bc3e-eacc-4b64-da9c-0bc5001eb26e"
      },
      "execution_count": 23,
      "outputs": [
        {
          "output_type": "execute_result",
          "data": {
            "text/plain": [
              "0.8571428571428571"
            ]
          },
          "metadata": {},
          "execution_count": 23
        }
      ]
    }
  ]
}